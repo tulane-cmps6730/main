{
  "cells": [
    {
      "cell_type": "markdown",
      "source": [
        "![Tulane](https://github.com/tulane-cmps6730/main/blob/main/img/banner.png?raw=true)\n",
        "\n",
        "<center>\n",
        "\n",
        "<font size=\"+3\">Attention</font>\n",
        "\n",
        "[Aron Culotta](https://cs.tulane.edu/~aculotta/)  \n",
        "[Tulane University](https://cs.tulane.edu/)\n",
        "\n",
        "<a href=\"http://colab.research.google.com/github/tulane-cmps6730/main/blob/main/notebooks/09_Attention.ipynb\">\n",
        "        <img src=\"https://upload.wikimedia.org/wikipedia/commons/thumb/d/d0/Google_Colaboratory_SVG_Logo.svg/320px-Google_Colaboratory_SVG_Logo.svg.png\"  width=10%/></a>\n",
        "<a href=\"https://github.com/tulane-cmps6730/main/tree/main\">\n",
        "        <img src=\"https://upload.wikimedia.org/wikipedia/commons/thumb/c/c2/GitHub_Invertocat_Logo.svg/240px-GitHub_Invertocat_Logo.svg.png\" width=6%/></a>\n",
        "\n",
        "In this module, we'll learn about attention mechanisms to better capture long-distance relationships in language sequences.\n",
        "\n",
        "</center>"
      ],
      "metadata": {
        "id": "u7t32OQMvRZq"
      }
    },
    {
      "cell_type": "markdown",
      "source": [
        "<hr size=10 color=#285C4D>\n",
        "\n",
        "## Motivation"
      ],
      "metadata": {
        "id": "f8OiXeEVwfGw"
      }
    },
    {
      "cell_type": "markdown",
      "metadata": {
        "id": "04LxYCDQvHc8"
      },
      "source": [
        "### LSTMs as language models\n"
      ]
    },
    {
      "cell_type": "markdown",
      "source": [
        "\n",
        "> While the acting was pretty good, overall the movie was quite bad.\n",
        "\n",
        "![figs/lstmclf1.png](https://github.com/tulane-cmps6730/main/blob/main/lec/sequence/figs/lstmclf1.png?raw=1)\n",
        "\n",
        "\n",
        "Each hidden state is now a **context-dependent** word representation.\n",
        "\n",
        "<br><br><br><br>\n",
        "\n"
      ],
      "metadata": {
        "id": "_wYMuHKrw6iX"
      }
    },
    {
      "cell_type": "markdown",
      "source": [
        "### Bidirectional LSTMs"
      ],
      "metadata": {
        "id": "jO4DP-kjwwFG"
      }
    },
    {
      "cell_type": "markdown",
      "source": [
        "There's no reason to limit ourselves to left-to-right ordering:\n",
        "\n",
        "![figs/lstmclf2.png](https://github.com/tulane-cmps6730/main/blob/main/lec/sequence/figs/lstmclf2.png?raw=1)\n",
        "\n",
        "Word representation is now the concatenation of hidden vectors from both directions.\n",
        "\n",
        "\n",
        "\n",
        "\n"
      ],
      "metadata": {
        "id": "ctDXLahQwssF"
      }
    },
    {
      "cell_type": "markdown",
      "source": [
        "### LSTMs for Classification"
      ],
      "metadata": {
        "id": "14jFC71cwyqX"
      }
    },
    {
      "cell_type": "markdown",
      "source": [
        "![figs/lstmclf3.png](https://github.com/tulane-cmps6730/main/blob/main/lec/sequence/figs/lstmclf3.png?raw=1)\n",
        "\n",
        "What are our options here?\n",
        "\n",
        "\n",
        "<br><br><br><br>\n",
        "\n",
        "**concatenate**: $h_1 \\oplus h_2 \\oplus \\ldots \\oplus h_n$\n",
        "\n",
        "What's wrong with this?\n",
        "\n",
        "\n",
        "<br><br><br><br>\n",
        "\n",
        "average: $\\frac{1}{n}\\sum_i^n h_i$\n",
        "\n",
        "What's wrong with this?\n",
        "\n",
        "<br><br><br><br>\n",
        "\n",
        "$h_{\\hbox{bad}}$ contributes as much to the average as $h_{\\hbox{the}}$!\n",
        "\n",
        "<br><br>\n",
        "\n",
        "How can we get something like a weighted average?\n",
        "\n",
        "$\\frac{\\sum_i^n w_i h_i}{\\sum_i^n w_i}$\n",
        "\n",
        "<br><br><br>\n",
        "We need a way to\n",
        "\n",
        "- get a fixed representation from an arbitrary list of values\n",
        "- have the representation weighted by the importance of each input value"
      ],
      "metadata": {
        "id": "Lh6cwOZJwuhP"
      }
    },
    {
      "cell_type": "markdown",
      "source": [
        "<hr size=10 color=#285C4D>\n",
        "\n",
        "## Attention\n"
      ],
      "metadata": {
        "id": "kapVP3M5xCIZ"
      }
    },
    {
      "cell_type": "markdown",
      "metadata": {
        "id": "xEb4XthLvHc8"
      },
      "source": [
        "\n",
        "> Given a set of vector **values**, and a vector **query**,  \n",
        "> **attention** is a technique to compute a weighted sum of the values, dependent on the query.\n",
        "\n",
        "- a selective summary of the values based on the query\n",
        "- gives a fixed-size representation of the values\n",
        "\n",
        "\n"
      ]
    },
    {
      "cell_type": "markdown",
      "source": [
        "### Overall approach\n"
      ],
      "metadata": {
        "id": "bnX9QdcvxEa5"
      }
    },
    {
      "cell_type": "markdown",
      "metadata": {
        "id": "CwkgFJPUvHc9"
      },
      "source": [
        "\n",
        "**Input**: sequence of value vectors $\\mathbf{h}_1 \\ldots \\mathbf{h}_n \\in \\mathbb{R}^{d_h}$ and a query vector $\\mathbf{q} \\in \\mathbb{R}^{d_q}$\n",
        "\n",
        "1. Compute **attention scores** $\\mathbf{s} \\in \\mathbb{R}^n$\n",
        "  - we'll see how in a moment\n",
        "\n",
        "\n",
        "2. Apply softmax to get the **attention distribution** $\\alpha$:\n",
        "  - $\\alpha = \\mathrm{softmax}(\\mathbf{s}) \\in \\mathbb{R}^n$\n",
        "  \n",
        "  \n",
        "3. Compute the **attention output**, the sum of values weighted by attention distribution:\n",
        "  - $\\mathbf{a} = \\sum_i^n \\alpha_i \\mathbf{h}_i \\in \\mathbb{R}^{d_h}$\n",
        "  - $\\mathbf{a}$ then becomes input features for classification layer"
      ]
    },
    {
      "cell_type": "markdown",
      "source": [
        "### Types of attention\n"
      ],
      "metadata": {
        "id": "ixyhlyh1xISE"
      }
    },
    {
      "cell_type": "markdown",
      "metadata": {
        "id": "FGVdkp1LvHc9"
      },
      "source": [
        "\n",
        "\n",
        "The attention scores should somehow combine the query vector with the value vectors to score the importance of each value. Common choices include:\n",
        "\n",
        "- **Dot product:** $~~~\\mathbf{s}_i = \\mathbf{q} \\cdot \\mathbf{h}_i \\in \\mathbb{R}$\n",
        "  - this assumes $d_h == d_q$\n",
        "\n",
        "\n",
        "- **Multiplicative attention:**   $~~~\\mathbf{s}_i = \\mathbf{q}^T \\mathbf{W} \\mathbf{h}_i \\in \\mathbb{R}$\n",
        "  - must learn the matrix $W \\in \\mathbb{R}^{d_q \\times d_h}$\n",
        "  - c.f., [`torch.nn.Bilinear`](https://pytorch.org/docs/stable/generated/torch.nn.Bilinear.html)\n",
        "  \n",
        "\n",
        "- **Additive attention:**   $~~~\\mathbf{s}_i = \\mathbf{v}^T \\mathrm{tanh}(\\mathbf{W_1} \\mathbf{h}_i  + \\mathbf{W_2}\\mathbf{q}) \\in \\mathbb{R}$\n",
        "  - must learn vector $\\mathbf{v} \\in \\mathbb{R}^{d_v}$ and the matrices $W_1 \\in \\mathbb{R}^{d_v \\times d_h}$, $W_2 \\in \\mathbb{R}^{d_v \\times d_q}$,=\n",
        "  - must select **attention dimensionality** $d_v$\n"
      ]
    },
    {
      "cell_type": "markdown",
      "source": [
        "<hr size=10 color=#285C4D>\n",
        "\n",
        "## Learning the query vector\n"
      ],
      "metadata": {
        "id": "-CO_vzVSxM5T"
      }
    },
    {
      "cell_type": "markdown",
      "metadata": {
        "id": "_U5eWZbfvHc9"
      },
      "source": [
        "\n",
        "\n",
        "But wait, we don't know what $\\mathbf{q}$ should be!\n",
        "\n",
        "We'll have to learn it.\n",
        "\n",
        "$\\mathbf{s_i} = \\mathrm{tanh}(W_s \\cdot \\mathbf{h}_i) \\in \\mathbb{R}~~~~~~~~~ W_s \\in \\mathbb{R^{d_h}}$\n",
        "\n",
        "$\\alpha = \\mathrm{softmax}({\\mathbf{s}})$\n",
        "\n",
        "$\\mathbf{a} = \\sum_i^n \\alpha_i \\mathbf{h}_i \\in \\mathbb{R}^{d_h}$\n",
        "\n",
        "$y = \\mathrm{softmax}(W_y \\cdot \\mathbf{a})$\n",
        "<br><br>\n",
        "\n",
        "\n",
        "![figs/lstmclf4.png](https://github.com/tulane-cmps6730/main/blob/main/lec/sequence/figs/lstmclf4.png?raw=1)\n"
      ]
    },
    {
      "cell_type": "markdown",
      "source": [
        "<hr size=10 color=#285C4D>\n",
        "\n",
        "## Attention for Language Models"
      ],
      "metadata": {
        "id": "ioD31_UvxUbm"
      }
    },
    {
      "cell_type": "markdown",
      "metadata": {
        "id": "PnX9hjiXvHc9"
      },
      "source": [
        "\n",
        "\n",
        "- LSTMs go through a lot of trouble to enable long-range dependencies\n",
        "\n",
        "- What if we just let every word in a sentence influence every other word ?!\n",
        "\n",
        "\n",
        "![figs/selfatt1.png](https://github.com/tulane-cmps6730/main/blob/main/lec/sequence/figs/selfatt1.png?raw=1)\n",
        "\n",
        "We can use attention to determine which other words are important to predict the next word $t$.\n",
        "\n",
        "$$h_t =  \\sum_{i\\ne t}^n \\alpha_i \\mathbf{h}_i$$\n",
        "\n",
        "\n",
        "Is this scalable?\n",
        "\n",
        "<br><br>\n",
        "\n",
        "\n",
        "By removing sequential dependencies, we can compute embeddings in parallel for each sentence.\n",
        "- In complexity speak, we've increased the Work but decreased the Span, so it is more parallelizable\n",
        "\n",
        "\n",
        "\n"
      ]
    },
    {
      "cell_type": "markdown",
      "source": [
        "### Attention-based word representations"
      ],
      "metadata": {
        "id": "nF36atMHxfZA"
      }
    },
    {
      "cell_type": "markdown",
      "source": [
        "\n",
        "\n",
        "By applying attention to each token in the input, we compute hidden representations $h_i$ for each input work.\n",
        "- Each $h_i$ depends on all the other words in the input.\n",
        "\n",
        "\n",
        "$$\\mathbf{v}_j = V\\mathbf{x_j} ~~~V\\in \\mathbb{R}^{dxd} ~~~$$ **values for node j**\n",
        "\n",
        "$$\\mathbf{k}_j = K \\mathbf{x}_j ~~~K\\in \\mathbb{R}^{dxd} ~~~$$ **keys for node j**\n",
        "\n",
        "$$\\mathbf{q}_i = Q\\mathbf{x_i}~~~$$ **query for node i**\n",
        "\n",
        "$$\\alpha_{ij} = \\frac{\\exp(\\mathbf{q}_i \\cdot \\mathbf{k}_j)}{\\sum_{j'} \\exp({\\mathbf{q}_i \\cdot \\mathbf{k}_{j'})}} ~~~$$ **affinities between node i and j**\n",
        "\n",
        "$$\\mathbf{h}_i = \\sum_{j=1}^n \\alpha_{ij} \\mathbf{v}_j$$\n",
        "\n",
        "\n",
        "$\\mathbf{h}_i$ is the contextual representation of input $\\mathbf{x}_i$.  $\\alpha_{ij}$ controls the strength of each contribution from $v_j$.\n",
        "\n",
        "<br>\n",
        "\n",
        "This tells us **what information from what other tokens, should be used in representing** $\\mathbf{x}_i$.\n",
        "\n",
        "\n",
        "The matrices $K$, $Q$, $V$ allow us to use different views of each $\\mathbf{x}_i$ for the different roles of key, query, and value.\n",
        "\n",
        "<br>\n",
        "\n",
        "<br><br><br>\n",
        "\n",
        "<img src=\"https://github.com/tulane-cmps6730/main/blob/main/lec/sequence/figs/selfattention.png?raw=1\" width=60%/>\n",
        "\n",
        "[source](https://web.stanford.edu/class/cs224n/readings/cs224n-self-attention-transformers-2023_draft.pdf)\n",
        "\n"
      ],
      "metadata": {
        "id": "PqtqWcopxcLM"
      }
    },
    {
      "cell_type": "markdown",
      "source": [
        "### Position"
      ],
      "metadata": {
        "id": "zygxcHKayDIH"
      }
    },
    {
      "cell_type": "markdown",
      "source": [
        "\n",
        "\n",
        "But wait, the above approach completely ignores word order!!\n",
        "\n",
        "<br><br><br>\n",
        "\n",
        "**Idea**: explicitly add the position of a word in its representation.\n",
        "\n",
        "- E.g., we can represent a binary string $p$ encoding the position of a word; e.g. $000, 001, 010, 011,... 111$ for sequences up to length 8.\n",
        "\n",
        "\n",
        "- Then, we can represent each input embedding $h_i$ as the concatenation $h_i \\oplus p_i$ or alternatively as the sum $h_i + p_i$.\n",
        "\n",
        "\n",
        "- We can also get more fancy and learn an embedding for $p_i$.\n",
        "  - requires picking a maximum sentence length\n",
        "  - most common approach\n",
        "\n",
        "\n"
      ],
      "metadata": {
        "id": "8couM3aMyBFr"
      }
    },
    {
      "cell_type": "markdown",
      "source": [
        "<hr size=10 color=#285C4D>\n",
        "\n",
        "## Simple attention example"
      ],
      "metadata": {
        "id": "5S24YoMLzJXl"
      }
    },
    {
      "cell_type": "markdown",
      "metadata": {
        "id": "8tXyJIH8vHc-"
      },
      "source": [
        "\n",
        "\n",
        "Let's walk through a simple example of an attention model for binary classification.\n",
        "\n",
        "We'll assume there are three words in the world: $a,b,c$. We will assume that $a$ and $b$ matter for the classification, but $c$ doesn't.\n",
        "\n",
        "We want to see if the attention weights will \"pay attention to\" $a$ and $b$ and not $c$.\n",
        "\n",
        "\n",
        "Below is a simple implementation of attention where we assume:\n",
        "- There is no embedding layer; so, we just use the `x` input vectors directly instead of `h`.\n",
        "- We are doing binary classification, so we use Sigmoid instead of Softmax.\n",
        "\n",
        "This would represent a problem where we want to classify a document into one of two classes, using the raw one-hot encoding of each word as input.\n",
        "\n",
        "$\\mathbf{s_i} = \\mathrm{tanh}(W_s \\cdot \\mathbf{x}_i) \\in \\mathbb{R}~~~~~~~~~ W_s \\in \\mathbb{R^{d_x}}$\n",
        "\n",
        "$\\alpha = \\mathrm{softmax}({\\mathbf{s}})$\n",
        "\n",
        "$\\mathbf{a} = \\sum_i^n \\alpha_i \\mathbf{x}_i \\in \\mathbb{R}^{d_x}$\n",
        "\n",
        "$ y = \\mathrm{sigmoid}(W_y \\cdot \\mathbf{a}) $\n",
        "\n",
        "<img src=\"https://github.com/tulane-cmps6730/main/blob/main/lec/sequence/figs/lstmclf4.png?raw=1\" width=\"40%\"/>\n"
      ]
    },
    {
      "cell_type": "code",
      "execution_count": 1,
      "metadata": {
        "id": "qs5taqB7vHc-"
      },
      "outputs": [],
      "source": [
        "# Let's package these computations up inside of an nn.Module so we can learn W_s and W_y.\n",
        "import torch\n",
        "import torch.nn as nn\n",
        "\n",
        "class SimpleAttention(nn.Module):\n",
        "    def __init__(self, input_size, verbose=False):\n",
        "        super(SimpleAttention, self).__init__()\n",
        "        # Since we don't know what the output size will be (the number of tokens), we can't use nn.Linear:\n",
        "        # self.input_to_attention = nn.Linear(input_size, output_size=??, bias=False)\n",
        "        # Instead, we'll just use the Parameter object, which is a trainable tensor.\n",
        "        self.W_s = nn.Parameter(torch.randn(input_size, dtype=torch.float64))\n",
        "\n",
        "        # W_y: hidden to prediction\n",
        "        self.W_y = nn.Linear(input_size, 1, bias=False, dtype=torch.float64)\n",
        "\n",
        "        self.verbose = verbose\n",
        "        self.tanh = nn.Tanh()\n",
        "        self.softmax = nn.Softmax(dim=0)\n",
        "        self.sigmoid = nn.Sigmoid()\n",
        "\n",
        "\n",
        "    def forward(self, x):\n",
        "        # \"@\" is the matrix multiply operator\n",
        "        # This computes s = tanh(x * W_s) for all tokens at the same time.\n",
        "        s = self.tanh(x @ self.W_s)\n",
        "        # normalize using softmax\n",
        "        alpha = self.softmax(s)\n",
        "        # compute final combined embeddings\n",
        "        a = alpha @ x\n",
        "        # classify\n",
        "        y = self.sigmoid(self.W_y(a))\n",
        "        if self.verbose:\n",
        "            print('s=\\n', s)\n",
        "            print('alpha=\\n', alpha)\n",
        "            print('a=\\n', a)\n",
        "            print('y=\\n', y)\n",
        "        return y\n"
      ]
    },
    {
      "cell_type": "markdown",
      "metadata": {
        "id": "gZ8ONzyFvHc_"
      },
      "source": [
        "Let's make some fake data where the input vocabulary `['a', 'b', 'c']`. Generate data such that:\n",
        "- Documents with `a` are likely to be positive.\n",
        "- Documents with `b` are likely to be negative.\n",
        "- Documents with `c` are equally likely to be positive or negative.\n",
        "\n",
        "So, we would expect our attention layer to pay attention to words `a` and `b` but ignore `c`.\n",
        "\n",
        "And, we expect the classification layer to have large positive weights for `a` and large negative weights for `b`.\n"
      ]
    },
    {
      "cell_type": "code",
      "execution_count": 2,
      "metadata": {
        "id": "Q2a5yEAWvHc_",
        "outputId": "cec3fac6-adef-4af2-99dc-abbeb982687d",
        "colab": {
          "base_uri": "https://localhost:8080/"
        }
      },
      "outputs": [
        {
          "output_type": "execute_result",
          "data": {
            "text/plain": [
              "tensor([[1., 0., 0.],\n",
              "        [0., 0., 1.],\n",
              "        [1., 0., 0.],\n",
              "        [0., 0., 1.]], dtype=torch.float64)"
            ]
          },
          "metadata": {},
          "execution_count": 2
        }
      ],
      "source": [
        "# 1-hot encodings of the \"words\" a,b,c\n",
        "a = [1,0,0]\n",
        "b = [0,1,0]\n",
        "c = [0,0,1]\n",
        "\n",
        "# e.g., the document containing a, c, a, c\n",
        "torch.tensor([a,c,a,c], dtype=torch.float64)"
      ]
    },
    {
      "cell_type": "code",
      "execution_count": 3,
      "metadata": {
        "id": "weCXEj9QvHc_",
        "outputId": "713619f6-871d-40c2-b926-b660cc28c407",
        "colab": {
          "base_uri": "https://localhost:8080/"
        }
      },
      "outputs": [
        {
          "output_type": "stream",
          "name": "stdout",
          "text": [
            "s=\n",
            " tensor([-0.2254,  0.7672, -0.2254,  0.7672], dtype=torch.float64,\n",
            "       grad_fn=<TanhBackward0>)\n",
            "alpha=\n",
            " tensor([0.1352, 0.3648, 0.1352, 0.3648], dtype=torch.float64,\n",
            "       grad_fn=<SoftmaxBackward0>)\n",
            "a=\n",
            " tensor([0.2704, 0.0000, 0.7296], dtype=torch.float64,\n",
            "       grad_fn=<SqueezeBackward4>)\n",
            "y=\n",
            " tensor([0.3896], dtype=torch.float64, grad_fn=<SigmoidBackward0>)\n"
          ]
        },
        {
          "output_type": "execute_result",
          "data": {
            "text/plain": [
              "tensor([0.3896], dtype=torch.float64, grad_fn=<SigmoidBackward0>)"
            ]
          },
          "metadata": {},
          "execution_count": 3
        }
      ],
      "source": [
        "model = SimpleAttention(input_size=3, verbose=True)\n",
        "model(torch.tensor([a,c,a,c], dtype=torch.float64))"
      ]
    },
    {
      "cell_type": "code",
      "execution_count": 4,
      "metadata": {
        "id": "eVoJJZs_vHc_",
        "outputId": "9f3b7d74-e496-4867-b8f5-2f0f66341930",
        "colab": {
          "base_uri": "https://localhost:8080/"
        }
      },
      "outputs": [
        {
          "output_type": "stream",
          "name": "stdout",
          "text": [
            "tensor([[[1., 0., 0.],\n",
            "         [0., 0., 1.],\n",
            "         [1., 0., 0.],\n",
            "         [0., 0., 1.]]], dtype=torch.float64)\n",
            "tensor(1., dtype=torch.float64)\n"
          ]
        }
      ],
      "source": [
        "# create training instances where\n",
        "# a -> label=1\n",
        "# b -> label=0\n",
        "# c -> label=random\n",
        "X = []\n",
        "y = []\n",
        "for _ in range(10):\n",
        "    X.append(torch.tensor([a,c,a,c], dtype=torch.float64))\n",
        "    y.append(1)\n",
        "\n",
        "for _ in range(10):\n",
        "    X.append(torch.tensor([b,c,b,c], dtype=torch.float64))\n",
        "    y.append(0)\n",
        "X = torch.stack(X)\n",
        "# print first training instance\n",
        "print(X[:1])\n",
        "y = torch.tensor(y, dtype=torch.float64)\n",
        "# print first label\n",
        "print(y[0])"
      ]
    },
    {
      "cell_type": "code",
      "execution_count": 5,
      "metadata": {
        "id": "4GTwVXykvHc_"
      },
      "outputs": [],
      "source": [
        "data = list(zip(X,y))"
      ]
    },
    {
      "cell_type": "code",
      "execution_count": 6,
      "metadata": {
        "id": "UGrPWF2CvHc_",
        "outputId": "6a34cdf7-4c49-46d2-f563-31db09653137",
        "colab": {
          "base_uri": "https://localhost:8080/",
          "height": 571
        }
      },
      "outputs": [
        {
          "output_type": "stream",
          "name": "stderr",
          "text": [
            "100%|██████████| 20/20 [00:00<00:00, 50.25it/s]\n"
          ]
        },
        {
          "output_type": "display_data",
          "data": {
            "text/plain": [
              "<Figure size 640x480 with 1 Axes>"
            ],
            "image/png": "[encoded data removed]"
          },
          "metadata": {}
        },
        {
          "output_type": "execute_result",
          "data": {
            "text/plain": [
              "SimpleAttention(\n",
              "  (W_y): Linear(in_features=3, out_features=1, bias=False)\n",
              "  (tanh): Tanh()\n",
              "  (softmax): Softmax(dim=0)\n",
              "  (sigmoid): Sigmoid()\n",
              ")"
            ]
          },
          "metadata": {},
          "execution_count": 6
        }
      ],
      "source": [
        "import numpy as np\n",
        "from tqdm import tqdm\n",
        "import matplotlib.pyplot as plt\n",
        "\n",
        "def train_model(model, data, epochs=20, learning_rate=0.4):\n",
        "    torch.random.manual_seed(42)\n",
        "    np.random.seed(42)\n",
        "    criterion = nn.BCELoss()\n",
        "    optimizer = torch.optim.Adam(model.parameters(),\n",
        "                                 lr=learning_rate)\n",
        "    model.verbose = False\n",
        "    loss_val = []\n",
        "    # main training loop\n",
        "    for epoch in tqdm(range(epochs), total=epochs):\n",
        "        np.random.shuffle(data)\n",
        "        optimizer.zero_grad() # reset all the gradient information\n",
        "        for X, y in data:\n",
        "            result = model.forward(X)\n",
        "            loss = criterion(result[0], y)\n",
        "            loss.backward()      # computes all the gradients\n",
        "        optimizer.step()     # update parameters\n",
        "        loss_val.append(loss.item())\n",
        "    plt.figure()\n",
        "    plt.plot(loss_val, 'bo-')\n",
        "    plt.ylabel('loss')\n",
        "    plt.xlabel('instances')\n",
        "    plt.show()\n",
        "    return model\n",
        "\n",
        "\n",
        "att = SimpleAttention(input_size=3)\n",
        "train_model(att, data, learning_rate=.4)"
      ]
    },
    {
      "cell_type": "code",
      "execution_count": 7,
      "metadata": {
        "id": "3h54hFFuvHdA",
        "outputId": "1be95702-cdb2-47e0-8152-149390b43985",
        "colab": {
          "base_uri": "https://localhost:8080/"
        }
      },
      "outputs": [
        {
          "output_type": "stream",
          "name": "stdout",
          "text": [
            "input=\n",
            " tensor([[1., 0., 0.],\n",
            "        [0., 0., 1.],\n",
            "        [1., 0., 0.],\n",
            "        [0., 0., 1.]], dtype=torch.float64)\n",
            "s=\n",
            " tensor([ 0.9973, -0.9991,  0.9973, -0.9991], dtype=torch.float64,\n",
            "       grad_fn=<TanhBackward0>)\n",
            "alpha=\n",
            " tensor([0.4402, 0.0598, 0.4402, 0.0598], dtype=torch.float64,\n",
            "       grad_fn=<SoftmaxBackward0>)\n",
            "a=\n",
            " tensor([0.8804, 0.0000, 0.1196], dtype=torch.float64,\n",
            "       grad_fn=<SqueezeBackward4>)\n",
            "y=\n",
            " tensor([0.9969], dtype=torch.float64, grad_fn=<SigmoidBackward0>)\n"
          ]
        },
        {
          "output_type": "execute_result",
          "data": {
            "text/plain": [
              "tensor([0.9969], dtype=torch.float64, grad_fn=<SigmoidBackward0>)"
            ]
          },
          "metadata": {},
          "execution_count": 7
        }
      ],
      "source": [
        "att.verbose=True\n",
        "# input is a,c,a,c\n",
        "print('input=\\n', X[0])\n",
        "att.forward(X[0])"
      ]
    },
    {
      "cell_type": "code",
      "execution_count": 8,
      "metadata": {
        "id": "XbDtj-ZFvHdA",
        "outputId": "67eb7982-5e22-4168-ea7f-367e0edd4d39",
        "colab": {
          "base_uri": "https://localhost:8080/"
        }
      },
      "outputs": [
        {
          "output_type": "execute_result",
          "data": {
            "text/plain": [
              "Parameter containing:\n",
              "tensor([ 3.3035,  4.1346, -3.8337], dtype=torch.float64, requires_grad=True)"
            ]
          },
          "metadata": {},
          "execution_count": 8
        }
      ],
      "source": [
        "att.W_s"
      ]
    },
    {
      "cell_type": "code",
      "execution_count": 9,
      "metadata": {
        "id": "X5yneEkkvHdA",
        "outputId": "e92e7809-061e-426e-85bc-2792f9cf37e2",
        "colab": {
          "base_uri": "https://localhost:8080/"
        }
      },
      "outputs": [
        {
          "output_type": "execute_result",
          "data": {
            "text/plain": [
              "Parameter containing:\n",
              "tensor([[ 6.1794, -6.1569,  2.9181]], dtype=torch.float64, requires_grad=True)"
            ]
          },
          "metadata": {},
          "execution_count": 9
        }
      ],
      "source": [
        "att.W_y.weight"
      ]
    },
    {
      "cell_type": "code",
      "execution_count": 10,
      "metadata": {
        "id": "SH2K0nUovHdA",
        "outputId": "ec6cf25b-5536-4242-ac3f-c13f13f4515a",
        "colab": {
          "base_uri": "https://localhost:8080/"
        }
      },
      "outputs": [
        {
          "output_type": "stream",
          "name": "stdout",
          "text": [
            "s=\n",
            " tensor([ 0.9973, -0.9991,  0.9973, -0.9991,  0.9973, -0.9991,  0.9973, -0.9991,\n",
            "         0.9973, -0.9991], dtype=torch.float64, grad_fn=<TanhBackward0>)\n",
            "alpha=\n",
            " tensor([0.1761, 0.0239, 0.1761, 0.0239, 0.1761, 0.0239, 0.1761, 0.0239, 0.1761,\n",
            "        0.0239], dtype=torch.float64, grad_fn=<SoftmaxBackward0>)\n",
            "a=\n",
            " tensor([0.8804, 0.0000, 0.1196], dtype=torch.float64,\n",
            "       grad_fn=<SqueezeBackward4>)\n",
            "y=\n",
            " tensor([0.9969], dtype=torch.float64, grad_fn=<SigmoidBackward0>)\n"
          ]
        },
        {
          "output_type": "execute_result",
          "data": {
            "text/plain": [
              "tensor([0.9969], dtype=torch.float64, grad_fn=<SigmoidBackward0>)"
            ]
          },
          "metadata": {},
          "execution_count": 10
        }
      ],
      "source": [
        "att.forward(torch.tensor([a,c,a,c,a,c,a,c,a,c], dtype=torch.float64))"
      ]
    },
    {
      "cell_type": "code",
      "execution_count": 11,
      "metadata": {
        "id": "aeLs3Qg2vHdA",
        "outputId": "8297b67a-b6c9-4256-9edb-2bb8b63c7043",
        "colab": {
          "base_uri": "https://localhost:8080/"
        }
      },
      "outputs": [
        {
          "output_type": "stream",
          "name": "stdout",
          "text": [
            "s=\n",
            " tensor([0.9973, 0.9995], dtype=torch.float64, grad_fn=<TanhBackward0>)\n",
            "alpha=\n",
            " tensor([0.4995, 0.5005], dtype=torch.float64, grad_fn=<SoftmaxBackward0>)\n",
            "a=\n",
            " tensor([0.4995, 0.5005, 0.0000], dtype=torch.float64,\n",
            "       grad_fn=<SqueezeBackward4>)\n",
            "y=\n",
            " tensor([0.5011], dtype=torch.float64, grad_fn=<SigmoidBackward0>)\n"
          ]
        },
        {
          "output_type": "execute_result",
          "data": {
            "text/plain": [
              "tensor([0.5011], dtype=torch.float64, grad_fn=<SigmoidBackward0>)"
            ]
          },
          "metadata": {},
          "execution_count": 11
        }
      ],
      "source": [
        "att.forward(torch.tensor([a,b], dtype=torch.float64))"
      ]
    },
    {
      "cell_type": "markdown",
      "source": [
        "<hr size=10 color=#285C4D>\n",
        "\n",
        "## Group Task\n"
      ],
      "metadata": {
        "id": "ABbCoBSi1v4r"
      }
    },
    {
      "cell_type": "markdown",
      "source": [
        "Modify the `SimpleAttention` implementation above to use sigmoid instead of softmax to compute the `alpha` values. How does this affect the `alpha` values in the subsequent example? Why do you think this is? Is this good or bad?"
      ],
      "metadata": {
        "id": "lBcU9GjN112E"
      }
    },
    {
      "cell_type": "markdown",
      "metadata": {
        "id": "V1YwQFKzvHdB"
      },
      "source": [
        "<hr size=10 color=#285C4D>\n",
        "\n",
        "## Sources\n"
      ]
    },
    {
      "cell_type": "markdown",
      "source": [
        "\n",
        "- https://web.stanford.edu/class/cs224n/"
      ],
      "metadata": {
        "id": "-MRdAc_O01gu"
      }
    }
  ],
  "metadata": {
    "kernelspec": {
      "display_name": "Python 3 (ipykernel)",
      "language": "python",
      "name": "python3"
    },
    "language_info": {
      "codemirror_mode": {
        "name": "ipython",
        "version": 3
      },
      "file_extension": ".py",
      "mimetype": "text/x-python",
      "name": "python",
      "nbconvert_exporter": "python",
      "pygments_lexer": "ipython3",
      "version": "3.11.5"
    },
    "colab": {
      "provenance": [],
      "collapsed_sections": [
        "f8OiXeEVwfGw",
        "04LxYCDQvHc8",
        "jO4DP-kjwwFG",
        "14jFC71cwyqX",
        "kapVP3M5xCIZ",
        "-CO_vzVSxM5T",
        "ioD31_UvxUbm",
        "5S24YoMLzJXl",
        "ABbCoBSi1v4r",
        "V1YwQFKzvHdB"
      ],
      "toc_visible": true
    }
  },
  "nbformat": 4,
  "nbformat_minor": 0
}