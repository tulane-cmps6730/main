{
  "cells": [
    {
      "cell_type": "markdown",
      "metadata": {
        "id": "_N-qqX52-AeT"
      },
      "source": [
        "![Tulane](https://github.com/tulane-cmps6730/main/blob/main/img/banner.png?raw=true)\n",
        "\n",
        "<center>\n",
        "\n",
        "<font size=\"+3\">Sequence Models II</font>\n",
        "\n",
        "[Aron Culotta](https://cs.tulane.edu/~aculotta/)  \n",
        "[Tulane University](https://cs.tulane.edu/)\n",
        "\n",
        "<a href=\"http://colab.research.google.com/github/tulane-cmps6730/main/blob/main/notebooks/06_Sequence_Models_II.ipynb\">\n",
        "        <img src=\"https://upload.wikimedia.org/wikipedia/commons/thumb/d/d0/Google_Colaboratory_SVG_Logo.svg/320px-Google_Colaboratory_SVG_Logo.svg.png\"  width=10%/></a>\n",
        "<a href=\"https://github.com/tulane-cmps6730/main/tree/main\">\n",
        "        <img src=\"https://upload.wikimedia.org/wikipedia/commons/thumb/c/c2/GitHub_Invertocat_Logo.svg/240px-GitHub_Invertocat_Logo.svg.png\" width=6%/></a>\n",
        "\n",
        "In this module, we'll learn about neural network models for text sequences, including recurrent neural networks (RNNs) and long short-term memory networks (LSTMs)\n",
        "\n",
        "</center>"
      ]
    },
    {
      "cell_type": "markdown",
      "source": [
        "<hr size=10 color=#285C4D>\n",
        "\n",
        "## Long-range Dependencies in Language"
      ],
      "metadata": {
        "id": "n_U-LgBHmcso"
      }
    },
    {
      "cell_type": "markdown",
      "metadata": {
        "id": "-_vR_jLg-AeU"
      },
      "source": [
        "Hidden Markov models can make predictions over a sequence.\n",
        "\n",
        "Some limitations:\n",
        "\n",
        "- long-range dependencies: \"The **students** studied for **their** test.\"\n",
        "  - must \"remember\" that \"students\" is plural to know to use \"their\" and not \"his/hers\"\n",
        "- forward only: only considers previous words, but future words may help for, e.g., part-of-speech tagging\n",
        "\n",
        "\n",
        "<br><br>\n",
        "\n",
        "Why is it hard to include long-range dependencies?\n",
        "\n",
        "\n",
        "$$p(q_i \\mid q_{i-1}) = \\frac{C(q_{i-1}, q_i)}{C(q_{i-1})}$$\n",
        "\n",
        "$$p(q_i \\mid q_{i-1}, q_{i-2}) = \\frac{C(q_{i-2}, q_{i-1}, q_i)}{C(q_{i-1}, q_{i-2})}$$\n",
        "\n",
        "$$p(q_i \\mid q_{i-1}, q_{i-2}, q_{i-3}) = \\frac{C(q_{i-3}, q_{i-2}, q_{i-1}, q_i)}{C(q_{i-1}, q_{i-2}, q_{i-3})}$$\n",
        "\n",
        "![trellis](https://github.com/tulane-cmps6730/main/blob/main/lec/sequence/figs/trellis.png?raw=1)"
      ]
    },
    {
      "cell_type": "markdown",
      "source": [
        "<hr size=10 color=#285C4D>\n",
        "\n",
        "## Recurrent Neural Networks\n"
      ],
      "metadata": {
        "id": "CVQ9nMLsmn-d"
      }
    },
    {
      "cell_type": "markdown",
      "source": [
        "### Overview"
      ],
      "metadata": {
        "id": "al37lvs7tsuG"
      }
    },
    {
      "cell_type": "markdown",
      "metadata": {
        "id": "SvlumImA-AeV"
      },
      "source": [
        "\n",
        "(adapted from [here](http://www.wildml.com/2015/09/recurrent-neural-networks-tutorial-part-1-introduction-to-rnns/))\n",
        "\n",
        "- Sequence model for neural networks\n",
        "- Similar to Hidden Markov models\n",
        "\n",
        "![rnn_roll](https://github.com/tulane-cmps6730/main/blob/main/lec/sequence/figs/rnn_roll.png?raw=1)\n",
        "\n",
        "- $x_t$: input at time  $t$.\n",
        "  - E.g., a word.\n",
        "- $h_t$: hidden state at time  $t$.\n",
        "  - The “memory” of the network.\n",
        "  - $h_t$ is a function of the previous hidden state ($h_{t-1}$) and the current input ($x_t$).\n",
        "    - Similar to HMMs, where we have $p(y_t \\mid y_{t-1}, x_t)$\n",
        "    - $h_t=f(W_{xh}x_t + W_{hh} h_{t-1})$\n",
        "      - $f$ :  activation function (e.g., sigmoid, tanh, etc)\n",
        "      - $W_{xh}$: analogous to \"emission\" probabilities in HMMs\n",
        "      - $W_{hh}$: analogous to \"transition\" probabilities in HMMs\n",
        "- $y_t$: output at time $t$\n",
        "  - E.g., to predict the next word in a sentence it would be a vector of probabilities across our vocabulary. $y_t = \\mathrm{softmax}(W_{hy}h_t).$\n",
        "\n",
        "<br>\n",
        "\n",
        "This \"unrolled\" network is a multi-layer neural net\n",
        "\n",
        "- E.g., if the sentence has 5 words, we have 5 layers\n",
        "- Unlike a typical neural net, the parameters are <u>shared</u> across layers\n",
        "  - That is, $W_{xh}$, $W_{hh}$, and $W_{hy}$ are the same everywhere.\n",
        "  \n",
        "\n",
        "<br><br>\n",
        "\n",
        "Dimensions of weight matrices depends on\n",
        "\n",
        "- input dimension $d_x~~~~~~~~~~~~~~~~$ $x_t \\in \\mathbb{R}^{d_x}$\n",
        "- hidden state dimension $d_h~~~~$ $h_t \\in \\mathbb{R}^{d_h}$\n",
        "- output dimension $d_y~~~~~~~~~~~~~~$ $y_t \\in \\mathbb{R}^{d_y}$\n",
        "\n",
        "thus\n",
        "\n",
        "- $W_{xh} \\in \\mathbb{R}^{d_h \\times d_x}$\n",
        "- $W_{hh} \\in \\mathbb{R}^{d_h \\times d_h}$\n",
        "- $W_{hy} \\in \\mathbb{R}^{d_y \\times d_h}$\n",
        "\n",
        "<br><br>\n",
        "\n",
        "Unlike HMMs, we will estimate parameters $W_{xh}$, $W_{hh}$, and $W_{hy}$ with gradient descent (rather than counting)\n",
        "\n",
        "<br><br>"
      ]
    },
    {
      "cell_type": "markdown",
      "source": [
        "### Types of Recurrent NNs\n"
      ],
      "metadata": {
        "id": "ZAk-b7NjmrT1"
      }
    },
    {
      "cell_type": "markdown",
      "metadata": {
        "id": "s7f08jmm-AeW"
      },
      "source": [
        "\n",
        "(following [this nice tutorial](http://karpathy.github.io/2015/05/21/rnn-effectiveness/))\n",
        "\n",
        "  \n",
        "![rnn_styles](https://github.com/tulane-cmps6730/main/blob/main/lec/sequence/figs/rnn_styles.png?raw=1)\n",
        "- red=input\n",
        "- green=network state\n",
        "- blue=output\n",
        "<br><br>\n",
        "- one-to-one: no RNN; e.g., image classification\n",
        "- one-to-many: image -> caption\n",
        "- many-to-one: sentiment classification\n",
        "- many-to-many, unsynchronized: translation\n",
        "- many-to-many, synchronized: POS tagging\n",
        "  \n"
      ]
    },
    {
      "cell_type": "markdown",
      "source": [
        "### A simple implementation of Recurrent Neural Nets\n"
      ],
      "metadata": {
        "id": "Frx9OnbqmtUY"
      }
    },
    {
      "cell_type": "markdown",
      "metadata": {
        "collapsed": true,
        "jupyter": {
          "outputs_hidden": true
        },
        "id": "oqsCLU0G-AeW"
      },
      "source": [
        "\n",
        "A basic RNN has a `step` function, which takes an `x` vector as input and returns a `y` vector as output.\n",
        "\n",
        "Letting\n",
        "- $W_{hh}$ be the transition weights (from hidden state $t$ to hidden state $t+1$)\n",
        "- $W_{xh}$ be the emission weights (from hidden state $h$ to observation $x$)\n",
        "- $W_{hy}$ be the output weights (from hidden state $h$ to prediction $y$)\n",
        "- $\\mathrm{tanh}(z) \\in [-1, 1]$ be the activation function\n",
        "  - like logistic, but in $[-1,1]$ instead of $[0,1]$"
      ]
    },
    {
      "cell_type": "code",
      "execution_count": 5,
      "metadata": {
        "id": "CntbHSI6-AeW",
        "outputId": "71364c55-6405-4969-8fe1-99af92cd6e0b",
        "colab": {
          "base_uri": "https://localhost:8080/",
          "height": 449
        }
      },
      "outputs": [
        {
          "output_type": "display_data",
          "data": {
            "text/plain": [
              "<Figure size 640x480 with 1 Axes>"
            ],
            "image/png": "[encoded data removed]"
          },
          "metadata": {}
        }
      ],
      "source": [
        "# tanh activation function\n",
        "import numpy as np\n",
        "import matplotlib.pyplot as plt\n",
        "\n",
        "\n",
        "zs = np.arange(-100,100) / 10\n",
        "plt.figure()\n",
        "plt.plot(zs, [np.tanh(z) for z in zs])\n",
        "plt.ylabel('tanh(z)')\n",
        "plt.xlabel('z')\n",
        "plt.show()"
      ]
    },
    {
      "cell_type": "markdown",
      "metadata": {
        "id": "Xnb24swu-AeX"
      },
      "source": [
        "To update the hidden state $h$:\n",
        "\n",
        "$$h_t = \\mathrm{tanh}(W_{hh}h_{t-1} + W_{xh}x_t)$$\n",
        "\n",
        "To compute the output vector $y$:\n",
        "\n",
        "$$y_t = W_{hy} h_t$$\n",
        "\n",
        "```python\n",
        "class RNN:\n",
        "  def step(self, x):\n",
        "    # update the hidden state\n",
        "    self.h = np.tanh(np.dot(self.W_hh, self.h) + np.dot(self.W_xh, x))\n",
        "    # compute the output vector\n",
        "    y = np.dot(self.W_hy, self.h)\n",
        "    return y\n",
        "\n",
        "```"
      ]
    },
    {
      "cell_type": "code",
      "execution_count": 6,
      "metadata": {
        "id": "a8leG2qy-AeX"
      },
      "outputs": [],
      "source": [
        "### RNN\n",
        "class RNN:\n",
        "    def __init__(self, n_input, n_hidden, n_output):\n",
        "        # initialize to small weights\n",
        "        np.random.seed(42)\n",
        "        self.W_xh = np.random.randn(n_hidden, n_input) * .01\n",
        "        self.W_hh = np.random.randn(n_hidden, n_hidden) * .01\n",
        "        self.W_hy = np.random.randn(n_output, n_hidden) * .01\n",
        "        self.h = np.random.randn(n_hidden, 1) * .01\n",
        "\n",
        "    def step(self, x):\n",
        "        # update the hidden state\n",
        "        self.h = np.tanh(np.dot(self.W_hh, self.h) + np.dot(self.W_xh, x))\n",
        "        # compute the output vector\n",
        "        print(self.h.shape)\n",
        "        y = np.dot(self.W_hy, self.h)\n",
        "        return y\n",
        "\n",
        "    def __str__(self):\n",
        "        return 'W_xh:\\n%s\\nW_hh:\\n%s\\nW_hy:%s\\nh:\\n%s\\n' % (\n",
        "            str(self.W_xh),\n",
        "            str(self.W_hh),\n",
        "            str(self.W_hy),\n",
        "            str(self.h)\n",
        "                                                           )"
      ]
    },
    {
      "cell_type": "markdown",
      "source": [
        "### RNN Example: Character Language Model\n"
      ],
      "metadata": {
        "id": "x36Gdkmpm1lo"
      }
    },
    {
      "cell_type": "markdown",
      "metadata": {
        "id": "5S0_SWeB-AeY"
      },
      "source": [
        "\n",
        "Predict the next character in the sequence.\n",
        "\n",
        "![char](https://github.com/tulane-cmps6730/main/blob/main/lec/sequence/figs/char.png?raw=1)"
      ]
    },
    {
      "cell_type": "code",
      "execution_count": 7,
      "metadata": {
        "id": "O2eUKzGD-AeY",
        "outputId": "b40993da-4c99-4c84-8207-5d94401ee832",
        "colab": {
          "base_uri": "https://localhost:8080/"
        }
      },
      "outputs": [
        {
          "output_type": "stream",
          "name": "stdout",
          "text": [
            "W_xh:\n",
            "[[ 0.00496714 -0.00138264  0.00647689  0.0152303  -0.00234153 -0.00234137\n",
            "   0.01579213  0.00767435 -0.00469474  0.0054256  -0.00463418 -0.0046573\n",
            "   0.00241962 -0.0191328  -0.01724918 -0.00562288 -0.01012831  0.00314247\n",
            "  -0.00908024 -0.01412304  0.01465649 -0.00225776  0.00067528 -0.01424748\n",
            "  -0.00544383  0.00110923 -0.01150994  0.00375698]\n",
            " [-0.00600639 -0.00291694 -0.00601707  0.01852278 -0.00013497 -0.01057711\n",
            "   0.00822545 -0.01220844  0.00208864 -0.0195967  -0.01328186  0.00196861\n",
            "   0.00738467  0.00171368 -0.00115648 -0.00301104 -0.01478522 -0.00719844\n",
            "  -0.00460639  0.01057122  0.00343618 -0.0176304   0.00324084 -0.00385082\n",
            "  -0.00676922  0.00611676  0.01031     0.0093128 ]\n",
            " [-0.00839218 -0.00309212  0.00331263  0.00975545 -0.00479174 -0.00185659\n",
            "  -0.01106335 -0.01196207  0.00812526  0.0135624  -0.0007201   0.01003533\n",
            "   0.00361636 -0.0064512   0.00361396  0.01538037 -0.00035826  0.01564644\n",
            "  -0.02619745  0.00821903  0.00087047 -0.00299007  0.00091761 -0.01987569\n",
            "  -0.00219672  0.00357113  0.01477894 -0.0051827 ]]\n",
            "W_hh:\n",
            "[[-0.00808494 -0.00501757  0.00915402]\n",
            " [ 0.00328751 -0.0052976   0.00513267]\n",
            " [ 0.00097078  0.00968645 -0.00702053]]\n",
            "W_hy:[[-3.27662147e-03 -3.92108153e-03 -1.46351495e-02]\n",
            " [ 2.96120277e-03  2.61055272e-03  5.11345664e-05]\n",
            " [-2.34587133e-03 -1.41537074e-02 -4.20645323e-03]\n",
            " [-3.42714517e-03 -8.02277269e-03 -1.61285712e-03]\n",
            " [ 4.04050857e-03  1.88618590e-02  1.74577813e-03]\n",
            " [ 2.57550391e-03 -7.44459158e-04 -1.91877122e-02]\n",
            " [-2.65138754e-04  6.02302099e-04  2.46324211e-02]\n",
            " [-1.92360965e-03  3.01547342e-03 -3.47117697e-04]\n",
            " [-1.16867804e-02  1.14282281e-02  7.51933033e-03]\n",
            " [ 7.91031947e-03 -9.09387455e-03  1.40279431e-02]\n",
            " [-1.40185106e-02  5.86857094e-03  2.19045563e-02]\n",
            " [-9.90536325e-03 -5.66297730e-03  9.96513651e-04]\n",
            " [-5.03475654e-03 -1.55066343e-02  6.85629748e-04]\n",
            " [-1.06230371e-02  4.73592431e-03 -9.19424234e-03]\n",
            " [ 1.54993441e-02 -7.83253292e-03 -3.22061516e-03]\n",
            " [ 8.13517217e-03 -1.23086432e-02  2.27459935e-03]\n",
            " [ 1.30714275e-02 -1.60748323e-02  1.84633859e-03]\n",
            " [ 2.59882794e-03  7.81822872e-03 -1.23695071e-02]\n",
            " [-1.32045661e-02  5.21941566e-03  2.96984673e-03]\n",
            " [ 2.50492850e-03  3.46448209e-03 -6.80024722e-03]\n",
            " [ 2.32253697e-03  2.93072473e-03 -7.14351418e-03]\n",
            " [ 1.86577451e-02  4.73832921e-03 -1.19130350e-02]\n",
            " [ 6.56553609e-03 -9.74681670e-03  7.87084604e-03]\n",
            " [ 1.15859558e-02 -8.20682318e-03  9.63376129e-03]\n",
            " [ 4.12780927e-03  8.22060160e-03  1.89679298e-02]\n",
            " [-2.45388116e-03 -7.53736164e-03 -8.89514430e-03]\n",
            " [-8.15810285e-03 -7.71017094e-04  3.41151975e-03]\n",
            " [ 2.76690799e-03  8.27183249e-03  1.30018919e-04]]\n",
            "h:\n",
            "[[ 0.01453534]\n",
            " [-0.00264657]\n",
            " [ 0.02720169]]\n",
            "\n"
          ]
        }
      ],
      "source": [
        "n_chars = 28  # +2 for space and period.\n",
        "n_hidden = 3\n",
        "rnn = RNN(n_chars, n_hidden, n_chars)\n",
        "print(rnn)\n",
        "# random weights"
      ]
    },
    {
      "cell_type": "markdown",
      "source": [
        "#### One-hot encoding\n"
      ],
      "metadata": {
        "id": "zEaygqX4m9F5"
      }
    },
    {
      "cell_type": "markdown",
      "metadata": {
        "id": "D3jjJDPc-AeY"
      },
      "source": [
        "We represent each character as a binary vector, with a `1` in the cell corresponding to that letter.\n",
        "\n",
        "![letter](https://github.com/tulane-cmps6730/main/blob/main/lec/sequence/figs/letter.png?raw=1)"
      ]
    },
    {
      "cell_type": "code",
      "execution_count": 8,
      "metadata": {
        "id": "WmR1nBGo-AeZ",
        "outputId": "1767c437-107a-4180-a43a-7836511d3616",
        "colab": {
          "base_uri": "https://localhost:8080/"
        }
      },
      "outputs": [
        {
          "output_type": "execute_result",
          "data": {
            "text/plain": [
              "[('a', 0),\n",
              " ('b', 1),\n",
              " ('c', 2),\n",
              " ('d', 3),\n",
              " ('e', 4),\n",
              " ('f', 5),\n",
              " ('g', 6),\n",
              " ('h', 7),\n",
              " ('i', 8),\n",
              " ('j', 9),\n",
              " ('k', 10),\n",
              " ('l', 11),\n",
              " ('m', 12),\n",
              " ('n', 13),\n",
              " ('o', 14),\n",
              " ('p', 15),\n",
              " ('q', 16),\n",
              " ('r', 17),\n",
              " ('s', 18),\n",
              " ('t', 19),\n",
              " ('u', 20),\n",
              " ('v', 21),\n",
              " ('w', 22),\n",
              " ('x', 23),\n",
              " ('y', 24),\n",
              " ('z', 25),\n",
              " (' ', 26),\n",
              " ('.', 27)]"
            ]
          },
          "metadata": {},
          "execution_count": 8
        }
      ],
      "source": [
        "import string\n",
        "\n",
        "chars = list(string.ascii_lowercase) + [' ', '.']\n",
        "char2int_d = dict()\n",
        "int2char_d = dict()\n",
        "for i, c in enumerate(chars):\n",
        "    char2int_d[c] = i\n",
        "    int2char_d[i] = c\n",
        "\n",
        "sorted(char2int_d.items(), key=lambda x: x[1])"
      ]
    },
    {
      "cell_type": "code",
      "execution_count": 9,
      "metadata": {
        "id": "-yDJYF_z-AeZ",
        "outputId": "26befc4e-2c84-4c3a-cafa-614f8a997684",
        "colab": {
          "base_uri": "https://localhost:8080/"
        }
      },
      "outputs": [
        {
          "output_type": "stream",
          "name": "stdout",
          "text": [
            "tensor([[0., 0., 0., 0., 0., 0., 0., 1., 0., 0., 0., 0., 0., 0., 0., 0., 0., 0.,\n",
            "         0., 0., 0., 0., 0., 0., 0., 0., 0., 0.]])\n",
            "\n",
            "tensor([[0., 0., 0., 0., 0., 0., 0., 1., 0., 0., 0., 0., 0., 0., 0., 0., 0., 0.,\n",
            "         0., 0., 0., 0., 0., 0., 0., 0., 0., 0.],\n",
            "        [0., 0., 0., 0., 1., 0., 0., 0., 0., 0., 0., 0., 0., 0., 0., 0., 0., 0.,\n",
            "         0., 0., 0., 0., 0., 0., 0., 0., 0., 0.],\n",
            "        [0., 0., 0., 0., 0., 0., 0., 0., 0., 0., 0., 1., 0., 0., 0., 0., 0., 0.,\n",
            "         0., 0., 0., 0., 0., 0., 0., 0., 0., 0.],\n",
            "        [0., 0., 0., 0., 0., 0., 0., 0., 0., 0., 0., 1., 0., 0., 0., 0., 0., 0.,\n",
            "         0., 0., 0., 0., 0., 0., 0., 0., 0., 0.],\n",
            "        [0., 0., 0., 0., 0., 0., 0., 0., 0., 0., 0., 0., 0., 0., 1., 0., 0., 0.,\n",
            "         0., 0., 0., 0., 0., 0., 0., 0., 0., 0.]])\n"
          ]
        }
      ],
      "source": [
        "# to create letter \"h\"\n",
        "import torch\n",
        "def char2vec(char, char2int):\n",
        "    x = torch.zeros((1, len(char2int)))\n",
        "    x[0][char2int[char]] = 1\n",
        "    return x\n",
        "\n",
        "def chars2vec(chars, char2int):\n",
        "    return torch.cat([char2vec(c, char2int) for c in chars])\n",
        "print(char2vec('h', char2int_d))\n",
        "print()\n",
        "print(chars2vec('hello', char2int_d))"
      ]
    },
    {
      "cell_type": "markdown",
      "metadata": {
        "id": "zeq-RWAZ-AeZ"
      },
      "source": [
        "\n",
        "$$h_t = \\mathrm{tanh}(W_{hh}h_{t-1} + W_{xh}x_t)$$\n",
        "\n",
        "$$y_t = W_{hy} h_t$$\n",
        "\n",
        "\n",
        "Output vector are weights for the next letter.\n",
        "\n",
        "Higher weights == more likely letter.\n",
        "\n",
        "To convert to probabilities, use softmax:\n",
        "\n",
        "$$\n",
        "p_t(i) = \\frac{e^{y_t(i)}}{\\sum_j e^{y_t(j)}}\n",
        "$$"
      ]
    },
    {
      "cell_type": "markdown",
      "source": [
        "### Comparison with HMMs\n"
      ],
      "metadata": {
        "id": "vpCm3oEgnCIy"
      }
    },
    {
      "cell_type": "markdown",
      "metadata": {
        "id": "psnvm_RX-AeZ"
      },
      "source": [
        "\n",
        "Recall the HMM transition probabilities:\n",
        "$$p(q_t \\mid q_{t-1}) = \\frac{C(q_{t-1}, q_t)}{C(q_{t-1})}$$\n",
        "\n",
        "In RNNs, we instead have a $h$ x $h$ matrix $W_{hh}$ representing transitions:\n",
        "\n",
        "![trans](https://github.com/tulane-cmps6730/main/blob/main/lec/sequence/figs/trans.png?raw=1)\n",
        "\n",
        "So, whereas in HMMs the states are discrete variables, in RNNs the states are vectors of real numbers, representing the assignment to hidden units.\n",
        "<br>\n",
        "This provides additional modeling flexibility:\n",
        "- E.g., in named-entity tagging, not all adjectives have the same meaning\n",
        "  - \"tall\" modifies a Person, \"expansive\" modifies a Location\n",
        "- Different adjectives can have different hidden units"
      ]
    },
    {
      "cell_type": "markdown",
      "source": [
        "### Error function\n"
      ],
      "metadata": {
        "id": "_8BinaB4nGWe"
      }
    },
    {
      "cell_type": "markdown",
      "metadata": {
        "id": "zZvMcBsB-Aea"
      },
      "source": [
        "\n",
        "\n",
        "For the character language model, the training set consists of raw text.\n",
        "\n",
        "We know the true character that should exist at position $t$.\n",
        "\n",
        "We can compute the log probability of that true character according to the model, and minimize the negative log of that value.\n",
        "\n",
        "$$\n",
        "p_t(i) = \\frac{e^{y_t(i)}}{\\sum_j e^{y_t(j)}}\n",
        "$$\n",
        "\n",
        "$$\n",
        "E(y_t(i)) = -\\log p_t(i)\n",
        "$$\n",
        "\n",
        "where $i$ is the true label at time $t$.\n",
        "\n",
        "We take the average error over all characters as the total error for the current model:\n",
        "\n",
        "$$\n",
        "E = \\frac{1}{N} \\sum_t -\\log p_t(i)\n",
        "$$\n",
        "\n",
        "\n",
        "**Gradient**\n",
        "\n",
        "(See [here](http://cs231n.github.io/neural-networks-case-study/#grad) for derivation)\n",
        "\n",
        "$$\n",
        "\\frac{\\partial E(y_t(i))}{\\partial y_t(k)} = p_t(k) - \\mathbf{1}(y_i = k)\n",
        "$$\n",
        "where $\\mathbf{1}(y_i = k)$ is $1$ if $y_i=k$.\n",
        "\n",
        "E.g., if probabilities are [0.2, 0.3, 0.5], and that the correct class was 2 (the middle one).  \n",
        "The gradient on the scores would be df = [0.2, -0.7, 0.5].\n",
        "\n",
        "<br><br>\n",
        "\n",
        "Let's implement this in pytorch."
      ]
    },
    {
      "cell_type": "markdown",
      "source": [
        "### Full RNN Example"
      ],
      "metadata": {
        "id": "b_oYxqJYnQUr"
      }
    },
    {
      "cell_type": "code",
      "execution_count": 10,
      "metadata": {
        "id": "bmC7MwEx-Aea"
      },
      "outputs": [],
      "source": [
        "import torch\n",
        "import torch.nn as nn\n",
        "import pandas as pd\n",
        "\n",
        "class RNN(nn.Module):\n",
        "    def __init__(self, input_size, hidden_size, output_size, chars, verbose=True):\n",
        "        super(RNN, self).__init__()\n",
        "        self.verbose = verbose\n",
        "        self.n_hidden = hidden_size\n",
        "        # W_xh\n",
        "        self.input_to_hidden = nn.Linear(input_size, hidden_size)\n",
        "        # W_hh\n",
        "        self.hidden_to_hidden = nn.Linear(hidden_size, hidden_size)\n",
        "        # W_hy\n",
        "        self.hidden_to_output = nn.Linear(hidden_size, output_size)\n",
        "        self.tanh = nn.Tanh()\n",
        "        self.softmax = nn.Softmax(dim=1)\n",
        "        self.chars = chars\n",
        "\n",
        "    def forward(self, x, h_prev):\n",
        "        # tanh(𝑊_hh h_t-1 + W_xh x_t)\n",
        "        h_new = self.tanh(self.hidden_to_hidden(h_prev) + self.input_to_hidden(x))\n",
        "        # y_h = softmax(W_hy h)\n",
        "        output = self.hidden_to_output(h_new)\n",
        "\n",
        "        if self.verbose:\n",
        "            display(pd.DataFrame([{\n",
        "                'input': output2label(x, self.chars),\n",
        "                'h_new': pp(h_new.detach()),\n",
        "                'output': pp(output),\n",
        "                'top output': output2label(output, self.chars)}]).transpose())\n",
        "        return output, h_new\n",
        "\n",
        "    def forward_unrolled(self, x_list):\n",
        "        \"\"\"\n",
        "        Given a character list, unroll the network and gather\n",
        "        predictions for each time step.\n",
        "        \"\"\"\n",
        "        hidden = torch.zeros(1, self.n_hidden)\n",
        "        outputs = []\n",
        "        hiddens = []\n",
        "        for x in x_list[:-1]: # no prediction for final step\n",
        "            output, hidden = self.forward(x, hidden)\n",
        "            outputs.append(output)\n",
        "            hiddens.append(hidden)\n",
        "        return torch.cat(outputs), hiddens\n",
        "\n",
        "def pp(arr):\n",
        "  # pretty print weight array\n",
        "  return arr.detach().cpu().numpy()[0].round(decimals=2)\n",
        "\n",
        "def output2label(output, chars):\n",
        "    \"\"\"\n",
        "    return the letter for the most probable prediction\n",
        "    \"\"\"\n",
        "    top_n, top_i = output.topk(1)\n",
        "    return chars[top_i.item()] # , math.exp(top_n)\n"
      ]
    },
    {
      "cell_type": "code",
      "execution_count": 11,
      "metadata": {
        "id": "yxbsf3xK-Aea",
        "outputId": "f40650a4-f90f-45e9-f79a-c878fe6a2476",
        "colab": {
          "base_uri": "https://localhost:8080/",
          "height": 175
        }
      },
      "outputs": [
        {
          "output_type": "display_data",
          "data": {
            "text/plain": [
              "                                                            0\n",
              "input                                                       h\n",
              "h_new                                    [0.64, -0.12, -0.16]\n",
              "output      [-0.54, 0.3, 0.16, -0.15, 0.03, -0.39, -0.18, ...\n",
              "top output                                                  t"
            ],
            "text/html": [
              "\n",
              "  <div id=\"df-497eae06-9aa3-47fc-a12e-8ac60d7c113b\" class=\"colab-df-container\">\n",
              "    <div>\n",
              "<style scoped>\n",
              "    .dataframe tbody tr th:only-of-type {\n",
              "        vertical-align: middle;\n",
              "    }\n",
              "\n",
              "    .dataframe tbody tr th {\n",
              "        vertical-align: top;\n",
              "    }\n",
              "\n",
              "    .dataframe thead th {\n",
              "        text-align: right;\n",
              "    }\n",
              "</style>\n",
              "<table border=\"1\" class=\"dataframe\">\n",
              "  <thead>\n",
              "    <tr style=\"text-align: right;\">\n",
              "      <th></th>\n",
              "      <th>0</th>\n",
              "    </tr>\n",
              "  </thead>\n",
              "  <tbody>\n",
              "    <tr>\n",
              "      <th>input</th>\n",
              "      <td>h</td>\n",
              "    </tr>\n",
              "    <tr>\n",
              "      <th>h_new</th>\n",
              "      <td>[0.64, -0.12, -0.16]</td>\n",
              "    </tr>\n",
              "    <tr>\n",
              "      <th>output</th>\n",
              "      <td>[-0.54, 0.3, 0.16, -0.15, 0.03, -0.39, -0.18, ...</td>\n",
              "    </tr>\n",
              "    <tr>\n",
              "      <th>top output</th>\n",
              "      <td>t</td>\n",
              "    </tr>\n",
              "  </tbody>\n",
              "</table>\n",
              "</div>\n",
              "    <div class=\"colab-df-buttons\">\n",
              "\n",
              "  <div class=\"colab-df-container\">\n",
              "    <button class=\"colab-df-convert\" onclick=\"convertToInteractive('df-497eae06-9aa3-47fc-a12e-8ac60d7c113b')\"\n",
              "            title=\"Convert this dataframe to an interactive table.\"\n",
              "            style=\"display:none;\">\n",
              "\n",
              "  <svg xmlns=\"http://www.w3.org/2000/svg\" height=\"24px\" viewBox=\"0 -960 960 960\">\n",
              "    <path d=\"M120-120v-720h720v720H120Zm60-500h600v-160H180v160Zm220 220h160v-160H400v160Zm0 220h160v-160H400v160ZM180-400h160v-160H180v160Zm440 0h160v-160H620v160ZM180-180h160v-160H180v160Zm440 0h160v-160H620v160Z\"/>\n",
              "  </svg>\n",
              "    </button>\n",
              "\n",
              "  <style>\n",
              "    .colab-df-container {\n",
              "      display:flex;\n",
              "      gap: 12px;\n",
              "    }\n",
              "\n",
              "    .colab-df-convert {\n",
              "      background-color: #E8F0FE;\n",
              "      border: none;\n",
              "      border-radius: 50%;\n",
              "      cursor: pointer;\n",
              "      display: none;\n",
              "      fill: #1967D2;\n",
              "      height: 32px;\n",
              "      padding: 0 0 0 0;\n",
              "      width: 32px;\n",
              "    }\n",
              "\n",
              "    .colab-df-convert:hover {\n",
              "      background-color: #E2EBFA;\n",
              "      box-shadow: 0px 1px 2px rgba(60, 64, 67, 0.3), 0px 1px 3px 1px rgba(60, 64, 67, 0.15);\n",
              "      fill: #174EA6;\n",
              "    }\n",
              "\n",
              "    .colab-df-buttons div {\n",
              "      margin-bottom: 4px;\n",
              "    }\n",
              "\n",
              "    [theme=dark] .colab-df-convert {\n",
              "      background-color: #3B4455;\n",
              "      fill: #D2E3FC;\n",
              "    }\n",
              "\n",
              "    [theme=dark] .colab-df-convert:hover {\n",
              "      background-color: #434B5C;\n",
              "      box-shadow: 0px 1px 3px 1px rgba(0, 0, 0, 0.15);\n",
              "      filter: drop-shadow(0px 1px 2px rgba(0, 0, 0, 0.3));\n",
              "      fill: #FFFFFF;\n",
              "    }\n",
              "  </style>\n",
              "\n",
              "    <script>\n",
              "      const buttonEl =\n",
              "        document.querySelector('#df-497eae06-9aa3-47fc-a12e-8ac60d7c113b button.colab-df-convert');\n",
              "      buttonEl.style.display =\n",
              "        google.colab.kernel.accessAllowed ? 'block' : 'none';\n",
              "\n",
              "      async function convertToInteractive(key) {\n",
              "        const element = document.querySelector('#df-497eae06-9aa3-47fc-a12e-8ac60d7c113b');\n",
              "        const dataTable =\n",
              "          await google.colab.kernel.invokeFunction('convertToInteractive',\n",
              "                                                    [key], {});\n",
              "        if (!dataTable) return;\n",
              "\n",
              "        const docLinkHtml = 'Like what you see? Visit the ' +\n",
              "          '<a target=\"_blank\" href=https://colab.research.google.com/notebooks/data_table.ipynb>data table notebook</a>'\n",
              "          + ' to learn more about interactive tables.';\n",
              "        element.innerHTML = '';\n",
              "        dataTable['output_type'] = 'display_data';\n",
              "        await google.colab.output.renderOutput(dataTable, element);\n",
              "        const docLink = document.createElement('div');\n",
              "        docLink.innerHTML = docLinkHtml;\n",
              "        element.appendChild(docLink);\n",
              "      }\n",
              "    </script>\n",
              "  </div>\n",
              "\n",
              "\n",
              "<div id=\"df-66c276eb-2d70-4a48-bab4-d9aa6fc44c43\">\n",
              "  <button class=\"colab-df-quickchart\" onclick=\"quickchart('df-66c276eb-2d70-4a48-bab4-d9aa6fc44c43')\"\n",
              "            title=\"Suggest charts\"\n",
              "            style=\"display:none;\">\n",
              "\n",
              "<svg xmlns=\"http://www.w3.org/2000/svg\" height=\"24px\"viewBox=\"0 0 24 24\"\n",
              "     width=\"24px\">\n",
              "    <g>\n",
              "        <path d=\"M19 3H5c-1.1 0-2 .9-2 2v14c0 1.1.9 2 2 2h14c1.1 0 2-.9 2-2V5c0-1.1-.9-2-2-2zM9 17H7v-7h2v7zm4 0h-2V7h2v10zm4 0h-2v-4h2v4z\"/>\n",
              "    </g>\n",
              "</svg>\n",
              "  </button>\n",
              "\n",
              "<style>\n",
              "  .colab-df-quickchart {\n",
              "      --bg-color: #E8F0FE;\n",
              "      --fill-color: #1967D2;\n",
              "      --hover-bg-color: #E2EBFA;\n",
              "      --hover-fill-color: #174EA6;\n",
              "      --disabled-fill-color: #AAA;\n",
              "      --disabled-bg-color: #DDD;\n",
              "  }\n",
              "\n",
              "  [theme=dark] .colab-df-quickchart {\n",
              "      --bg-color: #3B4455;\n",
              "      --fill-color: #D2E3FC;\n",
              "      --hover-bg-color: #434B5C;\n",
              "      --hover-fill-color: #FFFFFF;\n",
              "      --disabled-bg-color: #3B4455;\n",
              "      --disabled-fill-color: #666;\n",
              "  }\n",
              "\n",
              "  .colab-df-quickchart {\n",
              "    background-color: var(--bg-color);\n",
              "    border: none;\n",
              "    border-radius: 50%;\n",
              "    cursor: pointer;\n",
              "    display: none;\n",
              "    fill: var(--fill-color);\n",
              "    height: 32px;\n",
              "    padding: 0;\n",
              "    width: 32px;\n",
              "  }\n",
              "\n",
              "  .colab-df-quickchart:hover {\n",
              "    background-color: var(--hover-bg-color);\n",
              "    box-shadow: 0 1px 2px rgba(60, 64, 67, 0.3), 0 1px 3px 1px rgba(60, 64, 67, 0.15);\n",
              "    fill: var(--button-hover-fill-color);\n",
              "  }\n",
              "\n",
              "  .colab-df-quickchart-complete:disabled,\n",
              "  .colab-df-quickchart-complete:disabled:hover {\n",
              "    background-color: var(--disabled-bg-color);\n",
              "    fill: var(--disabled-fill-color);\n",
              "    box-shadow: none;\n",
              "  }\n",
              "\n",
              "  .colab-df-spinner {\n",
              "    border: 2px solid var(--fill-color);\n",
              "    border-color: transparent;\n",
              "    border-bottom-color: var(--fill-color);\n",
              "    animation:\n",
              "      spin 1s steps(1) infinite;\n",
              "  }\n",
              "\n",
              "  @keyframes spin {\n",
              "    0% {\n",
              "      border-color: transparent;\n",
              "      border-bottom-color: var(--fill-color);\n",
              "      border-left-color: var(--fill-color);\n",
              "    }\n",
              "    20% {\n",
              "      border-color: transparent;\n",
              "      border-left-color: var(--fill-color);\n",
              "      border-top-color: var(--fill-color);\n",
              "    }\n",
              "    30% {\n",
              "      border-color: transparent;\n",
              "      border-left-color: var(--fill-color);\n",
              "      border-top-color: var(--fill-color);\n",
              "      border-right-color: var(--fill-color);\n",
              "    }\n",
              "    40% {\n",
              "      border-color: transparent;\n",
              "      border-right-color: var(--fill-color);\n",
              "      border-top-color: var(--fill-color);\n",
              "    }\n",
              "    60% {\n",
              "      border-color: transparent;\n",
              "      border-right-color: var(--fill-color);\n",
              "    }\n",
              "    80% {\n",
              "      border-color: transparent;\n",
              "      border-right-color: var(--fill-color);\n",
              "      border-bottom-color: var(--fill-color);\n",
              "    }\n",
              "    90% {\n",
              "      border-color: transparent;\n",
              "      border-bottom-color: var(--fill-color);\n",
              "    }\n",
              "  }\n",
              "</style>\n",
              "\n",
              "  <script>\n",
              "    async function quickchart(key) {\n",
              "      const quickchartButtonEl =\n",
              "        document.querySelector('#' + key + ' button');\n",
              "      quickchartButtonEl.disabled = true;  // To prevent multiple clicks.\n",
              "      quickchartButtonEl.classList.add('colab-df-spinner');\n",
              "      try {\n",
              "        const charts = await google.colab.kernel.invokeFunction(\n",
              "            'suggestCharts', [key], {});\n",
              "      } catch (error) {\n",
              "        console.error('Error during call to suggestCharts:', error);\n",
              "      }\n",
              "      quickchartButtonEl.classList.remove('colab-df-spinner');\n",
              "      quickchartButtonEl.classList.add('colab-df-quickchart-complete');\n",
              "    }\n",
              "    (() => {\n",
              "      let quickchartButtonEl =\n",
              "        document.querySelector('#df-66c276eb-2d70-4a48-bab4-d9aa6fc44c43 button');\n",
              "      quickchartButtonEl.style.display =\n",
              "        google.colab.kernel.accessAllowed ? 'block' : 'none';\n",
              "    })();\n",
              "  </script>\n",
              "</div>\n",
              "\n",
              "    </div>\n",
              "  </div>\n"
            ],
            "application/vnd.google.colaboratory.intrinsic+json": {
              "type": "dataframe",
              "summary": "{\n  \"name\": \"output, hidden = rnn\",\n  \"rows\": 4,\n  \"fields\": [\n    {\n      \"column\": 0,\n      \"properties\": {\n        \"dtype\": \"object\",\n        \"semantic_type\": \"\",\n        \"description\": \"\"\n      }\n    }\n  ]\n}"
            }
          },
          "metadata": {}
        }
      ],
      "source": [
        "torch.random.manual_seed(42)\n",
        "rnn = RNN(n_chars, n_hidden, n_chars, chars)\n",
        "x = char2vec('h', char2int_d)\n",
        "hidden = torch.zeros(1, n_hidden)\n",
        "output, hidden = rnn.forward(x, hidden)"
      ]
    },
    {
      "cell_type": "code",
      "execution_count": 12,
      "metadata": {
        "id": "Sx7fAjMc-Aea",
        "outputId": "53ae767b-d88f-4956-8341-5e2eee615609",
        "colab": {
          "base_uri": "https://localhost:8080/"
        }
      },
      "outputs": [
        {
          "output_type": "execute_result",
          "data": {
            "text/plain": [
              "300"
            ]
          },
          "metadata": {},
          "execution_count": 12
        }
      ],
      "source": [
        "chars = ['a', 'b', 'c']\n",
        "char2int = {'a': 0, 'b': 1, 'c': 2}\n",
        "int2char = {0: 'a', 1: 'b', 2: 'c'}\n",
        "data = [\n",
        "    chars2vec('abcabcabc', char2int),\n",
        "    chars2vec('bcabcabca', char2int),\n",
        "    chars2vec('cabcabcab', char2int)\n",
        "]  * 100\n",
        "\n",
        "len(data)"
      ]
    },
    {
      "cell_type": "code",
      "execution_count": 13,
      "metadata": {
        "id": "dcZ-S-wl-Aeb",
        "outputId": "8f01fa65-8ee5-4db5-df77-db780a934fa7",
        "colab": {
          "base_uri": "https://localhost:8080/"
        }
      },
      "outputs": [
        {
          "output_type": "execute_result",
          "data": {
            "text/plain": [
              "tensor([[1., 0., 0.],\n",
              "        [0., 1., 0.],\n",
              "        [0., 0., 1.],\n",
              "        [1., 0., 0.],\n",
              "        [0., 1., 0.],\n",
              "        [0., 0., 1.],\n",
              "        [1., 0., 0.],\n",
              "        [0., 1., 0.],\n",
              "        [0., 0., 1.]])"
            ]
          },
          "metadata": {},
          "execution_count": 13
        }
      ],
      "source": [
        "data[0]"
      ]
    },
    {
      "cell_type": "code",
      "execution_count": 14,
      "metadata": {
        "id": "oa5Ofeqs-Aeb"
      },
      "outputs": [],
      "source": [
        "from tqdm import tqdm\n",
        "\n",
        "def train_model(model, data, epochs=20, learning_rate=0.1, batch_size=10):\n",
        "    \"\"\"\n",
        "    Iterate through the data in batches and train the model.\n",
        "    NB: this can be made more efficient by writing the\n",
        "    forward_unrolled method to operate over batches of instances\n",
        "    rather than single instances. This allows more parellalization,\n",
        "    but can be more difficult to read.\n",
        "    \"\"\"\n",
        "    torch.random.manual_seed(42)  # for reproducibility\n",
        "    np.random.seed(42)\n",
        "    criterion = nn.CrossEntropyLoss()\n",
        "    optimizer = torch.optim.Adam(model.parameters(),\n",
        "                                 lr=learning_rate)\n",
        "    model.verbose = False\n",
        "    loss_val = []\n",
        "    # main training loop\n",
        "    for epoch in range(epochs):\n",
        "        print('epoch=%d' % epoch)\n",
        "        np.random.shuffle(data)\n",
        "        epoch_loss = 0\n",
        "        # for each batch of instances\n",
        "        with tqdm(total=len(data), desc=f'Epoch {epoch+1}/{epochs}', unit='sample') as pbar:\n",
        "          for i in range(0, len(data), batch_size):\n",
        "            batch = data[i:i + batch_size]\n",
        "            optimizer.zero_grad() # reset all the gradient information\n",
        "            batch_loss = 0\n",
        "            for datum in batch:\n",
        "                result = model.forward_unrolled(datum)\n",
        "                loss = criterion(result[0],\n",
        "                                datum[1:].argmax(dim=1).long())\n",
        "                batch_loss += loss\n",
        "            # change parameters after each batch\n",
        "            batch_loss /= batch_size\n",
        "            batch_loss.backward()      # computes all the gradients\n",
        "            optimizer.step()     # update parameters\n",
        "            loss_val.append(batch_loss.item())\n",
        "            epoch_loss += batch_loss\n",
        "            pbar.update(len(batch))\n",
        "            pbar.set_postfix({'Batch': (i // batch_size) + 1, 'Loss': batch_loss.item()})\n",
        "\n",
        "        avg_epoch_loss = epoch_loss / (len(data) / batch_size)\n",
        "        print(f'Epoch [{epoch+1}/{epochs}], Average Loss: {avg_epoch_loss:.4f}')\n",
        "\n",
        "\n",
        "    plt.figure()\n",
        "    plt.plot(loss_val, 'bo-')\n",
        "    plt.ylabel('loss')\n",
        "    plt.xlabel('batches')\n",
        "    plt.show()\n",
        "    return model"
      ]
    },
    {
      "cell_type": "code",
      "source": [
        "rnn = RNN(len(chars), 3, len(chars), chars)\n",
        "train_model(rnn, data, epochs=2, learning_rate=.2, batch_size=10)"
      ],
      "metadata": {
        "colab": {
          "base_uri": "https://localhost:8080/",
          "height": 700
        },
        "id": "IPvIx2YA6bn9",
        "outputId": "d441f7b2-8d7b-43a8-aa07-9cff322db109"
      },
      "execution_count": 15,
      "outputs": [
        {
          "output_type": "stream",
          "name": "stdout",
          "text": [
            "epoch=0\n"
          ]
        },
        {
          "output_type": "stream",
          "name": "stderr",
          "text": [
            "Epoch 1/2: 100%|██████████| 300/300 [00:00<00:00, 343.37sample/s, Batch=30, Loss=0.000113]\n"
          ]
        },
        {
          "output_type": "stream",
          "name": "stdout",
          "text": [
            "Epoch [1/2], Average Loss: 0.1565\n",
            "epoch=1\n"
          ]
        },
        {
          "output_type": "stream",
          "name": "stderr",
          "text": [
            "Epoch 2/2: 100%|██████████| 300/300 [00:01<00:00, 299.91sample/s, Batch=30, Loss=4.43e-5]\n"
          ]
        },
        {
          "output_type": "stream",
          "name": "stdout",
          "text": [
            "Epoch [2/2], Average Loss: 0.0001\n"
          ]
        },
        {
          "output_type": "display_data",
          "data": {
            "text/plain": [
              "<Figure size 640x480 with 1 Axes>"
            ],
            "image/png": "[encoded data removed]"
          },
          "metadata": {}
        },
        {
          "output_type": "execute_result",
          "data": {
            "text/plain": [
              "RNN(\n",
              "  (input_to_hidden): Linear(in_features=3, out_features=3, bias=True)\n",
              "  (hidden_to_hidden): Linear(in_features=3, out_features=3, bias=True)\n",
              "  (hidden_to_output): Linear(in_features=3, out_features=3, bias=True)\n",
              "  (tanh): Tanh()\n",
              "  (softmax): Softmax(dim=1)\n",
              ")"
            ]
          },
          "metadata": {},
          "execution_count": 15
        }
      ]
    },
    {
      "cell_type": "code",
      "execution_count": 16,
      "metadata": {
        "id": "pwd7S7Na-Aec",
        "outputId": "e00ab567-ac89-484e-fcd3-11fac4b59513",
        "colab": {
          "base_uri": "https://localhost:8080/",
          "height": 175
        }
      },
      "outputs": [
        {
          "output_type": "display_data",
          "data": {
            "text/plain": [
              "                               0\n",
              "input                          a\n",
              "h_new         [0.97, -1.0, 0.99]\n",
              "output      [-3.31, 6.96, -3.75]\n",
              "top output                     b"
            ],
            "text/html": [
              "\n",
              "  <div id=\"df-dc1cc7b0-166c-4855-a04f-042e41b132b9\" class=\"colab-df-container\">\n",
              "    <div>\n",
              "<style scoped>\n",
              "    .dataframe tbody tr th:only-of-type {\n",
              "        vertical-align: middle;\n",
              "    }\n",
              "\n",
              "    .dataframe tbody tr th {\n",
              "        vertical-align: top;\n",
              "    }\n",
              "\n",
              "    .dataframe thead th {\n",
              "        text-align: right;\n",
              "    }\n",
              "</style>\n",
              "<table border=\"1\" class=\"dataframe\">\n",
              "  <thead>\n",
              "    <tr style=\"text-align: right;\">\n",
              "      <th></th>\n",
              "      <th>0</th>\n",
              "    </tr>\n",
              "  </thead>\n",
              "  <tbody>\n",
              "    <tr>\n",
              "      <th>input</th>\n",
              "      <td>a</td>\n",
              "    </tr>\n",
              "    <tr>\n",
              "      <th>h_new</th>\n",
              "      <td>[0.97, -1.0, 0.99]</td>\n",
              "    </tr>\n",
              "    <tr>\n",
              "      <th>output</th>\n",
              "      <td>[-3.31, 6.96, -3.75]</td>\n",
              "    </tr>\n",
              "    <tr>\n",
              "      <th>top output</th>\n",
              "      <td>b</td>\n",
              "    </tr>\n",
              "  </tbody>\n",
              "</table>\n",
              "</div>\n",
              "    <div class=\"colab-df-buttons\">\n",
              "\n",
              "  <div class=\"colab-df-container\">\n",
              "    <button class=\"colab-df-convert\" onclick=\"convertToInteractive('df-dc1cc7b0-166c-4855-a04f-042e41b132b9')\"\n",
              "            title=\"Convert this dataframe to an interactive table.\"\n",
              "            style=\"display:none;\">\n",
              "\n",
              "  <svg xmlns=\"http://www.w3.org/2000/svg\" height=\"24px\" viewBox=\"0 -960 960 960\">\n",
              "    <path d=\"M120-120v-720h720v720H120Zm60-500h600v-160H180v160Zm220 220h160v-160H400v160Zm0 220h160v-160H400v160ZM180-400h160v-160H180v160Zm440 0h160v-160H620v160ZM180-180h160v-160H180v160Zm440 0h160v-160H620v160Z\"/>\n",
              "  </svg>\n",
              "    </button>\n",
              "\n",
              "  <style>\n",
              "    .colab-df-container {\n",
              "      display:flex;\n",
              "      gap: 12px;\n",
              "    }\n",
              "\n",
              "    .colab-df-convert {\n",
              "      background-color: #E8F0FE;\n",
              "      border: none;\n",
              "      border-radius: 50%;\n",
              "      cursor: pointer;\n",
              "      display: none;\n",
              "      fill: #1967D2;\n",
              "      height: 32px;\n",
              "      padding: 0 0 0 0;\n",
              "      width: 32px;\n",
              "    }\n",
              "\n",
              "    .colab-df-convert:hover {\n",
              "      background-color: #E2EBFA;\n",
              "      box-shadow: 0px 1px 2px rgba(60, 64, 67, 0.3), 0px 1px 3px 1px rgba(60, 64, 67, 0.15);\n",
              "      fill: #174EA6;\n",
              "    }\n",
              "\n",
              "    .colab-df-buttons div {\n",
              "      margin-bottom: 4px;\n",
              "    }\n",
              "\n",
              "    [theme=dark] .colab-df-convert {\n",
              "      background-color: #3B4455;\n",
              "      fill: #D2E3FC;\n",
              "    }\n",
              "\n",
              "    [theme=dark] .colab-df-convert:hover {\n",
              "      background-color: #434B5C;\n",
              "      box-shadow: 0px 1px 3px 1px rgba(0, 0, 0, 0.15);\n",
              "      filter: drop-shadow(0px 1px 2px rgba(0, 0, 0, 0.3));\n",
              "      fill: #FFFFFF;\n",
              "    }\n",
              "  </style>\n",
              "\n",
              "    <script>\n",
              "      const buttonEl =\n",
              "        document.querySelector('#df-dc1cc7b0-166c-4855-a04f-042e41b132b9 button.colab-df-convert');\n",
              "      buttonEl.style.display =\n",
              "        google.colab.kernel.accessAllowed ? 'block' : 'none';\n",
              "\n",
              "      async function convertToInteractive(key) {\n",
              "        const element = document.querySelector('#df-dc1cc7b0-166c-4855-a04f-042e41b132b9');\n",
              "        const dataTable =\n",
              "          await google.colab.kernel.invokeFunction('convertToInteractive',\n",
              "                                                    [key], {});\n",
              "        if (!dataTable) return;\n",
              "\n",
              "        const docLinkHtml = 'Like what you see? Visit the ' +\n",
              "          '<a target=\"_blank\" href=https://colab.research.google.com/notebooks/data_table.ipynb>data table notebook</a>'\n",
              "          + ' to learn more about interactive tables.';\n",
              "        element.innerHTML = '';\n",
              "        dataTable['output_type'] = 'display_data';\n",
              "        await google.colab.output.renderOutput(dataTable, element);\n",
              "        const docLink = document.createElement('div');\n",
              "        docLink.innerHTML = docLinkHtml;\n",
              "        element.appendChild(docLink);\n",
              "      }\n",
              "    </script>\n",
              "  </div>\n",
              "\n",
              "\n",
              "<div id=\"df-05741727-a4a4-4f3b-94a1-2e02501967d3\">\n",
              "  <button class=\"colab-df-quickchart\" onclick=\"quickchart('df-05741727-a4a4-4f3b-94a1-2e02501967d3')\"\n",
              "            title=\"Suggest charts\"\n",
              "            style=\"display:none;\">\n",
              "\n",
              "<svg xmlns=\"http://www.w3.org/2000/svg\" height=\"24px\"viewBox=\"0 0 24 24\"\n",
              "     width=\"24px\">\n",
              "    <g>\n",
              "        <path d=\"M19 3H5c-1.1 0-2 .9-2 2v14c0 1.1.9 2 2 2h14c1.1 0 2-.9 2-2V5c0-1.1-.9-2-2-2zM9 17H7v-7h2v7zm4 0h-2V7h2v10zm4 0h-2v-4h2v4z\"/>\n",
              "    </g>\n",
              "</svg>\n",
              "  </button>\n",
              "\n",
              "<style>\n",
              "  .colab-df-quickchart {\n",
              "      --bg-color: #E8F0FE;\n",
              "      --fill-color: #1967D2;\n",
              "      --hover-bg-color: #E2EBFA;\n",
              "      --hover-fill-color: #174EA6;\n",
              "      --disabled-fill-color: #AAA;\n",
              "      --disabled-bg-color: #DDD;\n",
              "  }\n",
              "\n",
              "  [theme=dark] .colab-df-quickchart {\n",
              "      --bg-color: #3B4455;\n",
              "      --fill-color: #D2E3FC;\n",
              "      --hover-bg-color: #434B5C;\n",
              "      --hover-fill-color: #FFFFFF;\n",
              "      --disabled-bg-color: #3B4455;\n",
              "      --disabled-fill-color: #666;\n",
              "  }\n",
              "\n",
              "  .colab-df-quickchart {\n",
              "    background-color: var(--bg-color);\n",
              "    border: none;\n",
              "    border-radius: 50%;\n",
              "    cursor: pointer;\n",
              "    display: none;\n",
              "    fill: var(--fill-color);\n",
              "    height: 32px;\n",
              "    padding: 0;\n",
              "    width: 32px;\n",
              "  }\n",
              "\n",
              "  .colab-df-quickchart:hover {\n",
              "    background-color: var(--hover-bg-color);\n",
              "    box-shadow: 0 1px 2px rgba(60, 64, 67, 0.3), 0 1px 3px 1px rgba(60, 64, 67, 0.15);\n",
              "    fill: var(--button-hover-fill-color);\n",
              "  }\n",
              "\n",
              "  .colab-df-quickchart-complete:disabled,\n",
              "  .colab-df-quickchart-complete:disabled:hover {\n",
              "    background-color: var(--disabled-bg-color);\n",
              "    fill: var(--disabled-fill-color);\n",
              "    box-shadow: none;\n",
              "  }\n",
              "\n",
              "  .colab-df-spinner {\n",
              "    border: 2px solid var(--fill-color);\n",
              "    border-color: transparent;\n",
              "    border-bottom-color: var(--fill-color);\n",
              "    animation:\n",
              "      spin 1s steps(1) infinite;\n",
              "  }\n",
              "\n",
              "  @keyframes spin {\n",
              "    0% {\n",
              "      border-color: transparent;\n",
              "      border-bottom-color: var(--fill-color);\n",
              "      border-left-color: var(--fill-color);\n",
              "    }\n",
              "    20% {\n",
              "      border-color: transparent;\n",
              "      border-left-color: var(--fill-color);\n",
              "      border-top-color: var(--fill-color);\n",
              "    }\n",
              "    30% {\n",
              "      border-color: transparent;\n",
              "      border-left-color: var(--fill-color);\n",
              "      border-top-color: var(--fill-color);\n",
              "      border-right-color: var(--fill-color);\n",
              "    }\n",
              "    40% {\n",
              "      border-color: transparent;\n",
              "      border-right-color: var(--fill-color);\n",
              "      border-top-color: var(--fill-color);\n",
              "    }\n",
              "    60% {\n",
              "      border-color: transparent;\n",
              "      border-right-color: var(--fill-color);\n",
              "    }\n",
              "    80% {\n",
              "      border-color: transparent;\n",
              "      border-right-color: var(--fill-color);\n",
              "      border-bottom-color: var(--fill-color);\n",
              "    }\n",
              "    90% {\n",
              "      border-color: transparent;\n",
              "      border-bottom-color: var(--fill-color);\n",
              "    }\n",
              "  }\n",
              "</style>\n",
              "\n",
              "  <script>\n",
              "    async function quickchart(key) {\n",
              "      const quickchartButtonEl =\n",
              "        document.querySelector('#' + key + ' button');\n",
              "      quickchartButtonEl.disabled = true;  // To prevent multiple clicks.\n",
              "      quickchartButtonEl.classList.add('colab-df-spinner');\n",
              "      try {\n",
              "        const charts = await google.colab.kernel.invokeFunction(\n",
              "            'suggestCharts', [key], {});\n",
              "      } catch (error) {\n",
              "        console.error('Error during call to suggestCharts:', error);\n",
              "      }\n",
              "      quickchartButtonEl.classList.remove('colab-df-spinner');\n",
              "      quickchartButtonEl.classList.add('colab-df-quickchart-complete');\n",
              "    }\n",
              "    (() => {\n",
              "      let quickchartButtonEl =\n",
              "        document.querySelector('#df-05741727-a4a4-4f3b-94a1-2e02501967d3 button');\n",
              "      quickchartButtonEl.style.display =\n",
              "        google.colab.kernel.accessAllowed ? 'block' : 'none';\n",
              "    })();\n",
              "  </script>\n",
              "</div>\n",
              "\n",
              "    </div>\n",
              "  </div>\n"
            ],
            "application/vnd.google.colaboratory.intrinsic+json": {
              "type": "dataframe",
              "summary": "{\n  \"name\": \"outputs, hidden = rnn\",\n  \"rows\": 4,\n  \"fields\": [\n    {\n      \"column\": 0,\n      \"properties\": {\n        \"dtype\": \"object\",\n        \"semantic_type\": \"\",\n        \"description\": \"\"\n      }\n    }\n  ]\n}"
            }
          },
          "metadata": {}
        }
      ],
      "source": [
        "rnn.verbose=True\n",
        "outputs, hidden = rnn.forward_unrolled(chars2vec('ab', char2int))"
      ]
    },
    {
      "cell_type": "markdown",
      "source": [
        "### Learn to write like Shakespeare\n"
      ],
      "metadata": {
        "id": "zhEfY7-YncY9"
      }
    },
    {
      "cell_type": "markdown",
      "metadata": {
        "id": "klDwzSiJ-Aec"
      },
      "source": [
        "\n",
        "input:\n",
        "```\n",
        "THE SONNETS\n",
        "\n",
        "by William Shakespeare\n",
        "\n",
        "\n",
        "\n",
        "                     1\n",
        "  From fairest creatures we desire increase,\n",
        "  That thereby beauty's rose might never die,\n",
        "  But as the riper should by time decease,\n",
        "  His tender heir might bear his memory:\n",
        "  But thou contracted to thine own bright eyes,\n",
        "  Feed'st thy light's flame with self-substantial fuel,\n",
        "  Making a famine where abundance lies,\n",
        "  Thy self thy foe, to thy sweet self too cruel:\n",
        "  Thou that art now the world's fresh ornament,\n",
        "  And only herald to the gaudy spring,\n",
        "  Within thine own bud buriest thy content,\n",
        "```"
      ]
    },
    {
      "cell_type": "code",
      "execution_count": 17,
      "metadata": {
        "id": "DMTacuoG-Aec",
        "outputId": "9ed2c4e3-07ce-436e-f5e1-d45165166f84",
        "colab": {
          "base_uri": "https://localhost:8080/"
        }
      },
      "outputs": [
        {
          "output_type": "stream",
          "name": "stdout",
          "text": [
            "data has 209531 characters, 54 unique.\n",
            "['\\n', ' ', '!', '\"', \"'\", '(', ')', ',', '-', '.', '0', '1', '2', '3', '4', '5', '6', '7', '8', '9', ':', ';', '<', '>', '?', '[', ']', 'a', 'b', 'c', 'd', 'e', 'f', 'g', 'h', 'i', 'j', 'k', 'l', 'm', 'n', 'o', 'p', 'q', 'r', 's', 't', 'u', 'v', 'w', 'x', 'y', 'z', '\\ufeff']\n"
          ]
        }
      ],
      "source": [
        "import requests\n",
        "# a simple plain text file\n",
        "shakes = requests.get('https://raw.githubusercontent.com/tulane-cmps6730/main/refs/heads/main/lec/sequence/shakespeare_small.txt').text\n",
        "chars = list(set(shakes.lower()))  # restrict to lower\n",
        "data_size, vocab_size = len(shakes), len(chars)\n",
        "print('data has %d characters, %d unique.' % (data_size, vocab_size))\n",
        "char_to_ix = { ch:i for i,ch in enumerate(chars) }\n",
        "ix_to_char = { i:ch for i,ch in enumerate(chars) }\n",
        "print(sorted(char_to_ix.keys()))\n",
        "\n",
        "hidden_size = 50 # size of hidden layer of neurons\n",
        "seq_length = 25 # number of steps to unroll the RNN for\n",
        "learning_rate = 1e-1\n",
        "\n"
      ]
    },
    {
      "cell_type": "code",
      "execution_count": 18,
      "metadata": {
        "id": "l1Qhcb74-Aec",
        "outputId": "079129cb-9bf1-43cc-a705-61715f2f6e54",
        "colab": {
          "base_uri": "https://localhost:8080/"
        }
      },
      "outputs": [
        {
          "output_type": "execute_result",
          "data": {
            "text/plain": [
              "tensor([[0., 0., 0.,  ..., 0., 0., 0.],\n",
              "        [0., 0., 0.,  ..., 0., 0., 0.],\n",
              "        [0., 0., 0.,  ..., 0., 0., 0.],\n",
              "        ...,\n",
              "        [0., 0., 0.,  ..., 0., 0., 0.],\n",
              "        [0., 0., 0.,  ..., 0., 0., 0.],\n",
              "        [0., 0., 0.,  ..., 0., 0., 0.]])"
            ]
          },
          "metadata": {},
          "execution_count": 18
        }
      ],
      "source": [
        "def make_sequences(shakes, sequence_len, char_to_ix):\n",
        "    sequences = []\n",
        "    i = 0\n",
        "    for j in np.arange(len(shakes)+sequence_len)[::sequence_len][1:]:\n",
        "        row = shakes[i:j]\n",
        "        i = j\n",
        "        sequences.append(chars2vec(''.join(row).lower(), char_to_ix))\n",
        "    return sequences\n",
        "sequences = make_sequences(shakes, 30, char_to_ix)\n",
        "sequences[0]"
      ]
    },
    {
      "cell_type": "code",
      "execution_count": 19,
      "metadata": {
        "id": "kkSFaT-f-Aed",
        "outputId": "84f9a346-50bc-4045-a68a-3798154450b6",
        "colab": {
          "base_uri": "https://localhost:8080/"
        }
      },
      "outputs": [
        {
          "output_type": "execute_result",
          "data": {
            "text/plain": [
              "54"
            ]
          },
          "metadata": {},
          "execution_count": 19
        }
      ],
      "source": [
        "len(char_to_ix)"
      ]
    },
    {
      "cell_type": "code",
      "execution_count": 20,
      "metadata": {
        "id": "ZQogxHro-Aed",
        "outputId": "7e4a1386-8923-4ebd-caa0-a9c73a327a88",
        "colab": {
          "base_uri": "https://localhost:8080/",
          "height": 695
        },
        "collapsed": true
      },
      "outputs": [
        {
          "output_type": "stream",
          "name": "stdout",
          "text": [
            "epoch=0\n"
          ]
        },
        {
          "output_type": "stream",
          "name": "stderr",
          "text": [
            "Epoch 1/2: 100%|██████████| 6985/6985 [01:11<00:00, 97.59sample/s, Batch=350, Loss=0.589] \n"
          ]
        },
        {
          "output_type": "stream",
          "name": "stdout",
          "text": [
            "Epoch [1/2], Average Loss: 2.7057\n",
            "epoch=1\n"
          ]
        },
        {
          "output_type": "stream",
          "name": "stderr",
          "text": [
            "Epoch 2/2: 100%|██████████| 6985/6985 [01:10<00:00, 98.99sample/s, Batch=350, Loss=0.551] \n"
          ]
        },
        {
          "output_type": "stream",
          "name": "stdout",
          "text": [
            "Epoch [2/2], Average Loss: 2.2829\n"
          ]
        },
        {
          "output_type": "display_data",
          "data": {
            "text/plain": [
              "<Figure size 640x480 with 1 Axes>"
            ],
            "image/png": "[encoded data removed]"
          },
          "metadata": {}
        },
        {
          "output_type": "execute_result",
          "data": {
            "text/plain": [
              "RNN(\n",
              "  (input_to_hidden): Linear(in_features=54, out_features=80, bias=True)\n",
              "  (hidden_to_hidden): Linear(in_features=80, out_features=80, bias=True)\n",
              "  (hidden_to_output): Linear(in_features=80, out_features=54, bias=True)\n",
              "  (tanh): Tanh()\n",
              "  (softmax): Softmax(dim=1)\n",
              ")"
            ]
          },
          "metadata": {},
          "execution_count": 20
        }
      ],
      "source": [
        "# to make this work, you'll need many more epochs and possibly a larger hidden layer.\n",
        "rnn2 = RNN(len(char_to_ix), 80, len(char_to_ix), chars)\n",
        "train_model(rnn2, sequences, epochs=2, learning_rate=.05, batch_size=20)"
      ]
    },
    {
      "cell_type": "code",
      "execution_count": 21,
      "metadata": {
        "id": "59NZnv6e-Aed",
        "outputId": "941c0669-f8bd-447f-ca6e-4ab888190743",
        "colab": {
          "base_uri": "https://localhost:8080/",
          "height": 332
        }
      },
      "outputs": [
        {
          "output_type": "display_data",
          "data": {
            "text/plain": [
              "                                                            0\n",
              "input                                                       t\n",
              "h_new       [0.46, -0.8, -0.25, 0.91, 0.92, 1.0, -0.95, 0....\n",
              "output      [1.71, -1.89, -3.97, -3.67, -9.95, 3.05, -9.15...\n",
              "top output                                                  h"
            ],
            "text/html": [
              "\n",
              "  <div id=\"df-18318760-c86c-4cc3-88cc-2b34b3fea307\" class=\"colab-df-container\">\n",
              "    <div>\n",
              "<style scoped>\n",
              "    .dataframe tbody tr th:only-of-type {\n",
              "        vertical-align: middle;\n",
              "    }\n",
              "\n",
              "    .dataframe tbody tr th {\n",
              "        vertical-align: top;\n",
              "    }\n",
              "\n",
              "    .dataframe thead th {\n",
              "        text-align: right;\n",
              "    }\n",
              "</style>\n",
              "<table border=\"1\" class=\"dataframe\">\n",
              "  <thead>\n",
              "    <tr style=\"text-align: right;\">\n",
              "      <th></th>\n",
              "      <th>0</th>\n",
              "    </tr>\n",
              "  </thead>\n",
              "  <tbody>\n",
              "    <tr>\n",
              "      <th>input</th>\n",
              "      <td>t</td>\n",
              "    </tr>\n",
              "    <tr>\n",
              "      <th>h_new</th>\n",
              "      <td>[0.46, -0.8, -0.25, 0.91, 0.92, 1.0, -0.95, 0....</td>\n",
              "    </tr>\n",
              "    <tr>\n",
              "      <th>output</th>\n",
              "      <td>[1.71, -1.89, -3.97, -3.67, -9.95, 3.05, -9.15...</td>\n",
              "    </tr>\n",
              "    <tr>\n",
              "      <th>top output</th>\n",
              "      <td>h</td>\n",
              "    </tr>\n",
              "  </tbody>\n",
              "</table>\n",
              "</div>\n",
              "    <div class=\"colab-df-buttons\">\n",
              "\n",
              "  <div class=\"colab-df-container\">\n",
              "    <button class=\"colab-df-convert\" onclick=\"convertToInteractive('df-18318760-c86c-4cc3-88cc-2b34b3fea307')\"\n",
              "            title=\"Convert this dataframe to an interactive table.\"\n",
              "            style=\"display:none;\">\n",
              "\n",
              "  <svg xmlns=\"http://www.w3.org/2000/svg\" height=\"24px\" viewBox=\"0 -960 960 960\">\n",
              "    <path d=\"M120-120v-720h720v720H120Zm60-500h600v-160H180v160Zm220 220h160v-160H400v160Zm0 220h160v-160H400v160ZM180-400h160v-160H180v160Zm440 0h160v-160H620v160ZM180-180h160v-160H180v160Zm440 0h160v-160H620v160Z\"/>\n",
              "  </svg>\n",
              "    </button>\n",
              "\n",
              "  <style>\n",
              "    .colab-df-container {\n",
              "      display:flex;\n",
              "      gap: 12px;\n",
              "    }\n",
              "\n",
              "    .colab-df-convert {\n",
              "      background-color: #E8F0FE;\n",
              "      border: none;\n",
              "      border-radius: 50%;\n",
              "      cursor: pointer;\n",
              "      display: none;\n",
              "      fill: #1967D2;\n",
              "      height: 32px;\n",
              "      padding: 0 0 0 0;\n",
              "      width: 32px;\n",
              "    }\n",
              "\n",
              "    .colab-df-convert:hover {\n",
              "      background-color: #E2EBFA;\n",
              "      box-shadow: 0px 1px 2px rgba(60, 64, 67, 0.3), 0px 1px 3px 1px rgba(60, 64, 67, 0.15);\n",
              "      fill: #174EA6;\n",
              "    }\n",
              "\n",
              "    .colab-df-buttons div {\n",
              "      margin-bottom: 4px;\n",
              "    }\n",
              "\n",
              "    [theme=dark] .colab-df-convert {\n",
              "      background-color: #3B4455;\n",
              "      fill: #D2E3FC;\n",
              "    }\n",
              "\n",
              "    [theme=dark] .colab-df-convert:hover {\n",
              "      background-color: #434B5C;\n",
              "      box-shadow: 0px 1px 3px 1px rgba(0, 0, 0, 0.15);\n",
              "      filter: drop-shadow(0px 1px 2px rgba(0, 0, 0, 0.3));\n",
              "      fill: #FFFFFF;\n",
              "    }\n",
              "  </style>\n",
              "\n",
              "    <script>\n",
              "      const buttonEl =\n",
              "        document.querySelector('#df-18318760-c86c-4cc3-88cc-2b34b3fea307 button.colab-df-convert');\n",
              "      buttonEl.style.display =\n",
              "        google.colab.kernel.accessAllowed ? 'block' : 'none';\n",
              "\n",
              "      async function convertToInteractive(key) {\n",
              "        const element = document.querySelector('#df-18318760-c86c-4cc3-88cc-2b34b3fea307');\n",
              "        const dataTable =\n",
              "          await google.colab.kernel.invokeFunction('convertToInteractive',\n",
              "                                                    [key], {});\n",
              "        if (!dataTable) return;\n",
              "\n",
              "        const docLinkHtml = 'Like what you see? Visit the ' +\n",
              "          '<a target=\"_blank\" href=https://colab.research.google.com/notebooks/data_table.ipynb>data table notebook</a>'\n",
              "          + ' to learn more about interactive tables.';\n",
              "        element.innerHTML = '';\n",
              "        dataTable['output_type'] = 'display_data';\n",
              "        await google.colab.output.renderOutput(dataTable, element);\n",
              "        const docLink = document.createElement('div');\n",
              "        docLink.innerHTML = docLinkHtml;\n",
              "        element.appendChild(docLink);\n",
              "      }\n",
              "    </script>\n",
              "  </div>\n",
              "\n",
              "\n",
              "<div id=\"df-caa46efa-04eb-4a35-a794-d2a8c139feb3\">\n",
              "  <button class=\"colab-df-quickchart\" onclick=\"quickchart('df-caa46efa-04eb-4a35-a794-d2a8c139feb3')\"\n",
              "            title=\"Suggest charts\"\n",
              "            style=\"display:none;\">\n",
              "\n",
              "<svg xmlns=\"http://www.w3.org/2000/svg\" height=\"24px\"viewBox=\"0 0 24 24\"\n",
              "     width=\"24px\">\n",
              "    <g>\n",
              "        <path d=\"M19 3H5c-1.1 0-2 .9-2 2v14c0 1.1.9 2 2 2h14c1.1 0 2-.9 2-2V5c0-1.1-.9-2-2-2zM9 17H7v-7h2v7zm4 0h-2V7h2v10zm4 0h-2v-4h2v4z\"/>\n",
              "    </g>\n",
              "</svg>\n",
              "  </button>\n",
              "\n",
              "<style>\n",
              "  .colab-df-quickchart {\n",
              "      --bg-color: #E8F0FE;\n",
              "      --fill-color: #1967D2;\n",
              "      --hover-bg-color: #E2EBFA;\n",
              "      --hover-fill-color: #174EA6;\n",
              "      --disabled-fill-color: #AAA;\n",
              "      --disabled-bg-color: #DDD;\n",
              "  }\n",
              "\n",
              "  [theme=dark] .colab-df-quickchart {\n",
              "      --bg-color: #3B4455;\n",
              "      --fill-color: #D2E3FC;\n",
              "      --hover-bg-color: #434B5C;\n",
              "      --hover-fill-color: #FFFFFF;\n",
              "      --disabled-bg-color: #3B4455;\n",
              "      --disabled-fill-color: #666;\n",
              "  }\n",
              "\n",
              "  .colab-df-quickchart {\n",
              "    background-color: var(--bg-color);\n",
              "    border: none;\n",
              "    border-radius: 50%;\n",
              "    cursor: pointer;\n",
              "    display: none;\n",
              "    fill: var(--fill-color);\n",
              "    height: 32px;\n",
              "    padding: 0;\n",
              "    width: 32px;\n",
              "  }\n",
              "\n",
              "  .colab-df-quickchart:hover {\n",
              "    background-color: var(--hover-bg-color);\n",
              "    box-shadow: 0 1px 2px rgba(60, 64, 67, 0.3), 0 1px 3px 1px rgba(60, 64, 67, 0.15);\n",
              "    fill: var(--button-hover-fill-color);\n",
              "  }\n",
              "\n",
              "  .colab-df-quickchart-complete:disabled,\n",
              "  .colab-df-quickchart-complete:disabled:hover {\n",
              "    background-color: var(--disabled-bg-color);\n",
              "    fill: var(--disabled-fill-color);\n",
              "    box-shadow: none;\n",
              "  }\n",
              "\n",
              "  .colab-df-spinner {\n",
              "    border: 2px solid var(--fill-color);\n",
              "    border-color: transparent;\n",
              "    border-bottom-color: var(--fill-color);\n",
              "    animation:\n",
              "      spin 1s steps(1) infinite;\n",
              "  }\n",
              "\n",
              "  @keyframes spin {\n",
              "    0% {\n",
              "      border-color: transparent;\n",
              "      border-bottom-color: var(--fill-color);\n",
              "      border-left-color: var(--fill-color);\n",
              "    }\n",
              "    20% {\n",
              "      border-color: transparent;\n",
              "      border-left-color: var(--fill-color);\n",
              "      border-top-color: var(--fill-color);\n",
              "    }\n",
              "    30% {\n",
              "      border-color: transparent;\n",
              "      border-left-color: var(--fill-color);\n",
              "      border-top-color: var(--fill-color);\n",
              "      border-right-color: var(--fill-color);\n",
              "    }\n",
              "    40% {\n",
              "      border-color: transparent;\n",
              "      border-right-color: var(--fill-color);\n",
              "      border-top-color: var(--fill-color);\n",
              "    }\n",
              "    60% {\n",
              "      border-color: transparent;\n",
              "      border-right-color: var(--fill-color);\n",
              "    }\n",
              "    80% {\n",
              "      border-color: transparent;\n",
              "      border-right-color: var(--fill-color);\n",
              "      border-bottom-color: var(--fill-color);\n",
              "    }\n",
              "    90% {\n",
              "      border-color: transparent;\n",
              "      border-bottom-color: var(--fill-color);\n",
              "    }\n",
              "  }\n",
              "</style>\n",
              "\n",
              "  <script>\n",
              "    async function quickchart(key) {\n",
              "      const quickchartButtonEl =\n",
              "        document.querySelector('#' + key + ' button');\n",
              "      quickchartButtonEl.disabled = true;  // To prevent multiple clicks.\n",
              "      quickchartButtonEl.classList.add('colab-df-spinner');\n",
              "      try {\n",
              "        const charts = await google.colab.kernel.invokeFunction(\n",
              "            'suggestCharts', [key], {});\n",
              "      } catch (error) {\n",
              "        console.error('Error during call to suggestCharts:', error);\n",
              "      }\n",
              "      quickchartButtonEl.classList.remove('colab-df-spinner');\n",
              "      quickchartButtonEl.classList.add('colab-df-quickchart-complete');\n",
              "    }\n",
              "    (() => {\n",
              "      let quickchartButtonEl =\n",
              "        document.querySelector('#df-caa46efa-04eb-4a35-a794-d2a8c139feb3 button');\n",
              "      quickchartButtonEl.style.display =\n",
              "        google.colab.kernel.accessAllowed ? 'block' : 'none';\n",
              "    })();\n",
              "  </script>\n",
              "</div>\n",
              "\n",
              "    </div>\n",
              "  </div>\n"
            ],
            "application/vnd.google.colaboratory.intrinsic+json": {
              "type": "dataframe",
              "summary": "{\n  \"name\": \"outputs, hidden = rnn2\",\n  \"rows\": 4,\n  \"fields\": [\n    {\n      \"column\": 0,\n      \"properties\": {\n        \"dtype\": \"object\",\n        \"semantic_type\": \"\",\n        \"description\": \"\"\n      }\n    }\n  ]\n}"
            }
          },
          "metadata": {}
        },
        {
          "output_type": "display_data",
          "data": {
            "text/plain": [
              "                                                            0\n",
              "input                                                       h\n",
              "h_new       [-1.0, -0.99, 1.0, 1.0, 0.98, 1.0, -1.0, 1.0, ...\n",
              "output      [0.26, -2.72, -10.89, -4.74, -16.02, 2.99, -9....\n",
              "top output                                                  e"
            ],
            "text/html": [
              "\n",
              "  <div id=\"df-8ecd9d70-cdb2-4bb9-9ce7-3e03014b8e26\" class=\"colab-df-container\">\n",
              "    <div>\n",
              "<style scoped>\n",
              "    .dataframe tbody tr th:only-of-type {\n",
              "        vertical-align: middle;\n",
              "    }\n",
              "\n",
              "    .dataframe tbody tr th {\n",
              "        vertical-align: top;\n",
              "    }\n",
              "\n",
              "    .dataframe thead th {\n",
              "        text-align: right;\n",
              "    }\n",
              "</style>\n",
              "<table border=\"1\" class=\"dataframe\">\n",
              "  <thead>\n",
              "    <tr style=\"text-align: right;\">\n",
              "      <th></th>\n",
              "      <th>0</th>\n",
              "    </tr>\n",
              "  </thead>\n",
              "  <tbody>\n",
              "    <tr>\n",
              "      <th>input</th>\n",
              "      <td>h</td>\n",
              "    </tr>\n",
              "    <tr>\n",
              "      <th>h_new</th>\n",
              "      <td>[-1.0, -0.99, 1.0, 1.0, 0.98, 1.0, -1.0, 1.0, ...</td>\n",
              "    </tr>\n",
              "    <tr>\n",
              "      <th>output</th>\n",
              "      <td>[0.26, -2.72, -10.89, -4.74, -16.02, 2.99, -9....</td>\n",
              "    </tr>\n",
              "    <tr>\n",
              "      <th>top output</th>\n",
              "      <td>e</td>\n",
              "    </tr>\n",
              "  </tbody>\n",
              "</table>\n",
              "</div>\n",
              "    <div class=\"colab-df-buttons\">\n",
              "\n",
              "  <div class=\"colab-df-container\">\n",
              "    <button class=\"colab-df-convert\" onclick=\"convertToInteractive('df-8ecd9d70-cdb2-4bb9-9ce7-3e03014b8e26')\"\n",
              "            title=\"Convert this dataframe to an interactive table.\"\n",
              "            style=\"display:none;\">\n",
              "\n",
              "  <svg xmlns=\"http://www.w3.org/2000/svg\" height=\"24px\" viewBox=\"0 -960 960 960\">\n",
              "    <path d=\"M120-120v-720h720v720H120Zm60-500h600v-160H180v160Zm220 220h160v-160H400v160Zm0 220h160v-160H400v160ZM180-400h160v-160H180v160Zm440 0h160v-160H620v160ZM180-180h160v-160H180v160Zm440 0h160v-160H620v160Z\"/>\n",
              "  </svg>\n",
              "    </button>\n",
              "\n",
              "  <style>\n",
              "    .colab-df-container {\n",
              "      display:flex;\n",
              "      gap: 12px;\n",
              "    }\n",
              "\n",
              "    .colab-df-convert {\n",
              "      background-color: #E8F0FE;\n",
              "      border: none;\n",
              "      border-radius: 50%;\n",
              "      cursor: pointer;\n",
              "      display: none;\n",
              "      fill: #1967D2;\n",
              "      height: 32px;\n",
              "      padding: 0 0 0 0;\n",
              "      width: 32px;\n",
              "    }\n",
              "\n",
              "    .colab-df-convert:hover {\n",
              "      background-color: #E2EBFA;\n",
              "      box-shadow: 0px 1px 2px rgba(60, 64, 67, 0.3), 0px 1px 3px 1px rgba(60, 64, 67, 0.15);\n",
              "      fill: #174EA6;\n",
              "    }\n",
              "\n",
              "    .colab-df-buttons div {\n",
              "      margin-bottom: 4px;\n",
              "    }\n",
              "\n",
              "    [theme=dark] .colab-df-convert {\n",
              "      background-color: #3B4455;\n",
              "      fill: #D2E3FC;\n",
              "    }\n",
              "\n",
              "    [theme=dark] .colab-df-convert:hover {\n",
              "      background-color: #434B5C;\n",
              "      box-shadow: 0px 1px 3px 1px rgba(0, 0, 0, 0.15);\n",
              "      filter: drop-shadow(0px 1px 2px rgba(0, 0, 0, 0.3));\n",
              "      fill: #FFFFFF;\n",
              "    }\n",
              "  </style>\n",
              "\n",
              "    <script>\n",
              "      const buttonEl =\n",
              "        document.querySelector('#df-8ecd9d70-cdb2-4bb9-9ce7-3e03014b8e26 button.colab-df-convert');\n",
              "      buttonEl.style.display =\n",
              "        google.colab.kernel.accessAllowed ? 'block' : 'none';\n",
              "\n",
              "      async function convertToInteractive(key) {\n",
              "        const element = document.querySelector('#df-8ecd9d70-cdb2-4bb9-9ce7-3e03014b8e26');\n",
              "        const dataTable =\n",
              "          await google.colab.kernel.invokeFunction('convertToInteractive',\n",
              "                                                    [key], {});\n",
              "        if (!dataTable) return;\n",
              "\n",
              "        const docLinkHtml = 'Like what you see? Visit the ' +\n",
              "          '<a target=\"_blank\" href=https://colab.research.google.com/notebooks/data_table.ipynb>data table notebook</a>'\n",
              "          + ' to learn more about interactive tables.';\n",
              "        element.innerHTML = '';\n",
              "        dataTable['output_type'] = 'display_data';\n",
              "        await google.colab.output.renderOutput(dataTable, element);\n",
              "        const docLink = document.createElement('div');\n",
              "        docLink.innerHTML = docLinkHtml;\n",
              "        element.appendChild(docLink);\n",
              "      }\n",
              "    </script>\n",
              "  </div>\n",
              "\n",
              "\n",
              "<div id=\"df-907a25c6-92a7-492d-9eed-19b335ccada8\">\n",
              "  <button class=\"colab-df-quickchart\" onclick=\"quickchart('df-907a25c6-92a7-492d-9eed-19b335ccada8')\"\n",
              "            title=\"Suggest charts\"\n",
              "            style=\"display:none;\">\n",
              "\n",
              "<svg xmlns=\"http://www.w3.org/2000/svg\" height=\"24px\"viewBox=\"0 0 24 24\"\n",
              "     width=\"24px\">\n",
              "    <g>\n",
              "        <path d=\"M19 3H5c-1.1 0-2 .9-2 2v14c0 1.1.9 2 2 2h14c1.1 0 2-.9 2-2V5c0-1.1-.9-2-2-2zM9 17H7v-7h2v7zm4 0h-2V7h2v10zm4 0h-2v-4h2v4z\"/>\n",
              "    </g>\n",
              "</svg>\n",
              "  </button>\n",
              "\n",
              "<style>\n",
              "  .colab-df-quickchart {\n",
              "      --bg-color: #E8F0FE;\n",
              "      --fill-color: #1967D2;\n",
              "      --hover-bg-color: #E2EBFA;\n",
              "      --hover-fill-color: #174EA6;\n",
              "      --disabled-fill-color: #AAA;\n",
              "      --disabled-bg-color: #DDD;\n",
              "  }\n",
              "\n",
              "  [theme=dark] .colab-df-quickchart {\n",
              "      --bg-color: #3B4455;\n",
              "      --fill-color: #D2E3FC;\n",
              "      --hover-bg-color: #434B5C;\n",
              "      --hover-fill-color: #FFFFFF;\n",
              "      --disabled-bg-color: #3B4455;\n",
              "      --disabled-fill-color: #666;\n",
              "  }\n",
              "\n",
              "  .colab-df-quickchart {\n",
              "    background-color: var(--bg-color);\n",
              "    border: none;\n",
              "    border-radius: 50%;\n",
              "    cursor: pointer;\n",
              "    display: none;\n",
              "    fill: var(--fill-color);\n",
              "    height: 32px;\n",
              "    padding: 0;\n",
              "    width: 32px;\n",
              "  }\n",
              "\n",
              "  .colab-df-quickchart:hover {\n",
              "    background-color: var(--hover-bg-color);\n",
              "    box-shadow: 0 1px 2px rgba(60, 64, 67, 0.3), 0 1px 3px 1px rgba(60, 64, 67, 0.15);\n",
              "    fill: var(--button-hover-fill-color);\n",
              "  }\n",
              "\n",
              "  .colab-df-quickchart-complete:disabled,\n",
              "  .colab-df-quickchart-complete:disabled:hover {\n",
              "    background-color: var(--disabled-bg-color);\n",
              "    fill: var(--disabled-fill-color);\n",
              "    box-shadow: none;\n",
              "  }\n",
              "\n",
              "  .colab-df-spinner {\n",
              "    border: 2px solid var(--fill-color);\n",
              "    border-color: transparent;\n",
              "    border-bottom-color: var(--fill-color);\n",
              "    animation:\n",
              "      spin 1s steps(1) infinite;\n",
              "  }\n",
              "\n",
              "  @keyframes spin {\n",
              "    0% {\n",
              "      border-color: transparent;\n",
              "      border-bottom-color: var(--fill-color);\n",
              "      border-left-color: var(--fill-color);\n",
              "    }\n",
              "    20% {\n",
              "      border-color: transparent;\n",
              "      border-left-color: var(--fill-color);\n",
              "      border-top-color: var(--fill-color);\n",
              "    }\n",
              "    30% {\n",
              "      border-color: transparent;\n",
              "      border-left-color: var(--fill-color);\n",
              "      border-top-color: var(--fill-color);\n",
              "      border-right-color: var(--fill-color);\n",
              "    }\n",
              "    40% {\n",
              "      border-color: transparent;\n",
              "      border-right-color: var(--fill-color);\n",
              "      border-top-color: var(--fill-color);\n",
              "    }\n",
              "    60% {\n",
              "      border-color: transparent;\n",
              "      border-right-color: var(--fill-color);\n",
              "    }\n",
              "    80% {\n",
              "      border-color: transparent;\n",
              "      border-right-color: var(--fill-color);\n",
              "      border-bottom-color: var(--fill-color);\n",
              "    }\n",
              "    90% {\n",
              "      border-color: transparent;\n",
              "      border-bottom-color: var(--fill-color);\n",
              "    }\n",
              "  }\n",
              "</style>\n",
              "\n",
              "  <script>\n",
              "    async function quickchart(key) {\n",
              "      const quickchartButtonEl =\n",
              "        document.querySelector('#' + key + ' button');\n",
              "      quickchartButtonEl.disabled = true;  // To prevent multiple clicks.\n",
              "      quickchartButtonEl.classList.add('colab-df-spinner');\n",
              "      try {\n",
              "        const charts = await google.colab.kernel.invokeFunction(\n",
              "            'suggestCharts', [key], {});\n",
              "      } catch (error) {\n",
              "        console.error('Error during call to suggestCharts:', error);\n",
              "      }\n",
              "      quickchartButtonEl.classList.remove('colab-df-spinner');\n",
              "      quickchartButtonEl.classList.add('colab-df-quickchart-complete');\n",
              "    }\n",
              "    (() => {\n",
              "      let quickchartButtonEl =\n",
              "        document.querySelector('#df-907a25c6-92a7-492d-9eed-19b335ccada8 button');\n",
              "      quickchartButtonEl.style.display =\n",
              "        google.colab.kernel.accessAllowed ? 'block' : 'none';\n",
              "    })();\n",
              "  </script>\n",
              "</div>\n",
              "\n",
              "    </div>\n",
              "  </div>\n"
            ],
            "application/vnd.google.colaboratory.intrinsic+json": {
              "type": "dataframe",
              "summary": "{\n  \"name\": \"outputs, hidden = rnn2\",\n  \"rows\": 4,\n  \"fields\": [\n    {\n      \"column\": 0,\n      \"properties\": {\n        \"dtype\": \"object\",\n        \"semantic_type\": \"\",\n        \"description\": \"\"\n      }\n    }\n  ]\n}"
            }
          },
          "metadata": {}
        }
      ],
      "source": [
        "# not very good after 2 epochs! (outputting \" \")\n",
        "rnn2.verbose=True\n",
        "outputs, hidden = rnn2.forward_unrolled(chars2vec('the', char_to_ix))"
      ]
    },
    {
      "cell_type": "markdown",
      "source": [
        "<hr size=10 color=#285C4D>\n",
        "\n",
        "## RNN Variants"
      ],
      "metadata": {
        "id": "2TuIdIxCo-LU"
      }
    },
    {
      "cell_type": "markdown",
      "source": [
        "### Multi-layer RNN"
      ],
      "metadata": {
        "id": "PIXXzoRyn_P9"
      }
    },
    {
      "cell_type": "markdown",
      "metadata": {
        "id": "F4DgpSMm-Aed"
      },
      "source": [
        "More layers and more nodes would improve results:\n",
        "\n",
        "<u>multi-layer RNN</u>: just stack multiple RNNs together:\n",
        "```\n",
        "y1 = rnn1.step(x)\n",
        "y = rnn2.step(y1)\n",
        "```\n",
        "\n",
        "![figs/rnn_stacked.png](https://github.com/tulane-cmps6730/main/blob/main/lec/sequence/figs/rnn_stacked.png?raw=1)\n",
        "\n",
        "Backpropagation can in turn be performed on both networks together.\n",
        "<br>\n",
        "\n",
        "3-layer RNN, 512 hidden nodes each, trained for a few hours:\n",
        "\n",
        "![shake](https://github.com/tulane-cmps6730/main/blob/main/lec/sequence/figs/shake.png?raw=1)"
      ]
    },
    {
      "cell_type": "markdown",
      "source": [
        "### Bidirectional RNN\n"
      ],
      "metadata": {
        "id": "N5ZFJ_26oCc8"
      }
    },
    {
      "cell_type": "markdown",
      "metadata": {
        "id": "W37DmJBL-Aee"
      },
      "source": [
        "\n",
        "How can we incorporate future tokens to help the prediction at time $t$?\n",
        "\n",
        "![figs/birnn.png](https://github.com/tulane-cmps6730/main/blob/main/lec/sequence/figs/birnn.png?raw=1)"
      ]
    },
    {
      "cell_type": "markdown",
      "source": [
        "### Backpropagation through time\n"
      ],
      "metadata": {
        "id": "IR4qofO7oEKq"
      }
    },
    {
      "cell_type": "markdown",
      "metadata": {
        "id": "aW5ZRj_C-Aee"
      },
      "source": [
        "\n",
        "- For a single sequence, we can compute back-propagation as in a standard neural net.\n",
        "- However, because each input sequence has a different length, we have neural nets with different numbers of layers.\n",
        "- To deal with this, we can collect all sequences of length $t$ and do training on them, then proceed to sequences of length $t+1$:\n",
        "\n",
        "\n",
        "Repeat:\n",
        "\n",
        "for $t=1 \\ldots T\\:\\:\\:$ ($T$=max length of any sequence):\n",
        "  - Unfold your neural network in time for $t$ time steps to create a standard feed-forward net.\n",
        "  - Perform forward and backward propagation as in a normal network.\n",
        "  - Average all the gradients at each layer, so that the weight update to the matrices is the same in each time step.\n",
        "\n"
      ]
    },
    {
      "cell_type": "markdown",
      "source": [
        "<hr size=10 color=#285C4D>\n",
        "\n",
        "## Long-range dependencies, revisited"
      ],
      "metadata": {
        "id": "Ly_vY57cpIoq"
      }
    },
    {
      "cell_type": "markdown",
      "source": [
        "### What types of dependencies are we after?"
      ],
      "metadata": {
        "id": "muy7axAMssiP"
      }
    },
    {
      "cell_type": "markdown",
      "source": [
        "\n",
        "(Adapted from [here](http://colah.github.io/posts/2015-08-Understanding-LSTMs/) and [here](https://arxiv.org/abs/1506.00019))\n",
        "\n",
        "One of the expected advantages of Recurrent Neural Networks is the ability to capture long-range dependencies.\n",
        "\n",
        "<br>\n",
        "\n",
        "For example, consider the language modeling problem. Given a sentence like:\n",
        "\n",
        "> “I grew up in <u>France</u> ... I speak fluent <u>French</u>.”\n",
        "\n",
        "A trigram language model would have\n",
        "\n",
        "$$p(\\mathrm{French} \\mid \\mathrm{speak \\: fluent}) \\approx p(\\mathrm{Spanish} \\mid \\mathrm{speak \\: fluent})$$\n",
        "\n",
        "But, given the presence of the word \"France\" earlier in the document, we should instead have that\n",
        "\n",
        "$$p(\\mathrm{French} \\mid \\mathrm{speak \\: fluent}) >> p(\\mathrm{Spanish} \\mid \\mathrm{speak \\: fluent})$$\n",
        "\n",
        "<br><br>\n",
        "It is unscalable to capture such dependencies in a traditional language model or HMM.\n",
        "\n",
        "Recall that the Viterbi algorithm takes time $O(S^2T)$, where $T$ is the length of the sequence and $S$ is the number of states.\n",
        "\n",
        "A second-order Markov model conditions on the prior 2 states:\n",
        "\n",
        "$p(q_i \\mid q_{i-2} q_{i-1})$\n",
        "\n",
        "- must consider 4 combinations of previous states (assuming binary state variables)\n",
        "\n",
        "\n",
        "A third-order Markov model conditions on the prior 3 states:\n",
        "\n",
        "$p(q_i \\mid q_{i-3} q_{i-2} q_{i-1})$\n",
        "\n",
        "- must consider 8 combinations of previous states (assuming binary state variables)\n",
        "\n",
        "- $\\rightarrow$ Viterbi complexity is exponential in the order of the model.\n",
        "- Not to mention the data sparsity issue of fitting higher order probabilities $p(q_i \\mid q_{i-3} q_{i-2} q_{i-1})$\n",
        "\n",
        "\n"
      ],
      "metadata": {
        "id": "5v_DhxiJpRPW"
      }
    },
    {
      "cell_type": "markdown",
      "source": [
        "### How do Recurrent Neural Networks encode long-range dependencies?\n"
      ],
      "metadata": {
        "id": "Y9kbfxh2sydk"
      }
    },
    {
      "cell_type": "markdown",
      "source": [
        "\n",
        "![char](https://github.com/tulane-cmps6730/main/blob/main/lec/sequence/figs/char.png?raw=1)\n",
        "\n",
        "$$\n",
        "h_t = \\mathrm{tanh}(W_{hh}h_{t-1} + W_{xh}x_t)\\\\\n",
        "y_t = W_{hy} h_t\n",
        "$$\n",
        "- input $x_t$\n",
        "- hidden $h_t$\n",
        "- output $y_t$\n",
        "\n",
        "<br><br>\n",
        "\n",
        "- Like a first-order HMM, Recurrent NNs only depend on the current input and the prior hidden state.\n",
        "- However, the hidden state at time $t$ can contain information from an arbitrarily long context window\n",
        "- How?\n",
        "  - Given a hidden layer of $n$ binary nodes, how many distinct states can it encode?\n",
        "    - $2^n$\n",
        "  - Of course, our hidden nodes are in $\\mathbf{R}$, we can represent even more states.\n",
        "  \n",
        "Thus, while the <u>expressive power</u> of the network grows exponentially with the number of hidden nodes, the complexity of <u>inference and training</u> grows at most quadratically.\n",
        "\n",
        "<br>\n",
        "\n",
        "$$\n",
        "h_t=f(W_{xh}x_t + W_{hh} h_{t-1})\n",
        "$$\n",
        "\n",
        "$$\n",
        "\\begin{bmatrix}\n",
        "h_{(t-1),1} \\ldots h_{(t-1),k}\n",
        "\\end{bmatrix}\n",
        "\\begin{bmatrix}\n",
        "W_{hh}[11] \\ldots W_{hh}[1k]\\\\\n",
        "\\ldots\\\\\n",
        "W_{hh}[k1] \\ldots W_{hh}[kk]\\\\\n",
        "\\end{bmatrix}\n",
        "$$\n",
        "\n",
        "$$\n",
        "O(k^2)\n",
        "$$\n",
        "\n",
        "![long](https://github.com/tulane-cmps6730/main/blob/main/lec/sequence/figs/long.png?raw=1)\n",
        "\n",
        "\n",
        "E.g., in the \"French\" example, if $x_1=\\mathrm{France}$, and $x_{t+1} = \\mathrm{French}$, our hope is that the hidden layer will retain information about \"France\" from $h_1$ up to $h_{t+1}$, influencing the prediction at time $t+1$.\n",
        "<br>\n"
      ],
      "metadata": {
        "id": "ck9CgTYmpU_E"
      }
    },
    {
      "cell_type": "markdown",
      "source": [
        "### Vanishing / Exploding gradients"
      ],
      "metadata": {
        "id": "9IsU81nGpnwg"
      }
    },
    {
      "cell_type": "markdown",
      "source": [
        "\n",
        "\n",
        "While the above explanation holds in theory, in practice there is an important limitation.\n",
        "\n",
        "![vanish](https://github.com/tulane-cmps6730/main/blob/main/lec/sequence/figs/vanish.png?raw=1)\n",
        "\n",
        "- Recall that the weights are duplicated (shared) across time steps\n",
        "  - e.g., $W_{hh}[i,j]$ is the transition weight from hidden node $i$ to hidden node $j$\n",
        "- If the weight along a recurrent edge is less than 1, then the contribution of input at time $t$ on the hidden layer at time $t+m$ will decrease with $m$.\n",
        "  - E.g., for three steps: $W_{hh}[i,j] * W_{hh}[i,j] * W_{hh}[i,j]$\n",
        "- Conversely, if the weight is greater than 1, the contribution will increase over time.\n",
        "\n",
        "<br>\n",
        "\n",
        "**This contribution increase/decrease varies <u>exponentially</u> with m (the time gap)!**\n",
        "  - E.g., for three steps, it's $W_{hh}[i,j]^3$\n",
        "  \n",
        "  \n",
        "<br>\n",
        "One simple hack for exploding gradients:\n",
        "\n",
        "> Clip weights to $w_{min} \\le W_{hh} \\le w_{max}$\n",
        "\n",
        "e.g., $w_{min}=-5$, $w_{max}=5$\n",
        "\n",
        "Similar to taking a smaller gradient step.\n",
        "\n",
        "<br><br>\n",
        "    \n",
        "But, doing so hampers the ability of the network to learn long-range dependencies.\n",
        "  - The size of the clip parameters affects the memory size of the network.\n",
        "  \n",
        "  \n",
        "  \n",
        "<br><br>\n",
        "\n",
        "Vanishing gradients can be more problematic...\n"
      ],
      "metadata": {
        "id": "QQ3DRLtopmiE"
      }
    },
    {
      "cell_type": "markdown",
      "source": [
        "\n",
        "**Understanding vanishing gradients**\n",
        "\n",
        "To understand this phenomenon better, let's start with a simpler version of RNNs that ignores the input\n",
        "\n",
        "$$\n",
        "h_t = \\mathrm{tanh}(W_{hh}h_{t-1})\\\\\n",
        "~~~~y_t = W_{hy} h_t\n",
        "$$\n",
        "\n",
        "We'll consider sequences of increasing length and see what happens to $h_T$ for the final timestep $T$\n",
        "\n"
      ],
      "metadata": {
        "id": "cicA-AOypr5f"
      }
    },
    {
      "cell_type": "code",
      "source": [
        "import torch\n",
        "import torch.nn as nn\n",
        "\n",
        "class RNNHidden(nn.Module):\n",
        "    def __init__(self, input_size, hidden_size, output_size, verbose=True):\n",
        "        super(RNNHidden, self).__init__()\n",
        "        self.verbose = verbose\n",
        "        self.n_hidden = hidden_size\n",
        "        # W_hh\n",
        "        self.hidden_to_hidden = nn.Linear(hidden_size, hidden_size, bias=False) # ignore bias for now\n",
        "        # W_hy\n",
        "        self.hidden_to_output = nn.Linear(hidden_size, output_size)\n",
        "        self.tanh = nn.Tanh()\n",
        "        self.softmax = nn.Softmax(dim=1)\n",
        "\n",
        "    def forward(self, x, h_prev):\n",
        "        # tanh(𝑊_hh h_t-1 + W_xh x_t)\n",
        "        # ignoring input\n",
        "        # h_new = self.tanh(self.hidden_to_hidden(h_prev) + self.input_to_hidden(x))\n",
        "        h_new = self.tanh(self.hidden_to_hidden(h_prev))\n",
        "        # y_h = softmax(W_hy h)\n",
        "        output = self.softmax(self.hidden_to_output(h_new))\n",
        "        if self.verbose: print('h_new\\n', h_new, '\\noutput\\n',output, '\\ntop output\\n', output2label(output, chars))\n",
        "        return output, h_new\n",
        "\n",
        "    def forward_unrolled(self, x_list, hidden):\n",
        "        \"\"\"\n",
        "        Given a character list, unroll the network and gather\n",
        "        predictions for each time step.\n",
        "        Allows the initial hidden state to be passed in.\n",
        "        \"\"\"\n",
        "        # hidden = torch.zeros(1, self.n_hidden)\n",
        "        outputs = []\n",
        "        hiddens = []\n",
        "        for x in x_list[:-1]: # no prediction for final step\n",
        "            output, hidden = self.forward(x, hidden)\n",
        "            outputs.append(output)\n",
        "            hiddens.append(hidden)\n",
        "        return torch.cat(outputs), hiddens\n",
        "\n",
        "def output2label(output, chars):\n",
        "    \"\"\"\n",
        "    return the letter for the most probable prediction\n",
        "    \"\"\"\n",
        "    top_n, top_i = output.topk(1)\n",
        "    return chars[top_i.item()] # , math.exp(top_n)\n",
        "\n",
        "def char2vec(char, char2int):\n",
        "    x = torch.zeros((1, len(char2int)))\n",
        "    x[0][char2int[char]] = 1\n",
        "    return x\n",
        "\n",
        "def chars2vec(chars, char2int):\n",
        "    return torch.cat([char2vec(c, char2int) for c in chars])\n",
        "\n",
        "torch.random.manual_seed(42)\n",
        "chars = ['a', 'b', 'c']\n",
        "char2int = {'a': 0, 'b': 1, 'c': 2}\n",
        "int2char = {0: 'a', 1: 'b', 2: 'c'}\n",
        "# let's use a single hidden unit\n",
        "n_hidden = 1\n",
        "rnn = RNNHidden(len(chars), n_hidden, len(chars), verbose=False)\n",
        "\n",
        "optimizer = torch.optim.Adam(rnn.parameters(), lr=.1)\n",
        "# criterion = nn.BCELoss()\n",
        "criterion = nn.CrossEntropyLoss()\n",
        "\n",
        "# create sequences of increasing size and call forward_unrolled\n",
        "hidden_vals = []\n",
        "for seq_len in range(2,20):\n",
        "    optimizer.zero_grad() # reset all the gradient information\n",
        "    # so, sequences are: a, aa, aaa, ....\n",
        "    x = chars2vec('a'*seq_len, char2int)\n",
        "    hidden = torch.ones(1, n_hidden)\n",
        "    outputs, hiddens = rnn.forward_unrolled(x, hidden)\n",
        "    # store the first dimension of the final hidden state\n",
        "    hidden_vals.append(hiddens[-1][0].item())\n",
        "    loss = criterion(outputs[-1], x[-1])\n",
        "    loss.backward()\n",
        "\n",
        "# print(rnn.hidden_to_hidden.weight.grad)\n",
        "plt.figure()\n",
        "plt.plot(hidden_vals)\n",
        "plt.xlabel('sequence length')\n",
        "plt.ylabel('value of first dimension of hidden unit\\n at final time step\\n$h_t[0]$')\n",
        "plt.show()"
      ],
      "metadata": {
        "colab": {
          "base_uri": "https://localhost:8080/",
          "height": 449
        },
        "id": "3ymppNoupv2t",
        "outputId": "d8bc02c0-7525-4be7-8762-98d799d7ca61"
      },
      "execution_count": 22,
      "outputs": [
        {
          "output_type": "display_data",
          "data": {
            "text/plain": [
              "<Figure size 640x480 with 1 Axes>"
            ],
            "image/png": "[encoded data removed]"
          },
          "metadata": {}
        }
      ]
    },
    {
      "cell_type": "markdown",
      "source": [
        "\n",
        "$$\n",
        "h_t = \\mathrm{tanh}(W_{hh}h_{t-1})\\\\\n",
        "$$\n",
        "\n",
        "if $|h|=1$ (single hidden cell), and $W_{hh} = [.76]$, then\n",
        "\n",
        "$$\n",
        "h_t = \\mathrm{tanh}(.76 * h_{t-1})\n",
        "$$\n",
        "\n",
        "What happens when we compute this for large $t$?"
      ],
      "metadata": {
        "id": "WEQ7vxatpzQm"
      }
    },
    {
      "cell_type": "code",
      "source": [
        "rnn.hidden_to_hidden.weight"
      ],
      "metadata": {
        "colab": {
          "base_uri": "https://localhost:8080/"
        },
        "id": "A49eFwMyp1bi",
        "outputId": "2b7a55ea-eccf-46d3-8329-b1e7458763bd"
      },
      "execution_count": 23,
      "outputs": [
        {
          "output_type": "execute_result",
          "data": {
            "text/plain": [
              "Parameter containing:\n",
              "tensor([[0.7645]], requires_grad=True)"
            ]
          },
          "metadata": {},
          "execution_count": 23
        }
      ]
    },
    {
      "cell_type": "code",
      "source": [
        "import math\n",
        "\n",
        "vals = []\n",
        "val = 1 # initial hidden value\n",
        "for i in range(20):\n",
        "    val = np.tanh(.7645*val)\n",
        "    vals.append(val)\n",
        "plt.figure()\n",
        "plt.plot(vals)\n",
        "plt.xlabel('iteration')\n",
        "plt.ylabel('output')\n",
        "plt.show()"
      ],
      "metadata": {
        "colab": {
          "base_uri": "https://localhost:8080/",
          "height": 449
        },
        "id": "L1_eMxotp2xi",
        "outputId": "5dc15f67-bd85-4f4c-ede0-9f3a61ff7f35"
      },
      "execution_count": 24,
      "outputs": [
        {
          "output_type": "display_data",
          "data": {
            "text/plain": [
              "<Figure size 640x480 with 1 Axes>"
            ],
            "image/png": "[encoded data removed]"
          },
          "metadata": {}
        }
      ]
    },
    {
      "cell_type": "markdown",
      "source": [
        "Consider our example:\n",
        "\n",
        "> “I grew up in <u>France</u> ... I speak fluent <u>French</u>.”\n",
        "\n",
        "Somehow we need to \"remember\" *France* until we get to *French*.\n",
        "\n",
        "But, the graph above shows there is exponential decay in the value of a hidden unit over time.\n",
        "\n",
        "So, if the hidden unit at time $1$ represents *France*, it cannot maintain that value very long.\n",
        "\n",
        "\n",
        "**vanishing gradients in back-propagation**\n",
        "\n",
        "An analogous problem exists in the backward direction.\n",
        "\n",
        "Consider how the gradient with respect to a single output affects earlier hidden units.\n",
        "\n",
        "E.g., at training time, if we predict \"Spanish\" instead of \"French\", we need to somehow updated the hidden unit produced by \"France\" many steps prior.\n",
        "\n",
        "\n",
        "![figs/bpt.png](https://github.com/tulane-cmps6730/main/blob/main/lec/sequence/figs/bpt.png?raw=1)\n",
        "\n",
        "Recall [backpropagation equation](https://github.com/tulane-cmps6730/main/blob/main/lec/classify/neural.ipynb) for simple neural network. It uses the chain rule in calculus:\n",
        "\n",
        "$$\n",
        "f(x) = g(h(x))\\\\\n",
        "f'(x) = g'(h(x)) \\cdot h'(x)\n",
        "$$\n",
        "\n",
        "$$\n",
        "y_3 = W_{hy} h_3\\\\\n",
        "h_3 = \\mathrm{tanh}(W_{hh}h_{2})\\\\\n",
        "h_2 = \\mathrm{tanh}(W_{hh}h_{1})\\\\\n",
        "$$\n",
        "\n",
        "$$\n",
        "y_3 = W_{hy} \\cdot \\mathrm{tanh}(W_{hh} \\cdot \\mathrm{tanh}(W_{hh} \\cdot h_1)))\n",
        "$$\n",
        "\n",
        "\n",
        "$$\n",
        "\\frac{\\partial y_3}{\\partial h_1} = \\frac{\\partial y_3}{\\partial h_3}\\frac{\\partial h_3}{\\partial h_2}\\frac{\\partial h_2}{\\partial h_1}\n",
        "$$\n",
        "\n",
        "- Just like in the forward pass, we end up with a chain of multiplications that can exponentially decay to 0\n",
        "\n",
        "$$\n",
        "\\begin{align}\n",
        "\\frac{\\partial y_{t+k}}{\\partial h_{t}} & = & \\frac{\\partial y_{t+k}}{\\partial h_{t+k}} \\prod_{i=0}^k \\frac{\\partial{h_i}}{\\partial{h_{i-1}}}\\\\\n",
        "& = & \\frac{\\partial y_{t+k}}{\\partial h_{t+k}} W_{hh}^k \\prod_{i=0}^k \\frac{\\partial{h_i}}{\\partial{h_{i-1}}}\n",
        "\\end{align}\n",
        "$$\n",
        "\n",
        "If $W_{hh}$ is small, then raising it to the power of $k$ will make it exponentially smaller.\n",
        "\n",
        "<br><br><br>\n",
        "So, how can we pass information in the hidden state forward/backward over long distances?\n",
        "\n",
        "<br><br><br>\n",
        "\n",
        "It would be nice if we could somehow just copy a part of the hidden state forward without requiring a multiplication.\n"
      ],
      "metadata": {
        "id": "pewcGyYZp5Zp"
      }
    },
    {
      "cell_type": "markdown",
      "source": [
        "<hr size=10 color=#285C4D>\n",
        "\n",
        "## Long short-term memory (LSTM)"
      ],
      "metadata": {
        "id": "UPi92OGFqFcY"
      }
    },
    {
      "cell_type": "markdown",
      "source": [
        "### Overview"
      ],
      "metadata": {
        "id": "k3WOcrIQs_6Q"
      }
    },
    {
      "cell_type": "markdown",
      "source": [
        "\n",
        "The idea of LSTMs is to introduce a <u>memory cell</u>:\n",
        "  - a state that stores the information from prior steps\n",
        "  - explicitly allows remembering and forgetting of prior state information\n",
        "  - by altering the transition function, we can ensure that the gradient does not explode/vanish over time.\n",
        "\n",
        "\n",
        "<br><br>\n",
        "\n",
        "Where does the name come from?\n",
        "- **Long-term memory**: The parameters of the model, which are shared across time steps, are analogous to long-term memory.\n",
        "- **Short-term memory**: The hidden layers represent short-term memory, since they can change as new input is read.\n",
        "\n",
        "\n",
        "<br><br>\n",
        "\n",
        "Consider a traditional recurrent neural network:\n",
        "\n",
        "![rnn](https://github.com/tulane-cmps6730/main/blob/main/lec/sequence/figs/rnn.png?raw=1)\n",
        "\n",
        "An LSTM makes several changes:\n",
        "![lstm](https://github.com/tulane-cmps6730/main/blob/main/lec/sequence/figs/lstm1.png?raw=1)\n",
        "\n",
        "![notation](https://github.com/tulane-cmps6730/main/blob/main/lec/sequence/figs/notation.png?raw=1)\n",
        "\n",
        "<br>\n",
        "\n"
      ],
      "metadata": {
        "id": "5bPyTA5oqAy9"
      }
    },
    {
      "cell_type": "markdown",
      "source": [
        "### Cell State ($C_t$)"
      ],
      "metadata": {
        "id": "4oJxN4UaqSGj"
      }
    },
    {
      "cell_type": "markdown",
      "source": [
        "\n",
        "The core idea of LSTM is to introduce a cell state $C_t$ (a memory cell)\n",
        "\n",
        "![cellstate](https://github.com/tulane-cmps6730/main/blob/main/lec/sequence/figs/cellstate.png?raw=1)\n",
        "\n",
        "We'll see below that the cell state $C_t$ is a simpler linear function of the prior cell state $C_{t-1}$, which is what prevents the vanishing gradient problem.\n",
        "\n",
        "There are several gates that will decide what information is included in the cell state.\n",
        "\n"
      ],
      "metadata": {
        "id": "B4a6QGkxqRH_"
      }
    },
    {
      "cell_type": "markdown",
      "source": [
        "### Input Gate\n"
      ],
      "metadata": {
        "id": "uZGCp-DJqXhp"
      }
    },
    {
      "cell_type": "markdown",
      "source": [
        "\n",
        "![input](https://github.com/tulane-cmps6730/main/blob/main/lec/sequence/figs/input.png?raw=1)\n",
        "\n",
        "Note shorthand: $W_i \\cdot[h_{t-1}, x_t] = W_{ih} h_{t-1} + W_{ix}x_t$\n",
        "\n",
        "The input gate decides what new information to add to the memory cell.  \n",
        "\n",
        "- First, a sigmoid layer called the “input gate layer” decides which values we’ll update.\n",
        "- Next, a tanh layer creates a vector of new candidate values, $\\tilde{C}_t$, that could be added to the state.\n",
        "- E.g., we can add information about \"French\" into the memory cell.\n",
        "\n",
        "\n"
      ],
      "metadata": {
        "id": "ONx9i7eoqVSL"
      }
    },
    {
      "cell_type": "markdown",
      "source": [
        "### Forget Gate\n",
        "\n",
        "\n"
      ],
      "metadata": {
        "id": "Ne4uGI97qZ-e"
      }
    },
    {
      "cell_type": "markdown",
      "source": [
        "\n",
        "![forget](https://github.com/tulane-cmps6730/main/blob/main/lec/sequence/figs/forget.png?raw=1)\n",
        "\n",
        "The forgate gate decides what old information to remove from the memory cell.\n",
        "\n",
        "The forget gate outputs a number between 0 and 1 for each number in the cell state $C_{t−1}$.\n",
        "  - 1 means keep this number\n",
        "  - 0 means forget this number\n",
        "  \n",
        "E.g., in \"French\" example, 1 means keep the information about \"France\" in the cell state, so it can be used later to predict the term \"French.\"\n",
        "\n"
      ],
      "metadata": {
        "id": "UdEcmAlgqazw"
      }
    },
    {
      "cell_type": "markdown",
      "source": [
        "### Updating the Cell State"
      ],
      "metadata": {
        "id": "gF5mQg24qrjt"
      }
    },
    {
      "cell_type": "markdown",
      "source": [
        "\n",
        "\n",
        "\n",
        "![update](https://github.com/tulane-cmps6730/main/blob/main/lec/sequence/figs/update.png?raw=1)\n",
        "\n",
        "To create the new state, we:\n",
        "- Multiply the old state by $f_t$, forgetting the things we decided to forget earlier.\n",
        "- Then we add $i_t*\\tilde{C}_t$; this is the new candidate values, scaled by how much we decided to update each state value.\n",
        "  - Note that the \"*\" notation here is the [Hadamard product](https://en.wikipedia.org/wiki/Hadamard_product_(matrices))\n",
        "  \n",
        "$$\n",
        "\\begin{bmatrix}\n",
        "1 & 2\\\\\n",
        "3 & 4\\\\\n",
        "\\end{bmatrix}\n",
        "*\n",
        "\\begin{bmatrix}\n",
        "1 & 2\\\\\n",
        "3 & 4\\\\\n",
        "\\end{bmatrix}\n",
        "=\n",
        "\\begin{bmatrix}\n",
        "1 & 4\\\\\n",
        "9 & 16\\\\\n",
        "\\end{bmatrix}\n",
        "$$"
      ],
      "metadata": {
        "id": "QtvW5eoSqpst"
      }
    },
    {
      "cell_type": "markdown",
      "source": [
        "### Output Gate"
      ],
      "metadata": {
        "id": "CjA1IysUqtdG"
      }
    },
    {
      "cell_type": "markdown",
      "source": [
        "\n",
        "![output](https://github.com/tulane-cmps6730/main/blob/main/lec/sequence/figs/output.png?raw=1)\n",
        "\n",
        "The output gate determines what portion of the memory cell is put back in the hidden state $h$\n",
        "\n",
        "- First, apply a sigmoid layer to decide which parts of the memory cell state to output.\n",
        "- Then, apply a tanh layer (to push the values to be between −1 and 1) and multiply it by the output of the sigmoid gate, so that we only output the chosen parts.\n",
        "\n",
        "<br>\n",
        "\n",
        "Note: if we just used $f_t=1$ for all $t$, we would just remember all cell states, without forgetting any information.\n",
        "- This would already address the diminishing gradient problem.\n",
        "- The forgetting allows for a sparser, more efficient model."
      ],
      "metadata": {
        "id": "R_ZVOZW3qndE"
      }
    },
    {
      "cell_type": "markdown",
      "source": [
        "### LSTM summary"
      ],
      "metadata": {
        "id": "-GQtg2W5qx8o"
      }
    },
    {
      "cell_type": "markdown",
      "source": [
        "\n",
        "\n",
        "$$\n",
        "\\begin{align}\n",
        "\\hbox{hidden state}~~~ h_t & = & o_t * \\mathrm{tanh}(C_t)\\\\\n",
        "\\hbox{memory cell}~~~ C_t & = & f_t * C_{t-1} + i_t * \\tilde{C}_t \\\\\n",
        "\\hbox{candidate additions}~~~ \\tilde{C}_t & = & \\mathrm{tanh}(W_{Ch} h_{t-1} + W_{Cx} x_t)\\\\\n",
        "\\hbox{output gate}~~~ o_t & = & \\sigma (W_{oh} h_{t-1} + W_{ox} x_t)\\\\\n",
        "\\hbox{forget gate}~~~ f_t & = & \\sigma(W_{fh} h_{t-1} + W_{fx} x_t)\\\\\n",
        "\\hbox{input gate}~~~ i_t & = & \\sigma(W_{ih} h_{t-1} + W_{ix} x_t)\n",
        "\\end{align}\n",
        "$$"
      ],
      "metadata": {
        "id": "6liKuZsNqxI3"
      }
    },
    {
      "cell_type": "markdown",
      "source": [
        "### LSTM Implementation"
      ],
      "metadata": {
        "id": "Fvu249bPq0ho"
      }
    },
    {
      "cell_type": "code",
      "source": [
        "class LSTM(nn.Module):\n",
        "    def __init__(self, input_size, hidden_size, output_size, chars, verbose=True):\n",
        "        super(LSTM, self).__init__()\n",
        "        self.verbose = verbose\n",
        "        self.n_hidden = hidden_size\n",
        "        # input gate\n",
        "        self.W_ih = nn.Linear(hidden_size, hidden_size)\n",
        "        self.W_ix = nn.Linear(input_size, hidden_size)\n",
        "        # forget gate\n",
        "        self.W_fh = nn.Linear(hidden_size, hidden_size)\n",
        "        self.W_fx = nn.Linear(input_size, hidden_size)\n",
        "        # output gate\n",
        "        self.W_oh = nn.Linear(hidden_size, hidden_size)\n",
        "        self.W_ox = nn.Linear(input_size, hidden_size)\n",
        "        # memory cell\n",
        "        self.W_ch = nn.Linear(hidden_size, hidden_size)\n",
        "        self.W_cx = nn.Linear(input_size, hidden_size)\n",
        "        # prediction\n",
        "        self.hidden_to_output = nn.Linear(hidden_size, output_size)\n",
        "        self.softmax = nn.Softmax(dim=1)\n",
        "        self.tanh = nn.Tanh()\n",
        "        self.chars = chars\n",
        "\n",
        "    def forward(self, x, h_prev, c_prev):\n",
        "        in_gate = torch.sigmoid(self.W_ih(h_prev) + self.W_ix(x))\n",
        "        forget_gate = torch.sigmoid(self.W_fh(h_prev) + self.W_fx(x))\n",
        "        output_gate = torch.sigmoid(self.W_oh(h_prev) + self.W_ox(x))\n",
        "        cell_gate = self.tanh(self.W_ch(h_prev) + self.W_cx(x))\n",
        "\n",
        "        c_new = forget_gate * c_prev + in_gate * cell_gate\n",
        "        h_new = output_gate * torch.tanh(c_new)\n",
        "        output = self.hidden_to_output(h_new)\n",
        "        # output = self.softmax(self.hidden_to_output(h_new))\n",
        "\n",
        "        if self.verbose:\n",
        "            df = pd.DataFrame([{\n",
        "                               'input:':  output2label(x, self.chars),\n",
        "                               'h_new:': pp(h_new),\n",
        "                               'c_new:': pp(c_new),\n",
        "                               'in:': pp(in_gate),\n",
        "                               'forget:': pp(forget_gate),\n",
        "                               'output_gate:': pp(output_gate),\n",
        "                               'cell:': pp(cell_gate),\n",
        "                               'output:': pp(output),\n",
        "                               'top output:':  output2label(output, self.chars)}]).transpose()\n",
        "            display(df)\n",
        "\n",
        "        return output, h_new, c_new\n",
        "\n",
        "    def forward_unrolled(self, x_list):\n",
        "        \"\"\"\n",
        "        Given a character list, unroll the network and gather\n",
        "        predictions for each time step.\n",
        "        \"\"\"\n",
        "        hidden = torch.zeros(1, self.n_hidden)\n",
        "        cell = torch.zeros(1, self.n_hidden)\n",
        "        outputs = []\n",
        "        hiddens = []\n",
        "        cells = []\n",
        "        for x in x_list[:-1]: # no prediction for final step\n",
        "            output, hidden, cell = self.forward(x, hidden, cell)\n",
        "            outputs.append(output)\n",
        "            hiddens.append(hidden)\n",
        "            cells.append(cell)\n",
        "        return torch.cat(outputs), hiddens, cells\n",
        "\n",
        "def output2label(output, chars):\n",
        "    \"\"\"\n",
        "    return the letter for the most probable prediction\n",
        "    \"\"\"\n",
        "    top_n, top_i = output.topk(1)\n",
        "    return chars[top_i.item()] # , math.exp(top_n)\n",
        "\n",
        "def outputs2label(outputs, chars):\n",
        "    return [output2label(o, chars) for o in outputs]"
      ],
      "metadata": {
        "id": "IyHOTzuUq2IF"
      },
      "execution_count": 25,
      "outputs": []
    },
    {
      "cell_type": "code",
      "source": [
        "torch.random.manual_seed(42)\n",
        "chars = ['a', 'b', 'c']\n",
        "char2int = {'a': 0, 'b': 1, 'c': 2}\n",
        "int2char = {0: 'a', 1: 'b', 2: 'c'}\n",
        "\n",
        "x = char2vec('c', char2int)\n",
        "n_hidden = 3\n",
        "lstm = LSTM(len(chars), n_hidden, len(chars), chars, verbose=True)\n",
        "output, hidden, cell = lstm.forward(x, torch.zeros(1, n_hidden),\n",
        "                                    torch.zeros(1, n_hidden))"
      ],
      "metadata": {
        "colab": {
          "base_uri": "https://localhost:8080/",
          "height": 331
        },
        "id": "P7yuh8WF6Sn_",
        "outputId": "3917c229-cdad-4d05-a806-7dd5d5168512"
      },
      "execution_count": 26,
      "outputs": [
        {
          "output_type": "display_data",
          "data": {
            "text/plain": [
              "                                  0\n",
              "input:                            c\n",
              "h_new:          [0.06, 0.03, -0.04]\n",
              "c_new:          [0.14, 0.04, -0.11]\n",
              "in:              [0.45, 0.59, 0.56]\n",
              "forget:           [0.48, 0.5, 0.69]\n",
              "output_gate:      [0.46, 0.7, 0.36]\n",
              "cell:           [0.32, 0.06, -0.19]\n",
              "output:       [-0.36, -0.54, -0.33]\n",
              "top output:                       c"
            ],
            "text/html": [
              "\n",
              "  <div id=\"df-2bf270c9-a103-4381-aae6-b06df43173f5\" class=\"colab-df-container\">\n",
              "    <div>\n",
              "<style scoped>\n",
              "    .dataframe tbody tr th:only-of-type {\n",
              "        vertical-align: middle;\n",
              "    }\n",
              "\n",
              "    .dataframe tbody tr th {\n",
              "        vertical-align: top;\n",
              "    }\n",
              "\n",
              "    .dataframe thead th {\n",
              "        text-align: right;\n",
              "    }\n",
              "</style>\n",
              "<table border=\"1\" class=\"dataframe\">\n",
              "  <thead>\n",
              "    <tr style=\"text-align: right;\">\n",
              "      <th></th>\n",
              "      <th>0</th>\n",
              "    </tr>\n",
              "  </thead>\n",
              "  <tbody>\n",
              "    <tr>\n",
              "      <th>input:</th>\n",
              "      <td>c</td>\n",
              "    </tr>\n",
              "    <tr>\n",
              "      <th>h_new:</th>\n",
              "      <td>[0.06, 0.03, -0.04]</td>\n",
              "    </tr>\n",
              "    <tr>\n",
              "      <th>c_new:</th>\n",
              "      <td>[0.14, 0.04, -0.11]</td>\n",
              "    </tr>\n",
              "    <tr>\n",
              "      <th>in:</th>\n",
              "      <td>[0.45, 0.59, 0.56]</td>\n",
              "    </tr>\n",
              "    <tr>\n",
              "      <th>forget:</th>\n",
              "      <td>[0.48, 0.5, 0.69]</td>\n",
              "    </tr>\n",
              "    <tr>\n",
              "      <th>output_gate:</th>\n",
              "      <td>[0.46, 0.7, 0.36]</td>\n",
              "    </tr>\n",
              "    <tr>\n",
              "      <th>cell:</th>\n",
              "      <td>[0.32, 0.06, -0.19]</td>\n",
              "    </tr>\n",
              "    <tr>\n",
              "      <th>output:</th>\n",
              "      <td>[-0.36, -0.54, -0.33]</td>\n",
              "    </tr>\n",
              "    <tr>\n",
              "      <th>top output:</th>\n",
              "      <td>c</td>\n",
              "    </tr>\n",
              "  </tbody>\n",
              "</table>\n",
              "</div>\n",
              "    <div class=\"colab-df-buttons\">\n",
              "\n",
              "  <div class=\"colab-df-container\">\n",
              "    <button class=\"colab-df-convert\" onclick=\"convertToInteractive('df-2bf270c9-a103-4381-aae6-b06df43173f5')\"\n",
              "            title=\"Convert this dataframe to an interactive table.\"\n",
              "            style=\"display:none;\">\n",
              "\n",
              "  <svg xmlns=\"http://www.w3.org/2000/svg\" height=\"24px\" viewBox=\"0 -960 960 960\">\n",
              "    <path d=\"M120-120v-720h720v720H120Zm60-500h600v-160H180v160Zm220 220h160v-160H400v160Zm0 220h160v-160H400v160ZM180-400h160v-160H180v160Zm440 0h160v-160H620v160ZM180-180h160v-160H180v160Zm440 0h160v-160H620v160Z\"/>\n",
              "  </svg>\n",
              "    </button>\n",
              "\n",
              "  <style>\n",
              "    .colab-df-container {\n",
              "      display:flex;\n",
              "      gap: 12px;\n",
              "    }\n",
              "\n",
              "    .colab-df-convert {\n",
              "      background-color: #E8F0FE;\n",
              "      border: none;\n",
              "      border-radius: 50%;\n",
              "      cursor: pointer;\n",
              "      display: none;\n",
              "      fill: #1967D2;\n",
              "      height: 32px;\n",
              "      padding: 0 0 0 0;\n",
              "      width: 32px;\n",
              "    }\n",
              "\n",
              "    .colab-df-convert:hover {\n",
              "      background-color: #E2EBFA;\n",
              "      box-shadow: 0px 1px 2px rgba(60, 64, 67, 0.3), 0px 1px 3px 1px rgba(60, 64, 67, 0.15);\n",
              "      fill: #174EA6;\n",
              "    }\n",
              "\n",
              "    .colab-df-buttons div {\n",
              "      margin-bottom: 4px;\n",
              "    }\n",
              "\n",
              "    [theme=dark] .colab-df-convert {\n",
              "      background-color: #3B4455;\n",
              "      fill: #D2E3FC;\n",
              "    }\n",
              "\n",
              "    [theme=dark] .colab-df-convert:hover {\n",
              "      background-color: #434B5C;\n",
              "      box-shadow: 0px 1px 3px 1px rgba(0, 0, 0, 0.15);\n",
              "      filter: drop-shadow(0px 1px 2px rgba(0, 0, 0, 0.3));\n",
              "      fill: #FFFFFF;\n",
              "    }\n",
              "  </style>\n",
              "\n",
              "    <script>\n",
              "      const buttonEl =\n",
              "        document.querySelector('#df-2bf270c9-a103-4381-aae6-b06df43173f5 button.colab-df-convert');\n",
              "      buttonEl.style.display =\n",
              "        google.colab.kernel.accessAllowed ? 'block' : 'none';\n",
              "\n",
              "      async function convertToInteractive(key) {\n",
              "        const element = document.querySelector('#df-2bf270c9-a103-4381-aae6-b06df43173f5');\n",
              "        const dataTable =\n",
              "          await google.colab.kernel.invokeFunction('convertToInteractive',\n",
              "                                                    [key], {});\n",
              "        if (!dataTable) return;\n",
              "\n",
              "        const docLinkHtml = 'Like what you see? Visit the ' +\n",
              "          '<a target=\"_blank\" href=https://colab.research.google.com/notebooks/data_table.ipynb>data table notebook</a>'\n",
              "          + ' to learn more about interactive tables.';\n",
              "        element.innerHTML = '';\n",
              "        dataTable['output_type'] = 'display_data';\n",
              "        await google.colab.output.renderOutput(dataTable, element);\n",
              "        const docLink = document.createElement('div');\n",
              "        docLink.innerHTML = docLinkHtml;\n",
              "        element.appendChild(docLink);\n",
              "      }\n",
              "    </script>\n",
              "  </div>\n",
              "\n",
              "\n",
              "<div id=\"df-efb97206-9465-4ad7-b7e1-d85191c6f2c4\">\n",
              "  <button class=\"colab-df-quickchart\" onclick=\"quickchart('df-efb97206-9465-4ad7-b7e1-d85191c6f2c4')\"\n",
              "            title=\"Suggest charts\"\n",
              "            style=\"display:none;\">\n",
              "\n",
              "<svg xmlns=\"http://www.w3.org/2000/svg\" height=\"24px\"viewBox=\"0 0 24 24\"\n",
              "     width=\"24px\">\n",
              "    <g>\n",
              "        <path d=\"M19 3H5c-1.1 0-2 .9-2 2v14c0 1.1.9 2 2 2h14c1.1 0 2-.9 2-2V5c0-1.1-.9-2-2-2zM9 17H7v-7h2v7zm4 0h-2V7h2v10zm4 0h-2v-4h2v4z\"/>\n",
              "    </g>\n",
              "</svg>\n",
              "  </button>\n",
              "\n",
              "<style>\n",
              "  .colab-df-quickchart {\n",
              "      --bg-color: #E8F0FE;\n",
              "      --fill-color: #1967D2;\n",
              "      --hover-bg-color: #E2EBFA;\n",
              "      --hover-fill-color: #174EA6;\n",
              "      --disabled-fill-color: #AAA;\n",
              "      --disabled-bg-color: #DDD;\n",
              "  }\n",
              "\n",
              "  [theme=dark] .colab-df-quickchart {\n",
              "      --bg-color: #3B4455;\n",
              "      --fill-color: #D2E3FC;\n",
              "      --hover-bg-color: #434B5C;\n",
              "      --hover-fill-color: #FFFFFF;\n",
              "      --disabled-bg-color: #3B4455;\n",
              "      --disabled-fill-color: #666;\n",
              "  }\n",
              "\n",
              "  .colab-df-quickchart {\n",
              "    background-color: var(--bg-color);\n",
              "    border: none;\n",
              "    border-radius: 50%;\n",
              "    cursor: pointer;\n",
              "    display: none;\n",
              "    fill: var(--fill-color);\n",
              "    height: 32px;\n",
              "    padding: 0;\n",
              "    width: 32px;\n",
              "  }\n",
              "\n",
              "  .colab-df-quickchart:hover {\n",
              "    background-color: var(--hover-bg-color);\n",
              "    box-shadow: 0 1px 2px rgba(60, 64, 67, 0.3), 0 1px 3px 1px rgba(60, 64, 67, 0.15);\n",
              "    fill: var(--button-hover-fill-color);\n",
              "  }\n",
              "\n",
              "  .colab-df-quickchart-complete:disabled,\n",
              "  .colab-df-quickchart-complete:disabled:hover {\n",
              "    background-color: var(--disabled-bg-color);\n",
              "    fill: var(--disabled-fill-color);\n",
              "    box-shadow: none;\n",
              "  }\n",
              "\n",
              "  .colab-df-spinner {\n",
              "    border: 2px solid var(--fill-color);\n",
              "    border-color: transparent;\n",
              "    border-bottom-color: var(--fill-color);\n",
              "    animation:\n",
              "      spin 1s steps(1) infinite;\n",
              "  }\n",
              "\n",
              "  @keyframes spin {\n",
              "    0% {\n",
              "      border-color: transparent;\n",
              "      border-bottom-color: var(--fill-color);\n",
              "      border-left-color: var(--fill-color);\n",
              "    }\n",
              "    20% {\n",
              "      border-color: transparent;\n",
              "      border-left-color: var(--fill-color);\n",
              "      border-top-color: var(--fill-color);\n",
              "    }\n",
              "    30% {\n",
              "      border-color: transparent;\n",
              "      border-left-color: var(--fill-color);\n",
              "      border-top-color: var(--fill-color);\n",
              "      border-right-color: var(--fill-color);\n",
              "    }\n",
              "    40% {\n",
              "      border-color: transparent;\n",
              "      border-right-color: var(--fill-color);\n",
              "      border-top-color: var(--fill-color);\n",
              "    }\n",
              "    60% {\n",
              "      border-color: transparent;\n",
              "      border-right-color: var(--fill-color);\n",
              "    }\n",
              "    80% {\n",
              "      border-color: transparent;\n",
              "      border-right-color: var(--fill-color);\n",
              "      border-bottom-color: var(--fill-color);\n",
              "    }\n",
              "    90% {\n",
              "      border-color: transparent;\n",
              "      border-bottom-color: var(--fill-color);\n",
              "    }\n",
              "  }\n",
              "</style>\n",
              "\n",
              "  <script>\n",
              "    async function quickchart(key) {\n",
              "      const quickchartButtonEl =\n",
              "        document.querySelector('#' + key + ' button');\n",
              "      quickchartButtonEl.disabled = true;  // To prevent multiple clicks.\n",
              "      quickchartButtonEl.classList.add('colab-df-spinner');\n",
              "      try {\n",
              "        const charts = await google.colab.kernel.invokeFunction(\n",
              "            'suggestCharts', [key], {});\n",
              "      } catch (error) {\n",
              "        console.error('Error during call to suggestCharts:', error);\n",
              "      }\n",
              "      quickchartButtonEl.classList.remove('colab-df-spinner');\n",
              "      quickchartButtonEl.classList.add('colab-df-quickchart-complete');\n",
              "    }\n",
              "    (() => {\n",
              "      let quickchartButtonEl =\n",
              "        document.querySelector('#df-efb97206-9465-4ad7-b7e1-d85191c6f2c4 button');\n",
              "      quickchartButtonEl.style.display =\n",
              "        google.colab.kernel.accessAllowed ? 'block' : 'none';\n",
              "    })();\n",
              "  </script>\n",
              "</div>\n",
              "\n",
              "    </div>\n",
              "  </div>\n"
            ],
            "application/vnd.google.colaboratory.intrinsic+json": {
              "type": "dataframe",
              "summary": "{\n  \"name\": \"                                    torch\",\n  \"rows\": 9,\n  \"fields\": [\n    {\n      \"column\": 0,\n      \"properties\": {\n        \"dtype\": \"object\",\n        \"semantic_type\": \"\",\n        \"description\": \"\"\n      }\n    }\n  ]\n}"
            }
          },
          "metadata": {}
        }
      ]
    },
    {
      "cell_type": "code",
      "source": [
        "\n",
        "data = [\n",
        "    chars2vec('abcabcabc', char2int),\n",
        "    chars2vec('bcabcabca', char2int),\n",
        "    chars2vec('cabcabcab', char2int)\n",
        "]  * 50\n",
        "\n",
        "lstm = train_model(lstm, data, epochs=2, learning_rate=.1, batch_size=10)"
      ],
      "metadata": {
        "colab": {
          "base_uri": "https://localhost:8080/",
          "height": 573
        },
        "collapsed": true,
        "id": "nkwGwyfTq9ia",
        "outputId": "9e422861-8517-429a-8dd4-cb4f490efa91"
      },
      "execution_count": 27,
      "outputs": [
        {
          "output_type": "stream",
          "name": "stdout",
          "text": [
            "epoch=0\n"
          ]
        },
        {
          "output_type": "stream",
          "name": "stderr",
          "text": [
            "Epoch 1/2: 100%|██████████| 150/150 [00:01<00:00, 105.91sample/s, Batch=15, Loss=0.18]\n"
          ]
        },
        {
          "output_type": "stream",
          "name": "stdout",
          "text": [
            "Epoch [1/2], Average Loss: 0.6495\n",
            "epoch=1\n"
          ]
        },
        {
          "output_type": "stream",
          "name": "stderr",
          "text": [
            "Epoch 2/2: 100%|██████████| 150/150 [00:01<00:00, 118.16sample/s, Batch=15, Loss=0.00412]\n"
          ]
        },
        {
          "output_type": "stream",
          "name": "stdout",
          "text": [
            "Epoch [2/2], Average Loss: 0.0347\n"
          ]
        },
        {
          "output_type": "display_data",
          "data": {
            "text/plain": [
              "<Figure size 640x480 with 1 Axes>"
            ],
            "image/png": "[encoded data removed]"
          },
          "metadata": {}
        }
      ]
    },
    {
      "cell_type": "code",
      "source": [
        "lstm.verbose=True\n",
        "x = chars2vec('abc', char2int)\n",
        "outputs, _, _ = lstm.forward_unrolled(x)"
      ],
      "metadata": {
        "colab": {
          "base_uri": "https://localhost:8080/",
          "height": 646
        },
        "collapsed": true,
        "id": "y8QTF9bPq_oc",
        "outputId": "f9a8fe4b-fda1-4556-9f21-551f11f263f0"
      },
      "execution_count": 28,
      "outputs": [
        {
          "output_type": "display_data",
          "data": {
            "text/plain": [
              "                                 0\n",
              "input:                           a\n",
              "h_new:        [-0.68, -0.74, 0.73]\n",
              "c_new:        [-0.85, -0.95, 0.95]\n",
              "in:             [0.98, 0.99, 0.98]\n",
              "forget:         [0.02, 0.05, 0.09]\n",
              "output_gate:     [0.99, 1.0, 0.99]\n",
              "cell:         [-0.87, -0.95, 0.96]\n",
              "output:        [-3.32, 4.2, -0.52]\n",
              "top output:                      b"
            ],
            "text/html": [
              "\n",
              "  <div id=\"df-7febe826-3655-44f6-9c6f-98d3475d13f5\" class=\"colab-df-container\">\n",
              "    <div>\n",
              "<style scoped>\n",
              "    .dataframe tbody tr th:only-of-type {\n",
              "        vertical-align: middle;\n",
              "    }\n",
              "\n",
              "    .dataframe tbody tr th {\n",
              "        vertical-align: top;\n",
              "    }\n",
              "\n",
              "    .dataframe thead th {\n",
              "        text-align: right;\n",
              "    }\n",
              "</style>\n",
              "<table border=\"1\" class=\"dataframe\">\n",
              "  <thead>\n",
              "    <tr style=\"text-align: right;\">\n",
              "      <th></th>\n",
              "      <th>0</th>\n",
              "    </tr>\n",
              "  </thead>\n",
              "  <tbody>\n",
              "    <tr>\n",
              "      <th>input:</th>\n",
              "      <td>a</td>\n",
              "    </tr>\n",
              "    <tr>\n",
              "      <th>h_new:</th>\n",
              "      <td>[-0.68, -0.74, 0.73]</td>\n",
              "    </tr>\n",
              "    <tr>\n",
              "      <th>c_new:</th>\n",
              "      <td>[-0.85, -0.95, 0.95]</td>\n",
              "    </tr>\n",
              "    <tr>\n",
              "      <th>in:</th>\n",
              "      <td>[0.98, 0.99, 0.98]</td>\n",
              "    </tr>\n",
              "    <tr>\n",
              "      <th>forget:</th>\n",
              "      <td>[0.02, 0.05, 0.09]</td>\n",
              "    </tr>\n",
              "    <tr>\n",
              "      <th>output_gate:</th>\n",
              "      <td>[0.99, 1.0, 0.99]</td>\n",
              "    </tr>\n",
              "    <tr>\n",
              "      <th>cell:</th>\n",
              "      <td>[-0.87, -0.95, 0.96]</td>\n",
              "    </tr>\n",
              "    <tr>\n",
              "      <th>output:</th>\n",
              "      <td>[-3.32, 4.2, -0.52]</td>\n",
              "    </tr>\n",
              "    <tr>\n",
              "      <th>top output:</th>\n",
              "      <td>b</td>\n",
              "    </tr>\n",
              "  </tbody>\n",
              "</table>\n",
              "</div>\n",
              "    <div class=\"colab-df-buttons\">\n",
              "\n",
              "  <div class=\"colab-df-container\">\n",
              "    <button class=\"colab-df-convert\" onclick=\"convertToInteractive('df-7febe826-3655-44f6-9c6f-98d3475d13f5')\"\n",
              "            title=\"Convert this dataframe to an interactive table.\"\n",
              "            style=\"display:none;\">\n",
              "\n",
              "  <svg xmlns=\"http://www.w3.org/2000/svg\" height=\"24px\" viewBox=\"0 -960 960 960\">\n",
              "    <path d=\"M120-120v-720h720v720H120Zm60-500h600v-160H180v160Zm220 220h160v-160H400v160Zm0 220h160v-160H400v160ZM180-400h160v-160H180v160Zm440 0h160v-160H620v160ZM180-180h160v-160H180v160Zm440 0h160v-160H620v160Z\"/>\n",
              "  </svg>\n",
              "    </button>\n",
              "\n",
              "  <style>\n",
              "    .colab-df-container {\n",
              "      display:flex;\n",
              "      gap: 12px;\n",
              "    }\n",
              "\n",
              "    .colab-df-convert {\n",
              "      background-color: #E8F0FE;\n",
              "      border: none;\n",
              "      border-radius: 50%;\n",
              "      cursor: pointer;\n",
              "      display: none;\n",
              "      fill: #1967D2;\n",
              "      height: 32px;\n",
              "      padding: 0 0 0 0;\n",
              "      width: 32px;\n",
              "    }\n",
              "\n",
              "    .colab-df-convert:hover {\n",
              "      background-color: #E2EBFA;\n",
              "      box-shadow: 0px 1px 2px rgba(60, 64, 67, 0.3), 0px 1px 3px 1px rgba(60, 64, 67, 0.15);\n",
              "      fill: #174EA6;\n",
              "    }\n",
              "\n",
              "    .colab-df-buttons div {\n",
              "      margin-bottom: 4px;\n",
              "    }\n",
              "\n",
              "    [theme=dark] .colab-df-convert {\n",
              "      background-color: #3B4455;\n",
              "      fill: #D2E3FC;\n",
              "    }\n",
              "\n",
              "    [theme=dark] .colab-df-convert:hover {\n",
              "      background-color: #434B5C;\n",
              "      box-shadow: 0px 1px 3px 1px rgba(0, 0, 0, 0.15);\n",
              "      filter: drop-shadow(0px 1px 2px rgba(0, 0, 0, 0.3));\n",
              "      fill: #FFFFFF;\n",
              "    }\n",
              "  </style>\n",
              "\n",
              "    <script>\n",
              "      const buttonEl =\n",
              "        document.querySelector('#df-7febe826-3655-44f6-9c6f-98d3475d13f5 button.colab-df-convert');\n",
              "      buttonEl.style.display =\n",
              "        google.colab.kernel.accessAllowed ? 'block' : 'none';\n",
              "\n",
              "      async function convertToInteractive(key) {\n",
              "        const element = document.querySelector('#df-7febe826-3655-44f6-9c6f-98d3475d13f5');\n",
              "        const dataTable =\n",
              "          await google.colab.kernel.invokeFunction('convertToInteractive',\n",
              "                                                    [key], {});\n",
              "        if (!dataTable) return;\n",
              "\n",
              "        const docLinkHtml = 'Like what you see? Visit the ' +\n",
              "          '<a target=\"_blank\" href=https://colab.research.google.com/notebooks/data_table.ipynb>data table notebook</a>'\n",
              "          + ' to learn more about interactive tables.';\n",
              "        element.innerHTML = '';\n",
              "        dataTable['output_type'] = 'display_data';\n",
              "        await google.colab.output.renderOutput(dataTable, element);\n",
              "        const docLink = document.createElement('div');\n",
              "        docLink.innerHTML = docLinkHtml;\n",
              "        element.appendChild(docLink);\n",
              "      }\n",
              "    </script>\n",
              "  </div>\n",
              "\n",
              "\n",
              "<div id=\"df-94237df4-783a-4f8b-ad05-86cc93ea7271\">\n",
              "  <button class=\"colab-df-quickchart\" onclick=\"quickchart('df-94237df4-783a-4f8b-ad05-86cc93ea7271')\"\n",
              "            title=\"Suggest charts\"\n",
              "            style=\"display:none;\">\n",
              "\n",
              "<svg xmlns=\"http://www.w3.org/2000/svg\" height=\"24px\"viewBox=\"0 0 24 24\"\n",
              "     width=\"24px\">\n",
              "    <g>\n",
              "        <path d=\"M19 3H5c-1.1 0-2 .9-2 2v14c0 1.1.9 2 2 2h14c1.1 0 2-.9 2-2V5c0-1.1-.9-2-2-2zM9 17H7v-7h2v7zm4 0h-2V7h2v10zm4 0h-2v-4h2v4z\"/>\n",
              "    </g>\n",
              "</svg>\n",
              "  </button>\n",
              "\n",
              "<style>\n",
              "  .colab-df-quickchart {\n",
              "      --bg-color: #E8F0FE;\n",
              "      --fill-color: #1967D2;\n",
              "      --hover-bg-color: #E2EBFA;\n",
              "      --hover-fill-color: #174EA6;\n",
              "      --disabled-fill-color: #AAA;\n",
              "      --disabled-bg-color: #DDD;\n",
              "  }\n",
              "\n",
              "  [theme=dark] .colab-df-quickchart {\n",
              "      --bg-color: #3B4455;\n",
              "      --fill-color: #D2E3FC;\n",
              "      --hover-bg-color: #434B5C;\n",
              "      --hover-fill-color: #FFFFFF;\n",
              "      --disabled-bg-color: #3B4455;\n",
              "      --disabled-fill-color: #666;\n",
              "  }\n",
              "\n",
              "  .colab-df-quickchart {\n",
              "    background-color: var(--bg-color);\n",
              "    border: none;\n",
              "    border-radius: 50%;\n",
              "    cursor: pointer;\n",
              "    display: none;\n",
              "    fill: var(--fill-color);\n",
              "    height: 32px;\n",
              "    padding: 0;\n",
              "    width: 32px;\n",
              "  }\n",
              "\n",
              "  .colab-df-quickchart:hover {\n",
              "    background-color: var(--hover-bg-color);\n",
              "    box-shadow: 0 1px 2px rgba(60, 64, 67, 0.3), 0 1px 3px 1px rgba(60, 64, 67, 0.15);\n",
              "    fill: var(--button-hover-fill-color);\n",
              "  }\n",
              "\n",
              "  .colab-df-quickchart-complete:disabled,\n",
              "  .colab-df-quickchart-complete:disabled:hover {\n",
              "    background-color: var(--disabled-bg-color);\n",
              "    fill: var(--disabled-fill-color);\n",
              "    box-shadow: none;\n",
              "  }\n",
              "\n",
              "  .colab-df-spinner {\n",
              "    border: 2px solid var(--fill-color);\n",
              "    border-color: transparent;\n",
              "    border-bottom-color: var(--fill-color);\n",
              "    animation:\n",
              "      spin 1s steps(1) infinite;\n",
              "  }\n",
              "\n",
              "  @keyframes spin {\n",
              "    0% {\n",
              "      border-color: transparent;\n",
              "      border-bottom-color: var(--fill-color);\n",
              "      border-left-color: var(--fill-color);\n",
              "    }\n",
              "    20% {\n",
              "      border-color: transparent;\n",
              "      border-left-color: var(--fill-color);\n",
              "      border-top-color: var(--fill-color);\n",
              "    }\n",
              "    30% {\n",
              "      border-color: transparent;\n",
              "      border-left-color: var(--fill-color);\n",
              "      border-top-color: var(--fill-color);\n",
              "      border-right-color: var(--fill-color);\n",
              "    }\n",
              "    40% {\n",
              "      border-color: transparent;\n",
              "      border-right-color: var(--fill-color);\n",
              "      border-top-color: var(--fill-color);\n",
              "    }\n",
              "    60% {\n",
              "      border-color: transparent;\n",
              "      border-right-color: var(--fill-color);\n",
              "    }\n",
              "    80% {\n",
              "      border-color: transparent;\n",
              "      border-right-color: var(--fill-color);\n",
              "      border-bottom-color: var(--fill-color);\n",
              "    }\n",
              "    90% {\n",
              "      border-color: transparent;\n",
              "      border-bottom-color: var(--fill-color);\n",
              "    }\n",
              "  }\n",
              "</style>\n",
              "\n",
              "  <script>\n",
              "    async function quickchart(key) {\n",
              "      const quickchartButtonEl =\n",
              "        document.querySelector('#' + key + ' button');\n",
              "      quickchartButtonEl.disabled = true;  // To prevent multiple clicks.\n",
              "      quickchartButtonEl.classList.add('colab-df-spinner');\n",
              "      try {\n",
              "        const charts = await google.colab.kernel.invokeFunction(\n",
              "            'suggestCharts', [key], {});\n",
              "      } catch (error) {\n",
              "        console.error('Error during call to suggestCharts:', error);\n",
              "      }\n",
              "      quickchartButtonEl.classList.remove('colab-df-spinner');\n",
              "      quickchartButtonEl.classList.add('colab-df-quickchart-complete');\n",
              "    }\n",
              "    (() => {\n",
              "      let quickchartButtonEl =\n",
              "        document.querySelector('#df-94237df4-783a-4f8b-ad05-86cc93ea7271 button');\n",
              "      quickchartButtonEl.style.display =\n",
              "        google.colab.kernel.accessAllowed ? 'block' : 'none';\n",
              "    })();\n",
              "  </script>\n",
              "</div>\n",
              "\n",
              "    </div>\n",
              "  </div>\n"
            ],
            "application/vnd.google.colaboratory.intrinsic+json": {
              "type": "dataframe",
              "summary": "{\n  \"name\": \"outputs, _, _ = lstm\",\n  \"rows\": 9,\n  \"fields\": [\n    {\n      \"column\": 0,\n      \"properties\": {\n        \"dtype\": \"object\",\n        \"semantic_type\": \"\",\n        \"description\": \"\"\n      }\n    }\n  ]\n}"
            }
          },
          "metadata": {}
        },
        {
          "output_type": "display_data",
          "data": {
            "text/plain": [
              "                                 0\n",
              "input:                           b\n",
              "h_new:        [0.64, -0.96, -0.76]\n",
              "c_new:         [0.98, -1.91, -1.0]\n",
              "in:              [0.99, 0.99, 1.0]\n",
              "forget:          [0.02, 0.98, 0.0]\n",
              "output_gate:      [0.85, 1.0, 1.0]\n",
              "cell:           [1.0, -0.99, -1.0]\n",
              "output:       [-1.79, -1.82, 4.71]\n",
              "top output:                      c"
            ],
            "text/html": [
              "\n",
              "  <div id=\"df-a6f67103-abcd-482b-8bc1-7dc58be07263\" class=\"colab-df-container\">\n",
              "    <div>\n",
              "<style scoped>\n",
              "    .dataframe tbody tr th:only-of-type {\n",
              "        vertical-align: middle;\n",
              "    }\n",
              "\n",
              "    .dataframe tbody tr th {\n",
              "        vertical-align: top;\n",
              "    }\n",
              "\n",
              "    .dataframe thead th {\n",
              "        text-align: right;\n",
              "    }\n",
              "</style>\n",
              "<table border=\"1\" class=\"dataframe\">\n",
              "  <thead>\n",
              "    <tr style=\"text-align: right;\">\n",
              "      <th></th>\n",
              "      <th>0</th>\n",
              "    </tr>\n",
              "  </thead>\n",
              "  <tbody>\n",
              "    <tr>\n",
              "      <th>input:</th>\n",
              "      <td>b</td>\n",
              "    </tr>\n",
              "    <tr>\n",
              "      <th>h_new:</th>\n",
              "      <td>[0.64, -0.96, -0.76]</td>\n",
              "    </tr>\n",
              "    <tr>\n",
              "      <th>c_new:</th>\n",
              "      <td>[0.98, -1.91, -1.0]</td>\n",
              "    </tr>\n",
              "    <tr>\n",
              "      <th>in:</th>\n",
              "      <td>[0.99, 0.99, 1.0]</td>\n",
              "    </tr>\n",
              "    <tr>\n",
              "      <th>forget:</th>\n",
              "      <td>[0.02, 0.98, 0.0]</td>\n",
              "    </tr>\n",
              "    <tr>\n",
              "      <th>output_gate:</th>\n",
              "      <td>[0.85, 1.0, 1.0]</td>\n",
              "    </tr>\n",
              "    <tr>\n",
              "      <th>cell:</th>\n",
              "      <td>[1.0, -0.99, -1.0]</td>\n",
              "    </tr>\n",
              "    <tr>\n",
              "      <th>output:</th>\n",
              "      <td>[-1.79, -1.82, 4.71]</td>\n",
              "    </tr>\n",
              "    <tr>\n",
              "      <th>top output:</th>\n",
              "      <td>c</td>\n",
              "    </tr>\n",
              "  </tbody>\n",
              "</table>\n",
              "</div>\n",
              "    <div class=\"colab-df-buttons\">\n",
              "\n",
              "  <div class=\"colab-df-container\">\n",
              "    <button class=\"colab-df-convert\" onclick=\"convertToInteractive('df-a6f67103-abcd-482b-8bc1-7dc58be07263')\"\n",
              "            title=\"Convert this dataframe to an interactive table.\"\n",
              "            style=\"display:none;\">\n",
              "\n",
              "  <svg xmlns=\"http://www.w3.org/2000/svg\" height=\"24px\" viewBox=\"0 -960 960 960\">\n",
              "    <path d=\"M120-120v-720h720v720H120Zm60-500h600v-160H180v160Zm220 220h160v-160H400v160Zm0 220h160v-160H400v160ZM180-400h160v-160H180v160Zm440 0h160v-160H620v160ZM180-180h160v-160H180v160Zm440 0h160v-160H620v160Z\"/>\n",
              "  </svg>\n",
              "    </button>\n",
              "\n",
              "  <style>\n",
              "    .colab-df-container {\n",
              "      display:flex;\n",
              "      gap: 12px;\n",
              "    }\n",
              "\n",
              "    .colab-df-convert {\n",
              "      background-color: #E8F0FE;\n",
              "      border: none;\n",
              "      border-radius: 50%;\n",
              "      cursor: pointer;\n",
              "      display: none;\n",
              "      fill: #1967D2;\n",
              "      height: 32px;\n",
              "      padding: 0 0 0 0;\n",
              "      width: 32px;\n",
              "    }\n",
              "\n",
              "    .colab-df-convert:hover {\n",
              "      background-color: #E2EBFA;\n",
              "      box-shadow: 0px 1px 2px rgba(60, 64, 67, 0.3), 0px 1px 3px 1px rgba(60, 64, 67, 0.15);\n",
              "      fill: #174EA6;\n",
              "    }\n",
              "\n",
              "    .colab-df-buttons div {\n",
              "      margin-bottom: 4px;\n",
              "    }\n",
              "\n",
              "    [theme=dark] .colab-df-convert {\n",
              "      background-color: #3B4455;\n",
              "      fill: #D2E3FC;\n",
              "    }\n",
              "\n",
              "    [theme=dark] .colab-df-convert:hover {\n",
              "      background-color: #434B5C;\n",
              "      box-shadow: 0px 1px 3px 1px rgba(0, 0, 0, 0.15);\n",
              "      filter: drop-shadow(0px 1px 2px rgba(0, 0, 0, 0.3));\n",
              "      fill: #FFFFFF;\n",
              "    }\n",
              "  </style>\n",
              "\n",
              "    <script>\n",
              "      const buttonEl =\n",
              "        document.querySelector('#df-a6f67103-abcd-482b-8bc1-7dc58be07263 button.colab-df-convert');\n",
              "      buttonEl.style.display =\n",
              "        google.colab.kernel.accessAllowed ? 'block' : 'none';\n",
              "\n",
              "      async function convertToInteractive(key) {\n",
              "        const element = document.querySelector('#df-a6f67103-abcd-482b-8bc1-7dc58be07263');\n",
              "        const dataTable =\n",
              "          await google.colab.kernel.invokeFunction('convertToInteractive',\n",
              "                                                    [key], {});\n",
              "        if (!dataTable) return;\n",
              "\n",
              "        const docLinkHtml = 'Like what you see? Visit the ' +\n",
              "          '<a target=\"_blank\" href=https://colab.research.google.com/notebooks/data_table.ipynb>data table notebook</a>'\n",
              "          + ' to learn more about interactive tables.';\n",
              "        element.innerHTML = '';\n",
              "        dataTable['output_type'] = 'display_data';\n",
              "        await google.colab.output.renderOutput(dataTable, element);\n",
              "        const docLink = document.createElement('div');\n",
              "        docLink.innerHTML = docLinkHtml;\n",
              "        element.appendChild(docLink);\n",
              "      }\n",
              "    </script>\n",
              "  </div>\n",
              "\n",
              "\n",
              "<div id=\"df-a2f5a8ee-d9d8-44d3-a649-101f4d121a30\">\n",
              "  <button class=\"colab-df-quickchart\" onclick=\"quickchart('df-a2f5a8ee-d9d8-44d3-a649-101f4d121a30')\"\n",
              "            title=\"Suggest charts\"\n",
              "            style=\"display:none;\">\n",
              "\n",
              "<svg xmlns=\"http://www.w3.org/2000/svg\" height=\"24px\"viewBox=\"0 0 24 24\"\n",
              "     width=\"24px\">\n",
              "    <g>\n",
              "        <path d=\"M19 3H5c-1.1 0-2 .9-2 2v14c0 1.1.9 2 2 2h14c1.1 0 2-.9 2-2V5c0-1.1-.9-2-2-2zM9 17H7v-7h2v7zm4 0h-2V7h2v10zm4 0h-2v-4h2v4z\"/>\n",
              "    </g>\n",
              "</svg>\n",
              "  </button>\n",
              "\n",
              "<style>\n",
              "  .colab-df-quickchart {\n",
              "      --bg-color: #E8F0FE;\n",
              "      --fill-color: #1967D2;\n",
              "      --hover-bg-color: #E2EBFA;\n",
              "      --hover-fill-color: #174EA6;\n",
              "      --disabled-fill-color: #AAA;\n",
              "      --disabled-bg-color: #DDD;\n",
              "  }\n",
              "\n",
              "  [theme=dark] .colab-df-quickchart {\n",
              "      --bg-color: #3B4455;\n",
              "      --fill-color: #D2E3FC;\n",
              "      --hover-bg-color: #434B5C;\n",
              "      --hover-fill-color: #FFFFFF;\n",
              "      --disabled-bg-color: #3B4455;\n",
              "      --disabled-fill-color: #666;\n",
              "  }\n",
              "\n",
              "  .colab-df-quickchart {\n",
              "    background-color: var(--bg-color);\n",
              "    border: none;\n",
              "    border-radius: 50%;\n",
              "    cursor: pointer;\n",
              "    display: none;\n",
              "    fill: var(--fill-color);\n",
              "    height: 32px;\n",
              "    padding: 0;\n",
              "    width: 32px;\n",
              "  }\n",
              "\n",
              "  .colab-df-quickchart:hover {\n",
              "    background-color: var(--hover-bg-color);\n",
              "    box-shadow: 0 1px 2px rgba(60, 64, 67, 0.3), 0 1px 3px 1px rgba(60, 64, 67, 0.15);\n",
              "    fill: var(--button-hover-fill-color);\n",
              "  }\n",
              "\n",
              "  .colab-df-quickchart-complete:disabled,\n",
              "  .colab-df-quickchart-complete:disabled:hover {\n",
              "    background-color: var(--disabled-bg-color);\n",
              "    fill: var(--disabled-fill-color);\n",
              "    box-shadow: none;\n",
              "  }\n",
              "\n",
              "  .colab-df-spinner {\n",
              "    border: 2px solid var(--fill-color);\n",
              "    border-color: transparent;\n",
              "    border-bottom-color: var(--fill-color);\n",
              "    animation:\n",
              "      spin 1s steps(1) infinite;\n",
              "  }\n",
              "\n",
              "  @keyframes spin {\n",
              "    0% {\n",
              "      border-color: transparent;\n",
              "      border-bottom-color: var(--fill-color);\n",
              "      border-left-color: var(--fill-color);\n",
              "    }\n",
              "    20% {\n",
              "      border-color: transparent;\n",
              "      border-left-color: var(--fill-color);\n",
              "      border-top-color: var(--fill-color);\n",
              "    }\n",
              "    30% {\n",
              "      border-color: transparent;\n",
              "      border-left-color: var(--fill-color);\n",
              "      border-top-color: var(--fill-color);\n",
              "      border-right-color: var(--fill-color);\n",
              "    }\n",
              "    40% {\n",
              "      border-color: transparent;\n",
              "      border-right-color: var(--fill-color);\n",
              "      border-top-color: var(--fill-color);\n",
              "    }\n",
              "    60% {\n",
              "      border-color: transparent;\n",
              "      border-right-color: var(--fill-color);\n",
              "    }\n",
              "    80% {\n",
              "      border-color: transparent;\n",
              "      border-right-color: var(--fill-color);\n",
              "      border-bottom-color: var(--fill-color);\n",
              "    }\n",
              "    90% {\n",
              "      border-color: transparent;\n",
              "      border-bottom-color: var(--fill-color);\n",
              "    }\n",
              "  }\n",
              "</style>\n",
              "\n",
              "  <script>\n",
              "    async function quickchart(key) {\n",
              "      const quickchartButtonEl =\n",
              "        document.querySelector('#' + key + ' button');\n",
              "      quickchartButtonEl.disabled = true;  // To prevent multiple clicks.\n",
              "      quickchartButtonEl.classList.add('colab-df-spinner');\n",
              "      try {\n",
              "        const charts = await google.colab.kernel.invokeFunction(\n",
              "            'suggestCharts', [key], {});\n",
              "      } catch (error) {\n",
              "        console.error('Error during call to suggestCharts:', error);\n",
              "      }\n",
              "      quickchartButtonEl.classList.remove('colab-df-spinner');\n",
              "      quickchartButtonEl.classList.add('colab-df-quickchart-complete');\n",
              "    }\n",
              "    (() => {\n",
              "      let quickchartButtonEl =\n",
              "        document.querySelector('#df-a2f5a8ee-d9d8-44d3-a649-101f4d121a30 button');\n",
              "      quickchartButtonEl.style.display =\n",
              "        google.colab.kernel.accessAllowed ? 'block' : 'none';\n",
              "    })();\n",
              "  </script>\n",
              "</div>\n",
              "\n",
              "    </div>\n",
              "  </div>\n"
            ],
            "application/vnd.google.colaboratory.intrinsic+json": {
              "type": "dataframe",
              "summary": "{\n  \"name\": \"outputs, _, _ = lstm\",\n  \"rows\": 9,\n  \"fields\": [\n    {\n      \"column\": 0,\n      \"properties\": {\n        \"dtype\": \"object\",\n        \"semantic_type\": \"\",\n        \"description\": \"\"\n      }\n    }\n  ]\n}"
            }
          },
          "metadata": {}
        }
      ]
    },
    {
      "cell_type": "code",
      "source": [
        "rnn = RNN(len(chars), n_hidden, len(chars), chars, verbose=True)\n",
        "rnn = train_model(rnn, data, epochs=2, learning_rate=.1, batch_size=10)\n",
        "\n",
        "rnn.verbose=True\n",
        "x = chars2vec('abc', char2int)\n",
        "outputs, _  = rnn.forward_unrolled(x)\n",
        "print(outputs)"
      ],
      "metadata": {
        "colab": {
          "base_uri": "https://localhost:8080/",
          "height": 924
        },
        "collapsed": true,
        "id": "ZgUmBYasrFeJ",
        "outputId": "0df0874d-0213-45bd-9894-745d6ac28078"
      },
      "execution_count": 29,
      "outputs": [
        {
          "output_type": "stream",
          "name": "stdout",
          "text": [
            "epoch=0\n"
          ]
        },
        {
          "output_type": "stream",
          "name": "stderr",
          "text": [
            "Epoch 1/2: 100%|██████████| 150/150 [00:00<00:00, 335.95sample/s, Batch=15, Loss=0.0223]\n"
          ]
        },
        {
          "output_type": "stream",
          "name": "stdout",
          "text": [
            "Epoch [1/2], Average Loss: 0.2938\n",
            "epoch=1\n"
          ]
        },
        {
          "output_type": "stream",
          "name": "stderr",
          "text": [
            "Epoch 2/2: 100%|██████████| 150/150 [00:00<00:00, 332.76sample/s, Batch=15, Loss=0.00403]\n"
          ]
        },
        {
          "output_type": "stream",
          "name": "stdout",
          "text": [
            "Epoch [2/2], Average Loss: 0.0089\n"
          ]
        },
        {
          "output_type": "display_data",
          "data": {
            "text/plain": [
              "<Figure size 640x480 with 1 Axes>"
            ],
            "image/png": "[encoded data removed]"
          },
          "metadata": {}
        },
        {
          "output_type": "display_data",
          "data": {
            "text/plain": [
              "                               0\n",
              "input                          a\n",
              "h_new        [0.81, 0.93, -0.92]\n",
              "output      [-3.75, 4.86, -1.42]\n",
              "top output                     b"
            ],
            "text/html": [
              "\n",
              "  <div id=\"df-4fb36471-3397-4272-a59d-2bf69394ee06\" class=\"colab-df-container\">\n",
              "    <div>\n",
              "<style scoped>\n",
              "    .dataframe tbody tr th:only-of-type {\n",
              "        vertical-align: middle;\n",
              "    }\n",
              "\n",
              "    .dataframe tbody tr th {\n",
              "        vertical-align: top;\n",
              "    }\n",
              "\n",
              "    .dataframe thead th {\n",
              "        text-align: right;\n",
              "    }\n",
              "</style>\n",
              "<table border=\"1\" class=\"dataframe\">\n",
              "  <thead>\n",
              "    <tr style=\"text-align: right;\">\n",
              "      <th></th>\n",
              "      <th>0</th>\n",
              "    </tr>\n",
              "  </thead>\n",
              "  <tbody>\n",
              "    <tr>\n",
              "      <th>input</th>\n",
              "      <td>a</td>\n",
              "    </tr>\n",
              "    <tr>\n",
              "      <th>h_new</th>\n",
              "      <td>[0.81, 0.93, -0.92]</td>\n",
              "    </tr>\n",
              "    <tr>\n",
              "      <th>output</th>\n",
              "      <td>[-3.75, 4.86, -1.42]</td>\n",
              "    </tr>\n",
              "    <tr>\n",
              "      <th>top output</th>\n",
              "      <td>b</td>\n",
              "    </tr>\n",
              "  </tbody>\n",
              "</table>\n",
              "</div>\n",
              "    <div class=\"colab-df-buttons\">\n",
              "\n",
              "  <div class=\"colab-df-container\">\n",
              "    <button class=\"colab-df-convert\" onclick=\"convertToInteractive('df-4fb36471-3397-4272-a59d-2bf69394ee06')\"\n",
              "            title=\"Convert this dataframe to an interactive table.\"\n",
              "            style=\"display:none;\">\n",
              "\n",
              "  <svg xmlns=\"http://www.w3.org/2000/svg\" height=\"24px\" viewBox=\"0 -960 960 960\">\n",
              "    <path d=\"M120-120v-720h720v720H120Zm60-500h600v-160H180v160Zm220 220h160v-160H400v160Zm0 220h160v-160H400v160ZM180-400h160v-160H180v160Zm440 0h160v-160H620v160ZM180-180h160v-160H180v160Zm440 0h160v-160H620v160Z\"/>\n",
              "  </svg>\n",
              "    </button>\n",
              "\n",
              "  <style>\n",
              "    .colab-df-container {\n",
              "      display:flex;\n",
              "      gap: 12px;\n",
              "    }\n",
              "\n",
              "    .colab-df-convert {\n",
              "      background-color: #E8F0FE;\n",
              "      border: none;\n",
              "      border-radius: 50%;\n",
              "      cursor: pointer;\n",
              "      display: none;\n",
              "      fill: #1967D2;\n",
              "      height: 32px;\n",
              "      padding: 0 0 0 0;\n",
              "      width: 32px;\n",
              "    }\n",
              "\n",
              "    .colab-df-convert:hover {\n",
              "      background-color: #E2EBFA;\n",
              "      box-shadow: 0px 1px 2px rgba(60, 64, 67, 0.3), 0px 1px 3px 1px rgba(60, 64, 67, 0.15);\n",
              "      fill: #174EA6;\n",
              "    }\n",
              "\n",
              "    .colab-df-buttons div {\n",
              "      margin-bottom: 4px;\n",
              "    }\n",
              "\n",
              "    [theme=dark] .colab-df-convert {\n",
              "      background-color: #3B4455;\n",
              "      fill: #D2E3FC;\n",
              "    }\n",
              "\n",
              "    [theme=dark] .colab-df-convert:hover {\n",
              "      background-color: #434B5C;\n",
              "      box-shadow: 0px 1px 3px 1px rgba(0, 0, 0, 0.15);\n",
              "      filter: drop-shadow(0px 1px 2px rgba(0, 0, 0, 0.3));\n",
              "      fill: #FFFFFF;\n",
              "    }\n",
              "  </style>\n",
              "\n",
              "    <script>\n",
              "      const buttonEl =\n",
              "        document.querySelector('#df-4fb36471-3397-4272-a59d-2bf69394ee06 button.colab-df-convert');\n",
              "      buttonEl.style.display =\n",
              "        google.colab.kernel.accessAllowed ? 'block' : 'none';\n",
              "\n",
              "      async function convertToInteractive(key) {\n",
              "        const element = document.querySelector('#df-4fb36471-3397-4272-a59d-2bf69394ee06');\n",
              "        const dataTable =\n",
              "          await google.colab.kernel.invokeFunction('convertToInteractive',\n",
              "                                                    [key], {});\n",
              "        if (!dataTable) return;\n",
              "\n",
              "        const docLinkHtml = 'Like what you see? Visit the ' +\n",
              "          '<a target=\"_blank\" href=https://colab.research.google.com/notebooks/data_table.ipynb>data table notebook</a>'\n",
              "          + ' to learn more about interactive tables.';\n",
              "        element.innerHTML = '';\n",
              "        dataTable['output_type'] = 'display_data';\n",
              "        await google.colab.output.renderOutput(dataTable, element);\n",
              "        const docLink = document.createElement('div');\n",
              "        docLink.innerHTML = docLinkHtml;\n",
              "        element.appendChild(docLink);\n",
              "      }\n",
              "    </script>\n",
              "  </div>\n",
              "\n",
              "\n",
              "<div id=\"df-4e529056-3cce-447b-9e65-74846da3cd70\">\n",
              "  <button class=\"colab-df-quickchart\" onclick=\"quickchart('df-4e529056-3cce-447b-9e65-74846da3cd70')\"\n",
              "            title=\"Suggest charts\"\n",
              "            style=\"display:none;\">\n",
              "\n",
              "<svg xmlns=\"http://www.w3.org/2000/svg\" height=\"24px\"viewBox=\"0 0 24 24\"\n",
              "     width=\"24px\">\n",
              "    <g>\n",
              "        <path d=\"M19 3H5c-1.1 0-2 .9-2 2v14c0 1.1.9 2 2 2h14c1.1 0 2-.9 2-2V5c0-1.1-.9-2-2-2zM9 17H7v-7h2v7zm4 0h-2V7h2v10zm4 0h-2v-4h2v4z\"/>\n",
              "    </g>\n",
              "</svg>\n",
              "  </button>\n",
              "\n",
              "<style>\n",
              "  .colab-df-quickchart {\n",
              "      --bg-color: #E8F0FE;\n",
              "      --fill-color: #1967D2;\n",
              "      --hover-bg-color: #E2EBFA;\n",
              "      --hover-fill-color: #174EA6;\n",
              "      --disabled-fill-color: #AAA;\n",
              "      --disabled-bg-color: #DDD;\n",
              "  }\n",
              "\n",
              "  [theme=dark] .colab-df-quickchart {\n",
              "      --bg-color: #3B4455;\n",
              "      --fill-color: #D2E3FC;\n",
              "      --hover-bg-color: #434B5C;\n",
              "      --hover-fill-color: #FFFFFF;\n",
              "      --disabled-bg-color: #3B4455;\n",
              "      --disabled-fill-color: #666;\n",
              "  }\n",
              "\n",
              "  .colab-df-quickchart {\n",
              "    background-color: var(--bg-color);\n",
              "    border: none;\n",
              "    border-radius: 50%;\n",
              "    cursor: pointer;\n",
              "    display: none;\n",
              "    fill: var(--fill-color);\n",
              "    height: 32px;\n",
              "    padding: 0;\n",
              "    width: 32px;\n",
              "  }\n",
              "\n",
              "  .colab-df-quickchart:hover {\n",
              "    background-color: var(--hover-bg-color);\n",
              "    box-shadow: 0 1px 2px rgba(60, 64, 67, 0.3), 0 1px 3px 1px rgba(60, 64, 67, 0.15);\n",
              "    fill: var(--button-hover-fill-color);\n",
              "  }\n",
              "\n",
              "  .colab-df-quickchart-complete:disabled,\n",
              "  .colab-df-quickchart-complete:disabled:hover {\n",
              "    background-color: var(--disabled-bg-color);\n",
              "    fill: var(--disabled-fill-color);\n",
              "    box-shadow: none;\n",
              "  }\n",
              "\n",
              "  .colab-df-spinner {\n",
              "    border: 2px solid var(--fill-color);\n",
              "    border-color: transparent;\n",
              "    border-bottom-color: var(--fill-color);\n",
              "    animation:\n",
              "      spin 1s steps(1) infinite;\n",
              "  }\n",
              "\n",
              "  @keyframes spin {\n",
              "    0% {\n",
              "      border-color: transparent;\n",
              "      border-bottom-color: var(--fill-color);\n",
              "      border-left-color: var(--fill-color);\n",
              "    }\n",
              "    20% {\n",
              "      border-color: transparent;\n",
              "      border-left-color: var(--fill-color);\n",
              "      border-top-color: var(--fill-color);\n",
              "    }\n",
              "    30% {\n",
              "      border-color: transparent;\n",
              "      border-left-color: var(--fill-color);\n",
              "      border-top-color: var(--fill-color);\n",
              "      border-right-color: var(--fill-color);\n",
              "    }\n",
              "    40% {\n",
              "      border-color: transparent;\n",
              "      border-right-color: var(--fill-color);\n",
              "      border-top-color: var(--fill-color);\n",
              "    }\n",
              "    60% {\n",
              "      border-color: transparent;\n",
              "      border-right-color: var(--fill-color);\n",
              "    }\n",
              "    80% {\n",
              "      border-color: transparent;\n",
              "      border-right-color: var(--fill-color);\n",
              "      border-bottom-color: var(--fill-color);\n",
              "    }\n",
              "    90% {\n",
              "      border-color: transparent;\n",
              "      border-bottom-color: var(--fill-color);\n",
              "    }\n",
              "  }\n",
              "</style>\n",
              "\n",
              "  <script>\n",
              "    async function quickchart(key) {\n",
              "      const quickchartButtonEl =\n",
              "        document.querySelector('#' + key + ' button');\n",
              "      quickchartButtonEl.disabled = true;  // To prevent multiple clicks.\n",
              "      quickchartButtonEl.classList.add('colab-df-spinner');\n",
              "      try {\n",
              "        const charts = await google.colab.kernel.invokeFunction(\n",
              "            'suggestCharts', [key], {});\n",
              "      } catch (error) {\n",
              "        console.error('Error during call to suggestCharts:', error);\n",
              "      }\n",
              "      quickchartButtonEl.classList.remove('colab-df-spinner');\n",
              "      quickchartButtonEl.classList.add('colab-df-quickchart-complete');\n",
              "    }\n",
              "    (() => {\n",
              "      let quickchartButtonEl =\n",
              "        document.querySelector('#df-4e529056-3cce-447b-9e65-74846da3cd70 button');\n",
              "      quickchartButtonEl.style.display =\n",
              "        google.colab.kernel.accessAllowed ? 'block' : 'none';\n",
              "    })();\n",
              "  </script>\n",
              "</div>\n",
              "\n",
              "    </div>\n",
              "  </div>\n"
            ],
            "application/vnd.google.colaboratory.intrinsic+json": {
              "type": "dataframe",
              "summary": "{\n  \"name\": \"print(outputs)\",\n  \"rows\": 4,\n  \"fields\": [\n    {\n      \"column\": 0,\n      \"properties\": {\n        \"dtype\": \"object\",\n        \"semantic_type\": \"\",\n        \"description\": \"\"\n      }\n    }\n  ]\n}"
            }
          },
          "metadata": {}
        },
        {
          "output_type": "display_data",
          "data": {
            "text/plain": [
              "                             0\n",
              "input                        b\n",
              "h_new        [1.0, -1.0, 0.96]\n",
              "output      [0.43, -2.46, 5.5]\n",
              "top output                   c"
            ],
            "text/html": [
              "\n",
              "  <div id=\"df-ff706102-73ec-4bee-b819-94cebfb29d96\" class=\"colab-df-container\">\n",
              "    <div>\n",
              "<style scoped>\n",
              "    .dataframe tbody tr th:only-of-type {\n",
              "        vertical-align: middle;\n",
              "    }\n",
              "\n",
              "    .dataframe tbody tr th {\n",
              "        vertical-align: top;\n",
              "    }\n",
              "\n",
              "    .dataframe thead th {\n",
              "        text-align: right;\n",
              "    }\n",
              "</style>\n",
              "<table border=\"1\" class=\"dataframe\">\n",
              "  <thead>\n",
              "    <tr style=\"text-align: right;\">\n",
              "      <th></th>\n",
              "      <th>0</th>\n",
              "    </tr>\n",
              "  </thead>\n",
              "  <tbody>\n",
              "    <tr>\n",
              "      <th>input</th>\n",
              "      <td>b</td>\n",
              "    </tr>\n",
              "    <tr>\n",
              "      <th>h_new</th>\n",
              "      <td>[1.0, -1.0, 0.96]</td>\n",
              "    </tr>\n",
              "    <tr>\n",
              "      <th>output</th>\n",
              "      <td>[0.43, -2.46, 5.5]</td>\n",
              "    </tr>\n",
              "    <tr>\n",
              "      <th>top output</th>\n",
              "      <td>c</td>\n",
              "    </tr>\n",
              "  </tbody>\n",
              "</table>\n",
              "</div>\n",
              "    <div class=\"colab-df-buttons\">\n",
              "\n",
              "  <div class=\"colab-df-container\">\n",
              "    <button class=\"colab-df-convert\" onclick=\"convertToInteractive('df-ff706102-73ec-4bee-b819-94cebfb29d96')\"\n",
              "            title=\"Convert this dataframe to an interactive table.\"\n",
              "            style=\"display:none;\">\n",
              "\n",
              "  <svg xmlns=\"http://www.w3.org/2000/svg\" height=\"24px\" viewBox=\"0 -960 960 960\">\n",
              "    <path d=\"M120-120v-720h720v720H120Zm60-500h600v-160H180v160Zm220 220h160v-160H400v160Zm0 220h160v-160H400v160ZM180-400h160v-160H180v160Zm440 0h160v-160H620v160ZM180-180h160v-160H180v160Zm440 0h160v-160H620v160Z\"/>\n",
              "  </svg>\n",
              "    </button>\n",
              "\n",
              "  <style>\n",
              "    .colab-df-container {\n",
              "      display:flex;\n",
              "      gap: 12px;\n",
              "    }\n",
              "\n",
              "    .colab-df-convert {\n",
              "      background-color: #E8F0FE;\n",
              "      border: none;\n",
              "      border-radius: 50%;\n",
              "      cursor: pointer;\n",
              "      display: none;\n",
              "      fill: #1967D2;\n",
              "      height: 32px;\n",
              "      padding: 0 0 0 0;\n",
              "      width: 32px;\n",
              "    }\n",
              "\n",
              "    .colab-df-convert:hover {\n",
              "      background-color: #E2EBFA;\n",
              "      box-shadow: 0px 1px 2px rgba(60, 64, 67, 0.3), 0px 1px 3px 1px rgba(60, 64, 67, 0.15);\n",
              "      fill: #174EA6;\n",
              "    }\n",
              "\n",
              "    .colab-df-buttons div {\n",
              "      margin-bottom: 4px;\n",
              "    }\n",
              "\n",
              "    [theme=dark] .colab-df-convert {\n",
              "      background-color: #3B4455;\n",
              "      fill: #D2E3FC;\n",
              "    }\n",
              "\n",
              "    [theme=dark] .colab-df-convert:hover {\n",
              "      background-color: #434B5C;\n",
              "      box-shadow: 0px 1px 3px 1px rgba(0, 0, 0, 0.15);\n",
              "      filter: drop-shadow(0px 1px 2px rgba(0, 0, 0, 0.3));\n",
              "      fill: #FFFFFF;\n",
              "    }\n",
              "  </style>\n",
              "\n",
              "    <script>\n",
              "      const buttonEl =\n",
              "        document.querySelector('#df-ff706102-73ec-4bee-b819-94cebfb29d96 button.colab-df-convert');\n",
              "      buttonEl.style.display =\n",
              "        google.colab.kernel.accessAllowed ? 'block' : 'none';\n",
              "\n",
              "      async function convertToInteractive(key) {\n",
              "        const element = document.querySelector('#df-ff706102-73ec-4bee-b819-94cebfb29d96');\n",
              "        const dataTable =\n",
              "          await google.colab.kernel.invokeFunction('convertToInteractive',\n",
              "                                                    [key], {});\n",
              "        if (!dataTable) return;\n",
              "\n",
              "        const docLinkHtml = 'Like what you see? Visit the ' +\n",
              "          '<a target=\"_blank\" href=https://colab.research.google.com/notebooks/data_table.ipynb>data table notebook</a>'\n",
              "          + ' to learn more about interactive tables.';\n",
              "        element.innerHTML = '';\n",
              "        dataTable['output_type'] = 'display_data';\n",
              "        await google.colab.output.renderOutput(dataTable, element);\n",
              "        const docLink = document.createElement('div');\n",
              "        docLink.innerHTML = docLinkHtml;\n",
              "        element.appendChild(docLink);\n",
              "      }\n",
              "    </script>\n",
              "  </div>\n",
              "\n",
              "\n",
              "<div id=\"df-ea4bb6cd-84ce-4f4c-ae0a-b4d6fda75091\">\n",
              "  <button class=\"colab-df-quickchart\" onclick=\"quickchart('df-ea4bb6cd-84ce-4f4c-ae0a-b4d6fda75091')\"\n",
              "            title=\"Suggest charts\"\n",
              "            style=\"display:none;\">\n",
              "\n",
              "<svg xmlns=\"http://www.w3.org/2000/svg\" height=\"24px\"viewBox=\"0 0 24 24\"\n",
              "     width=\"24px\">\n",
              "    <g>\n",
              "        <path d=\"M19 3H5c-1.1 0-2 .9-2 2v14c0 1.1.9 2 2 2h14c1.1 0 2-.9 2-2V5c0-1.1-.9-2-2-2zM9 17H7v-7h2v7zm4 0h-2V7h2v10zm4 0h-2v-4h2v4z\"/>\n",
              "    </g>\n",
              "</svg>\n",
              "  </button>\n",
              "\n",
              "<style>\n",
              "  .colab-df-quickchart {\n",
              "      --bg-color: #E8F0FE;\n",
              "      --fill-color: #1967D2;\n",
              "      --hover-bg-color: #E2EBFA;\n",
              "      --hover-fill-color: #174EA6;\n",
              "      --disabled-fill-color: #AAA;\n",
              "      --disabled-bg-color: #DDD;\n",
              "  }\n",
              "\n",
              "  [theme=dark] .colab-df-quickchart {\n",
              "      --bg-color: #3B4455;\n",
              "      --fill-color: #D2E3FC;\n",
              "      --hover-bg-color: #434B5C;\n",
              "      --hover-fill-color: #FFFFFF;\n",
              "      --disabled-bg-color: #3B4455;\n",
              "      --disabled-fill-color: #666;\n",
              "  }\n",
              "\n",
              "  .colab-df-quickchart {\n",
              "    background-color: var(--bg-color);\n",
              "    border: none;\n",
              "    border-radius: 50%;\n",
              "    cursor: pointer;\n",
              "    display: none;\n",
              "    fill: var(--fill-color);\n",
              "    height: 32px;\n",
              "    padding: 0;\n",
              "    width: 32px;\n",
              "  }\n",
              "\n",
              "  .colab-df-quickchart:hover {\n",
              "    background-color: var(--hover-bg-color);\n",
              "    box-shadow: 0 1px 2px rgba(60, 64, 67, 0.3), 0 1px 3px 1px rgba(60, 64, 67, 0.15);\n",
              "    fill: var(--button-hover-fill-color);\n",
              "  }\n",
              "\n",
              "  .colab-df-quickchart-complete:disabled,\n",
              "  .colab-df-quickchart-complete:disabled:hover {\n",
              "    background-color: var(--disabled-bg-color);\n",
              "    fill: var(--disabled-fill-color);\n",
              "    box-shadow: none;\n",
              "  }\n",
              "\n",
              "  .colab-df-spinner {\n",
              "    border: 2px solid var(--fill-color);\n",
              "    border-color: transparent;\n",
              "    border-bottom-color: var(--fill-color);\n",
              "    animation:\n",
              "      spin 1s steps(1) infinite;\n",
              "  }\n",
              "\n",
              "  @keyframes spin {\n",
              "    0% {\n",
              "      border-color: transparent;\n",
              "      border-bottom-color: var(--fill-color);\n",
              "      border-left-color: var(--fill-color);\n",
              "    }\n",
              "    20% {\n",
              "      border-color: transparent;\n",
              "      border-left-color: var(--fill-color);\n",
              "      border-top-color: var(--fill-color);\n",
              "    }\n",
              "    30% {\n",
              "      border-color: transparent;\n",
              "      border-left-color: var(--fill-color);\n",
              "      border-top-color: var(--fill-color);\n",
              "      border-right-color: var(--fill-color);\n",
              "    }\n",
              "    40% {\n",
              "      border-color: transparent;\n",
              "      border-right-color: var(--fill-color);\n",
              "      border-top-color: var(--fill-color);\n",
              "    }\n",
              "    60% {\n",
              "      border-color: transparent;\n",
              "      border-right-color: var(--fill-color);\n",
              "    }\n",
              "    80% {\n",
              "      border-color: transparent;\n",
              "      border-right-color: var(--fill-color);\n",
              "      border-bottom-color: var(--fill-color);\n",
              "    }\n",
              "    90% {\n",
              "      border-color: transparent;\n",
              "      border-bottom-color: var(--fill-color);\n",
              "    }\n",
              "  }\n",
              "</style>\n",
              "\n",
              "  <script>\n",
              "    async function quickchart(key) {\n",
              "      const quickchartButtonEl =\n",
              "        document.querySelector('#' + key + ' button');\n",
              "      quickchartButtonEl.disabled = true;  // To prevent multiple clicks.\n",
              "      quickchartButtonEl.classList.add('colab-df-spinner');\n",
              "      try {\n",
              "        const charts = await google.colab.kernel.invokeFunction(\n",
              "            'suggestCharts', [key], {});\n",
              "      } catch (error) {\n",
              "        console.error('Error during call to suggestCharts:', error);\n",
              "      }\n",
              "      quickchartButtonEl.classList.remove('colab-df-spinner');\n",
              "      quickchartButtonEl.classList.add('colab-df-quickchart-complete');\n",
              "    }\n",
              "    (() => {\n",
              "      let quickchartButtonEl =\n",
              "        document.querySelector('#df-ea4bb6cd-84ce-4f4c-ae0a-b4d6fda75091 button');\n",
              "      quickchartButtonEl.style.display =\n",
              "        google.colab.kernel.accessAllowed ? 'block' : 'none';\n",
              "    })();\n",
              "  </script>\n",
              "</div>\n",
              "\n",
              "    </div>\n",
              "  </div>\n"
            ],
            "application/vnd.google.colaboratory.intrinsic+json": {
              "type": "dataframe",
              "summary": "{\n  \"name\": \"print(outputs)\",\n  \"rows\": 4,\n  \"fields\": [\n    {\n      \"column\": 0,\n      \"properties\": {\n        \"dtype\": \"object\",\n        \"semantic_type\": \"\",\n        \"description\": \"\"\n      }\n    }\n  ]\n}"
            }
          },
          "metadata": {}
        },
        {
          "output_type": "stream",
          "name": "stdout",
          "text": [
            "tensor([[-3.7516,  4.8573, -1.4197],\n",
            "        [ 0.4325, -2.4635,  5.5018]], grad_fn=<CatBackward0>)\n"
          ]
        }
      ]
    },
    {
      "cell_type": "markdown",
      "source": [
        "<hr size=10 color=#285C4D>\n",
        "\n",
        "## Comparing the \"memories\" of LSTMs and RNNs"
      ],
      "metadata": {
        "id": "GP2aqkV8sCSI"
      }
    },
    {
      "cell_type": "markdown",
      "source": [
        "How can we compare the \"memory\" abilities of LSTM vs RNN?\n",
        "\n",
        "<br><br><br>\n",
        "\n",
        "Let's devise a synthetic task. We observe two types of sequences:\n",
        "\n",
        "> 'bc**a**bcbcbc**a**'\n",
        "\n",
        "> 'bcbcbcbcbc'\n",
        "\n",
        "The network needs to learn that when it sees an 'a', it must remember this in order to output another 'a' 7 time steps later."
      ],
      "metadata": {
        "id": "f8rObRqdr_jd"
      }
    },
    {
      "cell_type": "code",
      "source": [
        "pd.set_option('display.max_colwidth', 200)\n",
        "data = [\n",
        "    chars2vec('bcabcbcbca', char2int),\n",
        "    chars2vec('bcbcbcbcbc', char2int),\n",
        "]  * 10\n",
        "\n",
        "lstm = LSTM(len(chars), 7, len(chars), chars, verbose=True)\n",
        "lstm = train_model(lstm, data, epochs=40, learning_rate=.1, batch_size=10)"
      ],
      "metadata": {
        "colab": {
          "base_uri": "https://localhost:8080/",
          "height": 1000
        },
        "collapsed": true,
        "id": "-TrdVktesHzM",
        "outputId": "95efec2a-1303-4558-b882-65f00c7a46f3"
      },
      "execution_count": 30,
      "outputs": [
        {
          "output_type": "stream",
          "name": "stdout",
          "text": [
            "epoch=0\n"
          ]
        },
        {
          "output_type": "stream",
          "name": "stderr",
          "text": [
            "Epoch 1/40: 100%|██████████| 20/20 [00:00<00:00, 109.66sample/s, Batch=2, Loss=1.02]\n"
          ]
        },
        {
          "output_type": "stream",
          "name": "stdout",
          "text": [
            "Epoch [1/40], Average Loss: 1.0653\n",
            "epoch=1\n"
          ]
        },
        {
          "output_type": "stream",
          "name": "stderr",
          "text": [
            "Epoch 2/40: 100%|██████████| 20/20 [00:00<00:00, 101.15sample/s, Batch=2, Loss=0.867]\n"
          ]
        },
        {
          "output_type": "stream",
          "name": "stdout",
          "text": [
            "Epoch [2/40], Average Loss: 0.8893\n",
            "epoch=2\n"
          ]
        },
        {
          "output_type": "stream",
          "name": "stderr",
          "text": [
            "Epoch 3/40: 100%|██████████| 20/20 [00:00<00:00, 99.53sample/s, Batch=2, Loss=0.607] \n"
          ]
        },
        {
          "output_type": "stream",
          "name": "stdout",
          "text": [
            "Epoch [3/40], Average Loss: 0.6996\n",
            "epoch=3\n"
          ]
        },
        {
          "output_type": "stream",
          "name": "stderr",
          "text": [
            "Epoch 4/40: 100%|██████████| 20/20 [00:00<00:00, 86.40sample/s, Batch=2, Loss=0.427]\n"
          ]
        },
        {
          "output_type": "stream",
          "name": "stdout",
          "text": [
            "Epoch [4/40], Average Loss: 0.5159\n",
            "epoch=4\n"
          ]
        },
        {
          "output_type": "stream",
          "name": "stderr",
          "text": [
            "Epoch 5/40: 100%|██████████| 20/20 [00:00<00:00, 107.11sample/s, Batch=2, Loss=0.334]\n"
          ]
        },
        {
          "output_type": "stream",
          "name": "stdout",
          "text": [
            "Epoch [5/40], Average Loss: 0.4125\n",
            "epoch=5\n"
          ]
        },
        {
          "output_type": "stream",
          "name": "stderr",
          "text": [
            "Epoch 6/40: 100%|██████████| 20/20 [00:00<00:00, 104.61sample/s, Batch=2, Loss=0.312]\n"
          ]
        },
        {
          "output_type": "stream",
          "name": "stdout",
          "text": [
            "Epoch [6/40], Average Loss: 0.3299\n",
            "epoch=6\n"
          ]
        },
        {
          "output_type": "stream",
          "name": "stderr",
          "text": [
            "Epoch 7/40: 100%|██████████| 20/20 [00:00<00:00, 111.40sample/s, Batch=2, Loss=0.278]\n"
          ]
        },
        {
          "output_type": "stream",
          "name": "stdout",
          "text": [
            "Epoch [7/40], Average Loss: 0.2839\n",
            "epoch=7\n"
          ]
        },
        {
          "output_type": "stream",
          "name": "stderr",
          "text": [
            "Epoch 8/40: 100%|██████████| 20/20 [00:00<00:00, 95.28sample/s, Batch=2, Loss=0.321]\n"
          ]
        },
        {
          "output_type": "stream",
          "name": "stdout",
          "text": [
            "Epoch [8/40], Average Loss: 0.2670\n",
            "epoch=8\n"
          ]
        },
        {
          "output_type": "stream",
          "name": "stderr",
          "text": [
            "Epoch 9/40: 100%|██████████| 20/20 [00:00<00:00, 93.98sample/s, Batch=2, Loss=0.239]\n"
          ]
        },
        {
          "output_type": "stream",
          "name": "stdout",
          "text": [
            "Epoch [9/40], Average Loss: 0.2636\n",
            "epoch=9\n"
          ]
        },
        {
          "output_type": "stream",
          "name": "stderr",
          "text": [
            "Epoch 10/40: 100%|██████████| 20/20 [00:00<00:00, 106.80sample/s, Batch=2, Loss=0.253]\n"
          ]
        },
        {
          "output_type": "stream",
          "name": "stdout",
          "text": [
            "Epoch [10/40], Average Loss: 0.2550\n",
            "epoch=10\n"
          ]
        },
        {
          "output_type": "stream",
          "name": "stderr",
          "text": [
            "Epoch 11/40: 100%|██████████| 20/20 [00:00<00:00, 101.05sample/s, Batch=2, Loss=0.327]\n"
          ]
        },
        {
          "output_type": "stream",
          "name": "stdout",
          "text": [
            "Epoch [11/40], Average Loss: 0.2595\n",
            "epoch=11\n"
          ]
        },
        {
          "output_type": "stream",
          "name": "stderr",
          "text": [
            "Epoch 12/40: 100%|██████████| 20/20 [00:00<00:00, 106.70sample/s, Batch=2, Loss=0.246]\n"
          ]
        },
        {
          "output_type": "stream",
          "name": "stdout",
          "text": [
            "Epoch [12/40], Average Loss: 0.2493\n",
            "epoch=12\n"
          ]
        },
        {
          "output_type": "stream",
          "name": "stderr",
          "text": [
            "Epoch 13/40: 100%|██████████| 20/20 [00:00<00:00, 82.59sample/s, Batch=2, Loss=0.261]\n"
          ]
        },
        {
          "output_type": "stream",
          "name": "stdout",
          "text": [
            "Epoch [13/40], Average Loss: 0.2392\n",
            "epoch=13\n"
          ]
        },
        {
          "output_type": "stream",
          "name": "stderr",
          "text": [
            "Epoch 14/40: 100%|██████████| 20/20 [00:00<00:00, 106.16sample/s, Batch=2, Loss=0.227]\n"
          ]
        },
        {
          "output_type": "stream",
          "name": "stdout",
          "text": [
            "Epoch [14/40], Average Loss: 0.2418\n",
            "epoch=14\n"
          ]
        },
        {
          "output_type": "stream",
          "name": "stderr",
          "text": [
            "Epoch 15/40: 100%|██████████| 20/20 [00:00<00:00, 99.46sample/s, Batch=2, Loss=0.251] \n"
          ]
        },
        {
          "output_type": "stream",
          "name": "stdout",
          "text": [
            "Epoch [15/40], Average Loss: 0.2356\n",
            "epoch=15\n"
          ]
        },
        {
          "output_type": "stream",
          "name": "stderr",
          "text": [
            "Epoch 16/40: 100%|██████████| 20/20 [00:00<00:00, 106.26sample/s, Batch=2, Loss=0.19]\n"
          ]
        },
        {
          "output_type": "stream",
          "name": "stdout",
          "text": [
            "Epoch [16/40], Average Loss: 0.2325\n",
            "epoch=16\n"
          ]
        },
        {
          "output_type": "stream",
          "name": "stderr",
          "text": [
            "Epoch 17/40: 100%|██████████| 20/20 [00:00<00:00, 98.78sample/s, Batch=2, Loss=0.225] \n"
          ]
        },
        {
          "output_type": "stream",
          "name": "stdout",
          "text": [
            "Epoch [17/40], Average Loss: 0.2262\n",
            "epoch=17\n"
          ]
        },
        {
          "output_type": "stream",
          "name": "stderr",
          "text": [
            "Epoch 18/40: 100%|██████████| 20/20 [00:00<00:00, 88.76sample/s, Batch=2, Loss=0.241]\n"
          ]
        },
        {
          "output_type": "stream",
          "name": "stdout",
          "text": [
            "Epoch [18/40], Average Loss: 0.2232\n",
            "epoch=18\n"
          ]
        },
        {
          "output_type": "stream",
          "name": "stderr",
          "text": [
            "Epoch 19/40: 100%|██████████| 20/20 [00:00<00:00, 106.65sample/s, Batch=2, Loss=0.219]\n"
          ]
        },
        {
          "output_type": "stream",
          "name": "stdout",
          "text": [
            "Epoch [19/40], Average Loss: 0.2200\n",
            "epoch=19\n"
          ]
        },
        {
          "output_type": "stream",
          "name": "stderr",
          "text": [
            "Epoch 20/40: 100%|██████████| 20/20 [00:00<00:00, 101.01sample/s, Batch=2, Loss=0.206]\n"
          ]
        },
        {
          "output_type": "stream",
          "name": "stdout",
          "text": [
            "Epoch [20/40], Average Loss: 0.2186\n",
            "epoch=20\n"
          ]
        },
        {
          "output_type": "stream",
          "name": "stderr",
          "text": [
            "Epoch 21/40: 100%|██████████| 20/20 [00:00<00:00, 106.13sample/s, Batch=2, Loss=0.194]\n"
          ]
        },
        {
          "output_type": "stream",
          "name": "stdout",
          "text": [
            "Epoch [21/40], Average Loss: 0.2088\n",
            "epoch=21\n"
          ]
        },
        {
          "output_type": "stream",
          "name": "stderr",
          "text": [
            "Epoch 22/40: 100%|██████████| 20/20 [00:00<00:00, 78.65sample/s, Batch=2, Loss=0.21]\n"
          ]
        },
        {
          "output_type": "stream",
          "name": "stdout",
          "text": [
            "Epoch [22/40], Average Loss: 0.1990\n",
            "epoch=22\n"
          ]
        },
        {
          "output_type": "stream",
          "name": "stderr",
          "text": [
            "Epoch 23/40: 100%|██████████| 20/20 [00:00<00:00, 106.05sample/s, Batch=2, Loss=0.167]\n"
          ]
        },
        {
          "output_type": "stream",
          "name": "stdout",
          "text": [
            "Epoch [23/40], Average Loss: 0.1835\n",
            "epoch=23\n"
          ]
        },
        {
          "output_type": "stream",
          "name": "stderr",
          "text": [
            "Epoch 24/40: 100%|██████████| 20/20 [00:00<00:00, 102.35sample/s, Batch=2, Loss=0.152]\n"
          ]
        },
        {
          "output_type": "stream",
          "name": "stdout",
          "text": [
            "Epoch [24/40], Average Loss: 0.1885\n",
            "epoch=24\n"
          ]
        },
        {
          "output_type": "stream",
          "name": "stderr",
          "text": [
            "Epoch 25/40: 100%|██████████| 20/20 [00:00<00:00, 106.05sample/s, Batch=2, Loss=0.157]\n"
          ]
        },
        {
          "output_type": "stream",
          "name": "stdout",
          "text": [
            "Epoch [25/40], Average Loss: 0.1603\n",
            "epoch=25\n"
          ]
        },
        {
          "output_type": "stream",
          "name": "stderr",
          "text": [
            "Epoch 26/40: 100%|██████████| 20/20 [00:00<00:00, 109.47sample/s, Batch=2, Loss=0.161]\n"
          ]
        },
        {
          "output_type": "stream",
          "name": "stdout",
          "text": [
            "Epoch [26/40], Average Loss: 0.1564\n",
            "epoch=26\n"
          ]
        },
        {
          "output_type": "stream",
          "name": "stderr",
          "text": [
            "Epoch 27/40: 100%|██████████| 20/20 [00:00<00:00, 84.42sample/s, Batch=2, Loss=0.143]\n"
          ]
        },
        {
          "output_type": "stream",
          "name": "stdout",
          "text": [
            "Epoch [27/40], Average Loss: 0.1340\n",
            "epoch=27\n"
          ]
        },
        {
          "output_type": "stream",
          "name": "stderr",
          "text": [
            "Epoch 28/40: 100%|██████████| 20/20 [00:00<00:00, 98.97sample/s, Batch=2, Loss=0.117] \n"
          ]
        },
        {
          "output_type": "stream",
          "name": "stdout",
          "text": [
            "Epoch [28/40], Average Loss: 0.1302\n",
            "epoch=28\n"
          ]
        },
        {
          "output_type": "stream",
          "name": "stderr",
          "text": [
            "Epoch 29/40: 100%|██████████| 20/20 [00:00<00:00, 70.78sample/s, Batch=2, Loss=0.127]\n"
          ]
        },
        {
          "output_type": "stream",
          "name": "stdout",
          "text": [
            "Epoch [29/40], Average Loss: 0.1291\n",
            "epoch=29\n"
          ]
        },
        {
          "output_type": "stream",
          "name": "stderr",
          "text": [
            "Epoch 30/40: 100%|██████████| 20/20 [00:00<00:00, 55.39sample/s, Batch=2, Loss=0.125]\n"
          ]
        },
        {
          "output_type": "stream",
          "name": "stdout",
          "text": [
            "Epoch [30/40], Average Loss: 0.1172\n",
            "epoch=30\n"
          ]
        },
        {
          "output_type": "stream",
          "name": "stderr",
          "text": [
            "Epoch 31/40: 100%|██████████| 20/20 [00:00<00:00, 70.44sample/s, Batch=2, Loss=0.0974]\n"
          ]
        },
        {
          "output_type": "stream",
          "name": "stdout",
          "text": [
            "Epoch [31/40], Average Loss: 0.1063\n",
            "epoch=31\n"
          ]
        },
        {
          "output_type": "stream",
          "name": "stderr",
          "text": [
            "Epoch 32/40: 100%|██████████| 20/20 [00:00<00:00, 69.89sample/s, Batch=2, Loss=0.0933]\n"
          ]
        },
        {
          "output_type": "stream",
          "name": "stdout",
          "text": [
            "Epoch [32/40], Average Loss: 0.1130\n",
            "epoch=32\n"
          ]
        },
        {
          "output_type": "stream",
          "name": "stderr",
          "text": [
            "Epoch 33/40: 100%|██████████| 20/20 [00:00<00:00, 66.67sample/s, Batch=2, Loss=0.113]\n"
          ]
        },
        {
          "output_type": "stream",
          "name": "stdout",
          "text": [
            "Epoch [33/40], Average Loss: 0.1087\n",
            "epoch=33\n"
          ]
        },
        {
          "output_type": "stream",
          "name": "stderr",
          "text": [
            "Epoch 34/40: 100%|██████████| 20/20 [00:00<00:00, 65.74sample/s, Batch=2, Loss=0.0935]\n"
          ]
        },
        {
          "output_type": "stream",
          "name": "stdout",
          "text": [
            "Epoch [34/40], Average Loss: 0.0912\n",
            "epoch=34\n"
          ]
        },
        {
          "output_type": "stream",
          "name": "stderr",
          "text": [
            "Epoch 35/40: 100%|██████████| 20/20 [00:00<00:00, 66.50sample/s, Batch=2, Loss=0.0949]\n"
          ]
        },
        {
          "output_type": "stream",
          "name": "stdout",
          "text": [
            "Epoch [35/40], Average Loss: 0.0975\n",
            "epoch=35\n"
          ]
        },
        {
          "output_type": "stream",
          "name": "stderr",
          "text": [
            "Epoch 36/40: 100%|██████████| 20/20 [00:00<00:00, 57.32sample/s, Batch=2, Loss=0.085]\n"
          ]
        },
        {
          "output_type": "stream",
          "name": "stdout",
          "text": [
            "Epoch [36/40], Average Loss: 0.0855\n",
            "epoch=36\n"
          ]
        },
        {
          "output_type": "stream",
          "name": "stderr",
          "text": [
            "Epoch 37/40: 100%|██████████| 20/20 [00:00<00:00, 32.53sample/s, Batch=2, Loss=0.0906]\n"
          ]
        },
        {
          "output_type": "stream",
          "name": "stdout",
          "text": [
            "Epoch [37/40], Average Loss: 0.0887\n",
            "epoch=37\n"
          ]
        },
        {
          "output_type": "stream",
          "name": "stderr",
          "text": [
            "Epoch 38/40: 100%|██████████| 20/20 [00:00<00:00, 31.63sample/s, Batch=2, Loss=0.0829]\n"
          ]
        },
        {
          "output_type": "stream",
          "name": "stdout",
          "text": [
            "Epoch [38/40], Average Loss: 0.0841\n",
            "epoch=38\n"
          ]
        },
        {
          "output_type": "stream",
          "name": "stderr",
          "text": [
            "Epoch 39/40: 100%|██████████| 20/20 [00:00<00:00, 21.27sample/s, Batch=2, Loss=0.0824]\n"
          ]
        },
        {
          "output_type": "stream",
          "name": "stdout",
          "text": [
            "Epoch [39/40], Average Loss: 0.0824\n",
            "epoch=39\n"
          ]
        },
        {
          "output_type": "stream",
          "name": "stderr",
          "text": [
            "Epoch 40/40: 100%|██████████| 20/20 [00:00<00:00, 46.09sample/s, Batch=2, Loss=0.0813]\n"
          ]
        },
        {
          "output_type": "stream",
          "name": "stdout",
          "text": [
            "Epoch [40/40], Average Loss: 0.0818\n"
          ]
        },
        {
          "output_type": "display_data",
          "data": {
            "text/plain": [
              "<Figure size 640x480 with 1 Axes>"
            ],
            "image/png": "[encoded data removed]"
          },
          "metadata": {}
        }
      ]
    },
    {
      "cell_type": "code",
      "source": [
        "lstm.verbose=False\n",
        "x = chars2vec('bcabcbcbca', char2int)\n",
        "outputs, hiddens, cells = lstm.forward_unrolled(x)\n",
        "# what is last letter predicted?\n",
        "print('last letter predicted=', output2label(outputs[-1], chars))\n",
        "\n",
        "# print contents of memory cell state after each input letter.\n",
        "# by examing memory cell, we can inspect which dimensions\n",
        "# are responsible for \"remembering\" that we saw \"a\"\n",
        "print('memory cells:')\n",
        "pd.DataFrame([pp(c) for c in cells],\n",
        "             index=pd.Index(list('bcabcbcbca')[:-1], name='input'))"
      ],
      "metadata": {
        "colab": {
          "base_uri": "https://localhost:8080/",
          "height": 397
        },
        "collapsed": true,
        "id": "UXftjDnNEfyJ",
        "outputId": "4ea95143-2b86-4a2d-e81d-216f5d334c85"
      },
      "execution_count": 31,
      "outputs": [
        {
          "output_type": "stream",
          "name": "stdout",
          "text": [
            "last letter predicted= a\n",
            "memory cells:\n"
          ]
        },
        {
          "output_type": "execute_result",
          "data": {
            "text/plain": [
              "          0     1     2     3     4     5     6\n",
              "input                                          \n",
              "b     -0.95 -0.94  0.83 -0.77 -0.81  0.98 -0.92\n",
              "c     -1.94 -1.72  0.80 -0.74  0.99 -0.03 -1.91\n",
              "a     -2.93 -2.71  1.79  0.92  1.36 -0.99 -2.91\n",
              "b     -3.92 -3.40  2.79 -1.00 -0.86 -1.41 -3.90\n",
              "c     -4.91 -2.16  3.23  0.98  1.00 -2.39 -4.90\n",
              "b     -5.80 -2.65  4.21 -1.00 -0.99 -1.25 -5.89\n",
              "c     -6.79 -0.95  4.35  0.90  1.00 -2.23 -6.89\n",
              "b     -7.57 -1.70  5.30 -1.00 -0.99  0.35 -7.79\n",
              "c     -8.56 -1.82  5.28 -0.77  1.00 -0.65 -8.79"
            ],
            "text/html": [
              "\n",
              "  <div id=\"df-d8d5d66c-ab04-4ee7-b962-f0d75a5f75ec\" class=\"colab-df-container\">\n",
              "    <div>\n",
              "<style scoped>\n",
              "    .dataframe tbody tr th:only-of-type {\n",
              "        vertical-align: middle;\n",
              "    }\n",
              "\n",
              "    .dataframe tbody tr th {\n",
              "        vertical-align: top;\n",
              "    }\n",
              "\n",
              "    .dataframe thead th {\n",
              "        text-align: right;\n",
              "    }\n",
              "</style>\n",
              "<table border=\"1\" class=\"dataframe\">\n",
              "  <thead>\n",
              "    <tr style=\"text-align: right;\">\n",
              "      <th></th>\n",
              "      <th>0</th>\n",
              "      <th>1</th>\n",
              "      <th>2</th>\n",
              "      <th>3</th>\n",
              "      <th>4</th>\n",
              "      <th>5</th>\n",
              "      <th>6</th>\n",
              "    </tr>\n",
              "    <tr>\n",
              "      <th>input</th>\n",
              "      <th></th>\n",
              "      <th></th>\n",
              "      <th></th>\n",
              "      <th></th>\n",
              "      <th></th>\n",
              "      <th></th>\n",
              "      <th></th>\n",
              "    </tr>\n",
              "  </thead>\n",
              "  <tbody>\n",
              "    <tr>\n",
              "      <th>b</th>\n",
              "      <td>-0.95</td>\n",
              "      <td>-0.94</td>\n",
              "      <td>0.83</td>\n",
              "      <td>-0.77</td>\n",
              "      <td>-0.81</td>\n",
              "      <td>0.98</td>\n",
              "      <td>-0.92</td>\n",
              "    </tr>\n",
              "    <tr>\n",
              "      <th>c</th>\n",
              "      <td>-1.94</td>\n",
              "      <td>-1.72</td>\n",
              "      <td>0.80</td>\n",
              "      <td>-0.74</td>\n",
              "      <td>0.99</td>\n",
              "      <td>-0.03</td>\n",
              "      <td>-1.91</td>\n",
              "    </tr>\n",
              "    <tr>\n",
              "      <th>a</th>\n",
              "      <td>-2.93</td>\n",
              "      <td>-2.71</td>\n",
              "      <td>1.79</td>\n",
              "      <td>0.92</td>\n",
              "      <td>1.36</td>\n",
              "      <td>-0.99</td>\n",
              "      <td>-2.91</td>\n",
              "    </tr>\n",
              "    <tr>\n",
              "      <th>b</th>\n",
              "      <td>-3.92</td>\n",
              "      <td>-3.40</td>\n",
              "      <td>2.79</td>\n",
              "      <td>-1.00</td>\n",
              "      <td>-0.86</td>\n",
              "      <td>-1.41</td>\n",
              "      <td>-3.90</td>\n",
              "    </tr>\n",
              "    <tr>\n",
              "      <th>c</th>\n",
              "      <td>-4.91</td>\n",
              "      <td>-2.16</td>\n",
              "      <td>3.23</td>\n",
              "      <td>0.98</td>\n",
              "      <td>1.00</td>\n",
              "      <td>-2.39</td>\n",
              "      <td>-4.90</td>\n",
              "    </tr>\n",
              "    <tr>\n",
              "      <th>b</th>\n",
              "      <td>-5.80</td>\n",
              "      <td>-2.65</td>\n",
              "      <td>4.21</td>\n",
              "      <td>-1.00</td>\n",
              "      <td>-0.99</td>\n",
              "      <td>-1.25</td>\n",
              "      <td>-5.89</td>\n",
              "    </tr>\n",
              "    <tr>\n",
              "      <th>c</th>\n",
              "      <td>-6.79</td>\n",
              "      <td>-0.95</td>\n",
              "      <td>4.35</td>\n",
              "      <td>0.90</td>\n",
              "      <td>1.00</td>\n",
              "      <td>-2.23</td>\n",
              "      <td>-6.89</td>\n",
              "    </tr>\n",
              "    <tr>\n",
              "      <th>b</th>\n",
              "      <td>-7.57</td>\n",
              "      <td>-1.70</td>\n",
              "      <td>5.30</td>\n",
              "      <td>-1.00</td>\n",
              "      <td>-0.99</td>\n",
              "      <td>0.35</td>\n",
              "      <td>-7.79</td>\n",
              "    </tr>\n",
              "    <tr>\n",
              "      <th>c</th>\n",
              "      <td>-8.56</td>\n",
              "      <td>-1.82</td>\n",
              "      <td>5.28</td>\n",
              "      <td>-0.77</td>\n",
              "      <td>1.00</td>\n",
              "      <td>-0.65</td>\n",
              "      <td>-8.79</td>\n",
              "    </tr>\n",
              "  </tbody>\n",
              "</table>\n",
              "</div>\n",
              "    <div class=\"colab-df-buttons\">\n",
              "\n",
              "  <div class=\"colab-df-container\">\n",
              "    <button class=\"colab-df-convert\" onclick=\"convertToInteractive('df-d8d5d66c-ab04-4ee7-b962-f0d75a5f75ec')\"\n",
              "            title=\"Convert this dataframe to an interactive table.\"\n",
              "            style=\"display:none;\">\n",
              "\n",
              "  <svg xmlns=\"http://www.w3.org/2000/svg\" height=\"24px\" viewBox=\"0 -960 960 960\">\n",
              "    <path d=\"M120-120v-720h720v720H120Zm60-500h600v-160H180v160Zm220 220h160v-160H400v160Zm0 220h160v-160H400v160ZM180-400h160v-160H180v160Zm440 0h160v-160H620v160ZM180-180h160v-160H180v160Zm440 0h160v-160H620v160Z\"/>\n",
              "  </svg>\n",
              "    </button>\n",
              "\n",
              "  <style>\n",
              "    .colab-df-container {\n",
              "      display:flex;\n",
              "      gap: 12px;\n",
              "    }\n",
              "\n",
              "    .colab-df-convert {\n",
              "      background-color: #E8F0FE;\n",
              "      border: none;\n",
              "      border-radius: 50%;\n",
              "      cursor: pointer;\n",
              "      display: none;\n",
              "      fill: #1967D2;\n",
              "      height: 32px;\n",
              "      padding: 0 0 0 0;\n",
              "      width: 32px;\n",
              "    }\n",
              "\n",
              "    .colab-df-convert:hover {\n",
              "      background-color: #E2EBFA;\n",
              "      box-shadow: 0px 1px 2px rgba(60, 64, 67, 0.3), 0px 1px 3px 1px rgba(60, 64, 67, 0.15);\n",
              "      fill: #174EA6;\n",
              "    }\n",
              "\n",
              "    .colab-df-buttons div {\n",
              "      margin-bottom: 4px;\n",
              "    }\n",
              "\n",
              "    [theme=dark] .colab-df-convert {\n",
              "      background-color: #3B4455;\n",
              "      fill: #D2E3FC;\n",
              "    }\n",
              "\n",
              "    [theme=dark] .colab-df-convert:hover {\n",
              "      background-color: #434B5C;\n",
              "      box-shadow: 0px 1px 3px 1px rgba(0, 0, 0, 0.15);\n",
              "      filter: drop-shadow(0px 1px 2px rgba(0, 0, 0, 0.3));\n",
              "      fill: #FFFFFF;\n",
              "    }\n",
              "  </style>\n",
              "\n",
              "    <script>\n",
              "      const buttonEl =\n",
              "        document.querySelector('#df-d8d5d66c-ab04-4ee7-b962-f0d75a5f75ec button.colab-df-convert');\n",
              "      buttonEl.style.display =\n",
              "        google.colab.kernel.accessAllowed ? 'block' : 'none';\n",
              "\n",
              "      async function convertToInteractive(key) {\n",
              "        const element = document.querySelector('#df-d8d5d66c-ab04-4ee7-b962-f0d75a5f75ec');\n",
              "        const dataTable =\n",
              "          await google.colab.kernel.invokeFunction('convertToInteractive',\n",
              "                                                    [key], {});\n",
              "        if (!dataTable) return;\n",
              "\n",
              "        const docLinkHtml = 'Like what you see? Visit the ' +\n",
              "          '<a target=\"_blank\" href=https://colab.research.google.com/notebooks/data_table.ipynb>data table notebook</a>'\n",
              "          + ' to learn more about interactive tables.';\n",
              "        element.innerHTML = '';\n",
              "        dataTable['output_type'] = 'display_data';\n",
              "        await google.colab.output.renderOutput(dataTable, element);\n",
              "        const docLink = document.createElement('div');\n",
              "        docLink.innerHTML = docLinkHtml;\n",
              "        element.appendChild(docLink);\n",
              "      }\n",
              "    </script>\n",
              "  </div>\n",
              "\n",
              "\n",
              "<div id=\"df-d8a3eb2a-5887-4c28-932a-33345c181ba5\">\n",
              "  <button class=\"colab-df-quickchart\" onclick=\"quickchart('df-d8a3eb2a-5887-4c28-932a-33345c181ba5')\"\n",
              "            title=\"Suggest charts\"\n",
              "            style=\"display:none;\">\n",
              "\n",
              "<svg xmlns=\"http://www.w3.org/2000/svg\" height=\"24px\"viewBox=\"0 0 24 24\"\n",
              "     width=\"24px\">\n",
              "    <g>\n",
              "        <path d=\"M19 3H5c-1.1 0-2 .9-2 2v14c0 1.1.9 2 2 2h14c1.1 0 2-.9 2-2V5c0-1.1-.9-2-2-2zM9 17H7v-7h2v7zm4 0h-2V7h2v10zm4 0h-2v-4h2v4z\"/>\n",
              "    </g>\n",
              "</svg>\n",
              "  </button>\n",
              "\n",
              "<style>\n",
              "  .colab-df-quickchart {\n",
              "      --bg-color: #E8F0FE;\n",
              "      --fill-color: #1967D2;\n",
              "      --hover-bg-color: #E2EBFA;\n",
              "      --hover-fill-color: #174EA6;\n",
              "      --disabled-fill-color: #AAA;\n",
              "      --disabled-bg-color: #DDD;\n",
              "  }\n",
              "\n",
              "  [theme=dark] .colab-df-quickchart {\n",
              "      --bg-color: #3B4455;\n",
              "      --fill-color: #D2E3FC;\n",
              "      --hover-bg-color: #434B5C;\n",
              "      --hover-fill-color: #FFFFFF;\n",
              "      --disabled-bg-color: #3B4455;\n",
              "      --disabled-fill-color: #666;\n",
              "  }\n",
              "\n",
              "  .colab-df-quickchart {\n",
              "    background-color: var(--bg-color);\n",
              "    border: none;\n",
              "    border-radius: 50%;\n",
              "    cursor: pointer;\n",
              "    display: none;\n",
              "    fill: var(--fill-color);\n",
              "    height: 32px;\n",
              "    padding: 0;\n",
              "    width: 32px;\n",
              "  }\n",
              "\n",
              "  .colab-df-quickchart:hover {\n",
              "    background-color: var(--hover-bg-color);\n",
              "    box-shadow: 0 1px 2px rgba(60, 64, 67, 0.3), 0 1px 3px 1px rgba(60, 64, 67, 0.15);\n",
              "    fill: var(--button-hover-fill-color);\n",
              "  }\n",
              "\n",
              "  .colab-df-quickchart-complete:disabled,\n",
              "  .colab-df-quickchart-complete:disabled:hover {\n",
              "    background-color: var(--disabled-bg-color);\n",
              "    fill: var(--disabled-fill-color);\n",
              "    box-shadow: none;\n",
              "  }\n",
              "\n",
              "  .colab-df-spinner {\n",
              "    border: 2px solid var(--fill-color);\n",
              "    border-color: transparent;\n",
              "    border-bottom-color: var(--fill-color);\n",
              "    animation:\n",
              "      spin 1s steps(1) infinite;\n",
              "  }\n",
              "\n",
              "  @keyframes spin {\n",
              "    0% {\n",
              "      border-color: transparent;\n",
              "      border-bottom-color: var(--fill-color);\n",
              "      border-left-color: var(--fill-color);\n",
              "    }\n",
              "    20% {\n",
              "      border-color: transparent;\n",
              "      border-left-color: var(--fill-color);\n",
              "      border-top-color: var(--fill-color);\n",
              "    }\n",
              "    30% {\n",
              "      border-color: transparent;\n",
              "      border-left-color: var(--fill-color);\n",
              "      border-top-color: var(--fill-color);\n",
              "      border-right-color: var(--fill-color);\n",
              "    }\n",
              "    40% {\n",
              "      border-color: transparent;\n",
              "      border-right-color: var(--fill-color);\n",
              "      border-top-color: var(--fill-color);\n",
              "    }\n",
              "    60% {\n",
              "      border-color: transparent;\n",
              "      border-right-color: var(--fill-color);\n",
              "    }\n",
              "    80% {\n",
              "      border-color: transparent;\n",
              "      border-right-color: var(--fill-color);\n",
              "      border-bottom-color: var(--fill-color);\n",
              "    }\n",
              "    90% {\n",
              "      border-color: transparent;\n",
              "      border-bottom-color: var(--fill-color);\n",
              "    }\n",
              "  }\n",
              "</style>\n",
              "\n",
              "  <script>\n",
              "    async function quickchart(key) {\n",
              "      const quickchartButtonEl =\n",
              "        document.querySelector('#' + key + ' button');\n",
              "      quickchartButtonEl.disabled = true;  // To prevent multiple clicks.\n",
              "      quickchartButtonEl.classList.add('colab-df-spinner');\n",
              "      try {\n",
              "        const charts = await google.colab.kernel.invokeFunction(\n",
              "            'suggestCharts', [key], {});\n",
              "      } catch (error) {\n",
              "        console.error('Error during call to suggestCharts:', error);\n",
              "      }\n",
              "      quickchartButtonEl.classList.remove('colab-df-spinner');\n",
              "      quickchartButtonEl.classList.add('colab-df-quickchart-complete');\n",
              "    }\n",
              "    (() => {\n",
              "      let quickchartButtonEl =\n",
              "        document.querySelector('#df-d8a3eb2a-5887-4c28-932a-33345c181ba5 button');\n",
              "      quickchartButtonEl.style.display =\n",
              "        google.colab.kernel.accessAllowed ? 'block' : 'none';\n",
              "    })();\n",
              "  </script>\n",
              "</div>\n",
              "\n",
              "    </div>\n",
              "  </div>\n"
            ],
            "application/vnd.google.colaboratory.intrinsic+json": {
              "type": "dataframe",
              "summary": "{\n  \"name\": \"             index=pd\",\n  \"rows\": 9,\n  \"fields\": [\n    {\n      \"column\": \"input\",\n      \"properties\": {\n        \"dtype\": \"category\",\n        \"num_unique_values\": 3,\n        \"samples\": [\n          \"b\",\n          \"c\",\n          \"a\"\n        ],\n        \"semantic_type\": \"\",\n        \"description\": \"\"\n      }\n    },\n    {\n      \"column\": 0,\n      \"properties\": {\n        \"dtype\": \"float32\",\n        \"num_unique_values\": 9,\n        \"samples\": [\n          -7.570000171661377,\n          -1.940000057220459,\n          -5.800000190734863\n        ],\n        \"semantic_type\": \"\",\n        \"description\": \"\"\n      }\n    },\n    {\n      \"column\": 1,\n      \"properties\": {\n        \"dtype\": \"float32\",\n        \"num_unique_values\": 9,\n        \"samples\": [\n          -1.7000000476837158,\n          -1.7200000286102295,\n          -2.6500000953674316\n        ],\n        \"semantic_type\": \"\",\n        \"description\": \"\"\n      }\n    },\n    {\n      \"column\": 2,\n      \"properties\": {\n        \"dtype\": \"float32\",\n        \"num_unique_values\": 9,\n        \"samples\": [\n          5.300000190734863,\n          0.800000011920929,\n          4.210000038146973\n        ],\n        \"semantic_type\": \"\",\n        \"description\": \"\"\n      }\n    },\n    {\n      \"column\": 3,\n      \"properties\": {\n        \"dtype\": \"float32\",\n        \"num_unique_values\": 6,\n        \"samples\": [\n          -0.7699999809265137,\n          -0.7400000095367432,\n          0.8999999761581421\n        ],\n        \"semantic_type\": \"\",\n        \"description\": \"\"\n      }\n    },\n    {\n      \"column\": 4,\n      \"properties\": {\n        \"dtype\": \"float32\",\n        \"num_unique_values\": 6,\n        \"samples\": [\n          -0.8100000023841858,\n          0.9900000095367432,\n          -0.9900000095367432\n        ],\n        \"semantic_type\": \"\",\n        \"description\": \"\"\n      }\n    },\n    {\n      \"column\": 5,\n      \"properties\": {\n        \"dtype\": \"float32\",\n        \"num_unique_values\": 9,\n        \"samples\": [\n          0.3499999940395355,\n          -0.029999999329447746,\n          -1.25\n        ],\n        \"semantic_type\": \"\",\n        \"description\": \"\"\n      }\n    },\n    {\n      \"column\": 6,\n      \"properties\": {\n        \"dtype\": \"float32\",\n        \"num_unique_values\": 9,\n        \"samples\": [\n          -7.789999961853027,\n          -1.909999966621399,\n          -5.889999866485596\n        ],\n        \"semantic_type\": \"\",\n        \"description\": \"\"\n      }\n    }\n  ]\n}"
            }
          },
          "metadata": {},
          "execution_count": 31
        }
      ]
    },
    {
      "cell_type": "code",
      "source": [
        "# compare with bcbcbcbcbc (so, no \"a\" to remember)\n",
        "x = chars2vec('bcbcbcbcbc', char2int)\n",
        "outputs, hiddens, cells = lstm.forward_unrolled(x)\n",
        "# what is last letter predicted?\n",
        "print('last letter predicted=', output2label(outputs[-1], chars))\n",
        "print('memory cells:')\n",
        "pd.DataFrame([pp(c) for c in cells],\n",
        "             index=pd.Index(list('bcbcbcbcbc')[:-1], name='input'))"
      ],
      "metadata": {
        "colab": {
          "base_uri": "https://localhost:8080/",
          "height": 397
        },
        "collapsed": true,
        "id": "ZI7oUCLvBLPI",
        "outputId": "930455c9-5ac1-4687-d9d4-8e0f9adc4f27"
      },
      "execution_count": 32,
      "outputs": [
        {
          "output_type": "stream",
          "name": "stdout",
          "text": [
            "last letter predicted= c\n",
            "memory cells:\n"
          ]
        },
        {
          "output_type": "execute_result",
          "data": {
            "text/plain": [
              "          0     1     2     3     4     5     6\n",
              "input                                          \n",
              "b     -0.95 -0.94  0.83 -0.77 -0.81  0.98 -0.92\n",
              "c     -1.94 -1.72  0.80 -0.74  0.99 -0.03 -1.91\n",
              "b     -2.92 -2.62  1.79 -1.00  0.68  0.40 -2.89\n",
              "c     -3.92 -3.51  2.32  0.69  1.00 -0.62 -3.89\n",
              "b     -4.90 -4.19  3.32 -1.00 -0.82 -1.17 -4.89\n",
              "c     -5.90 -2.70  3.72  0.98  1.00 -2.16 -5.89\n",
              "b     -6.78 -3.10  4.70 -1.00 -0.99 -1.17 -6.87\n",
              "c     -7.77 -1.13  4.84  0.89  1.00 -2.16 -7.87\n",
              "b     -8.54 -1.86  5.78 -1.00 -0.99  0.35 -8.76"
            ],
            "text/html": [
              "\n",
              "  <div id=\"df-9085872e-5d9f-4d11-96b1-e1b0ba625f6c\" class=\"colab-df-container\">\n",
              "    <div>\n",
              "<style scoped>\n",
              "    .dataframe tbody tr th:only-of-type {\n",
              "        vertical-align: middle;\n",
              "    }\n",
              "\n",
              "    .dataframe tbody tr th {\n",
              "        vertical-align: top;\n",
              "    }\n",
              "\n",
              "    .dataframe thead th {\n",
              "        text-align: right;\n",
              "    }\n",
              "</style>\n",
              "<table border=\"1\" class=\"dataframe\">\n",
              "  <thead>\n",
              "    <tr style=\"text-align: right;\">\n",
              "      <th></th>\n",
              "      <th>0</th>\n",
              "      <th>1</th>\n",
              "      <th>2</th>\n",
              "      <th>3</th>\n",
              "      <th>4</th>\n",
              "      <th>5</th>\n",
              "      <th>6</th>\n",
              "    </tr>\n",
              "    <tr>\n",
              "      <th>input</th>\n",
              "      <th></th>\n",
              "      <th></th>\n",
              "      <th></th>\n",
              "      <th></th>\n",
              "      <th></th>\n",
              "      <th></th>\n",
              "      <th></th>\n",
              "    </tr>\n",
              "  </thead>\n",
              "  <tbody>\n",
              "    <tr>\n",
              "      <th>b</th>\n",
              "      <td>-0.95</td>\n",
              "      <td>-0.94</td>\n",
              "      <td>0.83</td>\n",
              "      <td>-0.77</td>\n",
              "      <td>-0.81</td>\n",
              "      <td>0.98</td>\n",
              "      <td>-0.92</td>\n",
              "    </tr>\n",
              "    <tr>\n",
              "      <th>c</th>\n",
              "      <td>-1.94</td>\n",
              "      <td>-1.72</td>\n",
              "      <td>0.80</td>\n",
              "      <td>-0.74</td>\n",
              "      <td>0.99</td>\n",
              "      <td>-0.03</td>\n",
              "      <td>-1.91</td>\n",
              "    </tr>\n",
              "    <tr>\n",
              "      <th>b</th>\n",
              "      <td>-2.92</td>\n",
              "      <td>-2.62</td>\n",
              "      <td>1.79</td>\n",
              "      <td>-1.00</td>\n",
              "      <td>0.68</td>\n",
              "      <td>0.40</td>\n",
              "      <td>-2.89</td>\n",
              "    </tr>\n",
              "    <tr>\n",
              "      <th>c</th>\n",
              "      <td>-3.92</td>\n",
              "      <td>-3.51</td>\n",
              "      <td>2.32</td>\n",
              "      <td>0.69</td>\n",
              "      <td>1.00</td>\n",
              "      <td>-0.62</td>\n",
              "      <td>-3.89</td>\n",
              "    </tr>\n",
              "    <tr>\n",
              "      <th>b</th>\n",
              "      <td>-4.90</td>\n",
              "      <td>-4.19</td>\n",
              "      <td>3.32</td>\n",
              "      <td>-1.00</td>\n",
              "      <td>-0.82</td>\n",
              "      <td>-1.17</td>\n",
              "      <td>-4.89</td>\n",
              "    </tr>\n",
              "    <tr>\n",
              "      <th>c</th>\n",
              "      <td>-5.90</td>\n",
              "      <td>-2.70</td>\n",
              "      <td>3.72</td>\n",
              "      <td>0.98</td>\n",
              "      <td>1.00</td>\n",
              "      <td>-2.16</td>\n",
              "      <td>-5.89</td>\n",
              "    </tr>\n",
              "    <tr>\n",
              "      <th>b</th>\n",
              "      <td>-6.78</td>\n",
              "      <td>-3.10</td>\n",
              "      <td>4.70</td>\n",
              "      <td>-1.00</td>\n",
              "      <td>-0.99</td>\n",
              "      <td>-1.17</td>\n",
              "      <td>-6.87</td>\n",
              "    </tr>\n",
              "    <tr>\n",
              "      <th>c</th>\n",
              "      <td>-7.77</td>\n",
              "      <td>-1.13</td>\n",
              "      <td>4.84</td>\n",
              "      <td>0.89</td>\n",
              "      <td>1.00</td>\n",
              "      <td>-2.16</td>\n",
              "      <td>-7.87</td>\n",
              "    </tr>\n",
              "    <tr>\n",
              "      <th>b</th>\n",
              "      <td>-8.54</td>\n",
              "      <td>-1.86</td>\n",
              "      <td>5.78</td>\n",
              "      <td>-1.00</td>\n",
              "      <td>-0.99</td>\n",
              "      <td>0.35</td>\n",
              "      <td>-8.76</td>\n",
              "    </tr>\n",
              "  </tbody>\n",
              "</table>\n",
              "</div>\n",
              "    <div class=\"colab-df-buttons\">\n",
              "\n",
              "  <div class=\"colab-df-container\">\n",
              "    <button class=\"colab-df-convert\" onclick=\"convertToInteractive('df-9085872e-5d9f-4d11-96b1-e1b0ba625f6c')\"\n",
              "            title=\"Convert this dataframe to an interactive table.\"\n",
              "            style=\"display:none;\">\n",
              "\n",
              "  <svg xmlns=\"http://www.w3.org/2000/svg\" height=\"24px\" viewBox=\"0 -960 960 960\">\n",
              "    <path d=\"M120-120v-720h720v720H120Zm60-500h600v-160H180v160Zm220 220h160v-160H400v160Zm0 220h160v-160H400v160ZM180-400h160v-160H180v160Zm440 0h160v-160H620v160ZM180-180h160v-160H180v160Zm440 0h160v-160H620v160Z\"/>\n",
              "  </svg>\n",
              "    </button>\n",
              "\n",
              "  <style>\n",
              "    .colab-df-container {\n",
              "      display:flex;\n",
              "      gap: 12px;\n",
              "    }\n",
              "\n",
              "    .colab-df-convert {\n",
              "      background-color: #E8F0FE;\n",
              "      border: none;\n",
              "      border-radius: 50%;\n",
              "      cursor: pointer;\n",
              "      display: none;\n",
              "      fill: #1967D2;\n",
              "      height: 32px;\n",
              "      padding: 0 0 0 0;\n",
              "      width: 32px;\n",
              "    }\n",
              "\n",
              "    .colab-df-convert:hover {\n",
              "      background-color: #E2EBFA;\n",
              "      box-shadow: 0px 1px 2px rgba(60, 64, 67, 0.3), 0px 1px 3px 1px rgba(60, 64, 67, 0.15);\n",
              "      fill: #174EA6;\n",
              "    }\n",
              "\n",
              "    .colab-df-buttons div {\n",
              "      margin-bottom: 4px;\n",
              "    }\n",
              "\n",
              "    [theme=dark] .colab-df-convert {\n",
              "      background-color: #3B4455;\n",
              "      fill: #D2E3FC;\n",
              "    }\n",
              "\n",
              "    [theme=dark] .colab-df-convert:hover {\n",
              "      background-color: #434B5C;\n",
              "      box-shadow: 0px 1px 3px 1px rgba(0, 0, 0, 0.15);\n",
              "      filter: drop-shadow(0px 1px 2px rgba(0, 0, 0, 0.3));\n",
              "      fill: #FFFFFF;\n",
              "    }\n",
              "  </style>\n",
              "\n",
              "    <script>\n",
              "      const buttonEl =\n",
              "        document.querySelector('#df-9085872e-5d9f-4d11-96b1-e1b0ba625f6c button.colab-df-convert');\n",
              "      buttonEl.style.display =\n",
              "        google.colab.kernel.accessAllowed ? 'block' : 'none';\n",
              "\n",
              "      async function convertToInteractive(key) {\n",
              "        const element = document.querySelector('#df-9085872e-5d9f-4d11-96b1-e1b0ba625f6c');\n",
              "        const dataTable =\n",
              "          await google.colab.kernel.invokeFunction('convertToInteractive',\n",
              "                                                    [key], {});\n",
              "        if (!dataTable) return;\n",
              "\n",
              "        const docLinkHtml = 'Like what you see? Visit the ' +\n",
              "          '<a target=\"_blank\" href=https://colab.research.google.com/notebooks/data_table.ipynb>data table notebook</a>'\n",
              "          + ' to learn more about interactive tables.';\n",
              "        element.innerHTML = '';\n",
              "        dataTable['output_type'] = 'display_data';\n",
              "        await google.colab.output.renderOutput(dataTable, element);\n",
              "        const docLink = document.createElement('div');\n",
              "        docLink.innerHTML = docLinkHtml;\n",
              "        element.appendChild(docLink);\n",
              "      }\n",
              "    </script>\n",
              "  </div>\n",
              "\n",
              "\n",
              "<div id=\"df-ea684825-7ede-4898-a603-7c02f0a1b14b\">\n",
              "  <button class=\"colab-df-quickchart\" onclick=\"quickchart('df-ea684825-7ede-4898-a603-7c02f0a1b14b')\"\n",
              "            title=\"Suggest charts\"\n",
              "            style=\"display:none;\">\n",
              "\n",
              "<svg xmlns=\"http://www.w3.org/2000/svg\" height=\"24px\"viewBox=\"0 0 24 24\"\n",
              "     width=\"24px\">\n",
              "    <g>\n",
              "        <path d=\"M19 3H5c-1.1 0-2 .9-2 2v14c0 1.1.9 2 2 2h14c1.1 0 2-.9 2-2V5c0-1.1-.9-2-2-2zM9 17H7v-7h2v7zm4 0h-2V7h2v10zm4 0h-2v-4h2v4z\"/>\n",
              "    </g>\n",
              "</svg>\n",
              "  </button>\n",
              "\n",
              "<style>\n",
              "  .colab-df-quickchart {\n",
              "      --bg-color: #E8F0FE;\n",
              "      --fill-color: #1967D2;\n",
              "      --hover-bg-color: #E2EBFA;\n",
              "      --hover-fill-color: #174EA6;\n",
              "      --disabled-fill-color: #AAA;\n",
              "      --disabled-bg-color: #DDD;\n",
              "  }\n",
              "\n",
              "  [theme=dark] .colab-df-quickchart {\n",
              "      --bg-color: #3B4455;\n",
              "      --fill-color: #D2E3FC;\n",
              "      --hover-bg-color: #434B5C;\n",
              "      --hover-fill-color: #FFFFFF;\n",
              "      --disabled-bg-color: #3B4455;\n",
              "      --disabled-fill-color: #666;\n",
              "  }\n",
              "\n",
              "  .colab-df-quickchart {\n",
              "    background-color: var(--bg-color);\n",
              "    border: none;\n",
              "    border-radius: 50%;\n",
              "    cursor: pointer;\n",
              "    display: none;\n",
              "    fill: var(--fill-color);\n",
              "    height: 32px;\n",
              "    padding: 0;\n",
              "    width: 32px;\n",
              "  }\n",
              "\n",
              "  .colab-df-quickchart:hover {\n",
              "    background-color: var(--hover-bg-color);\n",
              "    box-shadow: 0 1px 2px rgba(60, 64, 67, 0.3), 0 1px 3px 1px rgba(60, 64, 67, 0.15);\n",
              "    fill: var(--button-hover-fill-color);\n",
              "  }\n",
              "\n",
              "  .colab-df-quickchart-complete:disabled,\n",
              "  .colab-df-quickchart-complete:disabled:hover {\n",
              "    background-color: var(--disabled-bg-color);\n",
              "    fill: var(--disabled-fill-color);\n",
              "    box-shadow: none;\n",
              "  }\n",
              "\n",
              "  .colab-df-spinner {\n",
              "    border: 2px solid var(--fill-color);\n",
              "    border-color: transparent;\n",
              "    border-bottom-color: var(--fill-color);\n",
              "    animation:\n",
              "      spin 1s steps(1) infinite;\n",
              "  }\n",
              "\n",
              "  @keyframes spin {\n",
              "    0% {\n",
              "      border-color: transparent;\n",
              "      border-bottom-color: var(--fill-color);\n",
              "      border-left-color: var(--fill-color);\n",
              "    }\n",
              "    20% {\n",
              "      border-color: transparent;\n",
              "      border-left-color: var(--fill-color);\n",
              "      border-top-color: var(--fill-color);\n",
              "    }\n",
              "    30% {\n",
              "      border-color: transparent;\n",
              "      border-left-color: var(--fill-color);\n",
              "      border-top-color: var(--fill-color);\n",
              "      border-right-color: var(--fill-color);\n",
              "    }\n",
              "    40% {\n",
              "      border-color: transparent;\n",
              "      border-right-color: var(--fill-color);\n",
              "      border-top-color: var(--fill-color);\n",
              "    }\n",
              "    60% {\n",
              "      border-color: transparent;\n",
              "      border-right-color: var(--fill-color);\n",
              "    }\n",
              "    80% {\n",
              "      border-color: transparent;\n",
              "      border-right-color: var(--fill-color);\n",
              "      border-bottom-color: var(--fill-color);\n",
              "    }\n",
              "    90% {\n",
              "      border-color: transparent;\n",
              "      border-bottom-color: var(--fill-color);\n",
              "    }\n",
              "  }\n",
              "</style>\n",
              "\n",
              "  <script>\n",
              "    async function quickchart(key) {\n",
              "      const quickchartButtonEl =\n",
              "        document.querySelector('#' + key + ' button');\n",
              "      quickchartButtonEl.disabled = true;  // To prevent multiple clicks.\n",
              "      quickchartButtonEl.classList.add('colab-df-spinner');\n",
              "      try {\n",
              "        const charts = await google.colab.kernel.invokeFunction(\n",
              "            'suggestCharts', [key], {});\n",
              "      } catch (error) {\n",
              "        console.error('Error during call to suggestCharts:', error);\n",
              "      }\n",
              "      quickchartButtonEl.classList.remove('colab-df-spinner');\n",
              "      quickchartButtonEl.classList.add('colab-df-quickchart-complete');\n",
              "    }\n",
              "    (() => {\n",
              "      let quickchartButtonEl =\n",
              "        document.querySelector('#df-ea684825-7ede-4898-a603-7c02f0a1b14b button');\n",
              "      quickchartButtonEl.style.display =\n",
              "        google.colab.kernel.accessAllowed ? 'block' : 'none';\n",
              "    })();\n",
              "  </script>\n",
              "</div>\n",
              "\n",
              "    </div>\n",
              "  </div>\n"
            ],
            "application/vnd.google.colaboratory.intrinsic+json": {
              "type": "dataframe",
              "summary": "{\n  \"name\": \"             index=pd\",\n  \"rows\": 9,\n  \"fields\": [\n    {\n      \"column\": \"input\",\n      \"properties\": {\n        \"dtype\": \"category\",\n        \"num_unique_values\": 2,\n        \"samples\": [\n          \"c\",\n          \"b\"\n        ],\n        \"semantic_type\": \"\",\n        \"description\": \"\"\n      }\n    },\n    {\n      \"column\": 0,\n      \"properties\": {\n        \"dtype\": \"float32\",\n        \"num_unique_values\": 9,\n        \"samples\": [\n          -7.769999980926514,\n          -1.940000057220459\n        ],\n        \"semantic_type\": \"\",\n        \"description\": \"\"\n      }\n    },\n    {\n      \"column\": 1,\n      \"properties\": {\n        \"dtype\": \"float32\",\n        \"num_unique_values\": 9,\n        \"samples\": [\n          -1.1299999952316284,\n          -1.7200000286102295\n        ],\n        \"semantic_type\": \"\",\n        \"description\": \"\"\n      }\n    },\n    {\n      \"column\": 2,\n      \"properties\": {\n        \"dtype\": \"float32\",\n        \"num_unique_values\": 9,\n        \"samples\": [\n          4.840000152587891,\n          0.800000011920929\n        ],\n        \"semantic_type\": \"\",\n        \"description\": \"\"\n      }\n    },\n    {\n      \"column\": 3,\n      \"properties\": {\n        \"dtype\": \"float32\",\n        \"num_unique_values\": 6,\n        \"samples\": [\n          -0.7699999809265137,\n          -0.7400000095367432\n        ],\n        \"semantic_type\": \"\",\n        \"description\": \"\"\n      }\n    },\n    {\n      \"column\": 4,\n      \"properties\": {\n        \"dtype\": \"float32\",\n        \"num_unique_values\": 6,\n        \"samples\": [\n          -0.8100000023841858,\n          0.9900000095367432\n        ],\n        \"semantic_type\": \"\",\n        \"description\": \"\"\n      }\n    },\n    {\n      \"column\": 5,\n      \"properties\": {\n        \"dtype\": \"float32\",\n        \"num_unique_values\": 7,\n        \"samples\": [\n          0.9800000190734863,\n          -0.029999999329447746\n        ],\n        \"semantic_type\": \"\",\n        \"description\": \"\"\n      }\n    },\n    {\n      \"column\": 6,\n      \"properties\": {\n        \"dtype\": \"float32\",\n        \"num_unique_values\": 9,\n        \"samples\": [\n          -7.869999885559082,\n          -1.909999966621399\n        ],\n        \"semantic_type\": \"\",\n        \"description\": \"\"\n      }\n    }\n  ]\n}"
            }
          },
          "metadata": {},
          "execution_count": 32
        }
      ]
    },
    {
      "cell_type": "markdown",
      "source": [
        "Examining the last row above, what looks different? What tells the network to produce \"a\" at the next time step?"
      ],
      "metadata": {
        "id": "ZzG02zODACSK"
      }
    },
    {
      "cell_type": "markdown",
      "source": [
        "It appears that this LSTM has learned to \"remember\" the character \"a\" for later use.\n",
        "\n",
        "<br><br>\n",
        "\n",
        "How does the RNN do?"
      ],
      "metadata": {
        "id": "N_6x8rTTsSTs"
      }
    },
    {
      "cell_type": "code",
      "source": [
        "rnn = RNN(len(chars), 7, len(chars), chars, verbose=True)\n",
        "rnn = train_model(rnn, data, epochs=40, learning_rate=.1, batch_size=10)"
      ],
      "metadata": {
        "colab": {
          "base_uri": "https://localhost:8080/",
          "height": 1000
        },
        "collapsed": true,
        "id": "uRFP6LIfsT-t",
        "outputId": "22a0d098-e604-4572-faeb-1107c43bca66"
      },
      "execution_count": 33,
      "outputs": [
        {
          "output_type": "stream",
          "name": "stdout",
          "text": [
            "epoch=0\n"
          ]
        },
        {
          "output_type": "stream",
          "name": "stderr",
          "text": [
            "Epoch 1/40: 100%|██████████| 20/20 [00:00<00:00, 116.80sample/s, Batch=2, Loss=0.887]\n"
          ]
        },
        {
          "output_type": "stream",
          "name": "stdout",
          "text": [
            "Epoch [1/40], Average Loss: 1.0896\n",
            "epoch=1\n"
          ]
        },
        {
          "output_type": "stream",
          "name": "stderr",
          "text": [
            "Epoch 2/40: 100%|██████████| 20/20 [00:00<00:00, 190.87sample/s, Batch=2, Loss=0.357]\n"
          ]
        },
        {
          "output_type": "stream",
          "name": "stdout",
          "text": [
            "Epoch [2/40], Average Loss: 0.5567\n",
            "epoch=2\n"
          ]
        },
        {
          "output_type": "stream",
          "name": "stderr",
          "text": [
            "Epoch 3/40: 100%|██████████| 20/20 [00:00<00:00, 75.80sample/s, Batch=2, Loss=0.357]\n"
          ]
        },
        {
          "output_type": "stream",
          "name": "stdout",
          "text": [
            "Epoch [3/40], Average Loss: 0.4802\n",
            "epoch=3\n"
          ]
        },
        {
          "output_type": "stream",
          "name": "stderr",
          "text": [
            "Epoch 4/40: 100%|██████████| 20/20 [00:00<00:00, 199.30sample/s, Batch=2, Loss=0.293]\n"
          ]
        },
        {
          "output_type": "stream",
          "name": "stdout",
          "text": [
            "Epoch [4/40], Average Loss: 0.3312\n",
            "epoch=4\n"
          ]
        },
        {
          "output_type": "stream",
          "name": "stderr",
          "text": [
            "Epoch 5/40: 100%|██████████| 20/20 [00:00<00:00, 185.48sample/s, Batch=2, Loss=0.325]\n"
          ]
        },
        {
          "output_type": "stream",
          "name": "stdout",
          "text": [
            "Epoch [5/40], Average Loss: 0.3008\n",
            "epoch=5\n"
          ]
        },
        {
          "output_type": "stream",
          "name": "stderr",
          "text": [
            "Epoch 6/40: 100%|██████████| 20/20 [00:00<00:00, 80.89sample/s, Batch=2, Loss=0.324]\n"
          ]
        },
        {
          "output_type": "stream",
          "name": "stdout",
          "text": [
            "Epoch [6/40], Average Loss: 0.2731\n",
            "epoch=6\n"
          ]
        },
        {
          "output_type": "stream",
          "name": "stderr",
          "text": [
            "Epoch 7/40: 100%|██████████| 20/20 [00:00<00:00, 97.93sample/s, Batch=2, Loss=0.256]\n"
          ]
        },
        {
          "output_type": "stream",
          "name": "stdout",
          "text": [
            "Epoch [7/40], Average Loss: 0.2575\n",
            "epoch=7\n"
          ]
        },
        {
          "output_type": "stream",
          "name": "stderr",
          "text": [
            "Epoch 8/40: 100%|██████████| 20/20 [00:00<00:00, 113.64sample/s, Batch=2, Loss=0.211]\n"
          ]
        },
        {
          "output_type": "stream",
          "name": "stdout",
          "text": [
            "Epoch [8/40], Average Loss: 0.2592\n",
            "epoch=8\n"
          ]
        },
        {
          "output_type": "stream",
          "name": "stderr",
          "text": [
            "Epoch 9/40: 100%|██████████| 20/20 [00:00<00:00, 143.16sample/s, Batch=2, Loss=0.218]\n"
          ]
        },
        {
          "output_type": "stream",
          "name": "stdout",
          "text": [
            "Epoch [9/40], Average Loss: 0.2558\n",
            "epoch=9\n"
          ]
        },
        {
          "output_type": "stream",
          "name": "stderr",
          "text": [
            "Epoch 10/40: 100%|██████████| 20/20 [00:00<00:00, 79.21sample/s, Batch=2, Loss=0.222]\n"
          ]
        },
        {
          "output_type": "stream",
          "name": "stdout",
          "text": [
            "Epoch [10/40], Average Loss: 0.2465\n",
            "epoch=10\n"
          ]
        },
        {
          "output_type": "stream",
          "name": "stderr",
          "text": [
            "Epoch 11/40: 100%|██████████| 20/20 [00:00<00:00, 75.78sample/s, Batch=2, Loss=0.248]\n"
          ]
        },
        {
          "output_type": "stream",
          "name": "stdout",
          "text": [
            "Epoch [11/40], Average Loss: 0.2478\n",
            "epoch=11\n"
          ]
        },
        {
          "output_type": "stream",
          "name": "stderr",
          "text": [
            "Epoch 12/40: 100%|██████████| 20/20 [00:00<00:00, 63.84sample/s, Batch=2, Loss=0.214]\n"
          ]
        },
        {
          "output_type": "stream",
          "name": "stdout",
          "text": [
            "Epoch [12/40], Average Loss: 0.2463\n",
            "epoch=12\n"
          ]
        },
        {
          "output_type": "stream",
          "name": "stderr",
          "text": [
            "Epoch 13/40: 100%|██████████| 20/20 [00:00<00:00, 136.70sample/s, Batch=2, Loss=0.215]\n"
          ]
        },
        {
          "output_type": "stream",
          "name": "stdout",
          "text": [
            "Epoch [13/40], Average Loss: 0.2383\n",
            "epoch=13\n"
          ]
        },
        {
          "output_type": "stream",
          "name": "stderr",
          "text": [
            "Epoch 14/40: 100%|██████████| 20/20 [00:00<00:00, 177.03sample/s, Batch=2, Loss=0.246]\n"
          ]
        },
        {
          "output_type": "stream",
          "name": "stdout",
          "text": [
            "Epoch [14/40], Average Loss: 0.2304\n",
            "epoch=14\n"
          ]
        },
        {
          "output_type": "stream",
          "name": "stderr",
          "text": [
            "Epoch 15/40: 100%|██████████| 20/20 [00:00<00:00, 120.42sample/s, Batch=2, Loss=0.242]\n"
          ]
        },
        {
          "output_type": "stream",
          "name": "stdout",
          "text": [
            "Epoch [15/40], Average Loss: 0.2235\n",
            "epoch=15\n"
          ]
        },
        {
          "output_type": "stream",
          "name": "stderr",
          "text": [
            "Epoch 16/40: 100%|██████████| 20/20 [00:00<00:00, 312.75sample/s, Batch=2, Loss=0.201]\n"
          ]
        },
        {
          "output_type": "stream",
          "name": "stdout",
          "text": [
            "Epoch [16/40], Average Loss: 0.2061\n",
            "epoch=16\n"
          ]
        },
        {
          "output_type": "stream",
          "name": "stderr",
          "text": [
            "Epoch 17/40: 100%|██████████| 20/20 [00:00<00:00, 324.08sample/s, Batch=2, Loss=0.207]\n"
          ]
        },
        {
          "output_type": "stream",
          "name": "stdout",
          "text": [
            "Epoch [17/40], Average Loss: 0.1945\n",
            "epoch=17\n"
          ]
        },
        {
          "output_type": "stream",
          "name": "stderr",
          "text": [
            "Epoch 18/40: 100%|██████████| 20/20 [00:00<00:00, 300.81sample/s, Batch=2, Loss=0.189]\n"
          ]
        },
        {
          "output_type": "stream",
          "name": "stdout",
          "text": [
            "Epoch [18/40], Average Loss: 0.1893\n",
            "epoch=18\n"
          ]
        },
        {
          "output_type": "stream",
          "name": "stderr",
          "text": [
            "Epoch 19/40: 100%|██████████| 20/20 [00:00<00:00, 243.85sample/s, Batch=2, Loss=0.179]\n"
          ]
        },
        {
          "output_type": "stream",
          "name": "stdout",
          "text": [
            "Epoch [19/40], Average Loss: 0.1890\n",
            "epoch=19\n"
          ]
        },
        {
          "output_type": "stream",
          "name": "stderr",
          "text": [
            "Epoch 20/40: 100%|██████████| 20/20 [00:00<00:00, 239.38sample/s, Batch=2, Loss=0.217]\n"
          ]
        },
        {
          "output_type": "stream",
          "name": "stdout",
          "text": [
            "Epoch [20/40], Average Loss: 0.1920\n",
            "epoch=20\n"
          ]
        },
        {
          "output_type": "stream",
          "name": "stderr",
          "text": [
            "Epoch 21/40: 100%|██████████| 20/20 [00:00<00:00, 249.53sample/s, Batch=2, Loss=0.186]\n"
          ]
        },
        {
          "output_type": "stream",
          "name": "stdout",
          "text": [
            "Epoch [21/40], Average Loss: 0.1867\n",
            "epoch=21\n"
          ]
        },
        {
          "output_type": "stream",
          "name": "stderr",
          "text": [
            "Epoch 22/40: 100%|██████████| 20/20 [00:00<00:00, 270.93sample/s, Batch=2, Loss=0.218]\n"
          ]
        },
        {
          "output_type": "stream",
          "name": "stdout",
          "text": [
            "Epoch [22/40], Average Loss: 0.1879\n",
            "epoch=22\n"
          ]
        },
        {
          "output_type": "stream",
          "name": "stderr",
          "text": [
            "Epoch 23/40: 100%|██████████| 20/20 [00:00<00:00, 263.62sample/s, Batch=2, Loss=0.18]\n"
          ]
        },
        {
          "output_type": "stream",
          "name": "stdout",
          "text": [
            "Epoch [23/40], Average Loss: 0.1885\n",
            "epoch=23\n"
          ]
        },
        {
          "output_type": "stream",
          "name": "stderr",
          "text": [
            "Epoch 24/40: 100%|██████████| 20/20 [00:00<00:00, 300.46sample/s, Batch=2, Loss=0.191]\n"
          ]
        },
        {
          "output_type": "stream",
          "name": "stdout",
          "text": [
            "Epoch [24/40], Average Loss: 0.1862\n",
            "epoch=24\n"
          ]
        },
        {
          "output_type": "stream",
          "name": "stderr",
          "text": [
            "Epoch 25/40: 100%|██████████| 20/20 [00:00<00:00, 304.59sample/s, Batch=2, Loss=0.177]\n"
          ]
        },
        {
          "output_type": "stream",
          "name": "stdout",
          "text": [
            "Epoch [25/40], Average Loss: 0.1780\n",
            "epoch=25\n"
          ]
        },
        {
          "output_type": "stream",
          "name": "stderr",
          "text": [
            "Epoch 26/40: 100%|██████████| 20/20 [00:00<00:00, 257.02sample/s, Batch=2, Loss=0.184]\n"
          ]
        },
        {
          "output_type": "stream",
          "name": "stdout",
          "text": [
            "Epoch [26/40], Average Loss: 0.1759\n",
            "epoch=26\n"
          ]
        },
        {
          "output_type": "stream",
          "name": "stderr",
          "text": [
            "Epoch 27/40: 100%|██████████| 20/20 [00:00<00:00, 301.40sample/s, Batch=2, Loss=0.166]\n"
          ]
        },
        {
          "output_type": "stream",
          "name": "stdout",
          "text": [
            "Epoch [27/40], Average Loss: 0.1670\n",
            "epoch=27\n"
          ]
        },
        {
          "output_type": "stream",
          "name": "stderr",
          "text": [
            "Epoch 28/40: 100%|██████████| 20/20 [00:00<00:00, 326.92sample/s, Batch=2, Loss=0.167]\n"
          ]
        },
        {
          "output_type": "stream",
          "name": "stdout",
          "text": [
            "Epoch [28/40], Average Loss: 0.1673\n",
            "epoch=28\n"
          ]
        },
        {
          "output_type": "stream",
          "name": "stderr",
          "text": [
            "Epoch 29/40: 100%|██████████| 20/20 [00:00<00:00, 298.69sample/s, Batch=2, Loss=0.162]\n"
          ]
        },
        {
          "output_type": "stream",
          "name": "stdout",
          "text": [
            "Epoch [29/40], Average Loss: 0.1633\n",
            "epoch=29\n"
          ]
        },
        {
          "output_type": "stream",
          "name": "stderr",
          "text": [
            "Epoch 30/40: 100%|██████████| 20/20 [00:00<00:00, 278.09sample/s, Batch=2, Loss=0.172]\n"
          ]
        },
        {
          "output_type": "stream",
          "name": "stdout",
          "text": [
            "Epoch [30/40], Average Loss: 0.1687\n",
            "epoch=30\n"
          ]
        },
        {
          "output_type": "stream",
          "name": "stderr",
          "text": [
            "Epoch 31/40: 100%|██████████| 20/20 [00:00<00:00, 213.42sample/s, Batch=2, Loss=0.171]\n"
          ]
        },
        {
          "output_type": "stream",
          "name": "stdout",
          "text": [
            "Epoch [31/40], Average Loss: 0.1648\n",
            "epoch=31\n"
          ]
        },
        {
          "output_type": "stream",
          "name": "stderr",
          "text": [
            "Epoch 32/40: 100%|██████████| 20/20 [00:00<00:00, 207.90sample/s, Batch=2, Loss=0.161]\n"
          ]
        },
        {
          "output_type": "stream",
          "name": "stdout",
          "text": [
            "Epoch [32/40], Average Loss: 0.1619\n",
            "epoch=32\n"
          ]
        },
        {
          "output_type": "stream",
          "name": "stderr",
          "text": [
            "Epoch 33/40: 100%|██████████| 20/20 [00:00<00:00, 232.63sample/s, Batch=2, Loss=0.161]\n"
          ]
        },
        {
          "output_type": "stream",
          "name": "stdout",
          "text": [
            "Epoch [33/40], Average Loss: 0.1580\n",
            "epoch=33\n"
          ]
        },
        {
          "output_type": "stream",
          "name": "stderr",
          "text": [
            "Epoch 34/40: 100%|██████████| 20/20 [00:00<00:00, 287.39sample/s, Batch=2, Loss=0.166]\n"
          ]
        },
        {
          "output_type": "stream",
          "name": "stdout",
          "text": [
            "Epoch [34/40], Average Loss: 0.1619\n",
            "epoch=34\n"
          ]
        },
        {
          "output_type": "stream",
          "name": "stderr",
          "text": [
            "Epoch 35/40: 100%|██████████| 20/20 [00:00<00:00, 314.59sample/s, Batch=2, Loss=0.156]\n"
          ]
        },
        {
          "output_type": "stream",
          "name": "stdout",
          "text": [
            "Epoch [35/40], Average Loss: 0.1613\n",
            "epoch=35\n"
          ]
        },
        {
          "output_type": "stream",
          "name": "stderr",
          "text": [
            "Epoch 36/40: 100%|██████████| 20/20 [00:00<00:00, 295.71sample/s, Batch=2, Loss=0.157]\n"
          ]
        },
        {
          "output_type": "stream",
          "name": "stdout",
          "text": [
            "Epoch [36/40], Average Loss: 0.1574\n",
            "epoch=36\n"
          ]
        },
        {
          "output_type": "stream",
          "name": "stderr",
          "text": [
            "Epoch 37/40: 100%|██████████| 20/20 [00:00<00:00, 301.19sample/s, Batch=2, Loss=0.155]\n"
          ]
        },
        {
          "output_type": "stream",
          "name": "stdout",
          "text": [
            "Epoch [37/40], Average Loss: 0.1582\n",
            "epoch=37\n"
          ]
        },
        {
          "output_type": "stream",
          "name": "stderr",
          "text": [
            "Epoch 38/40: 100%|██████████| 20/20 [00:00<00:00, 253.11sample/s, Batch=2, Loss=0.156]\n"
          ]
        },
        {
          "output_type": "stream",
          "name": "stdout",
          "text": [
            "Epoch [38/40], Average Loss: 0.1582\n",
            "epoch=38\n"
          ]
        },
        {
          "output_type": "stream",
          "name": "stderr",
          "text": [
            "Epoch 39/40: 100%|██████████| 20/20 [00:00<00:00, 285.65sample/s, Batch=2, Loss=0.158]\n"
          ]
        },
        {
          "output_type": "stream",
          "name": "stdout",
          "text": [
            "Epoch [39/40], Average Loss: 0.1578\n",
            "epoch=39\n"
          ]
        },
        {
          "output_type": "stream",
          "name": "stderr",
          "text": [
            "Epoch 40/40: 100%|██████████| 20/20 [00:00<00:00, 312.56sample/s, Batch=2, Loss=0.156]\n"
          ]
        },
        {
          "output_type": "stream",
          "name": "stdout",
          "text": [
            "Epoch [40/40], Average Loss: 0.1566\n"
          ]
        },
        {
          "output_type": "display_data",
          "data": {
            "text/plain": [
              "<Figure size 640x480 with 1 Axes>"
            ],
            "image/png": "[encoded data removed]"
          },
          "metadata": {}
        }
      ]
    },
    {
      "cell_type": "code",
      "source": [
        "rnn.verbose=False\n",
        "x = chars2vec('bcabcbcbca', char2int)\n",
        "outputs, hiddens = rnn.forward_unrolled(x)\n",
        "# what is last letter predicted?\n",
        "print('last letter predicted=', output2label(outputs[-1], chars))\n",
        "\n",
        "# print contents of hidden state state after each input letter.\n",
        "# by examing hidden state, we can inspect which dimensions\n",
        "# are responsible for \"remembering\" that we saw \"a\"\n",
        "print('hidden state:')\n",
        "pd.DataFrame([pp(h) for h in hiddens],\n",
        "             index=pd.Index(list('bcabcbcbca')[:-1], name='input'))"
      ],
      "metadata": {
        "colab": {
          "base_uri": "https://localhost:8080/",
          "height": 397
        },
        "id": "6tSQ_51pItW3",
        "outputId": "5a226781-95e2-49e1-9b24-e6ff35cbaeb6"
      },
      "execution_count": 34,
      "outputs": [
        {
          "output_type": "stream",
          "name": "stdout",
          "text": [
            "last letter predicted= b\n",
            "hidden state:\n"
          ]
        },
        {
          "output_type": "execute_result",
          "data": {
            "text/plain": [
              "          0     1     2     3     4     5     6\n",
              "input                                          \n",
              "b     -0.66 -0.40 -0.19  0.89 -0.98 -0.98  0.83\n",
              "c     -0.89  1.00  0.99 -0.99 -1.00  0.99 -0.98\n",
              "a      0.51  1.00  1.00 -0.97  0.94 -0.56 -0.21\n",
              "b     -1.00 -0.99  0.96  1.00  0.96 -1.00  1.00\n",
              "c     -1.00  0.95  1.00 -0.97 -0.99 -0.98 -0.93\n",
              "b      0.78  0.96  1.00  0.95 -0.98 -1.00  0.97\n",
              "c     -1.00  1.00  1.00 -0.98  0.99 -0.59  0.17\n",
              "b     -1.00 -0.95  1.00  0.99 -0.89 -1.00  0.99\n",
              "c     -0.97  1.00  1.00 -1.00 -0.99  0.96 -0.99"
            ],
            "text/html": [
              "\n",
              "  <div id=\"df-3ac853f9-2b70-4489-be3d-907ba278461f\" class=\"colab-df-container\">\n",
              "    <div>\n",
              "<style scoped>\n",
              "    .dataframe tbody tr th:only-of-type {\n",
              "        vertical-align: middle;\n",
              "    }\n",
              "\n",
              "    .dataframe tbody tr th {\n",
              "        vertical-align: top;\n",
              "    }\n",
              "\n",
              "    .dataframe thead th {\n",
              "        text-align: right;\n",
              "    }\n",
              "</style>\n",
              "<table border=\"1\" class=\"dataframe\">\n",
              "  <thead>\n",
              "    <tr style=\"text-align: right;\">\n",
              "      <th></th>\n",
              "      <th>0</th>\n",
              "      <th>1</th>\n",
              "      <th>2</th>\n",
              "      <th>3</th>\n",
              "      <th>4</th>\n",
              "      <th>5</th>\n",
              "      <th>6</th>\n",
              "    </tr>\n",
              "    <tr>\n",
              "      <th>input</th>\n",
              "      <th></th>\n",
              "      <th></th>\n",
              "      <th></th>\n",
              "      <th></th>\n",
              "      <th></th>\n",
              "      <th></th>\n",
              "      <th></th>\n",
              "    </tr>\n",
              "  </thead>\n",
              "  <tbody>\n",
              "    <tr>\n",
              "      <th>b</th>\n",
              "      <td>-0.66</td>\n",
              "      <td>-0.40</td>\n",
              "      <td>-0.19</td>\n",
              "      <td>0.89</td>\n",
              "      <td>-0.98</td>\n",
              "      <td>-0.98</td>\n",
              "      <td>0.83</td>\n",
              "    </tr>\n",
              "    <tr>\n",
              "      <th>c</th>\n",
              "      <td>-0.89</td>\n",
              "      <td>1.00</td>\n",
              "      <td>0.99</td>\n",
              "      <td>-0.99</td>\n",
              "      <td>-1.00</td>\n",
              "      <td>0.99</td>\n",
              "      <td>-0.98</td>\n",
              "    </tr>\n",
              "    <tr>\n",
              "      <th>a</th>\n",
              "      <td>0.51</td>\n",
              "      <td>1.00</td>\n",
              "      <td>1.00</td>\n",
              "      <td>-0.97</td>\n",
              "      <td>0.94</td>\n",
              "      <td>-0.56</td>\n",
              "      <td>-0.21</td>\n",
              "    </tr>\n",
              "    <tr>\n",
              "      <th>b</th>\n",
              "      <td>-1.00</td>\n",
              "      <td>-0.99</td>\n",
              "      <td>0.96</td>\n",
              "      <td>1.00</td>\n",
              "      <td>0.96</td>\n",
              "      <td>-1.00</td>\n",
              "      <td>1.00</td>\n",
              "    </tr>\n",
              "    <tr>\n",
              "      <th>c</th>\n",
              "      <td>-1.00</td>\n",
              "      <td>0.95</td>\n",
              "      <td>1.00</td>\n",
              "      <td>-0.97</td>\n",
              "      <td>-0.99</td>\n",
              "      <td>-0.98</td>\n",
              "      <td>-0.93</td>\n",
              "    </tr>\n",
              "    <tr>\n",
              "      <th>b</th>\n",
              "      <td>0.78</td>\n",
              "      <td>0.96</td>\n",
              "      <td>1.00</td>\n",
              "      <td>0.95</td>\n",
              "      <td>-0.98</td>\n",
              "      <td>-1.00</td>\n",
              "      <td>0.97</td>\n",
              "    </tr>\n",
              "    <tr>\n",
              "      <th>c</th>\n",
              "      <td>-1.00</td>\n",
              "      <td>1.00</td>\n",
              "      <td>1.00</td>\n",
              "      <td>-0.98</td>\n",
              "      <td>0.99</td>\n",
              "      <td>-0.59</td>\n",
              "      <td>0.17</td>\n",
              "    </tr>\n",
              "    <tr>\n",
              "      <th>b</th>\n",
              "      <td>-1.00</td>\n",
              "      <td>-0.95</td>\n",
              "      <td>1.00</td>\n",
              "      <td>0.99</td>\n",
              "      <td>-0.89</td>\n",
              "      <td>-1.00</td>\n",
              "      <td>0.99</td>\n",
              "    </tr>\n",
              "    <tr>\n",
              "      <th>c</th>\n",
              "      <td>-0.97</td>\n",
              "      <td>1.00</td>\n",
              "      <td>1.00</td>\n",
              "      <td>-1.00</td>\n",
              "      <td>-0.99</td>\n",
              "      <td>0.96</td>\n",
              "      <td>-0.99</td>\n",
              "    </tr>\n",
              "  </tbody>\n",
              "</table>\n",
              "</div>\n",
              "    <div class=\"colab-df-buttons\">\n",
              "\n",
              "  <div class=\"colab-df-container\">\n",
              "    <button class=\"colab-df-convert\" onclick=\"convertToInteractive('df-3ac853f9-2b70-4489-be3d-907ba278461f')\"\n",
              "            title=\"Convert this dataframe to an interactive table.\"\n",
              "            style=\"display:none;\">\n",
              "\n",
              "  <svg xmlns=\"http://www.w3.org/2000/svg\" height=\"24px\" viewBox=\"0 -960 960 960\">\n",
              "    <path d=\"M120-120v-720h720v720H120Zm60-500h600v-160H180v160Zm220 220h160v-160H400v160Zm0 220h160v-160H400v160ZM180-400h160v-160H180v160Zm440 0h160v-160H620v160ZM180-180h160v-160H180v160Zm440 0h160v-160H620v160Z\"/>\n",
              "  </svg>\n",
              "    </button>\n",
              "\n",
              "  <style>\n",
              "    .colab-df-container {\n",
              "      display:flex;\n",
              "      gap: 12px;\n",
              "    }\n",
              "\n",
              "    .colab-df-convert {\n",
              "      background-color: #E8F0FE;\n",
              "      border: none;\n",
              "      border-radius: 50%;\n",
              "      cursor: pointer;\n",
              "      display: none;\n",
              "      fill: #1967D2;\n",
              "      height: 32px;\n",
              "      padding: 0 0 0 0;\n",
              "      width: 32px;\n",
              "    }\n",
              "\n",
              "    .colab-df-convert:hover {\n",
              "      background-color: #E2EBFA;\n",
              "      box-shadow: 0px 1px 2px rgba(60, 64, 67, 0.3), 0px 1px 3px 1px rgba(60, 64, 67, 0.15);\n",
              "      fill: #174EA6;\n",
              "    }\n",
              "\n",
              "    .colab-df-buttons div {\n",
              "      margin-bottom: 4px;\n",
              "    }\n",
              "\n",
              "    [theme=dark] .colab-df-convert {\n",
              "      background-color: #3B4455;\n",
              "      fill: #D2E3FC;\n",
              "    }\n",
              "\n",
              "    [theme=dark] .colab-df-convert:hover {\n",
              "      background-color: #434B5C;\n",
              "      box-shadow: 0px 1px 3px 1px rgba(0, 0, 0, 0.15);\n",
              "      filter: drop-shadow(0px 1px 2px rgba(0, 0, 0, 0.3));\n",
              "      fill: #FFFFFF;\n",
              "    }\n",
              "  </style>\n",
              "\n",
              "    <script>\n",
              "      const buttonEl =\n",
              "        document.querySelector('#df-3ac853f9-2b70-4489-be3d-907ba278461f button.colab-df-convert');\n",
              "      buttonEl.style.display =\n",
              "        google.colab.kernel.accessAllowed ? 'block' : 'none';\n",
              "\n",
              "      async function convertToInteractive(key) {\n",
              "        const element = document.querySelector('#df-3ac853f9-2b70-4489-be3d-907ba278461f');\n",
              "        const dataTable =\n",
              "          await google.colab.kernel.invokeFunction('convertToInteractive',\n",
              "                                                    [key], {});\n",
              "        if (!dataTable) return;\n",
              "\n",
              "        const docLinkHtml = 'Like what you see? Visit the ' +\n",
              "          '<a target=\"_blank\" href=https://colab.research.google.com/notebooks/data_table.ipynb>data table notebook</a>'\n",
              "          + ' to learn more about interactive tables.';\n",
              "        element.innerHTML = '';\n",
              "        dataTable['output_type'] = 'display_data';\n",
              "        await google.colab.output.renderOutput(dataTable, element);\n",
              "        const docLink = document.createElement('div');\n",
              "        docLink.innerHTML = docLinkHtml;\n",
              "        element.appendChild(docLink);\n",
              "      }\n",
              "    </script>\n",
              "  </div>\n",
              "\n",
              "\n",
              "<div id=\"df-8def9628-f713-411a-8210-2e6dbe3c9830\">\n",
              "  <button class=\"colab-df-quickchart\" onclick=\"quickchart('df-8def9628-f713-411a-8210-2e6dbe3c9830')\"\n",
              "            title=\"Suggest charts\"\n",
              "            style=\"display:none;\">\n",
              "\n",
              "<svg xmlns=\"http://www.w3.org/2000/svg\" height=\"24px\"viewBox=\"0 0 24 24\"\n",
              "     width=\"24px\">\n",
              "    <g>\n",
              "        <path d=\"M19 3H5c-1.1 0-2 .9-2 2v14c0 1.1.9 2 2 2h14c1.1 0 2-.9 2-2V5c0-1.1-.9-2-2-2zM9 17H7v-7h2v7zm4 0h-2V7h2v10zm4 0h-2v-4h2v4z\"/>\n",
              "    </g>\n",
              "</svg>\n",
              "  </button>\n",
              "\n",
              "<style>\n",
              "  .colab-df-quickchart {\n",
              "      --bg-color: #E8F0FE;\n",
              "      --fill-color: #1967D2;\n",
              "      --hover-bg-color: #E2EBFA;\n",
              "      --hover-fill-color: #174EA6;\n",
              "      --disabled-fill-color: #AAA;\n",
              "      --disabled-bg-color: #DDD;\n",
              "  }\n",
              "\n",
              "  [theme=dark] .colab-df-quickchart {\n",
              "      --bg-color: #3B4455;\n",
              "      --fill-color: #D2E3FC;\n",
              "      --hover-bg-color: #434B5C;\n",
              "      --hover-fill-color: #FFFFFF;\n",
              "      --disabled-bg-color: #3B4455;\n",
              "      --disabled-fill-color: #666;\n",
              "  }\n",
              "\n",
              "  .colab-df-quickchart {\n",
              "    background-color: var(--bg-color);\n",
              "    border: none;\n",
              "    border-radius: 50%;\n",
              "    cursor: pointer;\n",
              "    display: none;\n",
              "    fill: var(--fill-color);\n",
              "    height: 32px;\n",
              "    padding: 0;\n",
              "    width: 32px;\n",
              "  }\n",
              "\n",
              "  .colab-df-quickchart:hover {\n",
              "    background-color: var(--hover-bg-color);\n",
              "    box-shadow: 0 1px 2px rgba(60, 64, 67, 0.3), 0 1px 3px 1px rgba(60, 64, 67, 0.15);\n",
              "    fill: var(--button-hover-fill-color);\n",
              "  }\n",
              "\n",
              "  .colab-df-quickchart-complete:disabled,\n",
              "  .colab-df-quickchart-complete:disabled:hover {\n",
              "    background-color: var(--disabled-bg-color);\n",
              "    fill: var(--disabled-fill-color);\n",
              "    box-shadow: none;\n",
              "  }\n",
              "\n",
              "  .colab-df-spinner {\n",
              "    border: 2px solid var(--fill-color);\n",
              "    border-color: transparent;\n",
              "    border-bottom-color: var(--fill-color);\n",
              "    animation:\n",
              "      spin 1s steps(1) infinite;\n",
              "  }\n",
              "\n",
              "  @keyframes spin {\n",
              "    0% {\n",
              "      border-color: transparent;\n",
              "      border-bottom-color: var(--fill-color);\n",
              "      border-left-color: var(--fill-color);\n",
              "    }\n",
              "    20% {\n",
              "      border-color: transparent;\n",
              "      border-left-color: var(--fill-color);\n",
              "      border-top-color: var(--fill-color);\n",
              "    }\n",
              "    30% {\n",
              "      border-color: transparent;\n",
              "      border-left-color: var(--fill-color);\n",
              "      border-top-color: var(--fill-color);\n",
              "      border-right-color: var(--fill-color);\n",
              "    }\n",
              "    40% {\n",
              "      border-color: transparent;\n",
              "      border-right-color: var(--fill-color);\n",
              "      border-top-color: var(--fill-color);\n",
              "    }\n",
              "    60% {\n",
              "      border-color: transparent;\n",
              "      border-right-color: var(--fill-color);\n",
              "    }\n",
              "    80% {\n",
              "      border-color: transparent;\n",
              "      border-right-color: var(--fill-color);\n",
              "      border-bottom-color: var(--fill-color);\n",
              "    }\n",
              "    90% {\n",
              "      border-color: transparent;\n",
              "      border-bottom-color: var(--fill-color);\n",
              "    }\n",
              "  }\n",
              "</style>\n",
              "\n",
              "  <script>\n",
              "    async function quickchart(key) {\n",
              "      const quickchartButtonEl =\n",
              "        document.querySelector('#' + key + ' button');\n",
              "      quickchartButtonEl.disabled = true;  // To prevent multiple clicks.\n",
              "      quickchartButtonEl.classList.add('colab-df-spinner');\n",
              "      try {\n",
              "        const charts = await google.colab.kernel.invokeFunction(\n",
              "            'suggestCharts', [key], {});\n",
              "      } catch (error) {\n",
              "        console.error('Error during call to suggestCharts:', error);\n",
              "      }\n",
              "      quickchartButtonEl.classList.remove('colab-df-spinner');\n",
              "      quickchartButtonEl.classList.add('colab-df-quickchart-complete');\n",
              "    }\n",
              "    (() => {\n",
              "      let quickchartButtonEl =\n",
              "        document.querySelector('#df-8def9628-f713-411a-8210-2e6dbe3c9830 button');\n",
              "      quickchartButtonEl.style.display =\n",
              "        google.colab.kernel.accessAllowed ? 'block' : 'none';\n",
              "    })();\n",
              "  </script>\n",
              "</div>\n",
              "\n",
              "    </div>\n",
              "  </div>\n"
            ],
            "application/vnd.google.colaboratory.intrinsic+json": {
              "type": "dataframe",
              "summary": "{\n  \"name\": \"             index=pd\",\n  \"rows\": 9,\n  \"fields\": [\n    {\n      \"column\": \"input\",\n      \"properties\": {\n        \"dtype\": \"category\",\n        \"num_unique_values\": 3,\n        \"samples\": [\n          \"b\",\n          \"c\",\n          \"a\"\n        ],\n        \"semantic_type\": \"\",\n        \"description\": \"\"\n      }\n    },\n    {\n      \"column\": 0,\n      \"properties\": {\n        \"dtype\": \"float32\",\n        \"num_unique_values\": 6,\n        \"samples\": [\n          -0.6600000262260437,\n          -0.8899999856948853,\n          -0.9700000286102295\n        ],\n        \"semantic_type\": \"\",\n        \"description\": \"\"\n      }\n    },\n    {\n      \"column\": 1,\n      \"properties\": {\n        \"dtype\": \"float32\",\n        \"num_unique_values\": 6,\n        \"samples\": [\n          -0.4000000059604645,\n          1.0,\n          -0.949999988079071\n        ],\n        \"semantic_type\": \"\",\n        \"description\": \"\"\n      }\n    },\n    {\n      \"column\": 2,\n      \"properties\": {\n        \"dtype\": \"float32\",\n        \"num_unique_values\": 4,\n        \"samples\": [\n          0.9900000095367432,\n          0.9599999785423279,\n          -0.1899999976158142\n        ],\n        \"semantic_type\": \"\",\n        \"description\": \"\"\n      }\n    },\n    {\n      \"column\": 3,\n      \"properties\": {\n        \"dtype\": \"float32\",\n        \"num_unique_values\": 8,\n        \"samples\": [\n          -0.9900000095367432,\n          -0.9800000190734863,\n          0.8899999856948853\n        ],\n        \"semantic_type\": \"\",\n        \"description\": \"\"\n      }\n    },\n    {\n      \"column\": 4,\n      \"properties\": {\n        \"dtype\": \"float32\",\n        \"num_unique_values\": 7,\n        \"samples\": [\n          -0.9800000190734863,\n          -1.0,\n          0.9900000095367432\n        ],\n        \"semantic_type\": \"\",\n        \"description\": \"\"\n      }\n    },\n    {\n      \"column\": 5,\n      \"properties\": {\n        \"dtype\": \"float32\",\n        \"num_unique_values\": 6,\n        \"samples\": [\n          -0.9800000190734863,\n          0.9900000095367432,\n          0.9599999785423279\n        ],\n        \"semantic_type\": \"\",\n        \"description\": \"\"\n      }\n    },\n    {\n      \"column\": 6,\n      \"properties\": {\n        \"dtype\": \"float32\",\n        \"num_unique_values\": 9,\n        \"samples\": [\n          0.9900000095367432,\n          -0.9800000190734863,\n          0.9700000286102295\n        ],\n        \"semantic_type\": \"\",\n        \"description\": \"\"\n      }\n    }\n  ]\n}"
            }
          },
          "metadata": {},
          "execution_count": 34
        }
      ]
    },
    {
      "cell_type": "markdown",
      "source": [
        "The RNN predicts 'b' in the last time step instead of 'a'.\n",
        "\n",
        "Now, the comparison isn't totally fair -- the LSTM has a lot more parameters (how many more?)\n",
        "\n",
        "We can increase the hidden size for the RNN. It will likely eventually have enough parameters to \"remember\" the letter 'a'.\n",
        "\n",
        "But, the LSTM makes more efficient use of the parameters it has in order to propagate information longer distances in the sequence.\n"
      ],
      "metadata": {
        "id": "YzWLLf1nsYJq"
      }
    },
    {
      "cell_type": "code",
      "source": [
        "# compare with bcbcbcbcbc (so, no \"a\" to remember)\n",
        "x = chars2vec('bcbcbcbcbc', char2int)\n",
        "outputs, hiddens = rnn.forward_unrolled(x)\n",
        "# what is last letter predicted?\n",
        "print('last letter predicted=', output2label(outputs[-1], chars))\n",
        "print('hidden state:')\n",
        "pd.DataFrame([pp(h) for h in hiddens],\n",
        "             index=pd.Index(list('bcbcbcbcbc')[:-1], name='input'))"
      ],
      "metadata": {
        "colab": {
          "base_uri": "https://localhost:8080/",
          "height": 397
        },
        "id": "KV_9FSstPF-w",
        "outputId": "407a555c-084b-44c7-8750-6ba7d3c40637"
      },
      "execution_count": 35,
      "outputs": [
        {
          "output_type": "stream",
          "name": "stdout",
          "text": [
            "last letter predicted= c\n",
            "hidden state:\n"
          ]
        },
        {
          "output_type": "execute_result",
          "data": {
            "text/plain": [
              "          0     1     2     3     4     5     6\n",
              "input                                          \n",
              "b     -0.66 -0.40 -0.19  0.89 -0.98 -0.98  0.83\n",
              "c     -0.89  1.00  0.99 -0.99 -1.00  0.99 -0.98\n",
              "b      0.98  1.00  1.00  0.90 -0.95 -0.96  0.96\n",
              "c     -1.00  1.00  1.00 -0.97  1.00 -0.73  0.42\n",
              "b     -1.00 -0.96  1.00  0.99 -0.87 -1.00  0.99\n",
              "c     -0.97  1.00  1.00 -1.00 -0.99  0.96 -0.99\n",
              "b      0.98  1.00  1.00  0.89 -0.97 -0.96  0.95\n",
              "c     -1.00  1.00  1.00 -0.97  1.00 -0.71  0.42\n",
              "b     -1.00 -0.96  1.00  0.99 -0.87 -1.00  0.99"
            ],
            "text/html": [
              "\n",
              "  <div id=\"df-5492357c-ed2d-4abe-87dc-785e99b906c4\" class=\"colab-df-container\">\n",
              "    <div>\n",
              "<style scoped>\n",
              "    .dataframe tbody tr th:only-of-type {\n",
              "        vertical-align: middle;\n",
              "    }\n",
              "\n",
              "    .dataframe tbody tr th {\n",
              "        vertical-align: top;\n",
              "    }\n",
              "\n",
              "    .dataframe thead th {\n",
              "        text-align: right;\n",
              "    }\n",
              "</style>\n",
              "<table border=\"1\" class=\"dataframe\">\n",
              "  <thead>\n",
              "    <tr style=\"text-align: right;\">\n",
              "      <th></th>\n",
              "      <th>0</th>\n",
              "      <th>1</th>\n",
              "      <th>2</th>\n",
              "      <th>3</th>\n",
              "      <th>4</th>\n",
              "      <th>5</th>\n",
              "      <th>6</th>\n",
              "    </tr>\n",
              "    <tr>\n",
              "      <th>input</th>\n",
              "      <th></th>\n",
              "      <th></th>\n",
              "      <th></th>\n",
              "      <th></th>\n",
              "      <th></th>\n",
              "      <th></th>\n",
              "      <th></th>\n",
              "    </tr>\n",
              "  </thead>\n",
              "  <tbody>\n",
              "    <tr>\n",
              "      <th>b</th>\n",
              "      <td>-0.66</td>\n",
              "      <td>-0.40</td>\n",
              "      <td>-0.19</td>\n",
              "      <td>0.89</td>\n",
              "      <td>-0.98</td>\n",
              "      <td>-0.98</td>\n",
              "      <td>0.83</td>\n",
              "    </tr>\n",
              "    <tr>\n",
              "      <th>c</th>\n",
              "      <td>-0.89</td>\n",
              "      <td>1.00</td>\n",
              "      <td>0.99</td>\n",
              "      <td>-0.99</td>\n",
              "      <td>-1.00</td>\n",
              "      <td>0.99</td>\n",
              "      <td>-0.98</td>\n",
              "    </tr>\n",
              "    <tr>\n",
              "      <th>b</th>\n",
              "      <td>0.98</td>\n",
              "      <td>1.00</td>\n",
              "      <td>1.00</td>\n",
              "      <td>0.90</td>\n",
              "      <td>-0.95</td>\n",
              "      <td>-0.96</td>\n",
              "      <td>0.96</td>\n",
              "    </tr>\n",
              "    <tr>\n",
              "      <th>c</th>\n",
              "      <td>-1.00</td>\n",
              "      <td>1.00</td>\n",
              "      <td>1.00</td>\n",
              "      <td>-0.97</td>\n",
              "      <td>1.00</td>\n",
              "      <td>-0.73</td>\n",
              "      <td>0.42</td>\n",
              "    </tr>\n",
              "    <tr>\n",
              "      <th>b</th>\n",
              "      <td>-1.00</td>\n",
              "      <td>-0.96</td>\n",
              "      <td>1.00</td>\n",
              "      <td>0.99</td>\n",
              "      <td>-0.87</td>\n",
              "      <td>-1.00</td>\n",
              "      <td>0.99</td>\n",
              "    </tr>\n",
              "    <tr>\n",
              "      <th>c</th>\n",
              "      <td>-0.97</td>\n",
              "      <td>1.00</td>\n",
              "      <td>1.00</td>\n",
              "      <td>-1.00</td>\n",
              "      <td>-0.99</td>\n",
              "      <td>0.96</td>\n",
              "      <td>-0.99</td>\n",
              "    </tr>\n",
              "    <tr>\n",
              "      <th>b</th>\n",
              "      <td>0.98</td>\n",
              "      <td>1.00</td>\n",
              "      <td>1.00</td>\n",
              "      <td>0.89</td>\n",
              "      <td>-0.97</td>\n",
              "      <td>-0.96</td>\n",
              "      <td>0.95</td>\n",
              "    </tr>\n",
              "    <tr>\n",
              "      <th>c</th>\n",
              "      <td>-1.00</td>\n",
              "      <td>1.00</td>\n",
              "      <td>1.00</td>\n",
              "      <td>-0.97</td>\n",
              "      <td>1.00</td>\n",
              "      <td>-0.71</td>\n",
              "      <td>0.42</td>\n",
              "    </tr>\n",
              "    <tr>\n",
              "      <th>b</th>\n",
              "      <td>-1.00</td>\n",
              "      <td>-0.96</td>\n",
              "      <td>1.00</td>\n",
              "      <td>0.99</td>\n",
              "      <td>-0.87</td>\n",
              "      <td>-1.00</td>\n",
              "      <td>0.99</td>\n",
              "    </tr>\n",
              "  </tbody>\n",
              "</table>\n",
              "</div>\n",
              "    <div class=\"colab-df-buttons\">\n",
              "\n",
              "  <div class=\"colab-df-container\">\n",
              "    <button class=\"colab-df-convert\" onclick=\"convertToInteractive('df-5492357c-ed2d-4abe-87dc-785e99b906c4')\"\n",
              "            title=\"Convert this dataframe to an interactive table.\"\n",
              "            style=\"display:none;\">\n",
              "\n",
              "  <svg xmlns=\"http://www.w3.org/2000/svg\" height=\"24px\" viewBox=\"0 -960 960 960\">\n",
              "    <path d=\"M120-120v-720h720v720H120Zm60-500h600v-160H180v160Zm220 220h160v-160H400v160Zm0 220h160v-160H400v160ZM180-400h160v-160H180v160Zm440 0h160v-160H620v160ZM180-180h160v-160H180v160Zm440 0h160v-160H620v160Z\"/>\n",
              "  </svg>\n",
              "    </button>\n",
              "\n",
              "  <style>\n",
              "    .colab-df-container {\n",
              "      display:flex;\n",
              "      gap: 12px;\n",
              "    }\n",
              "\n",
              "    .colab-df-convert {\n",
              "      background-color: #E8F0FE;\n",
              "      border: none;\n",
              "      border-radius: 50%;\n",
              "      cursor: pointer;\n",
              "      display: none;\n",
              "      fill: #1967D2;\n",
              "      height: 32px;\n",
              "      padding: 0 0 0 0;\n",
              "      width: 32px;\n",
              "    }\n",
              "\n",
              "    .colab-df-convert:hover {\n",
              "      background-color: #E2EBFA;\n",
              "      box-shadow: 0px 1px 2px rgba(60, 64, 67, 0.3), 0px 1px 3px 1px rgba(60, 64, 67, 0.15);\n",
              "      fill: #174EA6;\n",
              "    }\n",
              "\n",
              "    .colab-df-buttons div {\n",
              "      margin-bottom: 4px;\n",
              "    }\n",
              "\n",
              "    [theme=dark] .colab-df-convert {\n",
              "      background-color: #3B4455;\n",
              "      fill: #D2E3FC;\n",
              "    }\n",
              "\n",
              "    [theme=dark] .colab-df-convert:hover {\n",
              "      background-color: #434B5C;\n",
              "      box-shadow: 0px 1px 3px 1px rgba(0, 0, 0, 0.15);\n",
              "      filter: drop-shadow(0px 1px 2px rgba(0, 0, 0, 0.3));\n",
              "      fill: #FFFFFF;\n",
              "    }\n",
              "  </style>\n",
              "\n",
              "    <script>\n",
              "      const buttonEl =\n",
              "        document.querySelector('#df-5492357c-ed2d-4abe-87dc-785e99b906c4 button.colab-df-convert');\n",
              "      buttonEl.style.display =\n",
              "        google.colab.kernel.accessAllowed ? 'block' : 'none';\n",
              "\n",
              "      async function convertToInteractive(key) {\n",
              "        const element = document.querySelector('#df-5492357c-ed2d-4abe-87dc-785e99b906c4');\n",
              "        const dataTable =\n",
              "          await google.colab.kernel.invokeFunction('convertToInteractive',\n",
              "                                                    [key], {});\n",
              "        if (!dataTable) return;\n",
              "\n",
              "        const docLinkHtml = 'Like what you see? Visit the ' +\n",
              "          '<a target=\"_blank\" href=https://colab.research.google.com/notebooks/data_table.ipynb>data table notebook</a>'\n",
              "          + ' to learn more about interactive tables.';\n",
              "        element.innerHTML = '';\n",
              "        dataTable['output_type'] = 'display_data';\n",
              "        await google.colab.output.renderOutput(dataTable, element);\n",
              "        const docLink = document.createElement('div');\n",
              "        docLink.innerHTML = docLinkHtml;\n",
              "        element.appendChild(docLink);\n",
              "      }\n",
              "    </script>\n",
              "  </div>\n",
              "\n",
              "\n",
              "<div id=\"df-71d802e2-1482-4531-b8a1-8956f6b95423\">\n",
              "  <button class=\"colab-df-quickchart\" onclick=\"quickchart('df-71d802e2-1482-4531-b8a1-8956f6b95423')\"\n",
              "            title=\"Suggest charts\"\n",
              "            style=\"display:none;\">\n",
              "\n",
              "<svg xmlns=\"http://www.w3.org/2000/svg\" height=\"24px\"viewBox=\"0 0 24 24\"\n",
              "     width=\"24px\">\n",
              "    <g>\n",
              "        <path d=\"M19 3H5c-1.1 0-2 .9-2 2v14c0 1.1.9 2 2 2h14c1.1 0 2-.9 2-2V5c0-1.1-.9-2-2-2zM9 17H7v-7h2v7zm4 0h-2V7h2v10zm4 0h-2v-4h2v4z\"/>\n",
              "    </g>\n",
              "</svg>\n",
              "  </button>\n",
              "\n",
              "<style>\n",
              "  .colab-df-quickchart {\n",
              "      --bg-color: #E8F0FE;\n",
              "      --fill-color: #1967D2;\n",
              "      --hover-bg-color: #E2EBFA;\n",
              "      --hover-fill-color: #174EA6;\n",
              "      --disabled-fill-color: #AAA;\n",
              "      --disabled-bg-color: #DDD;\n",
              "  }\n",
              "\n",
              "  [theme=dark] .colab-df-quickchart {\n",
              "      --bg-color: #3B4455;\n",
              "      --fill-color: #D2E3FC;\n",
              "      --hover-bg-color: #434B5C;\n",
              "      --hover-fill-color: #FFFFFF;\n",
              "      --disabled-bg-color: #3B4455;\n",
              "      --disabled-fill-color: #666;\n",
              "  }\n",
              "\n",
              "  .colab-df-quickchart {\n",
              "    background-color: var(--bg-color);\n",
              "    border: none;\n",
              "    border-radius: 50%;\n",
              "    cursor: pointer;\n",
              "    display: none;\n",
              "    fill: var(--fill-color);\n",
              "    height: 32px;\n",
              "    padding: 0;\n",
              "    width: 32px;\n",
              "  }\n",
              "\n",
              "  .colab-df-quickchart:hover {\n",
              "    background-color: var(--hover-bg-color);\n",
              "    box-shadow: 0 1px 2px rgba(60, 64, 67, 0.3), 0 1px 3px 1px rgba(60, 64, 67, 0.15);\n",
              "    fill: var(--button-hover-fill-color);\n",
              "  }\n",
              "\n",
              "  .colab-df-quickchart-complete:disabled,\n",
              "  .colab-df-quickchart-complete:disabled:hover {\n",
              "    background-color: var(--disabled-bg-color);\n",
              "    fill: var(--disabled-fill-color);\n",
              "    box-shadow: none;\n",
              "  }\n",
              "\n",
              "  .colab-df-spinner {\n",
              "    border: 2px solid var(--fill-color);\n",
              "    border-color: transparent;\n",
              "    border-bottom-color: var(--fill-color);\n",
              "    animation:\n",
              "      spin 1s steps(1) infinite;\n",
              "  }\n",
              "\n",
              "  @keyframes spin {\n",
              "    0% {\n",
              "      border-color: transparent;\n",
              "      border-bottom-color: var(--fill-color);\n",
              "      border-left-color: var(--fill-color);\n",
              "    }\n",
              "    20% {\n",
              "      border-color: transparent;\n",
              "      border-left-color: var(--fill-color);\n",
              "      border-top-color: var(--fill-color);\n",
              "    }\n",
              "    30% {\n",
              "      border-color: transparent;\n",
              "      border-left-color: var(--fill-color);\n",
              "      border-top-color: var(--fill-color);\n",
              "      border-right-color: var(--fill-color);\n",
              "    }\n",
              "    40% {\n",
              "      border-color: transparent;\n",
              "      border-right-color: var(--fill-color);\n",
              "      border-top-color: var(--fill-color);\n",
              "    }\n",
              "    60% {\n",
              "      border-color: transparent;\n",
              "      border-right-color: var(--fill-color);\n",
              "    }\n",
              "    80% {\n",
              "      border-color: transparent;\n",
              "      border-right-color: var(--fill-color);\n",
              "      border-bottom-color: var(--fill-color);\n",
              "    }\n",
              "    90% {\n",
              "      border-color: transparent;\n",
              "      border-bottom-color: var(--fill-color);\n",
              "    }\n",
              "  }\n",
              "</style>\n",
              "\n",
              "  <script>\n",
              "    async function quickchart(key) {\n",
              "      const quickchartButtonEl =\n",
              "        document.querySelector('#' + key + ' button');\n",
              "      quickchartButtonEl.disabled = true;  // To prevent multiple clicks.\n",
              "      quickchartButtonEl.classList.add('colab-df-spinner');\n",
              "      try {\n",
              "        const charts = await google.colab.kernel.invokeFunction(\n",
              "            'suggestCharts', [key], {});\n",
              "      } catch (error) {\n",
              "        console.error('Error during call to suggestCharts:', error);\n",
              "      }\n",
              "      quickchartButtonEl.classList.remove('colab-df-spinner');\n",
              "      quickchartButtonEl.classList.add('colab-df-quickchart-complete');\n",
              "    }\n",
              "    (() => {\n",
              "      let quickchartButtonEl =\n",
              "        document.querySelector('#df-71d802e2-1482-4531-b8a1-8956f6b95423 button');\n",
              "      quickchartButtonEl.style.display =\n",
              "        google.colab.kernel.accessAllowed ? 'block' : 'none';\n",
              "    })();\n",
              "  </script>\n",
              "</div>\n",
              "\n",
              "    </div>\n",
              "  </div>\n"
            ],
            "application/vnd.google.colaboratory.intrinsic+json": {
              "type": "dataframe",
              "summary": "{\n  \"name\": \"             index=pd\",\n  \"rows\": 9,\n  \"fields\": [\n    {\n      \"column\": \"input\",\n      \"properties\": {\n        \"dtype\": \"category\",\n        \"num_unique_values\": 2,\n        \"samples\": [\n          \"c\",\n          \"b\"\n        ],\n        \"semantic_type\": \"\",\n        \"description\": \"\"\n      }\n    },\n    {\n      \"column\": 0,\n      \"properties\": {\n        \"dtype\": \"float32\",\n        \"num_unique_values\": 5,\n        \"samples\": [\n          -0.8899999856948853,\n          -0.9700000286102295\n        ],\n        \"semantic_type\": \"\",\n        \"description\": \"\"\n      }\n    },\n    {\n      \"column\": 1,\n      \"properties\": {\n        \"dtype\": \"float32\",\n        \"num_unique_values\": 3,\n        \"samples\": [\n          -0.4000000059604645,\n          1.0\n        ],\n        \"semantic_type\": \"\",\n        \"description\": \"\"\n      }\n    },\n    {\n      \"column\": 2,\n      \"properties\": {\n        \"dtype\": \"float32\",\n        \"num_unique_values\": 3,\n        \"samples\": [\n          -0.1899999976158142,\n          0.9900000095367432\n        ],\n        \"semantic_type\": \"\",\n        \"description\": \"\"\n      }\n    },\n    {\n      \"column\": 3,\n      \"properties\": {\n        \"dtype\": \"float32\",\n        \"num_unique_values\": 6,\n        \"samples\": [\n          0.8899999856948853,\n          -0.9900000095367432\n        ],\n        \"semantic_type\": \"\",\n        \"description\": \"\"\n      }\n    },\n    {\n      \"column\": 4,\n      \"properties\": {\n        \"dtype\": \"float32\",\n        \"num_unique_values\": 7,\n        \"samples\": [\n          -0.9800000190734863,\n          -1.0\n        ],\n        \"semantic_type\": \"\",\n        \"description\": \"\"\n      }\n    },\n    {\n      \"column\": 5,\n      \"properties\": {\n        \"dtype\": \"float32\",\n        \"num_unique_values\": 7,\n        \"samples\": [\n          -0.9800000190734863,\n          0.9900000095367432\n        ],\n        \"semantic_type\": \"\",\n        \"description\": \"\"\n      }\n    },\n    {\n      \"column\": 6,\n      \"properties\": {\n        \"dtype\": \"float32\",\n        \"num_unique_values\": 7,\n        \"samples\": [\n          0.8299999833106995,\n          -0.9800000190734863\n        ],\n        \"semantic_type\": \"\",\n        \"description\": \"\"\n      }\n    }\n  ]\n}"
            }
          },
          "metadata": {},
          "execution_count": 35
        }
      ]
    },
    {
      "cell_type": "markdown",
      "source": [
        "<hr size=10 color=#285C4D>\n",
        "\n",
        "## Summary"
      ],
      "metadata": {
        "id": "buOfB7fgscy7"
      }
    },
    {
      "cell_type": "markdown",
      "source": [
        "\n",
        "\n",
        "LSTMs support long-range dependencies better than RNNs by\n",
        "- copying portions of the hidden state into a memory cell\n",
        "- using addition, rather than multiplication, to propagate memory cell forward\n",
        "\n",
        "Does not completely solve the problem.\n",
        "\n",
        "Many variants of this idea:\n",
        "\n",
        "- GRU - like LSTM, but more concise\n",
        "  - $h_{t+1}$ is a linear combination of $h_t$ with no changes plus a modified version of $h_t$\n",
        "  \n",
        "- Residual Networks (ResNets)\n",
        "  - add \"skip\" connections between time steps\n",
        "  - e.g., directly connect $h_t$ to $h_{t+k}$"
      ],
      "metadata": {
        "id": "VX6-nxnesa34"
      }
    },
    {
      "cell_type": "markdown",
      "source": [
        "<hr size=10 color=#285C4D>\n",
        "\n",
        "## Group Task"
      ],
      "metadata": {
        "id": "Lt9nlrUpvPQm"
      }
    },
    {
      "cell_type": "markdown",
      "source": [
        "- Consider the LSTM example above for the sequence `bcabcbcbca`. Examine the memory cells printed while processing this sequence:\n",
        "\n",
        "| input   |     0 |     1 |    2 |     3 |     4 |     5 |     6 |\n",
        "|:--------|------:|------:|-----:|------:|------:|------:|------:|\n",
        "| b       | -0.95 | -0.94 | 0.83 | -0.77 | -0.81 |  0.98 | -0.92 |\n",
        "| c       | -1.94 | -1.72 | 0.8  | -0.74 |  0.99 | -0.03 | -1.91 |\n",
        "| a       | -2.93 | -2.71 | 1.79 |  0.92 |  1.36 | -0.99 | -2.91 |\n",
        "| b       | -3.92 | -3.4  | 2.79 | -1    | -0.86 | -1.41 | -3.9  |\n",
        "| c       | -4.91 | -2.16 | 3.23 |  0.98 |  1    | -2.39 | -4.9  |\n",
        "| b       | -5.8  | -2.65 | 4.21 | -1    | -0.99 | -1.25 | -5.89 |\n",
        "| c       | -6.79 | -0.95 | 4.35 |  0.9  |  1    | -2.23 | -6.89 |\n",
        "| b       | -7.57 | -1.7  | 5.3  | -1    | -0.99 |  0.35 | -7.79 |\n",
        "| c       | -8.56 | -1.82 | 5.28 | -0.77 |  1    | -0.65 | -8.79 |\n",
        "\n",
        "- Explain which combinations of hidden dimensions contribute the most to the model outputting the letter `a` at the next time step.\n",
        "\n",
        "- Consider the RNN trained for the same task:\n",
        "\n",
        "```python\n",
        "rnn = RNN(len(chars), 7, len(chars), chars, verbose=True)\n",
        "rnn = train_model(rnn, data, epochs=40, learning_rate=.1, batch_size=10)\n",
        "```\n",
        "\n",
        "- Experiment with different sizes of hidden units, training epochs, and learning rates. What settings result in a RNN that correctly outputs the final `a` in the test sequence `bcabcbcbca`? What settings does the model seem most sensitive to? What does this suggest about training such models in practice?\n",
        "\n"
      ],
      "metadata": {
        "id": "UeAQjD3PPZxO"
      }
    },
    {
      "cell_type": "markdown",
      "metadata": {
        "id": "3U3HWifP-Aee"
      },
      "source": [
        "## sources\n",
        "- http://karpathy.github.io/2015/05/21/rnn-effectiveness/"
      ]
    }
  ],
  "metadata": {
    "kernelspec": {
      "display_name": "Python 3 (ipykernel)",
      "language": "python",
      "name": "python3"
    },
    "language_info": {
      "codemirror_mode": {
        "name": "ipython",
        "version": 3
      },
      "file_extension": ".py",
      "mimetype": "text/x-python",
      "name": "python",
      "nbconvert_exporter": "python",
      "pygments_lexer": "ipython3",
      "version": "3.11.5"
    },
    "colab": {
      "provenance": [],
      "collapsed_sections": [
        "n_U-LgBHmcso",
        "CVQ9nMLsmn-d",
        "al37lvs7tsuG",
        "ZAk-b7NjmrT1",
        "Frx9OnbqmtUY",
        "x36Gdkmpm1lo",
        "zEaygqX4m9F5",
        "vpCm3oEgnCIy",
        "_8BinaB4nGWe",
        "b_oYxqJYnQUr",
        "zhEfY7-YncY9",
        "2TuIdIxCo-LU",
        "Ly_vY57cpIoq",
        "muy7axAMssiP",
        "Y9kbfxh2sydk",
        "9IsU81nGpnwg",
        "UPi92OGFqFcY",
        "k3WOcrIQs_6Q",
        "4oJxN4UaqSGj",
        "uZGCp-DJqXhp",
        "Ne4uGI97qZ-e",
        "gF5mQg24qrjt",
        "CjA1IysUqtdG",
        "-GQtg2W5qx8o",
        "Fvu249bPq0ho",
        "GP2aqkV8sCSI",
        "buOfB7fgscy7",
        "Lt9nlrUpvPQm"
      ],
      "toc_visible": true
    }
  },
  "nbformat": 4,
  "nbformat_minor": 0
}