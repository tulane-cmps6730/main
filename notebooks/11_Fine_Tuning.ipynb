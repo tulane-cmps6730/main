{
  "cells": [
    {
      "cell_type": "markdown",
      "source": [
        "![Tulane](https://github.com/tulane-cmps6730/main/blob/main/img/banner.png?raw=true)\n",
        "\n",
        "<center>\n",
        "\n",
        "<font size=\"+3\">Fine Tuning</font>\n",
        "\n",
        "[Aron Culotta](https://cs.tulane.edu/~aculotta/)  \n",
        "[Tulane University](https://cs.tulane.edu/)\n",
        "\n",
        "<a href=\"http://colab.research.google.com/github/tulane-cmps6730/main/blob/main/notebooks/11_Fine_Tuning.ipynb\">\n",
        "        <img src=\"https://upload.wikimedia.org/wikipedia/commons/thumb/d/d0/Google_Colaboratory_SVG_Logo.svg/320px-Google_Colaboratory_SVG_Logo.svg.png\"  width=10%/></a>\n",
        "<a href=\"https://github.com/tulane-cmps6730/main/tree/main\">\n",
        "        <img src=\"https://upload.wikimedia.org/wikipedia/commons/thumb/c/c2/GitHub_Invertocat_Logo.svg/240px-GitHub_Invertocat_Logo.svg.png\" width=6%/></a>\n",
        "\n",
        "In this module, we'll learn about how to fine-tune language models to behave in ways more useful to us.\n",
        "\n",
        "</center>"
      ],
      "metadata": {
        "id": "e6223e46-6740-45d8-8e6f-5c3cf0390e93"
      },
      "id": "e6223e46-6740-45d8-8e6f-5c3cf0390e93"
    },
    {
      "cell_type": "markdown",
      "source": [
        "<hr size=10 color=#285C4D>\n",
        "\n",
        "\n",
        "## Motivation"
      ],
      "metadata": {
        "id": "VVsGPlIWUTiH"
      },
      "id": "VVsGPlIWUTiH"
    },
    {
      "cell_type": "markdown",
      "id": "8393b17a-8079-4dd9-81ee-b1e34c04a885",
      "metadata": {
        "id": "8393b17a-8079-4dd9-81ee-b1e34c04a885"
      },
      "source": [
        "- Language models trained to predict next word: $p(w_i \\mid w_{i-1} \\ldots w_1)$\n",
        "- How do we go from this autocompletion model to an intelligent assistant?\n",
        "\n",
        "![figs/chatgpt1.png](https://github.com/tulane-cmps6730/main/blob/main/lec/chat/figs/chatgpt1.png?raw=1)\n",
        "\n",
        "> Predicting the next token on a webpage from the internet is different from the objective “follow the user’s instructions helpfully and safely”\n",
        "\n",
        "[source](https://arxiv.org/pdf/2203.02155.pdf)"
      ]
    },
    {
      "cell_type": "markdown",
      "source": [
        "### Generating tokens from a language model"
      ],
      "metadata": {
        "id": "EVm3k4mahT2q"
      },
      "id": "EVm3k4mahT2q"
    },
    {
      "cell_type": "markdown",
      "source": [
        "Recall our SimpleSelfAttention model from last week."
      ],
      "metadata": {
        "id": "kAMNYmZ7hcZh"
      },
      "id": "kAMNYmZ7hcZh"
    },
    {
      "cell_type": "code",
      "source": [
        "# Let's package these computations up inside of an nn.Module.\n",
        "import math\n",
        "import matplotlib.pyplot as plt\n",
        "import numpy as np\n",
        "import pandas as pd\n",
        "import torch\n",
        "import torch.nn as nn\n",
        "from tqdm import tqdm\n",
        "\n",
        "\n",
        "class SimpleSelfAttention(nn.Module):\n",
        "  def __init__(self, vocab_size, embedding_size, seq_len,\n",
        "               use_positional_embedding=True, verbose=False):\n",
        "    super(SimpleSelfAttention, self).__init__()\n",
        "    self.embedding_size = embedding_size\n",
        "    self.vocab_size = vocab_size\n",
        "    self.seq_len = seq_len\n",
        "    self.verbose = verbose\n",
        "    self.use_positional_embedding = use_positional_embedding\n",
        "\n",
        "    # word embedding and unembedding\n",
        "    self.E = nn.Linear(embedding_size, vocab_size, bias=False)\n",
        "\n",
        "    # position embedding and unembedding\n",
        "    self.P = nn.Linear(embedding_size, seq_len, bias=False)\n",
        "\n",
        "    # attention weights\n",
        "    # values\n",
        "    self.W_v = nn.Linear(embedding_size, embedding_size)\n",
        "    # keys\n",
        "    self.W_k = nn.Linear(embedding_size, embedding_size)\n",
        "    # queries\n",
        "    self.W_q = nn.Linear(embedding_size, embedding_size)\n",
        "    self.softmax = nn.Softmax(dim=-1)\n",
        "\n",
        "\n",
        "\n",
        "  def mask_future(self, similarities):\n",
        "    return similarities + torch.triu(torch.full_like(similarities, float('-inf')), diagonal=1)\n",
        "\n",
        "  def forward(self, x):\n",
        "    # using self. for these temporary values below so we can debug later on\n",
        "    # embed words\n",
        "    self.sentence_embeddings = x @ self.E.weight\n",
        "    if self.use_positional_embedding:\n",
        "      # embed positions\n",
        "      self.pos_embedding = torch.eye(self.seq_len) @ self.P.weight\n",
        "      # sum word and position embeddings\n",
        "      self.sentence_embeddings += self.pos_embedding\n",
        "    # Q,K,V\n",
        "    self.Q = self.W_q(self.sentence_embeddings)\n",
        "    self.K = self.W_k(self.sentence_embeddings)\n",
        "    self.V = self.W_v(self.sentence_embeddings)\n",
        "    self.similarities = self.Q @ self.K.T\n",
        "    # normalize by rows\n",
        "    self.sm = self.softmax(self.mask_future(self.similarities)/math.sqrt(self.embedding_size))\n",
        "    self.A = self.sm @ self.V\n",
        "    self.logits = self.A @ self.E.weight.T\n",
        "    # leave as logits for crossentropy loss later.\n",
        "    if self.verbose:\n",
        "      print('A matrix (words x embed_size)')\n",
        "      display(pd.DataFrame(\n",
        "              pp(self.A)\n",
        "              ))\n",
        "      print('logits (words x vocab_size)')\n",
        "      display(pd.DataFrame(\n",
        "              pp(self.logits)\n",
        "              ))\n",
        "    return self.logits\n",
        "\n",
        "def pp(arr):\n",
        "  # pretty print weight array\n",
        "  return arr.detach().cpu().numpy().round(decimals=2)\n",
        "\n",
        "\n",
        "# same as our previous train_model functions...\n",
        "\n",
        "def train_model(model, data, epochs=20, learning_rate=0.1, batch_size=10, verbose=True):\n",
        "    \"\"\"\n",
        "    Iterate through the data in batches and train the model.\n",
        "    \"\"\"\n",
        "    torch.random.manual_seed(42)  # for reproducibility\n",
        "    np.random.seed(42)\n",
        "    criterion = nn.CrossEntropyLoss()\n",
        "    optimizer = torch.optim.Adam(model.parameters(),\n",
        "                                 lr=learning_rate)\n",
        "    model.verbose = False\n",
        "    loss_val = []\n",
        "    # main training loop\n",
        "    for epoch in range(epochs):\n",
        "        print('epoch=%d' % epoch)\n",
        "        np.random.shuffle(data)\n",
        "        epoch_loss = 0\n",
        "        # for each batch of instances\n",
        "        with tqdm(total=len(data), desc=f'Epoch {epoch+1}/{epochs}', unit='sample') as pbar:\n",
        "          for i in range(0, len(data), batch_size):\n",
        "            batch = data[i:i + batch_size]\n",
        "            optimizer.zero_grad() # reset all the gradient information\n",
        "            batch_loss = 0\n",
        "            for datum in batch:\n",
        "                result = model.forward(datum[:-1])\n",
        "                loss = criterion(result,\n",
        "                                 datum[1:].argmax(dim=1).long())\n",
        "                batch_loss += loss\n",
        "            # change parameters after each batch\n",
        "            batch_loss /= batch_size\n",
        "            batch_loss.backward()       # computes all the gradients\n",
        "            optimizer.step()            # update parameters\n",
        "            loss_val.append(batch_loss.item())\n",
        "            epoch_loss += batch_loss\n",
        "            pbar.update(len(batch))\n",
        "            pbar.set_postfix({'Batch': (i // batch_size) + 1, 'Loss': batch_loss.item()})\n",
        "\n",
        "        avg_epoch_loss = epoch_loss / (len(data) / batch_size)\n",
        "        print(f'Epoch [{epoch+1}/{epochs}], Average Loss: {avg_epoch_loss:.4f}')\n",
        "\n",
        "    if verbose:\n",
        "      plt.figure()\n",
        "      plt.plot(loss_val, 'bo-')\n",
        "      plt.ylabel('loss')\n",
        "      plt.xlabel('batches')\n",
        "      plt.show()\n",
        "\n",
        "    return model\n",
        "\n",
        "def char2vec(char, char2int):\n",
        "    x = torch.zeros((1, len(char2int)))\n",
        "    x[0][char2int[char]] = 1\n",
        "    return x\n",
        "\n",
        "def chars2vec(chars, char2int):\n",
        "    return torch.cat([char2vec(c, char2int) for c in chars])\n"
      ],
      "metadata": {
        "id": "cGf3Px9QhayD"
      },
      "id": "cGf3Px9QhayD",
      "execution_count": 3,
      "outputs": []
    },
    {
      "cell_type": "code",
      "source": [
        "# generate \"abc\" strings...\n",
        "torch.manual_seed(24)\n",
        "np.random.seed(42)\n",
        "torch.cuda.manual_seed(42)\n",
        "torch.backends.cudnn.deterministic = True\n",
        "torch.backends.cudnn.benchmark = False\n",
        "\n",
        "\n",
        "vocabulary = np.array([\"a\", \"b\", \"c\"])\n",
        "char2int = {'a': 0, 'b': 1, 'c': 2}\n",
        "int2char = {0: 'a', 1: 'b', 2: 'c'}\n",
        "data = [\n",
        "    chars2vec('abcabcabc', char2int),\n",
        "    chars2vec('bcabcabca', char2int),\n",
        "    chars2vec('cabcabcab', char2int)\n",
        "]  * 100\n",
        "\n",
        "torch.manual_seed(24)\n",
        "np.random.seed(42)\n",
        "ssa = SimpleSelfAttention(vocab_size=3, embedding_size=2, seq_len=8,\n",
        "                          use_positional_embedding=True, verbose=True)\n",
        "train_model(ssa, data, epochs=2, learning_rate=.2, batch_size=10)"
      ],
      "metadata": {
        "colab": {
          "base_uri": "https://localhost:8080/",
          "height": 699
        },
        "collapsed": true,
        "id": "hpSJGTeMhjoE",
        "outputId": "814e7941-17d0-45a8-ae9e-f96c2470b93a"
      },
      "id": "hpSJGTeMhjoE",
      "execution_count": 4,
      "outputs": [
        {
          "output_type": "stream",
          "name": "stdout",
          "text": [
            "epoch=0\n"
          ]
        },
        {
          "output_type": "stream",
          "name": "stderr",
          "text": [
            "Epoch 1/2: 100%|██████████| 300/300 [00:00<00:00, 654.85sample/s, Batch=30, Loss=0]\n"
          ]
        },
        {
          "output_type": "stream",
          "name": "stdout",
          "text": [
            "Epoch [1/2], Average Loss: 0.5075\n",
            "epoch=1\n"
          ]
        },
        {
          "output_type": "stream",
          "name": "stderr",
          "text": [
            "Epoch 2/2: 100%|██████████| 300/300 [00:00<00:00, 612.65sample/s, Batch=30, Loss=0]\n"
          ]
        },
        {
          "output_type": "stream",
          "name": "stdout",
          "text": [
            "Epoch [2/2], Average Loss: 0.0000\n"
          ]
        },
        {
          "output_type": "display_data",
          "data": {
            "text/plain": [
              "<Figure size 640x480 with 1 Axes>"
            ],
            "image/png": "[encoded data removed]"
          },
          "metadata": {}
        },
        {
          "output_type": "execute_result",
          "data": {
            "text/plain": [
              "SimpleSelfAttention(\n",
              "  (E): Linear(in_features=2, out_features=3, bias=False)\n",
              "  (P): Linear(in_features=2, out_features=8, bias=False)\n",
              "  (W_v): Linear(in_features=2, out_features=2, bias=True)\n",
              "  (W_k): Linear(in_features=2, out_features=2, bias=True)\n",
              "  (W_q): Linear(in_features=2, out_features=2, bias=True)\n",
              "  (softmax): Softmax(dim=-1)\n",
              ")"
            ]
          },
          "metadata": {},
          "execution_count": 4
        }
      ]
    },
    {
      "cell_type": "markdown",
      "source": [
        "To generate from the trained model, we just predict the last character in each sequence.\n",
        "\n",
        "Then, we slide the window forward and predict the next character using the predicted character as input."
      ],
      "metadata": {
        "id": "wh7iMVQlhqjk"
      },
      "id": "wh7iMVQlhqjk"
    },
    {
      "cell_type": "code",
      "source": [
        "def generate(model, input_string, n):\n",
        "  generated_text = ''\n",
        "  for _ in range(n):\n",
        "    x = chars2vec(input_string, char2int)\n",
        "    # predict last character\n",
        "    outputs = ssa.forward(x)\n",
        "    # append last character to input\n",
        "    predicted_char = vocabulary[outputs.argmax(axis=1)][-1]\n",
        "    print('for input %s generated %s' % (input_string[:-1], predicted_char))\n",
        "    input_string = input_string + predicted_char\n",
        "    generated_text += predicted_char\n",
        "    # truncate to maxlen\n",
        "    input_string = input_string[1:]\n",
        "  return generated_text\n",
        "\n",
        "generate(ssa, 'abcabcab', 10)"
      ],
      "metadata": {
        "colab": {
          "base_uri": "https://localhost:8080/",
          "height": 214
        },
        "id": "d4nS4JyLhTSk",
        "outputId": "702cb7ef-2e69-4ff5-a3a1-d383ddaa593e"
      },
      "id": "d4nS4JyLhTSk",
      "execution_count": 5,
      "outputs": [
        {
          "output_type": "stream",
          "name": "stdout",
          "text": [
            "for input abcabca generated c\n",
            "for input bcabcab generated a\n",
            "for input cabcabc generated b\n",
            "for input abcabca generated c\n",
            "for input bcabcab generated a\n",
            "for input cabcabc generated b\n",
            "for input abcabca generated c\n",
            "for input bcabcab generated a\n",
            "for input cabcabc generated b\n",
            "for input abcabca generated c\n"
          ]
        },
        {
          "output_type": "execute_result",
          "data": {
            "text/plain": [
              "'cabcabcabc'"
            ],
            "application/vnd.google.colaboratory.intrinsic+json": {
              "type": "string"
            }
          },
          "metadata": {},
          "execution_count": 5
        }
      ]
    },
    {
      "cell_type": "markdown",
      "source": [
        "### Dialog as word prediction"
      ],
      "metadata": {
        "id": "fJ2KgCMvkos4"
      },
      "id": "fJ2KgCMvkos4"
    },
    {
      "cell_type": "markdown",
      "source": [
        "Asking a chatbot to respond to a prompt can be framed as a word prediction problem.\n",
        "\n",
        "> Human: What is two plus two?\n",
        "\n",
        "> Robot: It is four\n",
        "\n",
        "becomes a single word sequence\n",
        "\n",
        "|human| What is two plus two |robot| **It is four**\n",
        "\n",
        "Goal: predict the words **It is four** based on preceding text\n",
        "\n",
        "- We can use standard word prediction models (e.g., transformers with self-attention) to train a chatbot\n",
        "- Approach: first fit word prediction model on all text you can find, then **fine-tune** the model for dialog."
      ],
      "metadata": {
        "id": "equcx4DMj2gL"
      },
      "id": "equcx4DMj2gL"
    },
    {
      "cell_type": "markdown",
      "source": [
        "<hr size=10 color=#285C4D>\n",
        "\n",
        "\n",
        "## Approach 1: Instruction Fine-tuning"
      ],
      "metadata": {
        "id": "0xxybayjUY4L"
      },
      "id": "0xxybayjUY4L"
    },
    {
      "cell_type": "markdown",
      "id": "d0dcc27c-3663-462d-81a6-8c2fda6b46bc",
      "metadata": {
        "id": "d0dcc27c-3663-462d-81a6-8c2fda6b46bc"
      },
      "source": [
        "\n",
        "\n",
        "- **Pretraining:** Fit a language model to predict the next word in a sentence. E.g., a transformer model.\n",
        "\n",
        "<img src=\"https://github.com/tulane-cmps6730/main/blob/main/lec/sequence/figs/gpt.png?raw=1\" width=60%/>\n",
        "\n",
        "<br><br><br>\n",
        "\n",
        "\n",
        "- **Supervised Fine-tuning:** Starting with the pretrained model, fit a model to perform a different task. E.g., classification\n",
        "<img src=\"https://github.com/tulane-cmps6730/main/blob/main/lec/sequence/figs/lstmclf4.png?raw=1\" width=\"40%\"/>\n",
        "\n",
        "But, this doesn't teach the model how to follow instructions...\n",
        "\n",
        "How can we take a classification task and turn it into a chat session?\n",
        "\n",
        "\n",
        "\n",
        "\n",
        "\n"
      ]
    },
    {
      "cell_type": "markdown",
      "source": [
        "### Supervised Instruction Fine-tuning\n",
        "\n"
      ],
      "metadata": {
        "id": "bhJg292RUiR-"
      },
      "id": "bhJg292RUiR-"
    },
    {
      "cell_type": "markdown",
      "source": [
        "Starting with the pretrained model, fine-tune a word prediction model on examples of instructions.\n",
        "\n",
        "**Big Trick:**\n",
        "- Find benchmarks with questions and answers\n",
        "- Convert these into word prediction problems\n",
        "\n",
        "E.g., for a sentiment classification task, the input dialog might be:\n",
        "\n",
        "**Original data:**\n",
        "\n",
        "> \"This movie is boring\"  **label:** Negative\n",
        "\n",
        "**Transformed data:**\n",
        "\n",
        "> Instructions: Read the following movie review and determine if the author likes or dislikes the movie.\n",
        "\n",
        "> Input: \"This movie is boring\"\n",
        "\n",
        "> Expected Output: The user dislikes the movie.\n",
        "\n",
        "\n",
        "<br><br>\n",
        "\n",
        "NLP researchers have been created such benchmarks for decades:\n",
        "\n",
        "<img src=\"https://github.com/tulane-cmps6730/main/blob/main/lec/chat/figs/tasks.png?raw=1\" width=60%/>\n",
        "\n",
        "[source](https://arxiv.org/pdf/2204.07705.pdf)\n",
        "\n",
        "Just need to transform them into instruction following examples:\n",
        "\n",
        "<img src=\"https://github.com/tulane-cmps6730/main/blob/main/lec/chat/figs/entailment.png?raw=1\" width=60%/>\n",
        "\n",
        "Of course, we can also throw in some tests...\n",
        "\n",
        "<img src=\"https://github.com/tulane-cmps6730/main/blob/main/lec/chat/figs/tests.png?raw=1\" width=60%/>\n"
      ],
      "metadata": {
        "id": "INJNC1wUUgym"
      },
      "id": "INJNC1wUUgym"
    },
    {
      "cell_type": "markdown",
      "source": [
        "### Limitations of instruction fine-tuning?"
      ],
      "metadata": {
        "id": "fQJ1ovsNUqoU"
      },
      "id": "fQJ1ovsNUqoU"
    },
    {
      "cell_type": "markdown",
      "id": "80fd12db-a3e8-4a9f-91c0-c9635030b782",
      "metadata": {
        "id": "80fd12db-a3e8-4a9f-91c0-c9635030b782"
      },
      "source": [
        "\n",
        "- Expensive to create labeled data\n",
        "- There isn't always an unambiguously correct answer:\n",
        "  + Write me a haiku about Tulane\n",
        "- Word prediction task will penalize all errors equally, even if some words are more critical than others"
      ]
    },
    {
      "cell_type": "markdown",
      "source": [
        "### Fine-tuning Example with SimpleSelfAttention"
      ],
      "metadata": {
        "id": "6nxBBPJFfd5I"
      },
      "id": "6nxBBPJFfd5I"
    },
    {
      "cell_type": "code",
      "source": [
        "# train our model on abc data.\n",
        "ssa = SimpleSelfAttention(vocab_size=3, embedding_size=2, seq_len=8,\n",
        "                          use_positional_embedding=True, verbose=True)\n",
        "train_model(ssa, data, epochs=2, learning_rate=.2, batch_size=10)"
      ],
      "metadata": {
        "colab": {
          "base_uri": "https://localhost:8080/",
          "height": 699
        },
        "id": "mCKW9SZ1lRBp",
        "outputId": "9d686f1c-16e8-40b4-f288-cad6c2784969"
      },
      "id": "mCKW9SZ1lRBp",
      "execution_count": 12,
      "outputs": [
        {
          "output_type": "stream",
          "name": "stdout",
          "text": [
            "epoch=0\n"
          ]
        },
        {
          "output_type": "stream",
          "name": "stderr",
          "text": [
            "Epoch 1/2: 100%|██████████| 300/300 [00:00<00:00, 693.41sample/s, Batch=30, Loss=0.39]\n"
          ]
        },
        {
          "output_type": "stream",
          "name": "stdout",
          "text": [
            "Epoch [1/2], Average Loss: 0.6237\n",
            "epoch=1\n"
          ]
        },
        {
          "output_type": "stream",
          "name": "stderr",
          "text": [
            "Epoch 2/2: 100%|██████████| 300/300 [00:00<00:00, 735.11sample/s, Batch=30, Loss=0.000826]\n"
          ]
        },
        {
          "output_type": "stream",
          "name": "stdout",
          "text": [
            "Epoch [2/2], Average Loss: 0.1384\n"
          ]
        },
        {
          "output_type": "display_data",
          "data": {
            "text/plain": [
              "<Figure size 640x480 with 1 Axes>"
            ],
            "image/png": "[encoded data removed]"
          },
          "metadata": {}
        },
        {
          "output_type": "execute_result",
          "data": {
            "text/plain": [
              "SimpleSelfAttention(\n",
              "  (E): Linear(in_features=2, out_features=3, bias=False)\n",
              "  (P): Linear(in_features=2, out_features=8, bias=False)\n",
              "  (W_v): Linear(in_features=2, out_features=2, bias=True)\n",
              "  (W_k): Linear(in_features=2, out_features=2, bias=True)\n",
              "  (W_q): Linear(in_features=2, out_features=2, bias=True)\n",
              "  (softmax): Softmax(dim=-1)\n",
              ")"
            ]
          },
          "metadata": {},
          "execution_count": 12
        }
      ]
    },
    {
      "cell_type": "code",
      "source": [
        "x = chars2vec('abcabcabc', char2int)\n",
        "outputs = ssa.forward(x[:-1])\n",
        "vocabulary[outputs.argmax(axis=1)]"
      ],
      "metadata": {
        "colab": {
          "base_uri": "https://localhost:8080/"
        },
        "id": "dw41SNt7X4Zb",
        "outputId": "1936caa1-242e-4cc7-b5ca-f6ed3b8401b5"
      },
      "id": "dw41SNt7X4Zb",
      "execution_count": 13,
      "outputs": [
        {
          "output_type": "execute_result",
          "data": {
            "text/plain": [
              "array(['b', 'c', 'a', 'b', 'c', 'a', 'b', 'c'], dtype='<U1')"
            ]
          },
          "metadata": {},
          "execution_count": 13
        }
      ]
    },
    {
      "cell_type": "code",
      "source": [
        "# how can we \"tune\" the model so that the last letter is a instead of c?\n",
        "\n",
        "# add some new training data where last letter is \"a\" instead of \"c\"\n",
        "tuning_data = [\n",
        "    chars2vec('abcabcaba', char2int),\n",
        "] * 10\n"
      ],
      "metadata": {
        "id": "XtuyDXjblZvk"
      },
      "id": "XtuyDXjblZvk",
      "execution_count": 14,
      "outputs": []
    },
    {
      "cell_type": "code",
      "source": [
        "# Function compare losses on different datasets.\n",
        "def compute_loss(model, data):\n",
        "  criterion = nn.CrossEntropyLoss()\n",
        "  total = 0\n",
        "  for datum in data:\n",
        "    result = model.forward(datum[:-1])\n",
        "    loss = criterion(result,\n",
        "                     datum[1:].argmax(dim=1).long())\n",
        "    total += loss.item()\n",
        "  return total / len(data)\n",
        "\n",
        "print('loss on tuning data', compute_loss(ssa, tuning_data))\n",
        "print('loss on original data', compute_loss(ssa, data))"
      ],
      "metadata": {
        "colab": {
          "base_uri": "https://localhost:8080/"
        },
        "id": "Wb_rer4pb-BK",
        "outputId": "8f7b70cc-c3d2-4a91-feb3-c5faf379ab36"
      },
      "id": "Wb_rer4pb-BK",
      "execution_count": 15,
      "outputs": [
        {
          "output_type": "stream",
          "name": "stdout",
          "text": [
            "loss on tuning data 4.7368364334106445\n",
            "loss on original data 0.0010061501525289174\n"
          ]
        }
      ]
    },
    {
      "cell_type": "code",
      "source": [
        "\n",
        "# train on tuning data one epoch at a time so we can see when behavior changes.\n",
        "for epoch in range(10):\n",
        "  # continuing training using same model\n",
        "  train_model(ssa, tuning_data, epochs=1, learning_rate=.05, batch_size=10, verbose=False)\n",
        "  x = chars2vec('abcabcabc', char2int)\n",
        "  outputs = ssa.forward(x[:-1])\n",
        "  print('last prediction for abcabcab=', vocabulary[outputs.argmax(axis=1)][-1])\n",
        "  print('loss on tuning data', compute_loss(ssa, tuning_data))\n",
        "  print('loss on original data', compute_loss(ssa, data))"
      ],
      "metadata": {
        "colab": {
          "base_uri": "https://localhost:8080/"
        },
        "id": "SJSWPCF7Y937",
        "outputId": "3e17ff54-3b1e-4d5a-87c0-f6341350fccb"
      },
      "id": "SJSWPCF7Y937",
      "execution_count": 16,
      "outputs": [
        {
          "output_type": "stream",
          "name": "stdout",
          "text": [
            "epoch=0\n"
          ]
        },
        {
          "output_type": "stream",
          "name": "stderr",
          "text": [
            "Epoch 1/1: 100%|██████████| 10/10 [00:00<00:00, 503.91sample/s, Batch=1, Loss=4.74]\n"
          ]
        },
        {
          "output_type": "stream",
          "name": "stdout",
          "text": [
            "Epoch [1/1], Average Loss: 4.7368\n",
            "last prediction for abcabcab= c\n",
            "loss on tuning data 3.6476922035217285\n",
            "loss on original data 0.0018912519638636383\n",
            "epoch=0\n"
          ]
        },
        {
          "output_type": "stream",
          "name": "stderr",
          "text": [
            "Epoch 1/1: 100%|██████████| 10/10 [00:00<00:00, 763.18sample/s, Batch=1, Loss=3.65]"
          ]
        },
        {
          "output_type": "stream",
          "name": "stdout",
          "text": [
            "Epoch [1/1], Average Loss: 3.6477\n",
            "last prediction for abcabcab= c\n",
            "loss on tuning data 3.1050732135772705\n"
          ]
        },
        {
          "output_type": "stream",
          "name": "stderr",
          "text": [
            "\n"
          ]
        },
        {
          "output_type": "stream",
          "name": "stdout",
          "text": [
            "loss on original data 0.002072656992746502\n",
            "epoch=0\n"
          ]
        },
        {
          "output_type": "stream",
          "name": "stderr",
          "text": [
            "Epoch 1/1: 100%|██████████| 10/10 [00:00<00:00, 530.58sample/s, Batch=1, Loss=3.11]\n"
          ]
        },
        {
          "output_type": "stream",
          "name": "stdout",
          "text": [
            "Epoch [1/1], Average Loss: 3.1051\n",
            "last prediction for abcabcab= c\n",
            "loss on tuning data 2.701724052429199\n",
            "loss on original data 0.0024632814629879838\n",
            "epoch=0\n"
          ]
        },
        {
          "output_type": "stream",
          "name": "stderr",
          "text": [
            "Epoch 1/1: 100%|██████████| 10/10 [00:00<00:00, 722.60sample/s, Batch=1, Loss=2.7]"
          ]
        },
        {
          "output_type": "stream",
          "name": "stdout",
          "text": [
            "Epoch [1/1], Average Loss: 2.7017\n",
            "last prediction for abcabcab= c\n"
          ]
        },
        {
          "output_type": "stream",
          "name": "stderr",
          "text": [
            "\n"
          ]
        },
        {
          "output_type": "stream",
          "name": "stdout",
          "text": [
            "loss on tuning data 2.344186782836914\n",
            "loss on original data 0.0021629657426226836\n",
            "epoch=0\n"
          ]
        },
        {
          "output_type": "stream",
          "name": "stderr",
          "text": [
            "Epoch 1/1: 100%|██████████| 10/10 [00:00<00:00, 764.74sample/s, Batch=1, Loss=2.34]\n"
          ]
        },
        {
          "output_type": "stream",
          "name": "stdout",
          "text": [
            "Epoch [1/1], Average Loss: 2.3442\n",
            "last prediction for abcabcab= c\n",
            "loss on tuning data 2.0210208892822266\n",
            "loss on original data 0.0019365808665459856\n",
            "epoch=0\n"
          ]
        },
        {
          "output_type": "stream",
          "name": "stderr",
          "text": [
            "Epoch 1/1: 100%|██████████| 10/10 [00:00<00:00, 730.10sample/s, Batch=1, Loss=2.02]\n"
          ]
        },
        {
          "output_type": "stream",
          "name": "stdout",
          "text": [
            "Epoch [1/1], Average Loss: 2.0210\n",
            "last prediction for abcabcab= c\n",
            "loss on tuning data 1.6972055435180664\n",
            "loss on original data 0.0015992712263444748\n",
            "epoch=0\n"
          ]
        },
        {
          "output_type": "stream",
          "name": "stderr",
          "text": [
            "Epoch 1/1: 100%|██████████| 10/10 [00:00<00:00, 580.71sample/s, Batch=1, Loss=1.7]\n"
          ]
        },
        {
          "output_type": "stream",
          "name": "stdout",
          "text": [
            "Epoch [1/1], Average Loss: 1.6972\n",
            "last prediction for abcabcab= a\n",
            "loss on tuning data 0.002638421021401882\n",
            "loss on original data 1.0073555445414968\n",
            "epoch=0\n"
          ]
        },
        {
          "output_type": "stream",
          "name": "stderr",
          "text": [
            "Epoch 1/1: 100%|██████████| 10/10 [00:00<00:00, 848.76sample/s, Batch=1, Loss=0.00264] "
          ]
        },
        {
          "output_type": "stream",
          "name": "stdout",
          "text": [
            "Epoch [1/1], Average Loss: 0.0026\n",
            "last prediction for abcabcab= a\n",
            "loss on tuning data 0.0002974665549118072\n"
          ]
        },
        {
          "output_type": "stream",
          "name": "stderr",
          "text": [
            "\n"
          ]
        },
        {
          "output_type": "stream",
          "name": "stdout",
          "text": [
            "loss on original data 1.1557365275463478\n",
            "epoch=0\n"
          ]
        },
        {
          "output_type": "stream",
          "name": "stderr",
          "text": [
            "Epoch 1/1: 100%|██████████| 10/10 [00:00<00:00, 535.17sample/s, Batch=1, Loss=0.000297]\n"
          ]
        },
        {
          "output_type": "stream",
          "name": "stdout",
          "text": [
            "Epoch [1/1], Average Loss: 0.0003\n",
            "last prediction for abcabcab= a\n",
            "loss on tuning data 8.852984319673851e-05\n",
            "loss on original data 1.027827221005282\n",
            "epoch=0\n"
          ]
        },
        {
          "output_type": "stream",
          "name": "stderr",
          "text": [
            "Epoch 1/1: 100%|██████████| 10/10 [00:00<00:00, 589.11sample/s, Batch=1, Loss=8.85e-5]"
          ]
        },
        {
          "output_type": "stream",
          "name": "stdout",
          "text": [
            "Epoch [1/1], Average Loss: 0.0001\n",
            "last prediction for abcabcab= a\n",
            "loss on tuning data 1.1563126463443041e-05\n",
            "loss on original data 1.0435090594995304\n"
          ]
        },
        {
          "output_type": "stream",
          "name": "stderr",
          "text": [
            "\n"
          ]
        }
      ]
    },
    {
      "cell_type": "code",
      "source": [
        "# confirm we're outputting the right thing for each instance.\n",
        "x = chars2vec('abcabcabc', char2int)\n",
        "outputs = ssa.forward(x[:-1])\n",
        "print('prediction for abcabcab=', vocabulary[outputs.argmax(axis=1)])\n",
        "\n",
        "x = chars2vec('bcabcabca', char2int)\n",
        "outputs = ssa.forward(x[:-1])\n",
        "print('prediction for bcabcabc=', vocabulary[outputs.argmax(axis=1)])\n",
        "\n",
        "x = chars2vec('cabcabcab', char2int)\n",
        "outputs = ssa.forward(x[:-1])\n",
        "print('prediction for cabcabca=', vocabulary[outputs.argmax(axis=1)])"
      ],
      "metadata": {
        "colab": {
          "base_uri": "https://localhost:8080/"
        },
        "id": "Sw9sgc33dAGw",
        "outputId": "52036d40-908a-4070-ba0e-23203f2c88bd"
      },
      "id": "Sw9sgc33dAGw",
      "execution_count": 17,
      "outputs": [
        {
          "output_type": "stream",
          "name": "stdout",
          "text": [
            "prediction for abcabcab= ['b' 'c' 'a' 'b' 'c' 'a' 'b' 'a']\n",
            "prediction for bcabcabc= ['c' 'a' 'b' 'c' 'a' 'b' 'c' 'a']\n",
            "prediction for cabcabca= ['a' 'b' 'c' 'a' 'b' 'c' 'a' 'b']\n"
          ]
        }
      ]
    },
    {
      "cell_type": "markdown",
      "source": [
        "<hr size=10 color=#285C4D>\n",
        "\n",
        "\n",
        "## Approach 2: Human Feedback\n"
      ],
      "metadata": {
        "id": "vWSB-fJAU4RE"
      },
      "id": "vWSB-fJAU4RE"
    },
    {
      "cell_type": "markdown",
      "id": "6858b31c-d11b-48b7-895b-9f2362a824ec",
      "metadata": {
        "id": "6858b31c-d11b-48b7-895b-9f2362a824ec"
      },
      "source": [
        "\n",
        "What are some ways we can have humans can give us feedback to train our chatbot directly?\n"
      ]
    },
    {
      "cell_type": "markdown",
      "source": [
        "### 1. We can ask humans to write a response:"
      ],
      "metadata": {
        "id": "Ite08bbwVCCU"
      },
      "id": "Ite08bbwVCCU"
    },
    {
      "cell_type": "markdown",
      "source": [
        "\n",
        "**Write a haiku about Tulane**\n",
        "\n",
        "> Under moss-clad oaks,\n",
        ">\n",
        "> Wisdom blooms in green and blue—\n",
        ">\n",
        "> Tulane's light shines through.\n",
        "\n",
        "\n",
        "\n"
      ],
      "metadata": {
        "id": "FAyszMq8U_No"
      },
      "id": "FAyszMq8U_No"
    },
    {
      "cell_type": "markdown",
      "source": [
        "### 2. We can ask humans to rate the quality of different responses directly."
      ],
      "metadata": {
        "id": "6m4BRbgRVGIE"
      },
      "id": "6m4BRbgRVGIE"
    },
    {
      "cell_type": "markdown",
      "source": [
        "**Write a haiku about Tulane**\n",
        "\n",
        "Answer 1: Rating = 8/10\n",
        "\n",
        "> Under moss-clad oaks,\n",
        ">\n",
        "> Wisdom blooms in green and blue—\n",
        ">\n",
        "> Tulane's light shines through.\n",
        "\n",
        "Answer 2. Rating = 2/10\n",
        "> Snow blankets the quad,\n",
        ">\n",
        "> Penguins march where scholars trod—\n",
        ">\n",
        "> Tulane's icy pod.\n",
        "\n",
        "\n"
      ],
      "metadata": {
        "id": "dUMhCpalVFBT"
      },
      "id": "dUMhCpalVFBT"
    },
    {
      "cell_type": "markdown",
      "source": [
        "### 3. We can ask humans to rank two responses, without giving an absolute score.\n"
      ],
      "metadata": {
        "id": "VEv_owAzVLXB"
      },
      "id": "VEv_owAzVLXB"
    },
    {
      "cell_type": "markdown",
      "source": [
        "\n",
        "> Answer 1 > Answer 2\n",
        "\n",
        "<br><br>\n",
        "\n",
        "But, how can we use these types of feedback to update the language model?\n",
        "\n",
        "<br><br>\n",
        "\n",
        "For the word prediction task, we could compute an error function based on each word in the output.\n",
        "\n",
        "E.g., $-\\log p(w_i^* \\mid w_{i-1} \\ldots w_1)$, where $w_i^*$ is the correct word to produce at position $i$.\n",
        "\n",
        "<br>\n",
        "\n",
        "- But now, we only receive an error / feedback once the **entire answer** is generated.\n",
        "\n",
        "- If we think of producing the next word in the answer as an **action**, then a language model produces an answer by taking a sequence of word selection actions.\n",
        "\n",
        "- We would like the language model to take a sequence of actions that maximizes the human feedback given at the end of the answer.\n",
        "\n",
        "This sounds like a job for ... **reinforcement learning**\n",
        "\n"
      ],
      "metadata": {
        "id": "oQkDe3VDVKqa"
      },
      "id": "oQkDe3VDVKqa"
    },
    {
      "cell_type": "markdown",
      "source": [
        "<hr size=10 color=#285C4D>\n",
        "\n",
        "\n",
        "## Reinforcement Learning"
      ],
      "metadata": {
        "id": "lL3n02TVVUOY"
      },
      "id": "lL3n02TVVUOY"
    },
    {
      "cell_type": "markdown",
      "source": [
        "\n",
        "<img src=\"https://github.com/tulane-cmps6730/main/blob/main/lec/chat/figs/rl.png?raw=1\" width=80%/>\n",
        "\n",
        "The goal of Reinforcement Learning is to learn an optimal policy $\\pi$ when $R$ and $T$ are not known in advance.\n",
        "> Must interact with the world to learn how it works.\n",
        "\n",
        "See more in CMPS 6740: Reinforcement Learning and CMPS 6620: Artificial Intelligence.\n",
        "\n",
        "<br><br>\n",
        "<img src=\"https://github.com/tulane-cmps6730/main/blob/main/lec/chat/figs/rlloop.png?raw=1\" width=80%/>\n",
        "\n",
        "<br><br>\n",
        "\n",
        "In robot navigation, we let the robot wander around many times, recording the final reward collected after each trial.\n",
        "\n",
        "A final policy might look like this:\n",
        "\n",
        "<img src=\"https://github.com/tulane-cmps6730/main/blob/main/lec/chat/figs/policy.png?raw=1\" width=50%/>\n",
        "\n",
        "<br><br>\n",
        "\n"
      ],
      "metadata": {
        "id": "GUbcrSNaVTbD"
      },
      "id": "GUbcrSNaVTbD"
    },
    {
      "cell_type": "markdown",
      "source": [
        "### Finding optimal policies"
      ],
      "metadata": {
        "id": "ABWpXY6rVdOZ"
      },
      "id": "ABWpXY6rVdOZ"
    },
    {
      "cell_type": "markdown",
      "id": "8f7d5827-8ef0-479b-a1ff-1c9256256026",
      "metadata": {
        "id": "8f7d5827-8ef0-479b-a1ff-1c9256256026"
      },
      "source": [
        "\n",
        "\n",
        "How do we find an optimal policy? To start, we need to define the value of a state:\n",
        "\n",
        "<img src=\"https://github.com/tulane-cmps6730/main/blob/main/lec/chat/figs/bellman1.png?raw=1\" width=50%/>\n",
        "\n",
        "<img src=\"https://github.com/tulane-cmps6730/main/blob/main/lec/chat/figs/bellman2.png?raw=1\" width=50%/>\n",
        "\n",
        "<img src=\"https://github.com/tulane-cmps6730/main/blob/main/lec/chat/figs/policy2.png?raw=1\" width=40%/>\n",
        "\n",
        "Many algorithms exist for finding good policies. There is a tradeoff between:\n",
        "- **exploration**: taking random actions to learn about the search space; and\n",
        "- **exploitation**: using the best policy learned so far to increase reward\n",
        "\n"
      ]
    },
    {
      "cell_type": "markdown",
      "source": [
        "### Policy Gradient"
      ],
      "metadata": {
        "id": "kcMXSYYYVi6t"
      },
      "id": "kcMXSYYYVi6t"
    },
    {
      "cell_type": "markdown",
      "source": [
        "\n",
        "One class of solutions assumes the policy $\\pi_\\theta$ is parameterized by $\\theta$ (just like our language model is!).\n",
        "\n",
        "Gradient descent is used to find the $\\theta$ that maximizes cumulative expected reward:\n",
        "\n",
        "$\\theta^* = $argmax$_\\theta \\sum_{t=0}^\\infty \\gamma^t r_t$\n",
        "\n",
        "- $\\gamma$: discount factor (e.g., .5) that reduces value of rewards far in the future.\n",
        "- $r_t$ reward received at time $t$\n",
        "\n",
        "<br>\n",
        "\n",
        "This is harder than the gradient descent we've seen, since the agent must take many actions to compute the gradient.\n",
        "\n",
        "In practice, we compute sample action trajectories according to a given policy $\\pi_\\theta$, and use the resulting reward to estimate the gradient.\n",
        "\n",
        "\n",
        "<br><br><br>\n",
        "But wait, the human only gave us a reward (feedback) on a few possible answers per question. E.g., 8/10 and 2/10.\n",
        "\n",
        "<br><br>\n",
        "Given that the search for the best policy will have to consider many possible answers, **how can we determine the reward for an answer a human has never rated??**\n",
        "\n",
        "<br><br><br>\n"
      ],
      "metadata": {
        "id": "kdNkfjtcVhdp"
      },
      "id": "kdNkfjtcVhdp"
    },
    {
      "cell_type": "markdown",
      "source": [
        "### Reward Modeling"
      ],
      "metadata": {
        "id": "PT4EGwdjVoQv"
      },
      "id": "PT4EGwdjVoQv"
    },
    {
      "cell_type": "markdown",
      "id": "6b42b7c7-d444-4af3-8b4d-84e69bfb1068",
      "metadata": {
        "id": "6b42b7c7-d444-4af3-8b4d-84e69bfb1068"
      },
      "source": [
        "\n",
        "\n",
        "Suppose we have human ratings like:\n",
        "\n",
        "> Answer 1: 8/10\n",
        ">\n",
        "> Answer 2: 2/10\n",
        "\n",
        "How could we fit a model to predict the numbers 8 and 2 for the two different responses?\n",
        "\n",
        "<br><br><br>\n",
        "\n",
        "> Starting from the supervised fine-tuning model with the final unembedding layer removed, we trained a model to take in a prompt and response, and output a scalar reward.\n",
        "\n",
        "**Input:**\n",
        "\n",
        "*Instruction:* Write a haiku about Tulane\n",
        "\n",
        "*Answer:*\n",
        "\n",
        "> Under moss-clad oaks,\n",
        ">\n",
        "> Wisdom blooms in green and blue—\n",
        ">\n",
        "> Tulane's light shines through.\n",
        "\n",
        "**Output:**\n",
        "\n",
        "8\n",
        "\n",
        "<br><br><br><br>\n",
        "\n",
        "**What if we only have pairwise rankings?**\n",
        "\n",
        "Answer 1 > Answer 2\n",
        "\n",
        "<br><br>\n",
        "Assume $r_\\theta(x,y)$ is the reward predicted for instruction $x$ and answer $y$.\n",
        "\n",
        "What loss functions could we use here to learn from pairwise rankings?\n",
        "\n",
        "<br><br><br>\n",
        "\n",
        "loss: $\\sigma(r_\\theta(x, y_1) - r_\\theta(x, y_2))$\n",
        "\n",
        "- $r_\\theta(x,y)$ is the reward predicted for instruction $x$ and response $y$\n",
        "- $\\sigma$ is logistic function"
      ]
    },
    {
      "cell_type": "markdown",
      "source": [
        "<hr size=10 color=#285C4D>\n",
        "\n",
        "\n",
        "## Reinforcement Learning with Human Feedback (RLHF)"
      ],
      "metadata": {
        "id": "6k_CFTzDVvBJ"
      },
      "id": "6k_CFTzDVvBJ"
    },
    {
      "cell_type": "markdown",
      "id": "18c6aacf-f0c4-4087-8842-f41e01035c3b",
      "metadata": {
        "id": "18c6aacf-f0c4-4087-8842-f41e01035c3b"
      },
      "source": [
        "<img src=\"https://github.com/tulane-cmps6730/main/blob/main/lec/chat/figs/instructgptpaper.png?raw=1\" width=60%/>\n",
        "\n",
        "https://arxiv.org/pdf/2203.02155.pdf\n",
        "\n",
        "<img src=\"https://github.com/tulane-cmps6730/main/blob/main/lec/chat/figs/instructgpt.png?raw=1\" width=90%/>\n",
        "\n"
      ]
    },
    {
      "cell_type": "markdown",
      "source": [
        "<hr size=10 color=#285C4D>\n",
        "\n",
        "## Direct Preference Optimization\n"
      ],
      "metadata": {
        "id": "uibO-rXiV4B1"
      },
      "id": "uibO-rXiV4B1"
    },
    {
      "cell_type": "markdown",
      "id": "7dbfe0ad-1e1c-41af-af89-260bb560be32",
      "metadata": {
        "id": "7dbfe0ad-1e1c-41af-af89-260bb560be32"
      },
      "source": [
        "\n",
        "The above is very complicated. Is it necessary?\n",
        "\n",
        "<img src=\"https://github.com/tulane-cmps6730/main/blob/main/lec/chat/figs/dpotitle.png?raw=1\" width=80%/>\n",
        "\n",
        "<br>\n",
        "\n",
        "<img src=\"https://github.com/tulane-cmps6730/main/blob/main/lec/chat/figs/dpo2.png?raw=1\" width=80%/>\n",
        "\n",
        "<br><br>\n",
        "\n",
        "We start as before with the following steps:\n",
        "\n",
        "1. Pre-train a language model to predict the next word in a sentence.\n",
        "2. Instruction fine-tune to predict next word on high quality instruction data. Call this model $\\pi_{ref}(y|x)$.\n",
        "   - $\\pi_{ref}$ returns the probability of a text completion $y$ given input $x$. This is just the product of the probabilities of each word in $y$ given the preceding text $x$.\n",
        "3. Generate pairs of answers by sampling: $(y_1, y_2) \\sim \\pi_{ref}$\n",
        "4. Have humans rank each pair: $y_w \\succ y_l$ indicates that the winner $y_w$ is ranked higher than the loser $y_l$.\n",
        "5. Train a final model $\\pi_\\theta$ that is similar to $\\pi_{ref}$, but additionally respects the ranked pair training data.\n",
        "\n",
        "$$\\max_{\\pi_\\theta} \\frac{1}{|D|}\\sum_{(x,y) \\sim D} r_\\theta(x,y) - \\beta \\frac{1}{|D|}\\sum_{(x,y) \\sim D} \\log \\frac{\\pi_\\theta(y|x)}{\\pi_{ref}(y|x)}$$\n",
        "\n",
        "The right term is the KL divergence between the two distributions.\n",
        "\n",
        "The key of DPO is being able to do #5 without using the reward function and without using RL."
      ]
    },
    {
      "cell_type": "markdown",
      "source": [
        "### Preference Model\n"
      ],
      "metadata": {
        "id": "zMZsbMctV74c"
      },
      "id": "zMZsbMctV74c"
    },
    {
      "cell_type": "markdown",
      "id": "d48212dd-7f0f-4325-bb05-114acca00fc2",
      "metadata": {
        "id": "d48212dd-7f0f-4325-bb05-114acca00fc2"
      },
      "source": [
        "\n",
        "We need a model that will rank two completions $y_1$ and $y_2$.\n",
        "\n",
        "If we assume for a moment that we have access to the reward function r, then a common way to model preferences is called the \"Bradley-Terry\" model:\n",
        "\n",
        "$$p(y_1 \\succ y_2 \\mid x) = \\frac{\\exp(r(x, y_1))}{\\exp(r(x, y_1)) + \\exp(r(x, y_2))}$$\n",
        "\n",
        "This should look familiar. It is just like the softmax function: softmax$(\\{a,b\\})= \\{\\frac{e^a}{e^a+e^b}, \\frac{e^b}{e^a+e^b}\\}$\n",
        "\n",
        "The model above uses the reward function. But, we would like to remove this from our model, and instead operate using the language model $\\pi$ directly.\n",
        "\n",
        "It turns out that the objective can be reparameterized by using this equivalency for $r(x,y)$:\n",
        "\n",
        "$$r(x,y) = \\beta \\log \\frac{\\pi_\\theta(y|x)}{\\pi_{ref}(y|x)} + \\beta \\log Z(x)$$\n",
        "\n",
        "where\n",
        "- $\\pi_\\theta$ is the final language model\n",
        "- $\\pi_{ref}$ is the instruction fine-tuned model fit in Step 2 above.\n",
        "- $Z(x)$ is a normalization term that, naively, would require summing over all possible completion strings $y$ (!)\n",
        "\n",
        "Because we are comparing **pairs** of $y_w,y_l$, it turns out that the $Z(x)$ terms cancel out.\n",
        "\n",
        "The reparameterized objective is:\n",
        "\n",
        "$$\\max_{\\pi_\\theta}\\frac{1}{|D|}\\sum_{(x,y_w, y_l) \\sim D} \\log\\sigma\\left(\\beta\\log \\frac{\\pi_\\theta(y_w|x)}{\\pi_{ref}(y_w|x)} - \\beta\\log \\frac{\\pi_\\theta(y_l|x)}{\\pi_{ref}(y_l|x)} \\right)$$\n",
        "\n",
        "<img src=\"https://github.com/tulane-cmps6730/main/blob/main/lec/chat/figs/dpo3.png?raw=1\" width=80%/>\n",
        "\n",
        "<br><br>\n",
        "\n",
        "<img src=\"https://github.com/tulane-cmps6730/main/blob/main/lec/chat/figs/dpores1.png?raw=1\" width=80%/>\n",
        "\n",
        "<img src=\"https://github.com/tulane-cmps6730/main/blob/main/lec/chat/figs/dpores2.png?raw=1\" width=80%/>\n",
        "\n"
      ]
    },
    {
      "cell_type": "markdown",
      "id": "5fe121fb-2e6f-41be-ba14-a5045b6107a5",
      "metadata": {
        "id": "5fe121fb-2e6f-41be-ba14-a5045b6107a5"
      },
      "source": [
        "Colab:\n",
        "https://colab.research.google.com/drive/1J1qtwPCmq9up3YgGVml9WiADNNUgx1Sz?usp=drive_link\n",
        "\n",
        "(modified from unsloth: https://huggingface.co/datasets/unsloth/notebooks/blob/main/DPO_Zephyr_Unsloth_Example.ipynb )"
      ]
    },
    {
      "cell_type": "markdown",
      "source": [
        "<hr size=10 color=#285C4D>\n",
        "\n",
        "## Ongoing work"
      ],
      "metadata": {
        "id": "tPl5LoNZWDyk"
      },
      "id": "tPl5LoNZWDyk"
    },
    {
      "cell_type": "markdown",
      "id": "29bcc583-ed02-43fd-acad-2feab1ebb9b4",
      "metadata": {
        "id": "29bcc583-ed02-43fd-acad-2feab1ebb9b4"
      },
      "source": [
        "\n",
        "\n",
        "This \"alignment\" problem is a very active area of research. Some other pointers:\n",
        "\n",
        "- [Zephyr: Direct Distillation of LM Alignment -- eliminate the humans from preferences!](https://arxiv.org/pdf/2310.16944.pdf)\n",
        "\n",
        "<img src=\"https://github.com/tulane-cmps6730/main/blob/main/lec/chat/figs/zephyr.png?raw=1\" width=80%/>\n",
        "\n",
        "<br><br><br><br><br><br>\n",
        "\n",
        "- [Chain of Hindsight aligns Language Models with Feedback](https://arxiv.org/pdf/2302.02676.pdf)\n",
        "\n",
        "<img src=\"https://github.com/tulane-cmps6730/main/blob/main/lec/chat/figs/hindsight.png?raw=1\" width=80%/>\n",
        "\n",
        "\n",
        "<br><br><br><br><br><br>\n",
        "\n",
        "- [SLiC-HF: Sequence Likelihood Calibration with Human Feedback](https://arxiv.org/pdf/2305.10425.pdf)\n",
        "\n",
        "<img src=\"https://github.com/tulane-cmps6730/main/blob/main/lec/chat/figs/slic.png?raw=1\" width=80%/>"
      ]
    },
    {
      "cell_type": "markdown",
      "source": [
        "<hr size=10 color=#285C4D>\n",
        "\n",
        "## Group Task"
      ],
      "metadata": {
        "id": "AHEysOWfr26x"
      },
      "id": "AHEysOWfr26x"
    },
    {
      "cell_type": "markdown",
      "source": [
        "See the [DPOExample](https://colab.research.google.com/github/tulane-cmps6730/main/blob/main/notebooks/DPO_Example.ipynb) in Colab, which uses existing libraries to download a pre-trained language model and use DPO to tune it to match human-provided dialog examples.\n",
        "\n",
        "- See the Train the DPO Model section for the main loop that runs DPO and prints out responses on certain queries.\n",
        "\n",
        "- Investigate how to get the model to follow the provided examples (e.g., when asked \"What is a hippopotamus?\" the model should respond \"I cannot say.\").\n",
        "\n",
        "- Try out different parameters to `learning_rate` and `beta` to see how that affects the model.\n",
        "\n",
        "- Try out different \"rejected\" and \"chosen\" examples in `my_data` to see how it affects training.\n",
        "\n",
        "Were you able to get the model to behave as desired? What affect did the parameters have?"
      ],
      "metadata": {
        "id": "K9788XIIr6M2"
      },
      "id": "K9788XIIr6M2"
    },
    {
      "cell_type": "markdown",
      "source": [
        "<hr size=10 color=#285C4D>\n",
        "\n",
        "## Sources"
      ],
      "metadata": {
        "id": "R_apbEF2WLCG"
      },
      "id": "R_apbEF2WLCG"
    },
    {
      "cell_type": "markdown",
      "id": "a70ba686-2c2e-4aa1-96ad-01f3d38c83b9",
      "metadata": {
        "id": "a70ba686-2c2e-4aa1-96ad-01f3d38c83b9"
      },
      "source": [
        "\n",
        "\n",
        "- Stanford: https://web.stanford.edu/class/cs224n/slides/cs224n-2024-lecture10-instruction-tuning-rlhf.pdf"
      ]
    }
  ],
  "metadata": {
    "kernelspec": {
      "display_name": "Python 3 (ipykernel)",
      "language": "python",
      "name": "python3"
    },
    "language_info": {
      "codemirror_mode": {
        "name": "ipython",
        "version": 3
      },
      "file_extension": ".py",
      "mimetype": "text/x-python",
      "name": "python",
      "nbconvert_exporter": "python",
      "pygments_lexer": "ipython3",
      "version": "3.11.5"
    },
    "colab": {
      "provenance": [],
      "collapsed_sections": [
        "VVsGPlIWUTiH",
        "EVm3k4mahT2q",
        "fJ2KgCMvkos4",
        "0xxybayjUY4L",
        "fQJ1ovsNUqoU",
        "6nxBBPJFfd5I",
        "vWSB-fJAU4RE",
        "lL3n02TVVUOY",
        "6k_CFTzDVvBJ",
        "uibO-rXiV4B1",
        "tPl5LoNZWDyk",
        "AHEysOWfr26x",
        "R_apbEF2WLCG"
      ],
      "toc_visible": true
    }
  },
  "nbformat": 4,
  "nbformat_minor": 5
}