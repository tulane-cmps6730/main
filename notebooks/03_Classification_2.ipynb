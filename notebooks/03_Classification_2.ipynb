{
  "cells": [
    {
      "cell_type": "markdown",
      "source": [
        "![Tulane](https://github.com/tulane-cmps6730/main/blob/main/img/banner.png?raw=true)\n",
        "\n",
        "<center>\n",
        "\n",
        "<font size=\"+3\">Classification II</font>\n",
        "\n",
        "[Aron Culotta](https://cs.tulane.edu/~aculotta/)  \n",
        "[Tulane University](https://cs.tulane.edu/)\n",
        "\n",
        "<a href=\"http://colab.research.google.com/github/tulane-cmps6730/main/blob/main/notebooks/03_Classification_2.ipynb\">\n",
        "        <img src=\"https://upload.wikimedia.org/wikipedia/commons/thumb/d/d0/Google_Colaboratory_SVG_Logo.svg/320px-Google_Colaboratory_SVG_Logo.svg.png\"  width=10%/></a>\n",
        "<a href=\"https://github.com/tulane-cmps6730/main/tree/main\">\n",
        "        <img src=\"https://upload.wikimedia.org/wikipedia/commons/thumb/c/c2/GitHub_Invertocat_Logo.svg/240px-GitHub_Invertocat_Logo.svg.png\" width=6%/></a>\n",
        "\n",
        "In this module, we'll learn about neural networks and how better data representations can improve classification.\n",
        "\n",
        "</center>"
      ],
      "metadata": {
        "id": "xhrX4Xnqj16B"
      }
    },
    {
      "cell_type": "markdown",
      "source": [
        "<hr size=10 color=#285C4D>\n",
        "\n",
        "## Reviewing Logistic Regression\n",
        "\n"
      ],
      "metadata": {
        "id": "q7sD5HYVkGdN"
      }
    },
    {
      "cell_type": "markdown",
      "source": [
        "First, let's review what we learned about logistic regression.\n",
        "\n",
        "We'll walk through a simple example using the `LogisticRegression` class in the [scikit-learn](https://scikit-learn.org/stable/) library.\n",
        "\n",
        "We begin with common imports and our toy spam classification example:"
      ],
      "metadata": {
        "id": "6htmg1xP6Z5j"
      }
    },
    {
      "cell_type": "code",
      "execution_count": 19,
      "metadata": {
        "code_folding": [
          0
        ],
        "hide_input": true,
        "id": "wu8S91PUjmOs",
        "outputId": "e3a7a026-f960-4d52-d95b-04113d6cdeb4",
        "colab": {
          "base_uri": "https://localhost:8080/",
          "height": 0
        }
      },
      "outputs": [
        {
          "output_type": "execute_result",
          "data": {
            "text/plain": [
              "   free  money  label\n",
              "0     0      0     -1\n",
              "1     1      0     -1\n",
              "2     1      0     -1\n",
              "3     1      1      1\n",
              "4     1      1      1\n",
              "5     1      1      1\n",
              "6     0      0     -1\n",
              "7     0      0     -1\n",
              "8     0      1     -1"
            ],
            "text/html": [
              "\n",
              "  <div id=\"df-38b64937-95bb-442d-8313-42ae0c97ce97\" class=\"colab-df-container\">\n",
              "    <div>\n",
              "<style scoped>\n",
              "    .dataframe tbody tr th:only-of-type {\n",
              "        vertical-align: middle;\n",
              "    }\n",
              "\n",
              "    .dataframe tbody tr th {\n",
              "        vertical-align: top;\n",
              "    }\n",
              "\n",
              "    .dataframe thead th {\n",
              "        text-align: right;\n",
              "    }\n",
              "</style>\n",
              "<table border=\"1\" class=\"dataframe\">\n",
              "  <thead>\n",
              "    <tr style=\"text-align: right;\">\n",
              "      <th></th>\n",
              "      <th>free</th>\n",
              "      <th>money</th>\n",
              "      <th>label</th>\n",
              "    </tr>\n",
              "  </thead>\n",
              "  <tbody>\n",
              "    <tr>\n",
              "      <th>0</th>\n",
              "      <td>0</td>\n",
              "      <td>0</td>\n",
              "      <td>-1</td>\n",
              "    </tr>\n",
              "    <tr>\n",
              "      <th>1</th>\n",
              "      <td>1</td>\n",
              "      <td>0</td>\n",
              "      <td>-1</td>\n",
              "    </tr>\n",
              "    <tr>\n",
              "      <th>2</th>\n",
              "      <td>1</td>\n",
              "      <td>0</td>\n",
              "      <td>-1</td>\n",
              "    </tr>\n",
              "    <tr>\n",
              "      <th>3</th>\n",
              "      <td>1</td>\n",
              "      <td>1</td>\n",
              "      <td>1</td>\n",
              "    </tr>\n",
              "    <tr>\n",
              "      <th>4</th>\n",
              "      <td>1</td>\n",
              "      <td>1</td>\n",
              "      <td>1</td>\n",
              "    </tr>\n",
              "    <tr>\n",
              "      <th>5</th>\n",
              "      <td>1</td>\n",
              "      <td>1</td>\n",
              "      <td>1</td>\n",
              "    </tr>\n",
              "    <tr>\n",
              "      <th>6</th>\n",
              "      <td>0</td>\n",
              "      <td>0</td>\n",
              "      <td>-1</td>\n",
              "    </tr>\n",
              "    <tr>\n",
              "      <th>7</th>\n",
              "      <td>0</td>\n",
              "      <td>0</td>\n",
              "      <td>-1</td>\n",
              "    </tr>\n",
              "    <tr>\n",
              "      <th>8</th>\n",
              "      <td>0</td>\n",
              "      <td>1</td>\n",
              "      <td>-1</td>\n",
              "    </tr>\n",
              "  </tbody>\n",
              "</table>\n",
              "</div>\n",
              "    <div class=\"colab-df-buttons\">\n",
              "\n",
              "  <div class=\"colab-df-container\">\n",
              "    <button class=\"colab-df-convert\" onclick=\"convertToInteractive('df-38b64937-95bb-442d-8313-42ae0c97ce97')\"\n",
              "            title=\"Convert this dataframe to an interactive table.\"\n",
              "            style=\"display:none;\">\n",
              "\n",
              "  <svg xmlns=\"http://www.w3.org/2000/svg\" height=\"24px\" viewBox=\"0 -960 960 960\">\n",
              "    <path d=\"M120-120v-720h720v720H120Zm60-500h600v-160H180v160Zm220 220h160v-160H400v160Zm0 220h160v-160H400v160ZM180-400h160v-160H180v160Zm440 0h160v-160H620v160ZM180-180h160v-160H180v160Zm440 0h160v-160H620v160Z\"/>\n",
              "  </svg>\n",
              "    </button>\n",
              "\n",
              "  <style>\n",
              "    .colab-df-container {\n",
              "      display:flex;\n",
              "      gap: 12px;\n",
              "    }\n",
              "\n",
              "    .colab-df-convert {\n",
              "      background-color: #E8F0FE;\n",
              "      border: none;\n",
              "      border-radius: 50%;\n",
              "      cursor: pointer;\n",
              "      display: none;\n",
              "      fill: #1967D2;\n",
              "      height: 32px;\n",
              "      padding: 0 0 0 0;\n",
              "      width: 32px;\n",
              "    }\n",
              "\n",
              "    .colab-df-convert:hover {\n",
              "      background-color: #E2EBFA;\n",
              "      box-shadow: 0px 1px 2px rgba(60, 64, 67, 0.3), 0px 1px 3px 1px rgba(60, 64, 67, 0.15);\n",
              "      fill: #174EA6;\n",
              "    }\n",
              "\n",
              "    .colab-df-buttons div {\n",
              "      margin-bottom: 4px;\n",
              "    }\n",
              "\n",
              "    [theme=dark] .colab-df-convert {\n",
              "      background-color: #3B4455;\n",
              "      fill: #D2E3FC;\n",
              "    }\n",
              "\n",
              "    [theme=dark] .colab-df-convert:hover {\n",
              "      background-color: #434B5C;\n",
              "      box-shadow: 0px 1px 3px 1px rgba(0, 0, 0, 0.15);\n",
              "      filter: drop-shadow(0px 1px 2px rgba(0, 0, 0, 0.3));\n",
              "      fill: #FFFFFF;\n",
              "    }\n",
              "  </style>\n",
              "\n",
              "    <script>\n",
              "      const buttonEl =\n",
              "        document.querySelector('#df-38b64937-95bb-442d-8313-42ae0c97ce97 button.colab-df-convert');\n",
              "      buttonEl.style.display =\n",
              "        google.colab.kernel.accessAllowed ? 'block' : 'none';\n",
              "\n",
              "      async function convertToInteractive(key) {\n",
              "        const element = document.querySelector('#df-38b64937-95bb-442d-8313-42ae0c97ce97');\n",
              "        const dataTable =\n",
              "          await google.colab.kernel.invokeFunction('convertToInteractive',\n",
              "                                                    [key], {});\n",
              "        if (!dataTable) return;\n",
              "\n",
              "        const docLinkHtml = 'Like what you see? Visit the ' +\n",
              "          '<a target=\"_blank\" href=https://colab.research.google.com/notebooks/data_table.ipynb>data table notebook</a>'\n",
              "          + ' to learn more about interactive tables.';\n",
              "        element.innerHTML = '';\n",
              "        dataTable['output_type'] = 'display_data';\n",
              "        await google.colab.output.renderOutput(dataTable, element);\n",
              "        const docLink = document.createElement('div');\n",
              "        docLink.innerHTML = docLinkHtml;\n",
              "        element.appendChild(docLink);\n",
              "      }\n",
              "    </script>\n",
              "  </div>\n",
              "\n",
              "\n",
              "<div id=\"df-e1142cbb-f2cc-4fde-9218-b4c726ca2c77\">\n",
              "  <button class=\"colab-df-quickchart\" onclick=\"quickchart('df-e1142cbb-f2cc-4fde-9218-b4c726ca2c77')\"\n",
              "            title=\"Suggest charts\"\n",
              "            style=\"display:none;\">\n",
              "\n",
              "<svg xmlns=\"http://www.w3.org/2000/svg\" height=\"24px\"viewBox=\"0 0 24 24\"\n",
              "     width=\"24px\">\n",
              "    <g>\n",
              "        <path d=\"M19 3H5c-1.1 0-2 .9-2 2v14c0 1.1.9 2 2 2h14c1.1 0 2-.9 2-2V5c0-1.1-.9-2-2-2zM9 17H7v-7h2v7zm4 0h-2V7h2v10zm4 0h-2v-4h2v4z\"/>\n",
              "    </g>\n",
              "</svg>\n",
              "  </button>\n",
              "\n",
              "<style>\n",
              "  .colab-df-quickchart {\n",
              "      --bg-color: #E8F0FE;\n",
              "      --fill-color: #1967D2;\n",
              "      --hover-bg-color: #E2EBFA;\n",
              "      --hover-fill-color: #174EA6;\n",
              "      --disabled-fill-color: #AAA;\n",
              "      --disabled-bg-color: #DDD;\n",
              "  }\n",
              "\n",
              "  [theme=dark] .colab-df-quickchart {\n",
              "      --bg-color: #3B4455;\n",
              "      --fill-color: #D2E3FC;\n",
              "      --hover-bg-color: #434B5C;\n",
              "      --hover-fill-color: #FFFFFF;\n",
              "      --disabled-bg-color: #3B4455;\n",
              "      --disabled-fill-color: #666;\n",
              "  }\n",
              "\n",
              "  .colab-df-quickchart {\n",
              "    background-color: var(--bg-color);\n",
              "    border: none;\n",
              "    border-radius: 50%;\n",
              "    cursor: pointer;\n",
              "    display: none;\n",
              "    fill: var(--fill-color);\n",
              "    height: 32px;\n",
              "    padding: 0;\n",
              "    width: 32px;\n",
              "  }\n",
              "\n",
              "  .colab-df-quickchart:hover {\n",
              "    background-color: var(--hover-bg-color);\n",
              "    box-shadow: 0 1px 2px rgba(60, 64, 67, 0.3), 0 1px 3px 1px rgba(60, 64, 67, 0.15);\n",
              "    fill: var(--button-hover-fill-color);\n",
              "  }\n",
              "\n",
              "  .colab-df-quickchart-complete:disabled,\n",
              "  .colab-df-quickchart-complete:disabled:hover {\n",
              "    background-color: var(--disabled-bg-color);\n",
              "    fill: var(--disabled-fill-color);\n",
              "    box-shadow: none;\n",
              "  }\n",
              "\n",
              "  .colab-df-spinner {\n",
              "    border: 2px solid var(--fill-color);\n",
              "    border-color: transparent;\n",
              "    border-bottom-color: var(--fill-color);\n",
              "    animation:\n",
              "      spin 1s steps(1) infinite;\n",
              "  }\n",
              "\n",
              "  @keyframes spin {\n",
              "    0% {\n",
              "      border-color: transparent;\n",
              "      border-bottom-color: var(--fill-color);\n",
              "      border-left-color: var(--fill-color);\n",
              "    }\n",
              "    20% {\n",
              "      border-color: transparent;\n",
              "      border-left-color: var(--fill-color);\n",
              "      border-top-color: var(--fill-color);\n",
              "    }\n",
              "    30% {\n",
              "      border-color: transparent;\n",
              "      border-left-color: var(--fill-color);\n",
              "      border-top-color: var(--fill-color);\n",
              "      border-right-color: var(--fill-color);\n",
              "    }\n",
              "    40% {\n",
              "      border-color: transparent;\n",
              "      border-right-color: var(--fill-color);\n",
              "      border-top-color: var(--fill-color);\n",
              "    }\n",
              "    60% {\n",
              "      border-color: transparent;\n",
              "      border-right-color: var(--fill-color);\n",
              "    }\n",
              "    80% {\n",
              "      border-color: transparent;\n",
              "      border-right-color: var(--fill-color);\n",
              "      border-bottom-color: var(--fill-color);\n",
              "    }\n",
              "    90% {\n",
              "      border-color: transparent;\n",
              "      border-bottom-color: var(--fill-color);\n",
              "    }\n",
              "  }\n",
              "</style>\n",
              "\n",
              "  <script>\n",
              "    async function quickchart(key) {\n",
              "      const quickchartButtonEl =\n",
              "        document.querySelector('#' + key + ' button');\n",
              "      quickchartButtonEl.disabled = true;  // To prevent multiple clicks.\n",
              "      quickchartButtonEl.classList.add('colab-df-spinner');\n",
              "      try {\n",
              "        const charts = await google.colab.kernel.invokeFunction(\n",
              "            'suggestCharts', [key], {});\n",
              "      } catch (error) {\n",
              "        console.error('Error during call to suggestCharts:', error);\n",
              "      }\n",
              "      quickchartButtonEl.classList.remove('colab-df-spinner');\n",
              "      quickchartButtonEl.classList.add('colab-df-quickchart-complete');\n",
              "    }\n",
              "    (() => {\n",
              "      let quickchartButtonEl =\n",
              "        document.querySelector('#df-e1142cbb-f2cc-4fde-9218-b4c726ca2c77 button');\n",
              "      quickchartButtonEl.style.display =\n",
              "        google.colab.kernel.accessAllowed ? 'block' : 'none';\n",
              "    })();\n",
              "  </script>\n",
              "</div>\n",
              "\n",
              "  <div id=\"id_acbca5b2-e682-405c-a4f7-f4c07d0a3258\">\n",
              "    <style>\n",
              "      .colab-df-generate {\n",
              "        background-color: #E8F0FE;\n",
              "        border: none;\n",
              "        border-radius: 50%;\n",
              "        cursor: pointer;\n",
              "        display: none;\n",
              "        fill: #1967D2;\n",
              "        height: 32px;\n",
              "        padding: 0 0 0 0;\n",
              "        width: 32px;\n",
              "      }\n",
              "\n",
              "      .colab-df-generate:hover {\n",
              "        background-color: #E2EBFA;\n",
              "        box-shadow: 0px 1px 2px rgba(60, 64, 67, 0.3), 0px 1px 3px 1px rgba(60, 64, 67, 0.15);\n",
              "        fill: #174EA6;\n",
              "      }\n",
              "\n",
              "      [theme=dark] .colab-df-generate {\n",
              "        background-color: #3B4455;\n",
              "        fill: #D2E3FC;\n",
              "      }\n",
              "\n",
              "      [theme=dark] .colab-df-generate:hover {\n",
              "        background-color: #434B5C;\n",
              "        box-shadow: 0px 1px 3px 1px rgba(0, 0, 0, 0.15);\n",
              "        filter: drop-shadow(0px 1px 2px rgba(0, 0, 0, 0.3));\n",
              "        fill: #FFFFFF;\n",
              "      }\n",
              "    </style>\n",
              "    <button class=\"colab-df-generate\" onclick=\"generateWithVariable('D')\"\n",
              "            title=\"Generate code using this dataframe.\"\n",
              "            style=\"display:none;\">\n",
              "\n",
              "  <svg xmlns=\"http://www.w3.org/2000/svg\" height=\"24px\"viewBox=\"0 0 24 24\"\n",
              "       width=\"24px\">\n",
              "    <path d=\"M7,19H8.4L18.45,9,17,7.55,7,17.6ZM5,21V16.75L18.45,3.32a2,2,0,0,1,2.83,0l1.4,1.43a1.91,1.91,0,0,1,.58,1.4,1.91,1.91,0,0,1-.58,1.4L9.25,21ZM18.45,9,17,7.55Zm-12,3A5.31,5.31,0,0,0,4.9,8.1,5.31,5.31,0,0,0,1,6.5,5.31,5.31,0,0,0,4.9,4.9,5.31,5.31,0,0,0,6.5,1,5.31,5.31,0,0,0,8.1,4.9,5.31,5.31,0,0,0,12,6.5,5.46,5.46,0,0,0,6.5,12Z\"/>\n",
              "  </svg>\n",
              "    </button>\n",
              "    <script>\n",
              "      (() => {\n",
              "      const buttonEl =\n",
              "        document.querySelector('#id_acbca5b2-e682-405c-a4f7-f4c07d0a3258 button.colab-df-generate');\n",
              "      buttonEl.style.display =\n",
              "        google.colab.kernel.accessAllowed ? 'block' : 'none';\n",
              "\n",
              "      buttonEl.onclick = () => {\n",
              "        google.colab.notebook.generateWithVariable('D');\n",
              "      }\n",
              "      })();\n",
              "    </script>\n",
              "  </div>\n",
              "\n",
              "    </div>\n",
              "  </div>\n"
            ],
            "application/vnd.google.colaboratory.intrinsic+json": {
              "type": "dataframe",
              "variable_name": "D",
              "summary": "{\n  \"name\": \"D\",\n  \"rows\": 9,\n  \"fields\": [\n    {\n      \"column\": \"free\",\n      \"properties\": {\n        \"dtype\": \"number\",\n        \"std\": 0,\n        \"min\": 0,\n        \"max\": 1,\n        \"num_unique_values\": 2,\n        \"samples\": [\n          1,\n          0\n        ],\n        \"semantic_type\": \"\",\n        \"description\": \"\"\n      }\n    },\n    {\n      \"column\": \"money\",\n      \"properties\": {\n        \"dtype\": \"number\",\n        \"std\": 0,\n        \"min\": 0,\n        \"max\": 1,\n        \"num_unique_values\": 2,\n        \"samples\": [\n          1,\n          0\n        ],\n        \"semantic_type\": \"\",\n        \"description\": \"\"\n      }\n    },\n    {\n      \"column\": \"label\",\n      \"properties\": {\n        \"dtype\": \"number\",\n        \"std\": 1,\n        \"min\": -1,\n        \"max\": 1,\n        \"num_unique_values\": 2,\n        \"samples\": [\n          1,\n          -1\n        ],\n        \"semantic_type\": \"\",\n        \"description\": \"\"\n      }\n    }\n  ]\n}"
            }
          },
          "metadata": {},
          "execution_count": 19
        }
      ],
      "source": [
        "# common imports\n",
        "import matplotlib.pyplot as plt\n",
        "import numpy as np\n",
        "from numpy import array as npa\n",
        "import pandas as pd\n",
        "\n",
        "D = pd.DataFrame(\n",
        "        [[0,0,-1],\n",
        "        [1,0,-1],\n",
        "        [1,0,-1],\n",
        "        [1,1,1],\n",
        "        [1,1,1],\n",
        "        [1,1,1],\n",
        "        [0,0,-1],\n",
        "        [0,0,-1],\n",
        "        [0,1,-1]], columns=['free', 'money', 'label'])\n",
        "D"
      ]
    },
    {
      "cell_type": "code",
      "execution_count": 20,
      "metadata": {
        "id": "O-dDM8gLjmOw",
        "outputId": "45432533-bfc3-49c8-d22d-428b6fc9841d",
        "colab": {
          "base_uri": "https://localhost:8080/",
          "height": 0
        }
      },
      "outputs": [
        {
          "output_type": "stream",
          "name": "stdout",
          "text": [
            "X: feature matrix\n"
          ]
        },
        {
          "output_type": "display_data",
          "data": {
            "text/plain": [
              "array([[0, 0],\n",
              "       [1, 0],\n",
              "       [1, 0],\n",
              "       [1, 1],\n",
              "       [1, 1],\n",
              "       [1, 1],\n",
              "       [0, 0],\n",
              "       [0, 0],\n",
              "       [0, 1]])"
            ]
          },
          "metadata": {}
        },
        {
          "output_type": "stream",
          "name": "stdout",
          "text": [
            "\n",
            "y: label vector\n"
          ]
        },
        {
          "output_type": "display_data",
          "data": {
            "text/plain": [
              "array([-1, -1, -1,  1,  1,  1, -1, -1, -1])"
            ]
          },
          "metadata": {}
        },
        {
          "output_type": "stream",
          "name": "stdout",
          "text": [
            "learned coeficients (theta)= [[0.8057828  1.04466014]]\n",
            "intercept= [-1.69903235]\n"
          ]
        }
      ],
      "source": [
        "# Fit LogisticRegression on this data.\n",
        "from sklearn.linear_model import LogisticRegression\n",
        "lr = LogisticRegression()\n",
        "# create feature matrix\n",
        "X = D[['free', 'money']].values\n",
        "# create label vector\n",
        "y = D.label.values\n",
        "print(\"X: feature matrix\")\n",
        "display(X)\n",
        "print(\"\\ny: label vector\")\n",
        "display(y)\n",
        "# fit the parameters - this will do gradient descent.\n",
        "lr.fit(X, y)\n",
        "# print the learned coefficients and intercept terms.\n",
        "print('learned coeficients (theta)=', lr.coef_)\n",
        "print('intercept=', lr.intercept_)"
      ]
    },
    {
      "cell_type": "code",
      "execution_count": 21,
      "metadata": {
        "id": "8Tk2ohOxjmOx",
        "outputId": "f77e32ee-fe81-4b61-e5d4-81c665698cda",
        "colab": {
          "base_uri": "https://localhost:8080/"
        }
      },
      "outputs": [
        {
          "output_type": "execute_result",
          "data": {
            "text/plain": [
              "7"
            ]
          },
          "metadata": {},
          "execution_count": 21
        }
      ],
      "source": [
        "# how many iterations of gradient descent were required?\n",
        "lr.n_iter_[0]"
      ]
    },
    {
      "cell_type": "markdown",
      "metadata": {
        "id": "vhrPMfe-jmOx"
      },
      "source": [
        "### Decision boundaries\n",
        "\n",
        "Logistic regression produces a **linear decision boundary** between the classes.\n",
        "\n",
        "(Note this is true even though the logistic function itself is non-linear.)"
      ]
    },
    {
      "cell_type": "code",
      "execution_count": 22,
      "metadata": {
        "id": "YPt3NvbsjmOx",
        "outputId": "e3513917-6be2-4c04-935d-c8e2eb2ee07d",
        "colab": {
          "base_uri": "https://localhost:8080/",
          "height": 0
        }
      },
      "outputs": [
        {
          "output_type": "display_data",
          "data": {
            "text/plain": [
              "<Figure size 640x480 with 1 Axes>"
            ],
            "image/png": "[encoded data removed]"
          },
          "metadata": {}
        }
      ],
      "source": [
        "def plot_data(X, y, x0, x1):\n",
        "    for xi, yi in zip(X, y):\n",
        "        plt.plot(xi[0], xi[1], marker='.', ms=50, color='g' if yi == 1 else 'r', alpha=.5)\n",
        "    plt.xlabel(x0)\n",
        "    plt.ylabel(x1)\n",
        "\n",
        "def plot_decision_surface(clf):\n",
        "    xx0, xx1 = np.meshgrid(np.arange(-0.1, 1.1, .01), np.arange(-0.1, 1.1, .01))\n",
        "    Z = clf.predict(np.c_[xx0.ravel(), xx1.ravel()])\n",
        "    Z = Z.reshape(xx0.shape)\n",
        "    cs = plt.contourf(xx0, xx1, Z, cmap=plt.cm.RdYlGn, alpha=.5)\n",
        "\n",
        "\n",
        "plt.figure()\n",
        "plot_data(X, y, 'free', 'money')\n",
        "plot_decision_surface(lr)\n",
        "plt.show()"
      ]
    },
    {
      "cell_type": "markdown",
      "metadata": {
        "id": "mfx05-xcjmOy"
      },
      "source": [
        "**Why would we ever need a more complicated decision boundary?**"
      ]
    },
    {
      "cell_type": "code",
      "execution_count": 23,
      "metadata": {
        "id": "mAoOSIzijmOy",
        "outputId": "6055302a-253f-49d0-dfe4-22109165ab15",
        "colab": {
          "base_uri": "https://localhost:8080/"
        }
      },
      "outputs": [
        {
          "output_type": "execute_result",
          "data": {
            "text/plain": [
              "array([-1])"
            ]
          },
          "metadata": {},
          "execution_count": 23
        }
      ],
      "source": [
        "# \"free free\" -> not spam ?\n",
        "lr.predict([[2, 0]])"
      ]
    },
    {
      "cell_type": "markdown",
      "metadata": {
        "id": "DDtDcrMSjmOy"
      },
      "source": [
        "### More complex decision functions\n",
        "\n",
        "Consider more complicated rules you might write for spam detection.\n",
        "\n",
        "- If document contains \"free money\" or \"free credit report\" but not \"free tonight\" ....\n",
        "\n",
        "\n",
        "<br>\n",
        "\n",
        "or consider sentiment classification (e.g., is this a positive or negative restaurant review):\n",
        "\n",
        "- If document contains \"bad\" -> negative  \n",
        "- If document contains \"not bad\" -> positive\n",
        "\n",
        "or:\n",
        "\n",
        "- If document contains a bad comment about service -> negative  \n",
        "- If document contains bad comment about weather and good comment about food -> positive\n",
        "\n",
        "\n",
        "\n",
        "**We need the flexibility to represent complex word interactions, without having to predefine them ourselves.**\n",
        "\n",
        "\n",
        "Consider having many classifiers for each possible topic:\n",
        "\n",
        "- weather sentiment\n",
        "- food sentiment\n",
        "- service sentiment\n",
        "- ...\n",
        "\n",
        "We could then combine into a final overall sentiment prediction."
      ]
    },
    {
      "cell_type": "code",
      "execution_count": 24,
      "metadata": {
        "id": "fNQEpIUAjmOz",
        "outputId": "f23bedac-b08d-4f76-ceea-73b8a021a963",
        "colab": {
          "base_uri": "https://localhost:8080/",
          "height": 0
        }
      },
      "outputs": [
        {
          "output_type": "execute_result",
          "data": {
            "text/plain": [
              "   food  service  weather  label\n",
              "0     1        0        0      1\n",
              "1    -1        0        0     -1\n",
              "2     1        0       -1      1\n",
              "3     1        0       -1      1\n",
              "4    -1        0        1     -1\n",
              "5    -1        0       -1     -1\n",
              "6     1        1        1      1\n",
              "7     1        1       -1      1"
            ],
            "text/html": [
              "\n",
              "  <div id=\"df-66985e53-861c-4d9e-99ed-c1a6991e3e39\" class=\"colab-df-container\">\n",
              "    <div>\n",
              "<style scoped>\n",
              "    .dataframe tbody tr th:only-of-type {\n",
              "        vertical-align: middle;\n",
              "    }\n",
              "\n",
              "    .dataframe tbody tr th {\n",
              "        vertical-align: top;\n",
              "    }\n",
              "\n",
              "    .dataframe thead th {\n",
              "        text-align: right;\n",
              "    }\n",
              "</style>\n",
              "<table border=\"1\" class=\"dataframe\">\n",
              "  <thead>\n",
              "    <tr style=\"text-align: right;\">\n",
              "      <th></th>\n",
              "      <th>food</th>\n",
              "      <th>service</th>\n",
              "      <th>weather</th>\n",
              "      <th>label</th>\n",
              "    </tr>\n",
              "  </thead>\n",
              "  <tbody>\n",
              "    <tr>\n",
              "      <th>0</th>\n",
              "      <td>1</td>\n",
              "      <td>0</td>\n",
              "      <td>0</td>\n",
              "      <td>1</td>\n",
              "    </tr>\n",
              "    <tr>\n",
              "      <th>1</th>\n",
              "      <td>-1</td>\n",
              "      <td>0</td>\n",
              "      <td>0</td>\n",
              "      <td>-1</td>\n",
              "    </tr>\n",
              "    <tr>\n",
              "      <th>2</th>\n",
              "      <td>1</td>\n",
              "      <td>0</td>\n",
              "      <td>-1</td>\n",
              "      <td>1</td>\n",
              "    </tr>\n",
              "    <tr>\n",
              "      <th>3</th>\n",
              "      <td>1</td>\n",
              "      <td>0</td>\n",
              "      <td>-1</td>\n",
              "      <td>1</td>\n",
              "    </tr>\n",
              "    <tr>\n",
              "      <th>4</th>\n",
              "      <td>-1</td>\n",
              "      <td>0</td>\n",
              "      <td>1</td>\n",
              "      <td>-1</td>\n",
              "    </tr>\n",
              "    <tr>\n",
              "      <th>5</th>\n",
              "      <td>-1</td>\n",
              "      <td>0</td>\n",
              "      <td>-1</td>\n",
              "      <td>-1</td>\n",
              "    </tr>\n",
              "    <tr>\n",
              "      <th>6</th>\n",
              "      <td>1</td>\n",
              "      <td>1</td>\n",
              "      <td>1</td>\n",
              "      <td>1</td>\n",
              "    </tr>\n",
              "    <tr>\n",
              "      <th>7</th>\n",
              "      <td>1</td>\n",
              "      <td>1</td>\n",
              "      <td>-1</td>\n",
              "      <td>1</td>\n",
              "    </tr>\n",
              "  </tbody>\n",
              "</table>\n",
              "</div>\n",
              "    <div class=\"colab-df-buttons\">\n",
              "\n",
              "  <div class=\"colab-df-container\">\n",
              "    <button class=\"colab-df-convert\" onclick=\"convertToInteractive('df-66985e53-861c-4d9e-99ed-c1a6991e3e39')\"\n",
              "            title=\"Convert this dataframe to an interactive table.\"\n",
              "            style=\"display:none;\">\n",
              "\n",
              "  <svg xmlns=\"http://www.w3.org/2000/svg\" height=\"24px\" viewBox=\"0 -960 960 960\">\n",
              "    <path d=\"M120-120v-720h720v720H120Zm60-500h600v-160H180v160Zm220 220h160v-160H400v160Zm0 220h160v-160H400v160ZM180-400h160v-160H180v160Zm440 0h160v-160H620v160ZM180-180h160v-160H180v160Zm440 0h160v-160H620v160Z\"/>\n",
              "  </svg>\n",
              "    </button>\n",
              "\n",
              "  <style>\n",
              "    .colab-df-container {\n",
              "      display:flex;\n",
              "      gap: 12px;\n",
              "    }\n",
              "\n",
              "    .colab-df-convert {\n",
              "      background-color: #E8F0FE;\n",
              "      border: none;\n",
              "      border-radius: 50%;\n",
              "      cursor: pointer;\n",
              "      display: none;\n",
              "      fill: #1967D2;\n",
              "      height: 32px;\n",
              "      padding: 0 0 0 0;\n",
              "      width: 32px;\n",
              "    }\n",
              "\n",
              "    .colab-df-convert:hover {\n",
              "      background-color: #E2EBFA;\n",
              "      box-shadow: 0px 1px 2px rgba(60, 64, 67, 0.3), 0px 1px 3px 1px rgba(60, 64, 67, 0.15);\n",
              "      fill: #174EA6;\n",
              "    }\n",
              "\n",
              "    .colab-df-buttons div {\n",
              "      margin-bottom: 4px;\n",
              "    }\n",
              "\n",
              "    [theme=dark] .colab-df-convert {\n",
              "      background-color: #3B4455;\n",
              "      fill: #D2E3FC;\n",
              "    }\n",
              "\n",
              "    [theme=dark] .colab-df-convert:hover {\n",
              "      background-color: #434B5C;\n",
              "      box-shadow: 0px 1px 3px 1px rgba(0, 0, 0, 0.15);\n",
              "      filter: drop-shadow(0px 1px 2px rgba(0, 0, 0, 0.3));\n",
              "      fill: #FFFFFF;\n",
              "    }\n",
              "  </style>\n",
              "\n",
              "    <script>\n",
              "      const buttonEl =\n",
              "        document.querySelector('#df-66985e53-861c-4d9e-99ed-c1a6991e3e39 button.colab-df-convert');\n",
              "      buttonEl.style.display =\n",
              "        google.colab.kernel.accessAllowed ? 'block' : 'none';\n",
              "\n",
              "      async function convertToInteractive(key) {\n",
              "        const element = document.querySelector('#df-66985e53-861c-4d9e-99ed-c1a6991e3e39');\n",
              "        const dataTable =\n",
              "          await google.colab.kernel.invokeFunction('convertToInteractive',\n",
              "                                                    [key], {});\n",
              "        if (!dataTable) return;\n",
              "\n",
              "        const docLinkHtml = 'Like what you see? Visit the ' +\n",
              "          '<a target=\"_blank\" href=https://colab.research.google.com/notebooks/data_table.ipynb>data table notebook</a>'\n",
              "          + ' to learn more about interactive tables.';\n",
              "        element.innerHTML = '';\n",
              "        dataTable['output_type'] = 'display_data';\n",
              "        await google.colab.output.renderOutput(dataTable, element);\n",
              "        const docLink = document.createElement('div');\n",
              "        docLink.innerHTML = docLinkHtml;\n",
              "        element.appendChild(docLink);\n",
              "      }\n",
              "    </script>\n",
              "  </div>\n",
              "\n",
              "\n",
              "<div id=\"df-7d72e228-707f-4afd-afda-267bb3abd1df\">\n",
              "  <button class=\"colab-df-quickchart\" onclick=\"quickchart('df-7d72e228-707f-4afd-afda-267bb3abd1df')\"\n",
              "            title=\"Suggest charts\"\n",
              "            style=\"display:none;\">\n",
              "\n",
              "<svg xmlns=\"http://www.w3.org/2000/svg\" height=\"24px\"viewBox=\"0 0 24 24\"\n",
              "     width=\"24px\">\n",
              "    <g>\n",
              "        <path d=\"M19 3H5c-1.1 0-2 .9-2 2v14c0 1.1.9 2 2 2h14c1.1 0 2-.9 2-2V5c0-1.1-.9-2-2-2zM9 17H7v-7h2v7zm4 0h-2V7h2v10zm4 0h-2v-4h2v4z\"/>\n",
              "    </g>\n",
              "</svg>\n",
              "  </button>\n",
              "\n",
              "<style>\n",
              "  .colab-df-quickchart {\n",
              "      --bg-color: #E8F0FE;\n",
              "      --fill-color: #1967D2;\n",
              "      --hover-bg-color: #E2EBFA;\n",
              "      --hover-fill-color: #174EA6;\n",
              "      --disabled-fill-color: #AAA;\n",
              "      --disabled-bg-color: #DDD;\n",
              "  }\n",
              "\n",
              "  [theme=dark] .colab-df-quickchart {\n",
              "      --bg-color: #3B4455;\n",
              "      --fill-color: #D2E3FC;\n",
              "      --hover-bg-color: #434B5C;\n",
              "      --hover-fill-color: #FFFFFF;\n",
              "      --disabled-bg-color: #3B4455;\n",
              "      --disabled-fill-color: #666;\n",
              "  }\n",
              "\n",
              "  .colab-df-quickchart {\n",
              "    background-color: var(--bg-color);\n",
              "    border: none;\n",
              "    border-radius: 50%;\n",
              "    cursor: pointer;\n",
              "    display: none;\n",
              "    fill: var(--fill-color);\n",
              "    height: 32px;\n",
              "    padding: 0;\n",
              "    width: 32px;\n",
              "  }\n",
              "\n",
              "  .colab-df-quickchart:hover {\n",
              "    background-color: var(--hover-bg-color);\n",
              "    box-shadow: 0 1px 2px rgba(60, 64, 67, 0.3), 0 1px 3px 1px rgba(60, 64, 67, 0.15);\n",
              "    fill: var(--button-hover-fill-color);\n",
              "  }\n",
              "\n",
              "  .colab-df-quickchart-complete:disabled,\n",
              "  .colab-df-quickchart-complete:disabled:hover {\n",
              "    background-color: var(--disabled-bg-color);\n",
              "    fill: var(--disabled-fill-color);\n",
              "    box-shadow: none;\n",
              "  }\n",
              "\n",
              "  .colab-df-spinner {\n",
              "    border: 2px solid var(--fill-color);\n",
              "    border-color: transparent;\n",
              "    border-bottom-color: var(--fill-color);\n",
              "    animation:\n",
              "      spin 1s steps(1) infinite;\n",
              "  }\n",
              "\n",
              "  @keyframes spin {\n",
              "    0% {\n",
              "      border-color: transparent;\n",
              "      border-bottom-color: var(--fill-color);\n",
              "      border-left-color: var(--fill-color);\n",
              "    }\n",
              "    20% {\n",
              "      border-color: transparent;\n",
              "      border-left-color: var(--fill-color);\n",
              "      border-top-color: var(--fill-color);\n",
              "    }\n",
              "    30% {\n",
              "      border-color: transparent;\n",
              "      border-left-color: var(--fill-color);\n",
              "      border-top-color: var(--fill-color);\n",
              "      border-right-color: var(--fill-color);\n",
              "    }\n",
              "    40% {\n",
              "      border-color: transparent;\n",
              "      border-right-color: var(--fill-color);\n",
              "      border-top-color: var(--fill-color);\n",
              "    }\n",
              "    60% {\n",
              "      border-color: transparent;\n",
              "      border-right-color: var(--fill-color);\n",
              "    }\n",
              "    80% {\n",
              "      border-color: transparent;\n",
              "      border-right-color: var(--fill-color);\n",
              "      border-bottom-color: var(--fill-color);\n",
              "    }\n",
              "    90% {\n",
              "      border-color: transparent;\n",
              "      border-bottom-color: var(--fill-color);\n",
              "    }\n",
              "  }\n",
              "</style>\n",
              "\n",
              "  <script>\n",
              "    async function quickchart(key) {\n",
              "      const quickchartButtonEl =\n",
              "        document.querySelector('#' + key + ' button');\n",
              "      quickchartButtonEl.disabled = true;  // To prevent multiple clicks.\n",
              "      quickchartButtonEl.classList.add('colab-df-spinner');\n",
              "      try {\n",
              "        const charts = await google.colab.kernel.invokeFunction(\n",
              "            'suggestCharts', [key], {});\n",
              "      } catch (error) {\n",
              "        console.error('Error during call to suggestCharts:', error);\n",
              "      }\n",
              "      quickchartButtonEl.classList.remove('colab-df-spinner');\n",
              "      quickchartButtonEl.classList.add('colab-df-quickchart-complete');\n",
              "    }\n",
              "    (() => {\n",
              "      let quickchartButtonEl =\n",
              "        document.querySelector('#df-7d72e228-707f-4afd-afda-267bb3abd1df button');\n",
              "      quickchartButtonEl.style.display =\n",
              "        google.colab.kernel.accessAllowed ? 'block' : 'none';\n",
              "    })();\n",
              "  </script>\n",
              "</div>\n",
              "\n",
              "  <div id=\"id_07d2b34a-80e8-4ba4-b5e9-88a90e0f1fc1\">\n",
              "    <style>\n",
              "      .colab-df-generate {\n",
              "        background-color: #E8F0FE;\n",
              "        border: none;\n",
              "        border-radius: 50%;\n",
              "        cursor: pointer;\n",
              "        display: none;\n",
              "        fill: #1967D2;\n",
              "        height: 32px;\n",
              "        padding: 0 0 0 0;\n",
              "        width: 32px;\n",
              "      }\n",
              "\n",
              "      .colab-df-generate:hover {\n",
              "        background-color: #E2EBFA;\n",
              "        box-shadow: 0px 1px 2px rgba(60, 64, 67, 0.3), 0px 1px 3px 1px rgba(60, 64, 67, 0.15);\n",
              "        fill: #174EA6;\n",
              "      }\n",
              "\n",
              "      [theme=dark] .colab-df-generate {\n",
              "        background-color: #3B4455;\n",
              "        fill: #D2E3FC;\n",
              "      }\n",
              "\n",
              "      [theme=dark] .colab-df-generate:hover {\n",
              "        background-color: #434B5C;\n",
              "        box-shadow: 0px 1px 3px 1px rgba(0, 0, 0, 0.15);\n",
              "        filter: drop-shadow(0px 1px 2px rgba(0, 0, 0, 0.3));\n",
              "        fill: #FFFFFF;\n",
              "      }\n",
              "    </style>\n",
              "    <button class=\"colab-df-generate\" onclick=\"generateWithVariable('D')\"\n",
              "            title=\"Generate code using this dataframe.\"\n",
              "            style=\"display:none;\">\n",
              "\n",
              "  <svg xmlns=\"http://www.w3.org/2000/svg\" height=\"24px\"viewBox=\"0 0 24 24\"\n",
              "       width=\"24px\">\n",
              "    <path d=\"M7,19H8.4L18.45,9,17,7.55,7,17.6ZM5,21V16.75L18.45,3.32a2,2,0,0,1,2.83,0l1.4,1.43a1.91,1.91,0,0,1,.58,1.4,1.91,1.91,0,0,1-.58,1.4L9.25,21ZM18.45,9,17,7.55Zm-12,3A5.31,5.31,0,0,0,4.9,8.1,5.31,5.31,0,0,0,1,6.5,5.31,5.31,0,0,0,4.9,4.9,5.31,5.31,0,0,0,6.5,1,5.31,5.31,0,0,0,8.1,4.9,5.31,5.31,0,0,0,12,6.5,5.46,5.46,0,0,0,6.5,12Z\"/>\n",
              "  </svg>\n",
              "    </button>\n",
              "    <script>\n",
              "      (() => {\n",
              "      const buttonEl =\n",
              "        document.querySelector('#id_07d2b34a-80e8-4ba4-b5e9-88a90e0f1fc1 button.colab-df-generate');\n",
              "      buttonEl.style.display =\n",
              "        google.colab.kernel.accessAllowed ? 'block' : 'none';\n",
              "\n",
              "      buttonEl.onclick = () => {\n",
              "        google.colab.notebook.generateWithVariable('D');\n",
              "      }\n",
              "      })();\n",
              "    </script>\n",
              "  </div>\n",
              "\n",
              "    </div>\n",
              "  </div>\n"
            ],
            "application/vnd.google.colaboratory.intrinsic+json": {
              "type": "dataframe",
              "variable_name": "D",
              "summary": "{\n  \"name\": \"D\",\n  \"rows\": 8,\n  \"fields\": [\n    {\n      \"column\": \"food\",\n      \"properties\": {\n        \"dtype\": \"number\",\n        \"std\": 1,\n        \"min\": -1,\n        \"max\": 1,\n        \"num_unique_values\": 2,\n        \"samples\": [\n          -1,\n          1\n        ],\n        \"semantic_type\": \"\",\n        \"description\": \"\"\n      }\n    },\n    {\n      \"column\": \"service\",\n      \"properties\": {\n        \"dtype\": \"number\",\n        \"std\": 0,\n        \"min\": 0,\n        \"max\": 1,\n        \"num_unique_values\": 2,\n        \"samples\": [\n          1,\n          0\n        ],\n        \"semantic_type\": \"\",\n        \"description\": \"\"\n      }\n    },\n    {\n      \"column\": \"weather\",\n      \"properties\": {\n        \"dtype\": \"number\",\n        \"std\": 0,\n        \"min\": -1,\n        \"max\": 1,\n        \"num_unique_values\": 3,\n        \"samples\": [\n          0,\n          -1\n        ],\n        \"semantic_type\": \"\",\n        \"description\": \"\"\n      }\n    },\n    {\n      \"column\": \"label\",\n      \"properties\": {\n        \"dtype\": \"number\",\n        \"std\": 1,\n        \"min\": -1,\n        \"max\": 1,\n        \"num_unique_values\": 2,\n        \"samples\": [\n          -1,\n          1\n        ],\n        \"semantic_type\": \"\",\n        \"description\": \"\"\n      }\n    }\n  ]\n}"
            }
          },
          "metadata": {},
          "execution_count": 24
        }
      ],
      "source": [
        "D = pd.DataFrame(\n",
        "        [[1,0,0,1],\n",
        "        [-1,0,0,-1],\n",
        "        [1,0,-1,1],\n",
        "        [1,0,-1,1],\n",
        "        [-1,0,1,-1],\n",
        "        [-1,0,-1,-1],\n",
        "        [1,1,1,1],\n",
        "        [1,1,-1,1]], columns=['food', 'service', 'weather', 'label'])\n",
        "D"
      ]
    },
    {
      "cell_type": "code",
      "execution_count": 25,
      "metadata": {
        "id": "O6AYC4ZQjmOz",
        "outputId": "d8ee8be9-ffaa-4ca6-cbae-78c69a1ed062",
        "colab": {
          "base_uri": "https://localhost:8080/"
        }
      },
      "outputs": [
        {
          "output_type": "stream",
          "name": "stdout",
          "text": [
            "coef= [[ 1.41135853  0.26270113 -0.17675799]]\n",
            "intercept= [0.2265434]\n"
          ]
        }
      ],
      "source": [
        "X = D[['food', 'service', 'weather']].values\n",
        "y = D.label.values\n",
        "lr.fit(X, y)\n",
        "print('coef=', lr.coef_)\n",
        "print('intercept=', lr.intercept_)"
      ]
    },
    {
      "cell_type": "markdown",
      "metadata": {
        "id": "ehM-3XNfjmOz"
      },
      "source": [
        "...but, how do we discover that 'food', 'service', and 'weather' are important?\n",
        "\n",
        "$\\rightarrow$ **discover from the data.**\n",
        "\n",
        "That's the idea behind neural networks: learn a **data representation** that is most predictive of class label.\n"
      ]
    },
    {
      "cell_type": "markdown",
      "source": [
        "<hr size=10 color=#285C4D>\n",
        "\n",
        "## Neural Networks Overview\n"
      ],
      "metadata": {
        "id": "qBC6IQhy5I1J"
      }
    },
    {
      "cell_type": "markdown",
      "metadata": {
        "id": "z_k0po17jmOz"
      },
      "source": [
        "\n",
        "A neural network is a metaphor for describing computation.\n",
        "\n",
        "<u> Logistic Regression as a Neural Network </u>\n",
        "\n",
        "![nn](https://github.com/tulane-cmps6730/main/blob/main/lec/classify/figs/nn.png?raw=1)"
      ]
    },
    {
      "cell_type": "markdown",
      "metadata": {
        "id": "z4RkNUGJjmOz"
      },
      "source": [
        "### Multi-layer Neural Network\n",
        "\n",
        "Neural networks typically consist of multiple **layers**. Each layer receives an input from the proceeding layer, performs computation, then produces an output.\n",
        "\n",
        "![nn2](https://github.com/tulane-cmps6730/main/blob/main/lec/classify/figs/nn2.png?raw=1)\n",
        "\n",
        "Introduce $m$ <u> hidden nodes</u> $\\vec{h} = \\{h_1 \\ldots h_m\\}$.\n",
        "- Like $m$ different classifiers (e.g., for \"service\", \"food\", \"weather\", ...)\n",
        "  - Each with own set of parameters $\\Theta = \\{\\Theta^1 \\ldots \\Theta^m\\}$\n",
        "  - e.g. $\\vec{\\Theta}^1 = \\{\\theta_1^1 \\ldots \\theta_d^1\\}$\n",
        "    - $\\theta_i^j$: weight connecting input $i$ to hidden node $j$\n",
        "- But, no associated labeled data for those classifiers.\n",
        "\n",
        "Also introduce a classifier to map from hidden values $\\vec{h}$ to label $y$\n",
        "- with parameters $\\vec{\\lambda} = \\{\\lambda_1 \\ldots \\lambda_m\\}$\n",
        "\n",
        "<u>Conceptually</u>\n",
        "- Identify $m$ different transformations of the input\n",
        "- Combine those $m$ transformations into a prediction\n",
        "- Allows <u> nonlinear</u> prediction functions\n",
        "\n",
        "\n",
        "<br>\n",
        "\n",
        "Whereas logistic regression function is:\n",
        "\n",
        "$$f(\\vec{x}, \\vec{\\theta}) = \\frac{1}{1 + e^{-\\vec{x} \\cdot \\vec{\\theta}}}$$\n",
        "\n",
        "the  neural net above defines the function:\n",
        "\n",
        "$$f(\\vec{x}, \\Theta, \\vec{\\lambda}) = \\frac{1}{1 + e^{-\\vec{h} \\cdot \\vec{\\lambda}}}$$\n",
        "\n",
        "where\n",
        "\n",
        "$$\n",
        "h_i =  \\frac{1}{1 + e^{-\\vec{x} \\cdot \\vec{\\Theta^i}}}\n",
        "$$\n",
        "\n"
      ]
    },
    {
      "cell_type": "markdown",
      "source": [
        "<hr size=10 color=#285C4D>\n",
        "\n",
        "## XOR problem\n"
      ],
      "metadata": {
        "id": "-AdVsC7z6drO"
      }
    },
    {
      "cell_type": "markdown",
      "metadata": {
        "id": "Pn_Ri-M0jmO0"
      },
      "source": [
        "\n",
        "Consider the XOR problem. The input is two bits, and the output is 1 if exactly one of the inputs is 1.\n",
        "\n",
        "| $x_{1}$  | $x_{2}$ | $y$ |\n",
        "|----------|----------|-------|\n",
        "| 0        |     0    |  0    |\n",
        "| 0        |     1    |  1    |\n",
        "| 1        |     0    |  1    |\n",
        "| 1        |     1    |  0    |\n",
        "\n",
        "<img src=\"https://github.com/tulane-cmps6730/main/blob/main/lec/classify/figs/xor.png?raw=1\" width=\"30%\"/>\n",
        "\n",
        "<img src=\"https://github.com/tulane-cmps6730/main/blob/main/lec/classify/figs/xor2.png?raw=1\" width=\"30%\"/>\n",
        "\n",
        "\n",
        "| $x_{1}$  | $x_{2}$  | $h_{1}$ | $h_{2}$ | $y_i$ |\n",
        "|----------|----------|---------|---------|-------|\n",
        "| 0        |     0    |  0      | 0       | 0     |\n",
        "| 0        |     1    |  1      | -1      | 1     |\n",
        "| 1        |     0    |  -1     | 1       | 1     |\n",
        "| 1        |     1    |  0      | 0       | 0     |\n",
        "\n",
        "\n",
        "\n",
        "<img src=\"https://github.com/tulane-cmps6730/main/blob/main/lec/classify/figs/xor3.png?raw=1\" width=\"70%\"/>\n",
        "\n",
        "\n"
      ]
    },
    {
      "cell_type": "markdown",
      "source": [
        "<hr size=10 color=#285C4D>\n",
        "\n",
        "## Learning in neural nets\n"
      ],
      "metadata": {
        "id": "pSBo0Pn76hqG"
      }
    },
    {
      "cell_type": "markdown",
      "metadata": {
        "id": "Wp1NRWfCjmO0"
      },
      "source": [
        "\n",
        "Consider the three layer neural network.  \n",
        "How can we learn the parameters $\\Theta$ and $\\vec{\\lambda}$?\n",
        "\n",
        "![nn2](https://github.com/tulane-cmps6730/main/blob/main/lec/classify/figs/nn2.png?raw=1)\n",
        "\n",
        "\n"
      ]
    },
    {
      "cell_type": "markdown",
      "source": [
        "### Recall Gradient descent recipe\n",
        "\n",
        "1.  Select a model type (e.g., linear, polynomial, etc)\n",
        "\n",
        "2.  Select an **error function** that, when minimized, results in a good setting of the model parameters.\n",
        "\n",
        "3.  Analytically determine the gradient of the error function with respect to the model parameters.\n",
        "\n",
        "4.  Iteratively change the parameters by a small amount in the direction of the gradient until the (near) minimum of the error function is found.\n",
        "\n",
        "\n",
        "<br><br>\n",
        "\n",
        "Our function is now:\n",
        "\n",
        "$$f(\\vec{x}, \\Theta, \\vec{\\lambda}) = \\frac{1}{1 + e^{-\\vec{h} \\cdot \\vec{\\lambda}}}$$\n",
        "\n",
        "where\n",
        "\n",
        "$$\n",
        "h_i =  \\frac{1}{1 + e^{-\\vec{x} \\cdot \\vec{\\Theta^i}}}\n",
        "$$\n",
        "\n",
        "<br>\n",
        "\n",
        "As with logistic regression, we can write the probability of the correct label as:\n",
        "\n",
        "$$\n",
        "p(y \\mid \\vec{x}) = \\frac{1}{1 + e^{-y\\vec{h} \\cdot \\vec{\\lambda}}}\n",
        "$$\n",
        "\n",
        "<br><br><br>\n",
        "\n",
        "We can choose from many possible error functions, e.g. **negative likelihood**:\n",
        "\n",
        "$$\n",
        "E(D, \\lambda, \\Theta) = - \\prod_{i=1}^{n}p(y_i|\\vec{x}_i)\n",
        "$$\n",
        "\n",
        "\n",
        "\n",
        "then, we need to compute two gradients:\n",
        "- $\\frac{\\partial E}{\\partial{\\theta_i^j}}$\n",
        "- $\\frac{\\partial E}{\\partial{\\lambda_{j}}}$  \n",
        "<br>\n",
        "where   \n",
        "- $\\lambda_{j}$ is the weight from hidden unit $j$ to the output unit\n",
        "- $\\theta_i^j$ is weight from input node $i$ to hidden unit $j$\n",
        "\n",
        "The gradient depends on three things:\n",
        "\n",
        "1. The network structure (hidden layers, units)\n",
        "2. The activation function (here, the logistic function)\n",
        "3. The loss function (e.g., squared error, cross entropy, ...)\n",
        "\n",
        "<br>\n",
        "<br>\n",
        "\n"
      ],
      "metadata": {
        "id": "rcCmPbmK5ipj"
      }
    },
    {
      "cell_type": "markdown",
      "source": [
        "### Parameter updates\n",
        "\n",
        "Assuming logistic activation functions and negative log likelihood loss function, we can compute the update rules as follows (messy calculus omitted).\n",
        "\n",
        "We compute updates for a single training instance (to reduce subscripts).\n",
        "\n",
        "1. $\\vec{\\lambda}$ parameters are just updated like in logistic regression, replacing $h_j$ for feature $x_j$:\n",
        "\n",
        "$$\n",
        "\\lambda_j^{t+1} \\leftarrow \\lambda_j^t + \\eta y h_j (1-p(y \\mid \\vec{h}))\n",
        "$$\n",
        "\n",
        "> Compare with logistic regression update for one training instance: $$\\theta_j^{t+1} \\leftarrow \\theta_j^{t} + \\eta y x_{j}(1-p(y \\mid \\vec{x}))$$\n",
        "\n",
        "<br>\n",
        "\n",
        "2. To compute updates for $\\Theta$, we need to \"assign blame\" to each hidden unit proportionally:\n",
        "\n",
        "$$\n",
        "\\theta_{i}^{j (t+1)} \\leftarrow \\theta_{i}^{j (t)} + \\eta y x_i \\lambda_j(1 - p(y \\mid \\vec{h}))\n",
        "$$\n",
        "- $\\theta_{i}^{j}$ is the weight connecting input feature $i$ to hidden node $j$\n",
        "- $\\lambda_j$ weights the influence of hidden node $h_j$ on the final classification $y$\n",
        "- $x_i$ indicates the influence of the $i$th input feature on hidden node $h_j$\n",
        " - In picuture below, this is $x_{1i}$, but we've dropped the example index for simplicity.\n",
        "\n",
        "![nn2](https://github.com/tulane-cmps6730/main/blob/main/lec/classify/figs/nn2.png?raw=1)\n",
        "\n",
        "\n",
        "<br><br>\n",
        "\n",
        "\n"
      ],
      "metadata": {
        "id": "X2eV80fp5nhD"
      }
    },
    {
      "cell_type": "markdown",
      "source": [
        "### Stochastic gradient descent\n",
        "\n",
        "Rather than sum over all instances, parameters are separately for small batch of examples.\n",
        "\n",
        "\n",
        "Gradient descent in neural networks is often called <u> back-propagation</u>,  since the errors/updates at layer $i$ are propagated back to layer $i-1$.\n",
        "\n",
        "Modern libraries allow use **autodifferentiation** to let you change network structure, activation, and loss functions without having to derive gradients by hand.\n",
        "\n",
        "<br>\n",
        "\n"
      ],
      "metadata": {
        "id": "RYk-qhS95q-M"
      }
    },
    {
      "cell_type": "markdown",
      "metadata": {
        "id": "CKRQs1AujmO0"
      },
      "source": [
        "<hr size=10 color=#285C4D>\n",
        "\n",
        "## XOR Revisited\n",
        "\n"
      ]
    },
    {
      "cell_type": "markdown",
      "source": [
        "Now that we know a bit about neural networks, let's revisit the XOR problem.\n",
        "\n",
        "We will generate data that approximately represent the XOR function (e.g., inputs can be close to 0 or 1). Then, we will compare the decision functions learned by logistic regression and neural networks."
      ],
      "metadata": {
        "id": "aybmZf_15uhw"
      }
    },
    {
      "cell_type": "code",
      "execution_count": 26,
      "metadata": {
        "id": "faqU3iZQjmO0",
        "outputId": "7fce0d1a-7cbd-4f13-df73-4e7e0e7d5f5e",
        "colab": {
          "base_uri": "https://localhost:8080/",
          "height": 0
        }
      },
      "outputs": [
        {
          "output_type": "stream",
          "name": "stdout",
          "text": [
            "Inputs x1 and x2:\n",
            "[[ 4.71435164e-03 -1.19097569e-02]\n",
            " [ 1.43270697e-02 -3.12651896e-03]\n",
            " [-7.20588733e-03  8.87162940e-03]\n",
            " [ 8.59588414e-03  9.93634765e-01]\n",
            " [ 1.56963721e-04  9.77573150e-01]\n",
            " [ 1.15003572e-02  1.00991946e+00]\n",
            " [ 1.00953324e+00 -2.02125482e-02]\n",
            " [ 9.96659226e-01  2.11836468e-05]\n",
            " [ 1.00405453e+00  2.89091941e-03]\n",
            " [ 1.01321158e+00  9.84530944e-01]\n",
            " [ 9.97973537e-01  9.93440307e-01]\n",
            " [ 1.00193421e+00  1.00553439e+00]]\n",
            "\n",
            "Labels y\n",
            "[0 0 0 1 1 1 1 1 1 0 0 0]\n"
          ]
        },
        {
          "output_type": "display_data",
          "data": {
            "text/plain": [
              "<Figure size 640x480 with 1 Axes>"
            ],
            "image/png": "[encoded data removed]"
          },
          "metadata": {}
        }
      ],
      "source": [
        "# create some noisy samples from XOR function\n",
        "\n",
        "def create_xor_data(n):\n",
        "    np.random.seed(1234)\n",
        "    ni = int(n / 4)\n",
        "    d00 = [[0,0] + np.random.randn(2)/1e2 for i in range(ni)]\n",
        "    d01 = [[0,1] + np.random.randn(2)/1e2 for i in range(ni)]\n",
        "    d10 = [[1,0] + np.random.randn(2)/1e2 for i in range(ni)]\n",
        "    d11 = [[1,1] + np.random.randn(2)/1e2 for i in range(ni)]\n",
        "    y = [0] * ni + [1] * ni * 2 + [0] * ni\n",
        "    return np.vstack([d00, d01, d10, d11]), np.array(y)\n",
        "\n",
        "X, y = create_xor_data(12)\n",
        "print('Inputs x1 and x2:')\n",
        "print(X)\n",
        "print('\\nLabels y')\n",
        "print(y)\n",
        "\n",
        "plt.figure()\n",
        "plot_data(X, y, 'x1', 'x2')\n",
        "plt.show()"
      ]
    },
    {
      "cell_type": "code",
      "execution_count": 27,
      "metadata": {
        "id": "LkuwcAFsjmO1",
        "outputId": "92c358db-a6cf-4524-be78-dc2abc898728",
        "colab": {
          "base_uri": "https://localhost:8080/",
          "height": 0
        }
      },
      "outputs": [
        {
          "output_type": "stream",
          "name": "stdout",
          "text": [
            "coef= [[ 0.00188596 -0.00370041]]\n",
            "intercept= [0.00078934]\n"
          ]
        },
        {
          "output_type": "display_data",
          "data": {
            "text/plain": [
              "<Figure size 640x480 with 1 Axes>"
            ],
            "image/png": "[encoded data removed]"
          },
          "metadata": {}
        }
      ],
      "source": [
        "# Fit LogisticRegression and plot the decision surface\n",
        "\n",
        "lr.fit(X, y)\n",
        "print('coef=', lr.coef_)\n",
        "print('intercept=', lr.intercept_)\n",
        "plt.figure()\n",
        "plot_data(X, y, 'x1', 'x2')\n",
        "plot_decision_surface(lr)\n",
        "plt.show()\n"
      ]
    },
    {
      "cell_type": "markdown",
      "source": [
        "We can see that logistic regression is getting about half the instances incorrect (all the red dots in the green region and all the green dots in the red region). This demonstrates that a line is insufficient to separate the instances into their correct classes.\n",
        "\n",
        "Now, let's repeat with a neural network. We will use the `MLPClassifier` implementation from scikit-learn (which stands for Multi-Layer Perceptron)."
      ],
      "metadata": {
        "id": "GGLFCSYrpnsU"
      }
    },
    {
      "cell_type": "code",
      "execution_count": 28,
      "metadata": {
        "id": "1MLkXOUIjmO1",
        "outputId": "b4f5dc55-5fcb-4a08-d040-956a344d710b",
        "colab": {
          "base_uri": "https://localhost:8080/",
          "height": 0
        }
      },
      "outputs": [
        {
          "output_type": "display_data",
          "data": {
            "text/plain": [
              "<Figure size 640x480 with 1 Axes>"
            ],
            "image/png": "[encoded data removed]"
          },
          "metadata": {}
        }
      ],
      "source": [
        "# Fit a neural net and plot the decision surface.\n",
        "from sklearn.neural_network import MLPClassifier\n",
        "\n",
        "mlp = MLPClassifier(hidden_layer_sizes=[2],\n",
        "                    activation='logistic', # activation function\n",
        "                    solver='lbfgs',        # a variant of gradient descent\n",
        "                    random_state=1234)     # to ensure we get the same answer every time (weights are randomly initialized)\n",
        "mlp.fit(X, y)\n",
        "plt.figure()\n",
        "plot_data(X, y, 'x1', 'x2')\n",
        "plot_decision_surface(mlp)\n",
        "plt.show()"
      ]
    },
    {
      "cell_type": "markdown",
      "source": [
        "<hr size=10 color=#285C4D>\n",
        "\n",
        "## Inspecting Neural Network Internals\n"
      ],
      "metadata": {
        "id": "FLgG1kL3qTPA"
      }
    },
    {
      "cell_type": "markdown",
      "source": [
        "\n",
        "Here, we can see that the neural network perfectly classifies all instances. It does so by learning a more complicated surface. Let's look more closely on what it has learned.\n",
        "\n",
        "The `MLPClassifier` object has a variable `coef_` that represents the weights of the network.\n",
        "- Each element in `coef_` is a 2d weight matrix representing the weights between two adjacent layers in the network.\n",
        "- For each 2d matrix, the row index corresponds to an element of the input layer, and the column corresponds to an element of the output layer.\n",
        "\n",
        "So, the value in `coef_[i][j][k]` represents a weight connecting input element `j` in layer `i` to output element `k` in layer `i+1`.\n",
        "\n",
        "Below, we first print the $\\Theta$ weights, which map the input features to the hidden units (layers 0 to 1)."
      ],
      "metadata": {
        "id": "SG5HkAE751mo"
      }
    },
    {
      "cell_type": "code",
      "execution_count": 29,
      "metadata": {
        "id": "y5FbVLcHjmO1",
        "outputId": "3722ed97-fb5c-4ecc-f67a-2b272ddc54fb",
        "colab": {
          "base_uri": "https://localhost:8080/",
          "height": 0
        }
      },
      "outputs": [
        {
          "output_type": "display_data",
          "data": {
            "text/plain": [
              "<IPython.core.display.Markdown object>"
            ],
            "text/markdown": "|    |   $\\Theta^1$ |   $\\Theta^2$ |\n|---:|-------------:|-------------:|\n|  0 |     -7.15116 |     -6.69425 |\n|  1 |      7.22342 |      6.11507 |"
          },
          "metadata": {}
        }
      ],
      "source": [
        "from IPython.display import display, Markdown\n",
        "\n",
        "# input -> hidden layer weights.\n",
        "thetas = pd.DataFrame(mlp.coefs_[0], columns=['$\\Theta^1$', \"$\\Theta^2$\"])\n",
        "display(Markdown(thetas.to_markdown()))\n",
        "# first column are parameters used to compute first hidden unit\n",
        "# second column are used to compute second hidden unit"
      ]
    },
    {
      "cell_type": "markdown",
      "source": [
        "Next we print the $\\Lambda$ weights which map the hidden units to the output unit (layers 1 to 2)."
      ],
      "metadata": {
        "id": "tIxUPxDWrkoy"
      }
    },
    {
      "cell_type": "code",
      "execution_count": 30,
      "metadata": {
        "id": "N9tWNCi-jmO2",
        "outputId": "c6efc561-7e6f-47b4-a4a1-5a369ff480f3",
        "colab": {
          "base_uri": "https://localhost:8080/",
          "height": 0
        }
      },
      "outputs": [
        {
          "output_type": "display_data",
          "data": {
            "text/plain": [
              "<IPython.core.display.Markdown object>"
            ],
            "text/markdown": "|    |   $\\Lambda$ |\n|---:|------------:|\n|  0 |    -17.0622 |\n|  1 |     16.1954 |"
          },
          "metadata": {}
        }
      ],
      "source": [
        "# hidden -> output layer weights\n",
        "lambdas = pd.DataFrame(mlp.coefs_[1], columns=[\"$\\Lambda$\"])\n",
        "display(Markdown(lambdas.to_markdown()))"
      ]
    },
    {
      "cell_type": "code",
      "execution_count": 31,
      "metadata": {
        "id": "ZOCVscAajmO2",
        "outputId": "59e38a13-e4d7-4bd2-b843-26eff29f3a96",
        "colab": {
          "base_uri": "https://localhost:8080/"
        }
      },
      "outputs": [
        {
          "output_type": "execute_result",
          "data": {
            "text/plain": [
              "[array([ 4.08723545, -3.14174212]), array([8.88823155])]"
            ]
          },
          "metadata": {},
          "execution_count": 31
        }
      ],
      "source": [
        "# each layer also has intercept terms...\n",
        "mlp.intercepts_"
      ]
    },
    {
      "cell_type": "code",
      "source": [
        "mlp.coefs_"
      ],
      "metadata": {
        "colab": {
          "base_uri": "https://localhost:8080/"
        },
        "id": "0T0Kp7F_2LMa",
        "outputId": "f527ce93-f199-4cf1-91f1-7f93fcb525a5"
      },
      "execution_count": 32,
      "outputs": [
        {
          "output_type": "execute_result",
          "data": {
            "text/plain": [
              "[array([[-7.15116357, -6.6942545 ],\n",
              "        [ 7.22341796,  6.11507215]]),\n",
              " array([[-17.06217213],\n",
              "        [ 16.19541256]])]"
            ]
          },
          "metadata": {},
          "execution_count": 32
        }
      ]
    },
    {
      "cell_type": "markdown",
      "source": [
        "Below we implement the activation functions so that we can compute the value of each hidden unit. The array offsets get a bit confusing here. Keep in mind that the `coefs_` variable represents a 3d matrix in the form: `[layer number][input unit number][output unit number]`"
      ],
      "metadata": {
        "id": "FWXcnLCS0Cwa"
      }
    },
    {
      "cell_type": "code",
      "execution_count": 33,
      "metadata": {
        "id": "so_MxuagjmO2",
        "colab": {
          "base_uri": "https://localhost:8080/"
        },
        "outputId": "3568a24e-2be8-4b89-b86e-5792de0d20e3"
      },
      "outputs": [
        {
          "output_type": "stream",
          "name": "stdout",
          "text": [
            "theta1 [-7.15116357  7.22341796  4.08723545]\n",
            "theta2 [-6.6942545   6.11507215 -3.14174212]\n",
            "lambda1 [-17.062172127671683 16.19541255671539 8.88823155168317]\n"
          ]
        }
      ],
      "source": [
        "# constructing all the parameter vectors to also include intercept terms.\n",
        "theta1 = np.array([mlp.coefs_[0][0][0], mlp.coefs_[0][1][0], mlp.intercepts_[0][0]])\n",
        "theta2 = np.array([mlp.coefs_[0][0][1], mlp.coefs_[0][1][1], mlp.intercepts_[0][1]])\n",
        "lambda1 = np.array([mlp.coefs_[1][0][0], mlp.coefs_[1][1][0], mlp.intercepts_[1][0]], dtype=object)\n",
        "print('theta1', theta1)\n",
        "print('theta2', theta2)\n",
        "print('lambda1', lambda1)"
      ]
    },
    {
      "cell_type": "code",
      "execution_count": 34,
      "metadata": {
        "id": "uOTKRamajmO2",
        "outputId": "81261181-170d-44cf-911f-bc0486b7c0fb",
        "colab": {
          "base_uri": "https://localhost:8080/"
        }
      },
      "outputs": [
        {
          "output_type": "stream",
          "name": "stdout",
          "text": [
            "h1 0.9834915300992804\n",
            "h2 0.041417897674826544\n"
          ]
        }
      ],
      "source": [
        "from math import exp\n",
        "\n",
        "def f(x, theta):\n",
        "  # dot product\n",
        "  return np.dot(x.T, theta)\n",
        "\n",
        "def logistic(x, theta):\n",
        "  # logistic function\n",
        "  return 1 / (1 + exp(-f(x, theta)))\n",
        "\n",
        "def projection(x, theta1, theta2):\n",
        "    \"\"\"\n",
        "    Project input x into values for h0 and h1\n",
        "    First step of the \"forward\" pass of a neural net.\n",
        "    \"\"\"\n",
        "    h0x = logistic(x, theta1)\n",
        "    h1x = logistic(x, theta2)\n",
        "    return h0x, h1x\n",
        "\n",
        "# project (0,0) to hidden units\n",
        "# note: add 1 for intercept term\n",
        "h1, h2 = projection(np.array([0,0,1]), theta1, theta2)\n",
        "print('h1', h1)\n",
        "print('h2', h2)"
      ]
    },
    {
      "cell_type": "markdown",
      "source": [
        "The final layer of the network is equivalent to a LogisticRegression classifier. So, we will just create a `LogisticRegression` object representing that layer, using the $\\Lambda$ weights as its parameters."
      ],
      "metadata": {
        "id": "57by5kc637Hg"
      }
    },
    {
      "cell_type": "code",
      "execution_count": 35,
      "metadata": {
        "id": "57cIctMOjmO2"
      },
      "outputs": [],
      "source": [
        "# create a LogisticRegression output for the final layer\n",
        "outclf = LogisticRegression()\n",
        "outclf.fit(X,y)  # just creating dummy variables\n",
        "outclf.intercept_ = lambda1[2]\n",
        "outclf.coef_ = np.array([[lambda1[0], lambda1[1]]])"
      ]
    },
    {
      "cell_type": "markdown",
      "source": [
        "Now, we can plot the decision surface of the neural network.\n",
        "\n",
        "The axes of the plot correspond to the values of the hidden units `h0` and `h1`."
      ],
      "metadata": {
        "id": "CNrrKN4K4H1X"
      }
    },
    {
      "cell_type": "code",
      "execution_count": 36,
      "metadata": {
        "id": "wPpQx5cBjmO2",
        "outputId": "0b8245bd-3ca1-4436-f103-2c4a8a6ed688",
        "colab": {
          "base_uri": "https://localhost:8080/",
          "height": 0
        }
      },
      "outputs": [
        {
          "output_type": "display_data",
          "data": {
            "text/plain": [
              "<Figure size 640x480 with 1 Axes>"
            ],
            "image/png": "[encoded data removed]"
          },
          "metadata": {}
        }
      ],
      "source": [
        "# plot decision surface in projected space.\n",
        "def xor(p0, p1):\n",
        "    return p0 != p1\n",
        "\n",
        "plt.figure()\n",
        "for xi in np.array([[0,0,1], [0,1,1], [1,0,1], [1,1,1]]):\n",
        "    p0, p1 = projection(xi, theta1, theta2)\n",
        "    plt.plot(p0, p1, marker='.', ms=50, color='g' if xor(xi[0], xi[1]) else 'r', alpha=.9)\n",
        "    plt.annotate(str(xi[:2]), (p0, p1))\n",
        "plot_decision_surface(outclf)\n",
        "plt.xlabel('h1')\n",
        "plt.ylabel('h2')\n",
        "plt.show()"
      ]
    },
    {
      "cell_type": "markdown",
      "source": [
        "We can see that, in this projected space `(h1, h2)`, a linear decision surface perfectly separates the two classes. This is precisely how neural networks help -- they discover a projection (representation) of the input that makes classification easier."
      ],
      "metadata": {
        "id": "nwC_957T4Ui_"
      }
    },
    {
      "cell_type": "markdown",
      "metadata": {
        "id": "6NfDS5JMjmO2"
      },
      "source": [
        "<hr size=10 color=#285C4D>\n",
        "\n",
        "## Neural network variants\n"
      ]
    },
    {
      "cell_type": "markdown",
      "source": [
        "\n",
        "In the preceding, we have shown one specific neural network architecture. There are many variations on this, and the ones most commonly used in practice differ in several ways.\n",
        "\n",
        "### Error Functions\n",
        "\n",
        "In addition to likelihood, we can consider many other error functions, given true label $y_i$ and predicted output $\\hat{y}_i$ for instance $i$:\n",
        "\n",
        "- Squared Error:\n",
        "$$\\sum_i (y_i - \\hat{y}_i)^2 $$\n",
        "\n",
        "- Cross-entropy\n",
        "$$ \\sum_i y_i \\ln \\hat{y}_i + (1-y_i)\\ln(1-\\hat{y}_i)$$\n",
        "\n"
      ],
      "metadata": {
        "id": "vI0ddOJb4usG"
      }
    },
    {
      "cell_type": "markdown",
      "metadata": {
        "id": "2tOIkistjmO2"
      },
      "source": [
        "### Activation functions\n",
        "\n",
        "Similarly, we have many choices for activation function:\n",
        "\n",
        "- Sigmoid:\n",
        "$$ f(t) = \\frac{1}{1 + e^{-t}} $$\n",
        "\n",
        "- Rectified linear function\n",
        "$$ f(t) = \\mathrm{max}(0, t)$$\n",
        "\n",
        "- tanh\n",
        "$$f(t) = \\frac{e^t - e^{-t}}{e^t + e^{-t}}$$\n",
        "\n",
        "- Softmax\n",
        "$$ f(t_i) = \\frac{e^{t_i}}{\\sum_j e^{t_j}}$$\n",
        "\n",
        "![figs/activation.png](https://github.com/tulane-cmps6730/main/blob/main/lec/classify/figs/activation.png?raw=1)\n",
        "\n",
        "[source](https://github.com/jacobeisenstein/gt-nlp-class)\n",
        "\n",
        "This choice can affect learning rate and convergence. Additional reading on [vanishing and exploding gradients](https://medium.com/@karpathy/yes-you-should-understand-backprop-e2f06eab496b)!\n",
        "\n",
        "\n",
        "We will revisit these issues later on in the course."
      ]
    },
    {
      "cell_type": "markdown",
      "source": [
        "<hr size=10 color=#285C4D>\n",
        "\n",
        "\n",
        "\n",
        "## Group Task"
      ],
      "metadata": {
        "id": "JEpV6O4g5922"
      }
    },
    {
      "cell_type": "markdown",
      "source": [
        "Experiment with the neural network above to examine how different settings affect the final decision surface as well as the ability of the network to solve the XOR problem.\n",
        "\n",
        "- Begin with 1 hidden unit and gradually increase the number of hidden units (e.g., try 1, 2, 4, 6, and 8).\n",
        "- For each architecture, train the neural network and plot the decision surface.\n",
        "\n",
        "In Canvas, enter your response to the following questions?\n",
        "- How does increasing the number of hidden units change the decision boundary?\n",
        "- At what point does the network start to solve the XOR problem effectively?"
      ],
      "metadata": {
        "id": "0BFUc5Vm67rh"
      }
    }
  ],
  "metadata": {
    "kernelspec": {
      "display_name": "Python 3 (ipykernel)",
      "language": "python",
      "name": "python3"
    },
    "language_info": {
      "codemirror_mode": {
        "name": "ipython",
        "version": 3
      },
      "file_extension": ".py",
      "mimetype": "text/x-python",
      "name": "python",
      "nbconvert_exporter": "python",
      "pygments_lexer": "ipython3",
      "version": "3.11.5"
    },
    "colab": {
      "provenance": [],
      "collapsed_sections": [
        "q7sD5HYVkGdN",
        "qBC6IQhy5I1J",
        "-AdVsC7z6drO",
        "pSBo0Pn76hqG",
        "CKRQs1AujmO0",
        "FLgG1kL3qTPA",
        "6NfDS5JMjmO2",
        "JEpV6O4g5922"
      ],
      "toc_visible": true
    }
  },
  "nbformat": 4,
  "nbformat_minor": 0
}