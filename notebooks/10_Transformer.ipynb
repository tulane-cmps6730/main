{
  "cells": [
    {
      "cell_type": "markdown",
      "metadata": {
        "id": "u7t32OQMvRZq"
      },
      "source": [
        "![Tulane](https://github.com/tulane-cmps6730/main/blob/main/img/banner.png?raw=true)\n",
        "\n",
        "<center>\n",
        "\n",
        "<font size=\"+3\">Transformers</font>\n",
        "\n",
        "[Aron Culotta](https://cs.tulane.edu/~aculotta/)  \n",
        "[Tulane University](https://cs.tulane.edu/)\n",
        "\n",
        "<a href=\"http://colab.research.google.com/github/tulane-cmps6730/main/blob/main/notebooks/10_Transformers.ipynb\">\n",
        "        <img src=\"https://upload.wikimedia.org/wikipedia/commons/thumb/d/d0/Google_Colaboratory_SVG_Logo.svg/320px-Google_Colaboratory_SVG_Logo.svg.png\"  width=10%/></a>\n",
        "<a href=\"https://github.com/tulane-cmps6730/main/tree/main\">\n",
        "        <img src=\"https://upload.wikimedia.org/wikipedia/commons/thumb/c/c2/GitHub_Invertocat_Logo.svg/240px-GitHub_Invertocat_Logo.svg.png\" width=6%/></a>\n",
        "\n",
        "In this module, we'll learn about the transformer language model, which uses attention to capture the long-range dependencies of language.\n",
        "\n",
        "</center>"
      ]
    },
    {
      "cell_type": "markdown",
      "metadata": {
        "id": "f8OiXeEVwfGw"
      },
      "source": [
        "<hr size=10 color=#285C4D>\n",
        "\n",
        "## Motivation"
      ]
    },
    {
      "cell_type": "markdown",
      "metadata": {
        "id": "xb8V5vvEvhNR"
      },
      "source": [
        "The GPT in ChatGPT stands for...\n",
        "\n",
        "- **G**enerative\n",
        "- **P**retrained\n",
        "- **T**ransformer\n",
        "\n",
        "Today we'll learn what this means."
      ]
    },
    {
      "cell_type": "markdown",
      "metadata": {
        "id": "bnX9QdcvxEa5"
      },
      "source": [
        "### Attention for Classification Review\n"
      ]
    },
    {
      "cell_type": "markdown",
      "metadata": {
        "id": "Np7Bt8nHvhNR"
      },
      "source": [
        "![figs/lstmclf4.png](https://github.com/tulane-cmps6730/main/blob/main/lec/sequence/figs/lstmclf4.png?raw=1)\n",
        "\n",
        "\n",
        "> Given a set of vector **values**, and a vector **query**,  \n",
        "> **attention** is a technique to compute a weighted sum of the values, dependent on the query.\n",
        "\n",
        "- a selective summary of the values based on the query\n",
        "- gives a fixed-size representation of the values\n",
        "\n",
        "\n"
      ]
    },
    {
      "cell_type": "markdown",
      "metadata": {
        "id": "CwkgFJPUvHc9"
      },
      "source": [
        "\n",
        "**Input**: sequence of value vectors $\\mathbf{h}_1 \\ldots \\mathbf{h}_n \\in \\mathbb{R}^{d_h}$ and a query vector $\\mathbf{q} \\in \\mathbb{R}^{d_q}$\n",
        "\n",
        "1. Compute **attention scores** $\\mathbf{s} \\in \\mathbb{R}^n$\n",
        "  - we'll see how in a moment\n",
        "\n",
        "\n",
        "2. Apply softmax to get the **attention distribution** $\\alpha$:\n",
        "  - $\\alpha = \\mathrm{softmax}(\\mathbf{s}) \\in \\mathbb{R}^n$\n",
        "  \n",
        "  \n",
        "3. Compute the **attention output**, the sum of values weighted by attention distribution:\n",
        "  - $\\mathbf{a} = \\sum_i^n \\alpha_i \\mathbf{h}_i \\in \\mathbb{R}^{d_h}$\n",
        "  - $\\mathbf{a}$ then becomes input features for classification layer"
      ]
    },
    {
      "cell_type": "markdown",
      "metadata": {
        "id": "ioD31_UvxUbm"
      },
      "source": [
        "<hr size=10 color=#285C4D>\n",
        "\n",
        "## Self-Attention for Language Models"
      ]
    },
    {
      "cell_type": "markdown",
      "source": [
        "### Overview"
      ],
      "metadata": {
        "id": "f5fR8nbqFtoZ"
      }
    },
    {
      "cell_type": "markdown",
      "metadata": {
        "id": "PnX9hjiXvHc9"
      },
      "source": [
        "\n",
        "- We can use the idea of attention to predict the next word in a sentence.\n",
        "- Attention lets us model long-range dependencies\n",
        "- The prediction for word $i$ depends on **all previous words**\n",
        "\n",
        "\n",
        "\n",
        "![figs/m10selfatt.png](https://github.com/tulane-cmps6730/main/blob/main/lec/sequence/figs/m10selfatt.png?raw=1)\n",
        "\n",
        "![figs/m10selfatt2.png](https://github.com/tulane-cmps6730/main/blob/main/lec/sequence/figs/m10selfatt2.png?raw=1)\n",
        "\n",
        "We can use attention to determine which other words are important to predict the next word $t$.\n",
        "\n",
        "$$\\mathbf{a}_i =  \\sum_{j \\le i}^n \\alpha_{ij} \\mathbf{v}_j$$\n",
        "\n",
        "\n",
        "\n",
        "Each input embedding plays three different roles:\n",
        "\n",
        "- As the current focus of attention when being compared to all of the other preceding inputs. We’ll refer to this role as a **query**.\n",
        "- As a preceding input being compared to the current focus of attention. We’ll refer to this role as a **key**.\n",
        "- As a **value** used to compute the output for the current focus of attention.\n",
        "\n",
        "We use three different weight matrices to represent each role.\n",
        "\n",
        "$\\mathbf{v}_j = W_v\\mathbf{x_j} ~~~W_v\\in \\mathbb{R}^{dxd} ~~~$ **values for node j**\n",
        "\n",
        "$\\mathbf{k}_j = W_k \\mathbf{x}_j ~~~W_k\\in \\mathbb{R}^{dxd} ~~~$ **keys for node j**\n",
        "\n",
        "$\\mathbf{q}_i = W_q\\mathbf{x_i}~~~$ **query for node i**\n",
        "\n",
        "$\\alpha_{ij} = \\frac{\\exp(\\mathbf{q}_i \\cdot \\mathbf{k}_j)}{\\sum_{j'} \\exp({\\mathbf{q}_i \\cdot \\mathbf{k}_{j'})}} ~~~$ **affinities between node i and j**\n",
        "\n",
        "**nb:** we often scale down dot product for better numerical stability:\n",
        "$\\alpha_{ij} = \\frac{\\exp(\\mathbf{q}_i \\cdot \\mathbf{k}_j) / \\sqrt{d_k}}{\\sum_{j'} \\exp({\\mathbf{q}_i \\cdot \\mathbf{k}_{j'})}}$\n",
        "\n",
        "**Putting it all together:**\n",
        "\n",
        "![figs/m10selfatt3.png](https://github.com/tulane-cmps6730/main/blob/main/lec/sequence/figs/m10selfatt3.png?raw=1)\n"
      ]
    },
    {
      "cell_type": "markdown",
      "source": [
        "### Word Embeddings and Unembeddings\n"
      ],
      "metadata": {
        "id": "gw4vuJPBFyib"
      }
    },
    {
      "cell_type": "markdown",
      "metadata": {
        "id": "wlVosxO5vhNT"
      },
      "source": [
        "\n",
        "To use self-attention for language modeling, we need two additional layers.\n",
        "- **Embedding layer**: from one-hot encoding of input word to a dense word embedding vector\n",
        "\n",
        "\n",
        "![figs/m10selfatt2.png](https://github.com/tulane-cmps6730/main/blob/main/lec/sequence/figs/m10embed.png?raw=1)\n",
        "\n",
        "$$\\mathbf{x}_i \\times E = \\mathbf{e}_i$$\n",
        "\n",
        "$$ \\begin{bmatrix}0&1&0&0\\end{bmatrix} \\times \\begin{bmatrix}.1&.2\\\\.3&.4\\\\-.1&-.2\\\\.5&.5\\end{bmatrix}  = \\begin{bmatrix}.3&.4\\end{bmatrix}$$\n",
        "\n",
        "<br><br>\n",
        "Finally, for the output of the model, we need a way to convert from this embedding space back to the vocabulary space.\n",
        "\n",
        "- **Unembedding layer**: from a dense word embedding vector to a distribution over output words\n",
        "\n",
        "Can use $E^T$ to convert from output of attention layer to logits over word outputs.\n",
        "\n",
        "$$ \\mathbf{u}_i = \\mathbf{a}_i E^T$$\n",
        "\n",
        "$$ \\begin{bmatrix}.3&.4\\end{bmatrix} \\times \\begin{bmatrix}.1&.3&-.1&.5\\\\.2&.4&-.2&.5\\end{bmatrix}  = \\begin{bmatrix}.11&.25&-.11&.35\\end{bmatrix}$$\n",
        "\n",
        "Then take softmax to get distribution over words in vocabulary:\n",
        "\n",
        "$$\\mathbf{y_i} = \\mathrm{softmax}(\\mathbf{u}_i)$$\n",
        "\n",
        "\\begin{bmatrix} 0.2367 & 0.2723 & 0.1900 & 0.3010 \\end{bmatrix}\n",
        "\n",
        "Thus, the most likely next word in this example is the fourth word in the vocabulary (Pr=.3010)\n"
      ]
    },
    {
      "cell_type": "markdown",
      "source": [
        "### Efficient multiplication\n"
      ],
      "metadata": {
        "id": "q0SFcge4F0pa"
      }
    },
    {
      "cell_type": "markdown",
      "source": [
        "\n",
        "Rather than computing attention one word at a time, we can construct a matrix of all word embeddings, and perform matrix multiplications to get matrices $\\mathbf{Q}, \\mathbf{K}, \\mathbf{V}$. This is much more efficient than a series of vector-matrix multiplications, since this operations can be highly parallelized in GPUs.\n",
        "\n",
        "To do so:\n",
        "$$\n",
        "Q = XW_q ; K = XW_k ; V = XW_v\n",
        "$$\n",
        "\n",
        "Then, to perform query-key comparisons, another matrix multiplication can be used:\n",
        "\n",
        "$$QK^t$$\n",
        "\n",
        "The final attention values matrix then becomes:\n",
        "\n",
        "$$A = \\mathrm{softmax}\\left(\\frac{QK^T}{\\sqrt{d_k}}\\right)V$$"
      ],
      "metadata": {
        "id": "wPTqCYtl4m8M"
      }
    },
    {
      "cell_type": "markdown",
      "source": [
        "\n",
        "### Self-Attention Example\n",
        "Let's work through an example computing attention for the sentence \"a a b c\"\n",
        "\n",
        "- We'll assume an embedding of size 2"
      ],
      "metadata": {
        "id": "kG6-f1S385d_"
      }
    },
    {
      "cell_type": "code",
      "source": [
        "import torch\n",
        "\n",
        "\"\"\"\n",
        "Assume three words in the vocabulary (a=0,b=1,c=2).\n",
        "One-hot encoding of the sentence \"a a b c\" is:\n",
        "\"\"\"\n",
        "# 1. Create one-hot encoddings of sentence.\n",
        "word1 = torch.tensor([1.,0.,0.])\n",
        "word2 = torch.tensor([1.,0.,0.])\n",
        "word3 = torch.tensor([0.,1.,0.])\n",
        "word4 = torch.tensor([0.,0.,1.])\n",
        "sentence = torch.vstack([word1,word2,word3, word4])\n",
        "sentence"
      ],
      "metadata": {
        "colab": {
          "base_uri": "https://localhost:8080/"
        },
        "id": "v1Go7f_347ID",
        "outputId": "a5b8107c-0cc1-4bc3-bc08-5651a8985510"
      },
      "execution_count": 1,
      "outputs": [
        {
          "output_type": "execute_result",
          "data": {
            "text/plain": [
              "tensor([[1., 0., 0.],\n",
              "        [1., 0., 0.],\n",
              "        [0., 1., 0.],\n",
              "        [0., 0., 1.]])"
            ]
          },
          "metadata": {},
          "execution_count": 1
        }
      ]
    },
    {
      "cell_type": "code",
      "source": [
        "# 2. Create word embedding matrix X\n",
        "\n",
        "# Assume our embeddings are size 2.\n",
        "# Let's use random values for the embedding.\n",
        "# E has dimension V x d\n",
        "# V=vocab size   d=embedding dimension\n",
        "# So, row i is the embedding for word i\n",
        "E = torch.tensor([[.1,.2],[.3,.4],[-.1,-.2]])\n",
        "E"
      ],
      "metadata": {
        "colab": {
          "base_uri": "https://localhost:8080/"
        },
        "id": "xa1beI2Q5aSQ",
        "outputId": "86eed33e-b825-4f4c-9555-cfd798a60295"
      },
      "execution_count": 2,
      "outputs": [
        {
          "output_type": "execute_result",
          "data": {
            "text/plain": [
              "tensor([[ 0.1000,  0.2000],\n",
              "        [ 0.3000,  0.4000],\n",
              "        [-0.1000, -0.2000]])"
            ]
          },
          "metadata": {},
          "execution_count": 2
        }
      ]
    },
    {
      "cell_type": "code",
      "source": [
        "# 3. Compute embeddings for entire sentence in one matrix multiplication.\n",
        "sentence_embeddings = sentence @ E  # <--- note matrix multiplication operator @\n",
        "sentence_embeddings"
      ],
      "metadata": {
        "colab": {
          "base_uri": "https://localhost:8080/"
        },
        "id": "xLE0bR7A5hwJ",
        "outputId": "78912cc7-c93d-4dea-97ea-fe5e8676fb3f"
      },
      "execution_count": 3,
      "outputs": [
        {
          "output_type": "execute_result",
          "data": {
            "text/plain": [
              "tensor([[ 0.1000,  0.2000],\n",
              "        [ 0.1000,  0.2000],\n",
              "        [ 0.3000,  0.4000],\n",
              "        [-0.1000, -0.2000]])"
            ]
          },
          "metadata": {},
          "execution_count": 3
        }
      ]
    },
    {
      "cell_type": "code",
      "source": [
        "# 4. Create attention weight matrices\n",
        "# W_q,W_k,W_v matrix all dxd\n",
        "torch.manual_seed(24)\n",
        "# random, but multiplying by scalars to get some larger values.\n",
        "W_q = torch.randn(2,2) * 5\n",
        "W_k = torch.randn(2,2) * 10\n",
        "W_v = torch.randn(2,2) * 3\n",
        "W_q, W_k, W_v"
      ],
      "metadata": {
        "colab": {
          "base_uri": "https://localhost:8080/"
        },
        "id": "iywm1e7Y6yr2",
        "outputId": "b63db5a6-62ca-4e93-fa81-9c05bac05dce"
      },
      "execution_count": 4,
      "outputs": [
        {
          "output_type": "execute_result",
          "data": {
            "text/plain": [
              "(tensor([[ 5.0697,  4.4942],\n",
              "         [-1.0553, -7.6630]]),\n",
              " tensor([[ -6.1630,   2.2882],\n",
              "         [ -1.1195, -20.5059]]),\n",
              " tensor([[-1.8566, -2.3413],\n",
              "         [-2.7651,  1.4420]]))"
            ]
          },
          "metadata": {},
          "execution_count": 4
        }
      ]
    },
    {
      "cell_type": "code",
      "source": [
        "# 5. Compute Q,K,V matrices with matrix multiplication.\n",
        "Q = sentence_embeddings @ W_q\n",
        "K = sentence_embeddings @ W_k\n",
        "V = sentence_embeddings @ W_v\n",
        "Q,K,V"
      ],
      "metadata": {
        "colab": {
          "base_uri": "https://localhost:8080/"
        },
        "id": "R_kx_7h_7Wb2",
        "outputId": "ed5fe70e-3893-4b45-f734-bd6974bb905d"
      },
      "execution_count": 5,
      "outputs": [
        {
          "output_type": "execute_result",
          "data": {
            "text/plain": [
              "(tensor([[ 0.2959, -1.0832],\n",
              "         [ 0.2959, -1.0832],\n",
              "         [ 1.0988, -1.7170],\n",
              "         [-0.2959,  1.0832]]),\n",
              " tensor([[-0.8402, -3.8723],\n",
              "         [-0.8402, -3.8723],\n",
              "         [-2.2967, -7.5159],\n",
              "         [ 0.8402,  3.8723]]),\n",
              " tensor([[-0.7387,  0.0543],\n",
              "         [-0.7387,  0.0543],\n",
              "         [-1.6630, -0.1256],\n",
              "         [ 0.7387, -0.0543]]))"
            ]
          },
          "metadata": {},
          "execution_count": 5
        }
      ]
    },
    {
      "cell_type": "code",
      "source": [
        "# 6. Compute similarity scores between all queries and keys.\n",
        "similarities = Q @ K.T\n",
        "similarities"
      ],
      "metadata": {
        "colab": {
          "base_uri": "https://localhost:8080/"
        },
        "id": "uOtiVUFL8sZ-",
        "outputId": "7873848b-e639-46bd-a916-ba5a269d1264"
      },
      "execution_count": 6,
      "outputs": [
        {
          "output_type": "execute_result",
          "data": {
            "text/plain": [
              "tensor([[ 3.9459,  3.9459,  7.4615, -3.9459],\n",
              "        [ 3.9459,  3.9459,  7.4615, -3.9459],\n",
              "        [ 5.7255,  5.7255, 10.3810, -5.7255],\n",
              "        [-3.9459, -3.9459, -7.4615,  3.9459]])"
            ]
          },
          "metadata": {},
          "execution_count": 6
        }
      ]
    },
    {
      "cell_type": "code",
      "source": [
        "# 7. Compute softmax of similarities (alphas)\n",
        "from torch.nn.functional import softmax\n",
        "import math\n",
        "# divide by sqrt(dimension) to reduce scale of values\n",
        "sm = softmax(similarities/math.sqrt(2), dim=-1) # normalize by rows\n",
        "sm\n",
        "# So, value .0037 in last row means to create output for last word, the first word contributes .0037 of its value vector to the last word."
      ],
      "metadata": {
        "colab": {
          "base_uri": "https://localhost:8080/"
        },
        "id": "lBiyo29y83YY",
        "outputId": "299a907d-67a6-45e3-9a35-466e2e9e2480"
      },
      "execution_count": 7,
      "outputs": [
        {
          "output_type": "execute_result",
          "data": {
            "text/plain": [
              "tensor([[7.1346e-02, 7.1346e-02, 8.5704e-01, 2.6907e-04],\n",
              "        [7.1346e-02, 7.1346e-02, 8.5704e-01, 2.6907e-04],\n",
              "        [3.4609e-02, 3.4609e-02, 9.3077e-01, 1.0536e-05],\n",
              "        [3.7420e-03, 3.7420e-03, 3.1151e-04, 9.9220e-01]])"
            ]
          },
          "metadata": {},
          "execution_count": 7
        }
      ]
    },
    {
      "cell_type": "code",
      "source": [
        "# 8. Multiply by values.\n",
        "print('mutiplying similarity matrix Q*K^T (NxN)')\n",
        "print(sm)\n",
        "print('\\nby value matrix (V) [one row per word in sentence]')\n",
        "print(V)\n",
        "A = sm @ V\n",
        "print('\\n\\nresult (A) [one row per word in sentence]')\n",
        "A"
      ],
      "metadata": {
        "colab": {
          "base_uri": "https://localhost:8080/"
        },
        "id": "ENhz2GFU_AUG",
        "outputId": "b1201de4-7845-4266-f1df-2bdc557be355"
      },
      "execution_count": 8,
      "outputs": [
        {
          "output_type": "stream",
          "name": "stdout",
          "text": [
            "mutiplying similarity matrix Q*K^T (NxN)\n",
            "tensor([[7.1346e-02, 7.1346e-02, 8.5704e-01, 2.6907e-04],\n",
            "        [7.1346e-02, 7.1346e-02, 8.5704e-01, 2.6907e-04],\n",
            "        [3.4609e-02, 3.4609e-02, 9.3077e-01, 1.0536e-05],\n",
            "        [3.7420e-03, 3.7420e-03, 3.1151e-04, 9.9220e-01]])\n",
            "\n",
            "by value matrix (V) [one row per word in sentence]\n",
            "tensor([[-0.7387,  0.0543],\n",
            "        [-0.7387,  0.0543],\n",
            "        [-1.6630, -0.1256],\n",
            "        [ 0.7387, -0.0543]])\n",
            "\n",
            "\n",
            "result (A) [one row per word in sentence]\n"
          ]
        },
        {
          "output_type": "execute_result",
          "data": {
            "text/plain": [
              "tensor([[-1.5305, -0.0999],\n",
              "        [-1.5305, -0.0999],\n",
              "        [-1.5990, -0.1132],\n",
              "        [ 0.7269, -0.0535]])"
            ]
          },
          "metadata": {},
          "execution_count": 8
        }
      ]
    },
    {
      "cell_type": "code",
      "source": [
        "# 9. Unembed\n",
        "logits = A @ E.T\n",
        "logits\n",
        "# result is N x d. One row for each word in sentence with scores for possible words in that location."
      ],
      "metadata": {
        "colab": {
          "base_uri": "https://localhost:8080/"
        },
        "id": "ghJ-eC9iAPYd",
        "outputId": "bddb855b-ccd6-496c-c898-4180ef01ce9f"
      },
      "execution_count": 9,
      "outputs": [
        {
          "output_type": "execute_result",
          "data": {
            "text/plain": [
              "tensor([[-0.1730, -0.4991,  0.1730],\n",
              "        [-0.1730, -0.4991,  0.1730],\n",
              "        [-0.1825, -0.5250,  0.1825],\n",
              "        [ 0.0620,  0.1967, -0.0620]])"
            ]
          },
          "metadata": {},
          "execution_count": 9
        }
      ]
    },
    {
      "cell_type": "code",
      "source": [
        "# 10. Softmax to get probability of each word in the sentence.\n",
        "probas = softmax(logits, dim=-1)\n",
        "probas"
      ],
      "metadata": {
        "colab": {
          "base_uri": "https://localhost:8080/"
        },
        "id": "bmrOeysEAfMx",
        "outputId": "592f33cf-4272-4e84-8435-dce2368dcd55"
      },
      "execution_count": 10,
      "outputs": [
        {
          "output_type": "execute_result",
          "data": {
            "text/plain": [
              "tensor([[0.3190, 0.2302, 0.4508],\n",
              "        [0.3190, 0.2302, 0.4508],\n",
              "        [0.3174, 0.2254, 0.4572],\n",
              "        [0.3303, 0.3779, 0.2918]])"
            ]
          },
          "metadata": {},
          "execution_count": 10
        }
      ]
    },
    {
      "cell_type": "code",
      "source": [
        "# 11. Pick top prediction for each element.\n",
        "vocabulary = np.array([\"a\", \"b\", \"c\"])\n",
        "topi = probas.argmax(dim=-1)\n",
        "most_probable_words = vocabulary[topi]\n",
        "most_probable_words"
      ],
      "metadata": {
        "colab": {
          "base_uri": "https://localhost:8080/"
        },
        "id": "7hknJPvWAp7t",
        "outputId": "4373f9cb-f5f3-49b6-ec05-02affe35eeb3"
      },
      "execution_count": 143,
      "outputs": [
        {
          "output_type": "execute_result",
          "data": {
            "text/plain": [
              "array(['c', 'c', 'c', 'b'], dtype='<U1')"
            ]
          },
          "metadata": {},
          "execution_count": 143
        }
      ]
    },
    {
      "cell_type": "markdown",
      "source": [
        "### Using only the past to predict the future"
      ],
      "metadata": {
        "id": "zrxdpPuCIT_f"
      }
    },
    {
      "cell_type": "markdown",
      "source": [
        "\n",
        "\n",
        "There was a problem in the above example\n",
        "\n",
        "```python\n",
        "similarities = Q @ K.T\n",
        "\n",
        "tensor([[ 3.9459,  3.9459,  7.4615, -3.9459],\n",
        "        [ 3.9459,  3.9459,  7.4615, -3.9459],\n",
        "        [ 5.7255,  5.7255, 10.3810, -5.7255],\n",
        "        [-3.9459, -3.9459, -7.4615,  3.9459]])\n",
        "```\n",
        "\n",
        "We have been assuming that word $i$ can only attend to **previous** words in the sentence (up to and including $i$):\n",
        "\n",
        "$$\\mathbf{a}_i =  \\sum_{j \\le i}^n \\alpha_{ij} \\mathbf{v}_j$$\n",
        "\n",
        "But, in the calculations above, word $i$ attended **all** the words in the sentence. (`Q @ K.T`)\n",
        "\n",
        "**Solution:** Just \"mask out\" the future values in the similarity matrix before computing softmax.\n",
        "\n",
        "![figs/m10mask.png](https://github.com/tulane-cmps6730/main/blob/main/lec/sequence/figs/m10mask.png?raw=1)\n"
      ],
      "metadata": {
        "id": "EcA6NlwQCqol"
      }
    },
    {
      "cell_type": "code",
      "source": [
        "# Compute new similarity matrix QK^T while keeping future values at -inf\n",
        "# triu = upper trianglular\n",
        "# diagonal=1 === keep diagonal\n",
        "similarities + torch.triu(torch.full_like(similarities, float('-inf')), diagonal=1)"
      ],
      "metadata": {
        "colab": {
          "base_uri": "https://localhost:8080/"
        },
        "id": "2jW2g_HvEQDW",
        "outputId": "8536b14c-7b98-4df9-a23d-b15de603b1e7"
      },
      "execution_count": 12,
      "outputs": [
        {
          "output_type": "execute_result",
          "data": {
            "text/plain": [
              "tensor([[ 3.9459,    -inf,    -inf,    -inf],\n",
              "        [ 3.9459,  3.9459,    -inf,    -inf],\n",
              "        [ 5.7255,  5.7255, 10.3810,    -inf],\n",
              "        [-3.9459, -3.9459, -7.4615,  3.9459]])"
            ]
          },
          "metadata": {},
          "execution_count": 12
        }
      ]
    },
    {
      "cell_type": "code",
      "source": [
        "# when we softmax, the -inf becomes 0\n",
        "def mask_future(similarities):\n",
        "    return similarities + torch.triu(torch.full_like(similarities, float('-inf')), diagonal=1)\n",
        "\n",
        "sm = softmax(mask_future(similarities)/math.sqrt(2), dim=-1) # normalize by rows\n",
        "sm"
      ],
      "metadata": {
        "colab": {
          "base_uri": "https://localhost:8080/"
        },
        "id": "h8SBRlJpEj-S",
        "outputId": "6a974ff1-e8d9-4ece-8591-b8ecc34506a9"
      },
      "execution_count": 13,
      "outputs": [
        {
          "output_type": "execute_result",
          "data": {
            "text/plain": [
              "tensor([[1.0000e+00, 0.0000e+00, 0.0000e+00, 0.0000e+00],\n",
              "        [5.0000e-01, 5.0000e-01, 0.0000e+00, 0.0000e+00],\n",
              "        [3.4609e-02, 3.4609e-02, 9.3078e-01, 0.0000e+00],\n",
              "        [3.7420e-03, 3.7420e-03, 3.1151e-04, 9.9220e-01]])"
            ]
          },
          "metadata": {},
          "execution_count": 13
        }
      ]
    },
    {
      "cell_type": "code",
      "source": [
        "# doesn't actually change prediction in this example ;)\n",
        "A = sm @ V\n",
        "logits = A @ E.T\n",
        "probas = softmax(logits, dim=-1)\n",
        "most_probable_words = vocabulary[probas.argmax(dim=-1)]\n",
        "most_probable_words"
      ],
      "metadata": {
        "colab": {
          "base_uri": "https://localhost:8080/"
        },
        "id": "8Xpnx9PpExLV",
        "outputId": "ddbe71ad-4fe1-4a34-a110-0ab6454a6dc1"
      },
      "execution_count": 144,
      "outputs": [
        {
          "output_type": "execute_result",
          "data": {
            "text/plain": [
              "array(['c', 'c', 'c', 'b'], dtype='<U1')"
            ]
          },
          "metadata": {},
          "execution_count": 144
        }
      ]
    },
    {
      "cell_type": "code",
      "source": [
        "P = nn.Linear(2, 4, bias=False)\n",
        "torch.eye(4) @ P.weight"
      ],
      "metadata": {
        "colab": {
          "base_uri": "https://localhost:8080/"
        },
        "id": "kOZVwxrzyfk5",
        "outputId": "9ef2fac2-f4d8-49a4-cea6-cf7978fc295d"
      },
      "execution_count": 121,
      "outputs": [
        {
          "output_type": "execute_result",
          "data": {
            "text/plain": [
              "tensor([[ 0.5406,  0.5869],\n",
              "        [-0.1657,  0.6496],\n",
              "        [-0.1549,  0.1427],\n",
              "        [-0.3443,  0.4153]], grad_fn=<MmBackward0>)"
            ]
          },
          "metadata": {},
          "execution_count": 121
        }
      ]
    },
    {
      "cell_type": "markdown",
      "source": [
        "<hr size=10 color=#285C4D>\n",
        "\n",
        "## Implementation: Simple Attention-based Language Model"
      ],
      "metadata": {
        "id": "kjEk0qGS175l"
      }
    },
    {
      "cell_type": "code",
      "execution_count": 201,
      "metadata": {
        "id": "5uZKf05kvhNT"
      },
      "outputs": [],
      "source": [
        "# Let's package these computations up inside of an nn.Module.\n",
        "import pandas as pd\n",
        "import torch\n",
        "import torch.nn as nn\n",
        "\n",
        "\n",
        "class SimpleSelfAttention(nn.Module):\n",
        "  def __init__(self, vocab_size, embedding_size, seq_len,\n",
        "               use_positional_embedding=True, verbose=False):\n",
        "    super(SimpleSelfAttention, self).__init__()\n",
        "    self.embedding_size = embedding_size\n",
        "    self.vocab_size = vocab_size\n",
        "    self.seq_len = seq_len\n",
        "    self.verbose = verbose\n",
        "    self.use_positional_embedding = use_positional_embedding\n",
        "\n",
        "    # word embedding and unembedding\n",
        "    self.E = nn.Linear(embedding_size, vocab_size, bias=False)\n",
        "\n",
        "    # position embedding and unembedding\n",
        "    self.P = nn.Linear(embedding_size, seq_len, bias=False)\n",
        "\n",
        "    # attention weights\n",
        "    # values\n",
        "    self.W_v = nn.Linear(embedding_size, embedding_size)\n",
        "    # keys\n",
        "    self.W_k = nn.Linear(embedding_size, embedding_size)\n",
        "    # queries\n",
        "    self.W_q = nn.Linear(embedding_size, embedding_size)\n",
        "    self.softmax = nn.Softmax(dim=-1)\n",
        "\n",
        "\n",
        "\n",
        "  def mask_future(self, similarities):\n",
        "    return similarities + torch.triu(torch.full_like(similarities, float('-inf')), diagonal=1)\n",
        "\n",
        "  def forward(self, x):\n",
        "    # using self. for these temporary values below so we can debug later on\n",
        "    # embed words\n",
        "    self.sentence_embeddings = x @ self.E.weight\n",
        "    if self.use_positional_embedding:\n",
        "      # embed positions\n",
        "      self.pos_embedding = torch.eye(self.seq_len) @ self.P.weight\n",
        "      # sum word and position embeddings\n",
        "      self.sentence_embeddings += self.pos_embedding\n",
        "    # Q,K,V\n",
        "    self.Q = self.W_q(self.sentence_embeddings)\n",
        "    self.K = self.W_k(self.sentence_embeddings)\n",
        "    self.V = self.W_v(self.sentence_embeddings)\n",
        "    self.similarities = self.Q @ self.K.T\n",
        "    # normalize by rows\n",
        "    self.sm = self.softmax(self.mask_future(self.similarities)/math.sqrt(self.embedding_size))\n",
        "    self.A = self.sm @ self.V\n",
        "    self.logits = self.A @ self.E.weight.T\n",
        "    # leave as logits for crossentropy loss later.\n",
        "    if self.verbose:\n",
        "      print('A matrix (words x embed_size)')\n",
        "      display(pd.DataFrame(\n",
        "              pp(self.A)\n",
        "              ))\n",
        "      print('logits (words x vocab_size)')\n",
        "      display(pd.DataFrame(\n",
        "              pp(logits)\n",
        "              ))\n",
        "    return self.logits\n",
        "\n",
        "def pp(arr):\n",
        "  # pretty print weight array\n",
        "  return arr.detach().cpu().numpy().round(decimals=2)\n"
      ]
    },
    {
      "cell_type": "code",
      "source": [
        "sentence"
      ],
      "metadata": {
        "colab": {
          "base_uri": "https://localhost:8080/"
        },
        "id": "2UHJC7XI8P-Q",
        "outputId": "bc8dfae8-8404-45fc-deda-8fe8d390f189"
      },
      "execution_count": 239,
      "outputs": [
        {
          "output_type": "execute_result",
          "data": {
            "text/plain": [
              "tensor([[1., 0., 0.],\n",
              "        [1., 0., 0.],\n",
              "        [0., 1., 0.],\n",
              "        [0., 0., 1.]])"
            ]
          },
          "metadata": {},
          "execution_count": 239
        }
      ]
    },
    {
      "cell_type": "code",
      "source": [
        "torch.manual_seed(24)\n",
        "ssa = SimpleSelfAttention(vocab_size=3, embedding_size=2, seq_len=4,\n",
        "                          use_positional_embedding=True, verbose=True)\n",
        "logits = ssa.forward(sentence)"
      ],
      "metadata": {
        "colab": {
          "base_uri": "https://localhost:8080/",
          "height": 368
        },
        "id": "ASdGXqgcUvhH",
        "outputId": "0fe59c5e-5420-417e-9625-b1d5592c8359"
      },
      "execution_count": 202,
      "outputs": [
        {
          "output_type": "stream",
          "name": "stdout",
          "text": [
            "A matrix (words x embed_size)\n"
          ]
        },
        {
          "output_type": "display_data",
          "data": {
            "text/plain": [
              "      0     1\n",
              "0 -0.24 -0.22\n",
              "1 -0.14 -0.07\n",
              "2 -0.38 -0.30\n",
              "3 -0.29 -0.20"
            ],
            "text/html": [
              "\n",
              "  <div id=\"df-20f8fab3-7a9e-4191-aa0d-e14e3e1abc78\" class=\"colab-df-container\">\n",
              "    <div>\n",
              "<style scoped>\n",
              "    .dataframe tbody tr th:only-of-type {\n",
              "        vertical-align: middle;\n",
              "    }\n",
              "\n",
              "    .dataframe tbody tr th {\n",
              "        vertical-align: top;\n",
              "    }\n",
              "\n",
              "    .dataframe thead th {\n",
              "        text-align: right;\n",
              "    }\n",
              "</style>\n",
              "<table border=\"1\" class=\"dataframe\">\n",
              "  <thead>\n",
              "    <tr style=\"text-align: right;\">\n",
              "      <th></th>\n",
              "      <th>0</th>\n",
              "      <th>1</th>\n",
              "    </tr>\n",
              "  </thead>\n",
              "  <tbody>\n",
              "    <tr>\n",
              "      <th>0</th>\n",
              "      <td>-0.24</td>\n",
              "      <td>-0.22</td>\n",
              "    </tr>\n",
              "    <tr>\n",
              "      <th>1</th>\n",
              "      <td>-0.14</td>\n",
              "      <td>-0.07</td>\n",
              "    </tr>\n",
              "    <tr>\n",
              "      <th>2</th>\n",
              "      <td>-0.38</td>\n",
              "      <td>-0.30</td>\n",
              "    </tr>\n",
              "    <tr>\n",
              "      <th>3</th>\n",
              "      <td>-0.29</td>\n",
              "      <td>-0.20</td>\n",
              "    </tr>\n",
              "  </tbody>\n",
              "</table>\n",
              "</div>\n",
              "    <div class=\"colab-df-buttons\">\n",
              "\n",
              "  <div class=\"colab-df-container\">\n",
              "    <button class=\"colab-df-convert\" onclick=\"convertToInteractive('df-20f8fab3-7a9e-4191-aa0d-e14e3e1abc78')\"\n",
              "            title=\"Convert this dataframe to an interactive table.\"\n",
              "            style=\"display:none;\">\n",
              "\n",
              "  <svg xmlns=\"http://www.w3.org/2000/svg\" height=\"24px\" viewBox=\"0 -960 960 960\">\n",
              "    <path d=\"M120-120v-720h720v720H120Zm60-500h600v-160H180v160Zm220 220h160v-160H400v160Zm0 220h160v-160H400v160ZM180-400h160v-160H180v160Zm440 0h160v-160H620v160ZM180-180h160v-160H180v160Zm440 0h160v-160H620v160Z\"/>\n",
              "  </svg>\n",
              "    </button>\n",
              "\n",
              "  <style>\n",
              "    .colab-df-container {\n",
              "      display:flex;\n",
              "      gap: 12px;\n",
              "    }\n",
              "\n",
              "    .colab-df-convert {\n",
              "      background-color: #E8F0FE;\n",
              "      border: none;\n",
              "      border-radius: 50%;\n",
              "      cursor: pointer;\n",
              "      display: none;\n",
              "      fill: #1967D2;\n",
              "      height: 32px;\n",
              "      padding: 0 0 0 0;\n",
              "      width: 32px;\n",
              "    }\n",
              "\n",
              "    .colab-df-convert:hover {\n",
              "      background-color: #E2EBFA;\n",
              "      box-shadow: 0px 1px 2px rgba(60, 64, 67, 0.3), 0px 1px 3px 1px rgba(60, 64, 67, 0.15);\n",
              "      fill: #174EA6;\n",
              "    }\n",
              "\n",
              "    .colab-df-buttons div {\n",
              "      margin-bottom: 4px;\n",
              "    }\n",
              "\n",
              "    [theme=dark] .colab-df-convert {\n",
              "      background-color: #3B4455;\n",
              "      fill: #D2E3FC;\n",
              "    }\n",
              "\n",
              "    [theme=dark] .colab-df-convert:hover {\n",
              "      background-color: #434B5C;\n",
              "      box-shadow: 0px 1px 3px 1px rgba(0, 0, 0, 0.15);\n",
              "      filter: drop-shadow(0px 1px 2px rgba(0, 0, 0, 0.3));\n",
              "      fill: #FFFFFF;\n",
              "    }\n",
              "  </style>\n",
              "\n",
              "    <script>\n",
              "      const buttonEl =\n",
              "        document.querySelector('#df-20f8fab3-7a9e-4191-aa0d-e14e3e1abc78 button.colab-df-convert');\n",
              "      buttonEl.style.display =\n",
              "        google.colab.kernel.accessAllowed ? 'block' : 'none';\n",
              "\n",
              "      async function convertToInteractive(key) {\n",
              "        const element = document.querySelector('#df-20f8fab3-7a9e-4191-aa0d-e14e3e1abc78');\n",
              "        const dataTable =\n",
              "          await google.colab.kernel.invokeFunction('convertToInteractive',\n",
              "                                                    [key], {});\n",
              "        if (!dataTable) return;\n",
              "\n",
              "        const docLinkHtml = 'Like what you see? Visit the ' +\n",
              "          '<a target=\"_blank\" href=https://colab.research.google.com/notebooks/data_table.ipynb>data table notebook</a>'\n",
              "          + ' to learn more about interactive tables.';\n",
              "        element.innerHTML = '';\n",
              "        dataTable['output_type'] = 'display_data';\n",
              "        await google.colab.output.renderOutput(dataTable, element);\n",
              "        const docLink = document.createElement('div');\n",
              "        docLink.innerHTML = docLinkHtml;\n",
              "        element.appendChild(docLink);\n",
              "      }\n",
              "    </script>\n",
              "  </div>\n",
              "\n",
              "\n",
              "<div id=\"df-bf650e18-393b-4c04-aefb-00dbf840ab15\">\n",
              "  <button class=\"colab-df-quickchart\" onclick=\"quickchart('df-bf650e18-393b-4c04-aefb-00dbf840ab15')\"\n",
              "            title=\"Suggest charts\"\n",
              "            style=\"display:none;\">\n",
              "\n",
              "<svg xmlns=\"http://www.w3.org/2000/svg\" height=\"24px\"viewBox=\"0 0 24 24\"\n",
              "     width=\"24px\">\n",
              "    <g>\n",
              "        <path d=\"M19 3H5c-1.1 0-2 .9-2 2v14c0 1.1.9 2 2 2h14c1.1 0 2-.9 2-2V5c0-1.1-.9-2-2-2zM9 17H7v-7h2v7zm4 0h-2V7h2v10zm4 0h-2v-4h2v4z\"/>\n",
              "    </g>\n",
              "</svg>\n",
              "  </button>\n",
              "\n",
              "<style>\n",
              "  .colab-df-quickchart {\n",
              "      --bg-color: #E8F0FE;\n",
              "      --fill-color: #1967D2;\n",
              "      --hover-bg-color: #E2EBFA;\n",
              "      --hover-fill-color: #174EA6;\n",
              "      --disabled-fill-color: #AAA;\n",
              "      --disabled-bg-color: #DDD;\n",
              "  }\n",
              "\n",
              "  [theme=dark] .colab-df-quickchart {\n",
              "      --bg-color: #3B4455;\n",
              "      --fill-color: #D2E3FC;\n",
              "      --hover-bg-color: #434B5C;\n",
              "      --hover-fill-color: #FFFFFF;\n",
              "      --disabled-bg-color: #3B4455;\n",
              "      --disabled-fill-color: #666;\n",
              "  }\n",
              "\n",
              "  .colab-df-quickchart {\n",
              "    background-color: var(--bg-color);\n",
              "    border: none;\n",
              "    border-radius: 50%;\n",
              "    cursor: pointer;\n",
              "    display: none;\n",
              "    fill: var(--fill-color);\n",
              "    height: 32px;\n",
              "    padding: 0;\n",
              "    width: 32px;\n",
              "  }\n",
              "\n",
              "  .colab-df-quickchart:hover {\n",
              "    background-color: var(--hover-bg-color);\n",
              "    box-shadow: 0 1px 2px rgba(60, 64, 67, 0.3), 0 1px 3px 1px rgba(60, 64, 67, 0.15);\n",
              "    fill: var(--button-hover-fill-color);\n",
              "  }\n",
              "\n",
              "  .colab-df-quickchart-complete:disabled,\n",
              "  .colab-df-quickchart-complete:disabled:hover {\n",
              "    background-color: var(--disabled-bg-color);\n",
              "    fill: var(--disabled-fill-color);\n",
              "    box-shadow: none;\n",
              "  }\n",
              "\n",
              "  .colab-df-spinner {\n",
              "    border: 2px solid var(--fill-color);\n",
              "    border-color: transparent;\n",
              "    border-bottom-color: var(--fill-color);\n",
              "    animation:\n",
              "      spin 1s steps(1) infinite;\n",
              "  }\n",
              "\n",
              "  @keyframes spin {\n",
              "    0% {\n",
              "      border-color: transparent;\n",
              "      border-bottom-color: var(--fill-color);\n",
              "      border-left-color: var(--fill-color);\n",
              "    }\n",
              "    20% {\n",
              "      border-color: transparent;\n",
              "      border-left-color: var(--fill-color);\n",
              "      border-top-color: var(--fill-color);\n",
              "    }\n",
              "    30% {\n",
              "      border-color: transparent;\n",
              "      border-left-color: var(--fill-color);\n",
              "      border-top-color: var(--fill-color);\n",
              "      border-right-color: var(--fill-color);\n",
              "    }\n",
              "    40% {\n",
              "      border-color: transparent;\n",
              "      border-right-color: var(--fill-color);\n",
              "      border-top-color: var(--fill-color);\n",
              "    }\n",
              "    60% {\n",
              "      border-color: transparent;\n",
              "      border-right-color: var(--fill-color);\n",
              "    }\n",
              "    80% {\n",
              "      border-color: transparent;\n",
              "      border-right-color: var(--fill-color);\n",
              "      border-bottom-color: var(--fill-color);\n",
              "    }\n",
              "    90% {\n",
              "      border-color: transparent;\n",
              "      border-bottom-color: var(--fill-color);\n",
              "    }\n",
              "  }\n",
              "</style>\n",
              "\n",
              "  <script>\n",
              "    async function quickchart(key) {\n",
              "      const quickchartButtonEl =\n",
              "        document.querySelector('#' + key + ' button');\n",
              "      quickchartButtonEl.disabled = true;  // To prevent multiple clicks.\n",
              "      quickchartButtonEl.classList.add('colab-df-spinner');\n",
              "      try {\n",
              "        const charts = await google.colab.kernel.invokeFunction(\n",
              "            'suggestCharts', [key], {});\n",
              "      } catch (error) {\n",
              "        console.error('Error during call to suggestCharts:', error);\n",
              "      }\n",
              "      quickchartButtonEl.classList.remove('colab-df-spinner');\n",
              "      quickchartButtonEl.classList.add('colab-df-quickchart-complete');\n",
              "    }\n",
              "    (() => {\n",
              "      let quickchartButtonEl =\n",
              "        document.querySelector('#df-bf650e18-393b-4c04-aefb-00dbf840ab15 button');\n",
              "      quickchartButtonEl.style.display =\n",
              "        google.colab.kernel.accessAllowed ? 'block' : 'none';\n",
              "    })();\n",
              "  </script>\n",
              "</div>\n",
              "\n",
              "    </div>\n",
              "  </div>\n"
            ],
            "application/vnd.google.colaboratory.intrinsic+json": {
              "type": "dataframe",
              "summary": "{\n  \"name\": \"logits = ssa\",\n  \"rows\": 4,\n  \"fields\": [\n    {\n      \"column\": 0,\n      \"properties\": {\n        \"dtype\": \"float32\",\n        \"num_unique_values\": 4,\n        \"samples\": [\n          -0.14000000059604645,\n          -0.28999999165534973,\n          -0.23999999463558197\n        ],\n        \"semantic_type\": \"\",\n        \"description\": \"\"\n      }\n    },\n    {\n      \"column\": 1,\n      \"properties\": {\n        \"dtype\": \"float32\",\n        \"num_unique_values\": 4,\n        \"samples\": [\n          -0.07000000029802322,\n          -0.20000000298023224,\n          -0.2199999988079071\n        ],\n        \"semantic_type\": \"\",\n        \"description\": \"\"\n      }\n    }\n  ]\n}"
            }
          },
          "metadata": {}
        },
        {
          "output_type": "stream",
          "name": "stdout",
          "text": [
            "logits (words x vocab_size)\n"
          ]
        },
        {
          "output_type": "display_data",
          "data": {
            "text/plain": [
              "      0     1     2\n",
              "0 -0.05  0.14 -0.09\n",
              "1 -0.04  0.08 -0.07\n",
              "2 -0.09  0.21 -0.15\n",
              "3 -0.07  0.16 -0.13"
            ],
            "text/html": [
              "\n",
              "  <div id=\"df-2e84564f-00db-4c15-a9db-ffcf8f64e833\" class=\"colab-df-container\">\n",
              "    <div>\n",
              "<style scoped>\n",
              "    .dataframe tbody tr th:only-of-type {\n",
              "        vertical-align: middle;\n",
              "    }\n",
              "\n",
              "    .dataframe tbody tr th {\n",
              "        vertical-align: top;\n",
              "    }\n",
              "\n",
              "    .dataframe thead th {\n",
              "        text-align: right;\n",
              "    }\n",
              "</style>\n",
              "<table border=\"1\" class=\"dataframe\">\n",
              "  <thead>\n",
              "    <tr style=\"text-align: right;\">\n",
              "      <th></th>\n",
              "      <th>0</th>\n",
              "      <th>1</th>\n",
              "      <th>2</th>\n",
              "    </tr>\n",
              "  </thead>\n",
              "  <tbody>\n",
              "    <tr>\n",
              "      <th>0</th>\n",
              "      <td>-0.05</td>\n",
              "      <td>0.14</td>\n",
              "      <td>-0.09</td>\n",
              "    </tr>\n",
              "    <tr>\n",
              "      <th>1</th>\n",
              "      <td>-0.04</td>\n",
              "      <td>0.08</td>\n",
              "      <td>-0.07</td>\n",
              "    </tr>\n",
              "    <tr>\n",
              "      <th>2</th>\n",
              "      <td>-0.09</td>\n",
              "      <td>0.21</td>\n",
              "      <td>-0.15</td>\n",
              "    </tr>\n",
              "    <tr>\n",
              "      <th>3</th>\n",
              "      <td>-0.07</td>\n",
              "      <td>0.16</td>\n",
              "      <td>-0.13</td>\n",
              "    </tr>\n",
              "  </tbody>\n",
              "</table>\n",
              "</div>\n",
              "    <div class=\"colab-df-buttons\">\n",
              "\n",
              "  <div class=\"colab-df-container\">\n",
              "    <button class=\"colab-df-convert\" onclick=\"convertToInteractive('df-2e84564f-00db-4c15-a9db-ffcf8f64e833')\"\n",
              "            title=\"Convert this dataframe to an interactive table.\"\n",
              "            style=\"display:none;\">\n",
              "\n",
              "  <svg xmlns=\"http://www.w3.org/2000/svg\" height=\"24px\" viewBox=\"0 -960 960 960\">\n",
              "    <path d=\"M120-120v-720h720v720H120Zm60-500h600v-160H180v160Zm220 220h160v-160H400v160Zm0 220h160v-160H400v160ZM180-400h160v-160H180v160Zm440 0h160v-160H620v160ZM180-180h160v-160H180v160Zm440 0h160v-160H620v160Z\"/>\n",
              "  </svg>\n",
              "    </button>\n",
              "\n",
              "  <style>\n",
              "    .colab-df-container {\n",
              "      display:flex;\n",
              "      gap: 12px;\n",
              "    }\n",
              "\n",
              "    .colab-df-convert {\n",
              "      background-color: #E8F0FE;\n",
              "      border: none;\n",
              "      border-radius: 50%;\n",
              "      cursor: pointer;\n",
              "      display: none;\n",
              "      fill: #1967D2;\n",
              "      height: 32px;\n",
              "      padding: 0 0 0 0;\n",
              "      width: 32px;\n",
              "    }\n",
              "\n",
              "    .colab-df-convert:hover {\n",
              "      background-color: #E2EBFA;\n",
              "      box-shadow: 0px 1px 2px rgba(60, 64, 67, 0.3), 0px 1px 3px 1px rgba(60, 64, 67, 0.15);\n",
              "      fill: #174EA6;\n",
              "    }\n",
              "\n",
              "    .colab-df-buttons div {\n",
              "      margin-bottom: 4px;\n",
              "    }\n",
              "\n",
              "    [theme=dark] .colab-df-convert {\n",
              "      background-color: #3B4455;\n",
              "      fill: #D2E3FC;\n",
              "    }\n",
              "\n",
              "    [theme=dark] .colab-df-convert:hover {\n",
              "      background-color: #434B5C;\n",
              "      box-shadow: 0px 1px 3px 1px rgba(0, 0, 0, 0.15);\n",
              "      filter: drop-shadow(0px 1px 2px rgba(0, 0, 0, 0.3));\n",
              "      fill: #FFFFFF;\n",
              "    }\n",
              "  </style>\n",
              "\n",
              "    <script>\n",
              "      const buttonEl =\n",
              "        document.querySelector('#df-2e84564f-00db-4c15-a9db-ffcf8f64e833 button.colab-df-convert');\n",
              "      buttonEl.style.display =\n",
              "        google.colab.kernel.accessAllowed ? 'block' : 'none';\n",
              "\n",
              "      async function convertToInteractive(key) {\n",
              "        const element = document.querySelector('#df-2e84564f-00db-4c15-a9db-ffcf8f64e833');\n",
              "        const dataTable =\n",
              "          await google.colab.kernel.invokeFunction('convertToInteractive',\n",
              "                                                    [key], {});\n",
              "        if (!dataTable) return;\n",
              "\n",
              "        const docLinkHtml = 'Like what you see? Visit the ' +\n",
              "          '<a target=\"_blank\" href=https://colab.research.google.com/notebooks/data_table.ipynb>data table notebook</a>'\n",
              "          + ' to learn more about interactive tables.';\n",
              "        element.innerHTML = '';\n",
              "        dataTable['output_type'] = 'display_data';\n",
              "        await google.colab.output.renderOutput(dataTable, element);\n",
              "        const docLink = document.createElement('div');\n",
              "        docLink.innerHTML = docLinkHtml;\n",
              "        element.appendChild(docLink);\n",
              "      }\n",
              "    </script>\n",
              "  </div>\n",
              "\n",
              "\n",
              "<div id=\"df-d320fd7d-a349-49dd-8feb-4b40b075c293\">\n",
              "  <button class=\"colab-df-quickchart\" onclick=\"quickchart('df-d320fd7d-a349-49dd-8feb-4b40b075c293')\"\n",
              "            title=\"Suggest charts\"\n",
              "            style=\"display:none;\">\n",
              "\n",
              "<svg xmlns=\"http://www.w3.org/2000/svg\" height=\"24px\"viewBox=\"0 0 24 24\"\n",
              "     width=\"24px\">\n",
              "    <g>\n",
              "        <path d=\"M19 3H5c-1.1 0-2 .9-2 2v14c0 1.1.9 2 2 2h14c1.1 0 2-.9 2-2V5c0-1.1-.9-2-2-2zM9 17H7v-7h2v7zm4 0h-2V7h2v10zm4 0h-2v-4h2v4z\"/>\n",
              "    </g>\n",
              "</svg>\n",
              "  </button>\n",
              "\n",
              "<style>\n",
              "  .colab-df-quickchart {\n",
              "      --bg-color: #E8F0FE;\n",
              "      --fill-color: #1967D2;\n",
              "      --hover-bg-color: #E2EBFA;\n",
              "      --hover-fill-color: #174EA6;\n",
              "      --disabled-fill-color: #AAA;\n",
              "      --disabled-bg-color: #DDD;\n",
              "  }\n",
              "\n",
              "  [theme=dark] .colab-df-quickchart {\n",
              "      --bg-color: #3B4455;\n",
              "      --fill-color: #D2E3FC;\n",
              "      --hover-bg-color: #434B5C;\n",
              "      --hover-fill-color: #FFFFFF;\n",
              "      --disabled-bg-color: #3B4455;\n",
              "      --disabled-fill-color: #666;\n",
              "  }\n",
              "\n",
              "  .colab-df-quickchart {\n",
              "    background-color: var(--bg-color);\n",
              "    border: none;\n",
              "    border-radius: 50%;\n",
              "    cursor: pointer;\n",
              "    display: none;\n",
              "    fill: var(--fill-color);\n",
              "    height: 32px;\n",
              "    padding: 0;\n",
              "    width: 32px;\n",
              "  }\n",
              "\n",
              "  .colab-df-quickchart:hover {\n",
              "    background-color: var(--hover-bg-color);\n",
              "    box-shadow: 0 1px 2px rgba(60, 64, 67, 0.3), 0 1px 3px 1px rgba(60, 64, 67, 0.15);\n",
              "    fill: var(--button-hover-fill-color);\n",
              "  }\n",
              "\n",
              "  .colab-df-quickchart-complete:disabled,\n",
              "  .colab-df-quickchart-complete:disabled:hover {\n",
              "    background-color: var(--disabled-bg-color);\n",
              "    fill: var(--disabled-fill-color);\n",
              "    box-shadow: none;\n",
              "  }\n",
              "\n",
              "  .colab-df-spinner {\n",
              "    border: 2px solid var(--fill-color);\n",
              "    border-color: transparent;\n",
              "    border-bottom-color: var(--fill-color);\n",
              "    animation:\n",
              "      spin 1s steps(1) infinite;\n",
              "  }\n",
              "\n",
              "  @keyframes spin {\n",
              "    0% {\n",
              "      border-color: transparent;\n",
              "      border-bottom-color: var(--fill-color);\n",
              "      border-left-color: var(--fill-color);\n",
              "    }\n",
              "    20% {\n",
              "      border-color: transparent;\n",
              "      border-left-color: var(--fill-color);\n",
              "      border-top-color: var(--fill-color);\n",
              "    }\n",
              "    30% {\n",
              "      border-color: transparent;\n",
              "      border-left-color: var(--fill-color);\n",
              "      border-top-color: var(--fill-color);\n",
              "      border-right-color: var(--fill-color);\n",
              "    }\n",
              "    40% {\n",
              "      border-color: transparent;\n",
              "      border-right-color: var(--fill-color);\n",
              "      border-top-color: var(--fill-color);\n",
              "    }\n",
              "    60% {\n",
              "      border-color: transparent;\n",
              "      border-right-color: var(--fill-color);\n",
              "    }\n",
              "    80% {\n",
              "      border-color: transparent;\n",
              "      border-right-color: var(--fill-color);\n",
              "      border-bottom-color: var(--fill-color);\n",
              "    }\n",
              "    90% {\n",
              "      border-color: transparent;\n",
              "      border-bottom-color: var(--fill-color);\n",
              "    }\n",
              "  }\n",
              "</style>\n",
              "\n",
              "  <script>\n",
              "    async function quickchart(key) {\n",
              "      const quickchartButtonEl =\n",
              "        document.querySelector('#' + key + ' button');\n",
              "      quickchartButtonEl.disabled = true;  // To prevent multiple clicks.\n",
              "      quickchartButtonEl.classList.add('colab-df-spinner');\n",
              "      try {\n",
              "        const charts = await google.colab.kernel.invokeFunction(\n",
              "            'suggestCharts', [key], {});\n",
              "      } catch (error) {\n",
              "        console.error('Error during call to suggestCharts:', error);\n",
              "      }\n",
              "      quickchartButtonEl.classList.remove('colab-df-spinner');\n",
              "      quickchartButtonEl.classList.add('colab-df-quickchart-complete');\n",
              "    }\n",
              "    (() => {\n",
              "      let quickchartButtonEl =\n",
              "        document.querySelector('#df-d320fd7d-a349-49dd-8feb-4b40b075c293 button');\n",
              "      quickchartButtonEl.style.display =\n",
              "        google.colab.kernel.accessAllowed ? 'block' : 'none';\n",
              "    })();\n",
              "  </script>\n",
              "</div>\n",
              "\n",
              "    </div>\n",
              "  </div>\n"
            ],
            "application/vnd.google.colaboratory.intrinsic+json": {
              "type": "dataframe",
              "summary": "{\n  \"name\": \"logits = ssa\",\n  \"rows\": 4,\n  \"fields\": [\n    {\n      \"column\": 0,\n      \"properties\": {\n        \"dtype\": \"float32\",\n        \"num_unique_values\": 4,\n        \"samples\": [\n          -0.03999999910593033,\n          -0.07000000029802322,\n          -0.05000000074505806\n        ],\n        \"semantic_type\": \"\",\n        \"description\": \"\"\n      }\n    },\n    {\n      \"column\": 1,\n      \"properties\": {\n        \"dtype\": \"float32\",\n        \"num_unique_values\": 4,\n        \"samples\": [\n          0.07999999821186066,\n          0.1599999964237213,\n          0.14000000059604645\n        ],\n        \"semantic_type\": \"\",\n        \"description\": \"\"\n      }\n    },\n    {\n      \"column\": 2,\n      \"properties\": {\n        \"dtype\": \"float32\",\n        \"num_unique_values\": 4,\n        \"samples\": [\n          -0.07000000029802322,\n          -0.12999999523162842,\n          -0.09000000357627869\n        ],\n        \"semantic_type\": \"\",\n        \"description\": \"\"\n      }\n    }\n  ]\n}"
            }
          },
          "metadata": {}
        }
      ]
    },
    {
      "cell_type": "markdown",
      "source": [
        "**training code is same as in LSTM lecture**"
      ],
      "metadata": {
        "id": "G75m-1AaIi4a"
      }
    },
    {
      "cell_type": "code",
      "source": [
        "# @title\n",
        "# same as our previous train_model functions...\n",
        "from tqdm import tqdm\n",
        "import numpy as np\n",
        "import matplotlib.pyplot as plt\n",
        "\n",
        "def train_model(model, data, epochs=20, learning_rate=0.1, batch_size=10):\n",
        "    \"\"\"\n",
        "    Iterate through the data in batches and train the model.\n",
        "    \"\"\"\n",
        "    torch.random.manual_seed(42)  # for reproducibility\n",
        "    np.random.seed(42)\n",
        "    criterion = nn.CrossEntropyLoss()\n",
        "    optimizer = torch.optim.Adam(model.parameters(),\n",
        "                                 lr=learning_rate)\n",
        "    model.verbose = False\n",
        "    loss_val = []\n",
        "    # main training loop\n",
        "    for epoch in range(epochs):\n",
        "        print('epoch=%d' % epoch)\n",
        "        np.random.shuffle(data)\n",
        "        epoch_loss = 0\n",
        "        # for each batch of instances\n",
        "        with tqdm(total=len(data), desc=f'Epoch {epoch+1}/{epochs}', unit='sample') as pbar:\n",
        "          for i in range(0, len(data), batch_size):\n",
        "            batch = data[i:i + batch_size]\n",
        "            optimizer.zero_grad() # reset all the gradient information\n",
        "            batch_loss = 0\n",
        "            for datum in batch:\n",
        "                result = model.forward(datum[:-1])\n",
        "                loss = criterion(result,\n",
        "                                 datum[1:].argmax(dim=1).long())\n",
        "                batch_loss += loss\n",
        "            # change parameters after each batch\n",
        "            batch_loss /= batch_size\n",
        "            batch_loss.backward()       # computes all the gradients\n",
        "            optimizer.step()            # update parameters\n",
        "            loss_val.append(batch_loss.item())\n",
        "            epoch_loss += batch_loss\n",
        "            pbar.update(len(batch))\n",
        "            pbar.set_postfix({'Batch': (i // batch_size) + 1, 'Loss': batch_loss.item()})\n",
        "\n",
        "        avg_epoch_loss = epoch_loss / (len(data) / batch_size)\n",
        "        print(f'Epoch [{epoch+1}/{epochs}], Average Loss: {avg_epoch_loss:.4f}')\n",
        "\n",
        "\n",
        "    plt.figure()\n",
        "    plt.plot(loss_val, 'bo-')\n",
        "    plt.ylabel('loss')\n",
        "    plt.xlabel('batches')\n",
        "    plt.show()\n",
        "    return model"
      ],
      "metadata": {
        "cellView": "form",
        "id": "zJYYBDPrV76o"
      },
      "execution_count": 203,
      "outputs": []
    },
    {
      "cell_type": "markdown",
      "source": [
        "### Testing on \"abc\" example"
      ],
      "metadata": {
        "id": "EjJgX0Db1898"
      }
    },
    {
      "cell_type": "code",
      "source": [
        "def char2vec(char, char2int):\n",
        "    x = torch.zeros((1, len(char2int)))\n",
        "    x[0][char2int[char]] = 1\n",
        "    return x\n",
        "\n",
        "def chars2vec(chars, char2int):\n",
        "    return torch.cat([char2vec(c, char2int) for c in chars])\n",
        "\n",
        "chars = ['a', 'b', 'c']\n",
        "char2int = {'a': 0, 'b': 1, 'c': 2}\n",
        "int2char = {0: 'a', 1: 'b', 2: 'c'}\n",
        "data = [\n",
        "    chars2vec('abcabcabc', char2int),\n",
        "    chars2vec('bcabcabca', char2int),\n",
        "    chars2vec('cabcabcab', char2int)\n",
        "]  * 100\n",
        "\n",
        "len(data)"
      ],
      "metadata": {
        "colab": {
          "base_uri": "https://localhost:8080/"
        },
        "id": "Te5T0BxQYRO8",
        "outputId": "70e4fd7f-9b0d-4123-e19d-4e7c3ecd8d36"
      },
      "execution_count": 204,
      "outputs": [
        {
          "output_type": "execute_result",
          "data": {
            "text/plain": [
              "300"
            ]
          },
          "metadata": {},
          "execution_count": 204
        }
      ]
    },
    {
      "cell_type": "code",
      "source": [
        "torch.manual_seed(24)\n",
        "ssa = SimpleSelfAttention(vocab_size=3, embedding_size=2, seq_len=8,\n",
        "                          use_positional_embedding=True, verbose=True)\n",
        "train_model(ssa, data, epochs=2, learning_rate=.2, batch_size=10)"
      ],
      "metadata": {
        "colab": {
          "base_uri": "https://localhost:8080/",
          "height": 699
        },
        "id": "XEllvLb-Ybfa",
        "outputId": "40e62c87-0f05-4f3b-d6f7-2bac3e5d005d"
      },
      "execution_count": 205,
      "outputs": [
        {
          "output_type": "stream",
          "name": "stdout",
          "text": [
            "epoch=0\n"
          ]
        },
        {
          "output_type": "stream",
          "name": "stderr",
          "text": [
            "Epoch 1/2: 100%|██████████| 300/300 [00:00<00:00, 758.94sample/s, Batch=30, Loss=0]\n"
          ]
        },
        {
          "output_type": "stream",
          "name": "stdout",
          "text": [
            "Epoch [1/2], Average Loss: 0.5075\n",
            "epoch=1\n"
          ]
        },
        {
          "output_type": "stream",
          "name": "stderr",
          "text": [
            "Epoch 2/2: 100%|██████████| 300/300 [00:00<00:00, 515.42sample/s, Batch=30, Loss=0]\n"
          ]
        },
        {
          "output_type": "stream",
          "name": "stdout",
          "text": [
            "Epoch [2/2], Average Loss: 0.0000\n"
          ]
        },
        {
          "output_type": "display_data",
          "data": {
            "text/plain": [
              "<Figure size 640x480 with 1 Axes>"
            ],
            "image/png": "[encoded data removed]"
          },
          "metadata": {}
        },
        {
          "output_type": "execute_result",
          "data": {
            "text/plain": [
              "SimpleSelfAttention(\n",
              "  (E): Linear(in_features=2, out_features=3, bias=False)\n",
              "  (P): Linear(in_features=2, out_features=8, bias=False)\n",
              "  (W_v): Linear(in_features=2, out_features=2, bias=True)\n",
              "  (W_k): Linear(in_features=2, out_features=2, bias=True)\n",
              "  (W_q): Linear(in_features=2, out_features=2, bias=True)\n",
              "  (softmax): Softmax(dim=-1)\n",
              ")"
            ]
          },
          "metadata": {},
          "execution_count": 205
        }
      ]
    },
    {
      "cell_type": "code",
      "source": [
        "x = chars2vec('abcabcabc', char2int)\n",
        "outputs = ssa.forward(x[:-1])\n",
        "vocabulary[outputs.argmax(axis=1)]"
      ],
      "metadata": {
        "colab": {
          "base_uri": "https://localhost:8080/"
        },
        "id": "cievvTB31RDc",
        "outputId": "a7c9e72c-6fdb-4a9f-ac2e-deb5490b75fe"
      },
      "execution_count": 206,
      "outputs": [
        {
          "output_type": "execute_result",
          "data": {
            "text/plain": [
              "array(['b', 'c', 'a', 'b', 'c', 'a', 'b', 'c'], dtype='<U1')"
            ]
          },
          "metadata": {},
          "execution_count": 206
        }
      ]
    },
    {
      "cell_type": "code",
      "source": [
        "ssa.E.weight"
      ],
      "metadata": {
        "colab": {
          "base_uri": "https://localhost:8080/"
        },
        "id": "deHfN6SAwu5-",
        "outputId": "528bfd98-2ef1-4eb5-86a2-c0bc7c464e3b"
      },
      "execution_count": 207,
      "outputs": [
        {
          "output_type": "execute_result",
          "data": {
            "text/plain": [
              "Parameter containing:\n",
              "tensor([[-2.7532,  2.0580],\n",
              "        [-1.4466, -2.6530],\n",
              "        [ 3.8879,  0.0807]], requires_grad=True)"
            ]
          },
          "metadata": {},
          "execution_count": 207
        }
      ]
    },
    {
      "cell_type": "markdown",
      "source": [
        "### Testing on long-range example"
      ],
      "metadata": {
        "id": "bhko_iM42BGc"
      }
    },
    {
      "cell_type": "markdown",
      "source": [
        "Let's revisit the synthetic task from LSTM lecture. We observe two types of sequences:\n",
        "\n",
        "> 'bc**a**bcbcbc**a**'\n",
        "\n",
        "> 'bcbcbcbcbc'\n",
        "\n",
        "The network needs to learn that when it sees an 'a', it must remember this in order to output another 'a' 7 time steps later."
      ],
      "metadata": {
        "id": "dOrrd1gI0sVT"
      }
    },
    {
      "cell_type": "code",
      "source": [
        "data2 = [\n",
        "    chars2vec('bcabcbcbca', char2int),\n",
        "    chars2vec('bcbcbcbcbc', char2int),\n",
        "]  * 10\n",
        "\n",
        "ssa2 = SimpleSelfAttention(vocab_size=3, embedding_size=2, seq_len=9,\n",
        "                           use_positional_embedding=True, verbose=True)\n",
        "train_model(ssa2, data2, epochs=10, learning_rate=.1, batch_size=10)"
      ],
      "metadata": {
        "colab": {
          "base_uri": "https://localhost:8080/",
          "height": 1000
        },
        "id": "amAtoJcBxVxW",
        "outputId": "447ce95e-3ac9-47f4-dbd3-8d6689778123"
      },
      "execution_count": 208,
      "outputs": [
        {
          "output_type": "stream",
          "name": "stdout",
          "text": [
            "epoch=0\n"
          ]
        },
        {
          "output_type": "stream",
          "name": "stderr",
          "text": [
            "Epoch 1/10: 100%|██████████| 20/20 [00:00<00:00, 458.72sample/s, Batch=2, Loss=0.982]\n"
          ]
        },
        {
          "output_type": "stream",
          "name": "stdout",
          "text": [
            "Epoch [1/10], Average Loss: 1.0025\n",
            "epoch=1\n"
          ]
        },
        {
          "output_type": "stream",
          "name": "stderr",
          "text": [
            "Epoch 2/10: 100%|██████████| 20/20 [00:00<00:00, 513.75sample/s, Batch=2, Loss=0.935]\n"
          ]
        },
        {
          "output_type": "stream",
          "name": "stdout",
          "text": [
            "Epoch [2/10], Average Loss: 0.9226\n",
            "epoch=2\n"
          ]
        },
        {
          "output_type": "stream",
          "name": "stderr",
          "text": [
            "Epoch 3/10: 100%|██████████| 20/20 [00:00<00:00, 516.64sample/s, Batch=2, Loss=0.811]\n"
          ]
        },
        {
          "output_type": "stream",
          "name": "stdout",
          "text": [
            "Epoch [3/10], Average Loss: 0.8645\n",
            "epoch=3\n"
          ]
        },
        {
          "output_type": "stream",
          "name": "stderr",
          "text": [
            "Epoch 4/10: 100%|██████████| 20/20 [00:00<00:00, 512.36sample/s, Batch=2, Loss=0.648]\n"
          ]
        },
        {
          "output_type": "stream",
          "name": "stdout",
          "text": [
            "Epoch [4/10], Average Loss: 0.7218\n",
            "epoch=4\n"
          ]
        },
        {
          "output_type": "stream",
          "name": "stderr",
          "text": [
            "Epoch 5/10: 100%|██████████| 20/20 [00:00<00:00, 445.60sample/s, Batch=2, Loss=0.375]\n"
          ]
        },
        {
          "output_type": "stream",
          "name": "stdout",
          "text": [
            "Epoch [5/10], Average Loss: 0.4791\n",
            "epoch=5\n"
          ]
        },
        {
          "output_type": "stream",
          "name": "stderr",
          "text": [
            "Epoch 6/10: 100%|██████████| 20/20 [00:00<00:00, 491.60sample/s, Batch=2, Loss=0.21]\n"
          ]
        },
        {
          "output_type": "stream",
          "name": "stdout",
          "text": [
            "Epoch [6/10], Average Loss: 0.2426\n",
            "epoch=6\n"
          ]
        },
        {
          "output_type": "stream",
          "name": "stderr",
          "text": [
            "Epoch 7/10: 100%|██████████| 20/20 [00:00<00:00, 529.90sample/s, Batch=2, Loss=0.177]\n"
          ]
        },
        {
          "output_type": "stream",
          "name": "stdout",
          "text": [
            "Epoch [7/10], Average Loss: 0.1926\n",
            "epoch=7\n"
          ]
        },
        {
          "output_type": "stream",
          "name": "stderr",
          "text": [
            "Epoch 8/10: 100%|██████████| 20/20 [00:00<00:00, 498.18sample/s, Batch=2, Loss=0.123]\n"
          ]
        },
        {
          "output_type": "stream",
          "name": "stdout",
          "text": [
            "Epoch [8/10], Average Loss: 0.1220\n",
            "epoch=8\n"
          ]
        },
        {
          "output_type": "stream",
          "name": "stderr",
          "text": [
            "Epoch 9/10: 100%|██████████| 20/20 [00:00<00:00, 555.38sample/s, Batch=2, Loss=0.156]\n"
          ]
        },
        {
          "output_type": "stream",
          "name": "stdout",
          "text": [
            "Epoch [9/10], Average Loss: 0.1300\n",
            "epoch=9\n"
          ]
        },
        {
          "output_type": "stream",
          "name": "stderr",
          "text": [
            "Epoch 10/10: 100%|██████████| 20/20 [00:00<00:00, 471.73sample/s, Batch=2, Loss=0.102]\n"
          ]
        },
        {
          "output_type": "stream",
          "name": "stdout",
          "text": [
            "Epoch [10/10], Average Loss: 0.1123\n"
          ]
        },
        {
          "output_type": "display_data",
          "data": {
            "text/plain": [
              "<Figure size 640x480 with 1 Axes>"
            ],
            "image/png": "[encoded data removed]"
          },
          "metadata": {}
        },
        {
          "output_type": "execute_result",
          "data": {
            "text/plain": [
              "SimpleSelfAttention(\n",
              "  (E): Linear(in_features=2, out_features=3, bias=False)\n",
              "  (P): Linear(in_features=2, out_features=9, bias=False)\n",
              "  (W_v): Linear(in_features=2, out_features=2, bias=True)\n",
              "  (W_k): Linear(in_features=2, out_features=2, bias=True)\n",
              "  (W_q): Linear(in_features=2, out_features=2, bias=True)\n",
              "  (softmax): Softmax(dim=-1)\n",
              ")"
            ]
          },
          "metadata": {},
          "execution_count": 208
        }
      ]
    },
    {
      "cell_type": "code",
      "source": [
        "# predct \"a\" in last position?\n",
        "x = chars2vec('bcabcbcbca', char2int)\n",
        "outputs = ssa2.forward(x[:-1])\n",
        "vocabulary[outputs.argmax(axis=1)]"
      ],
      "metadata": {
        "colab": {
          "base_uri": "https://localhost:8080/"
        },
        "id": "szqPAJbkxi_w",
        "outputId": "035ab40e-d6d6-4d28-d9db-a2327d7dad55"
      },
      "execution_count": 209,
      "outputs": [
        {
          "output_type": "execute_result",
          "data": {
            "text/plain": [
              "array(['c', 'b', 'b', 'c', 'b', 'c', 'b', 'c', 'a'], dtype='<U1')"
            ]
          },
          "metadata": {},
          "execution_count": 209
        }
      ]
    },
    {
      "cell_type": "code",
      "source": [
        "pd.Index(chars[:-1], name='input')"
      ],
      "metadata": {
        "colab": {
          "base_uri": "https://localhost:8080/"
        },
        "id": "cRhAhGbL585M",
        "outputId": "f4271b5c-f6b4-49c6-b22a-474a53e96b41"
      },
      "execution_count": 222,
      "outputs": [
        {
          "output_type": "execute_result",
          "data": {
            "text/plain": [
              "Index(['b', 'c', 'a', 'b', 'c', 'b', 'c', 'b', 'c'], dtype='object', name='input')"
            ]
          },
          "metadata": {},
          "execution_count": 222
        }
      ]
    },
    {
      "cell_type": "markdown",
      "source": [
        "### Examining attention weights\n",
        "\n",
        "**Can we see the model \"paying attention\" to the \"c\" to predict \"a\" at the end??**"
      ],
      "metadata": {
        "id": "oOvA-0Yd6swW"
      }
    },
    {
      "cell_type": "code",
      "source": [
        "# examine the softmax attention weights (sm)\n",
        "inputs = list('bcabcbcbca')\n",
        "index = pd.Index(['%d_%s' % (i, char) for i, char in enumerate(inputs[:-1])], name='input')\n",
        "att = pd.DataFrame(ssa2.sm.detach().numpy(), index=index)\n",
        "att.columns = ['%d_%s' % (i, char) for i, char in enumerate(inputs[:-1])]\n",
        "# Convert tensor to Pandas DataFrame\n",
        "att.style.background_gradient(cmap='viridis')\n"
      ],
      "metadata": {
        "colab": {
          "base_uri": "https://localhost:8080/",
          "height": 363
        },
        "id": "xw8Nvxp12auR",
        "outputId": "48ae2a1d-c8c6-42b4-efc2-324962ef556a"
      },
      "execution_count": 236,
      "outputs": [
        {
          "output_type": "execute_result",
          "data": {
            "text/plain": [
              "<pandas.io.formats.style.Styler at 0x7bc558c92a40>"
            ],
            "text/html": [
              "<style type=\"text/css\">\n",
              "#T_e2fa2_row0_col0, #T_e2fa2_row1_col1, #T_e2fa2_row2_col2, #T_e2fa2_row3_col0, #T_e2fa2_row4_col3, #T_e2fa2_row5_col0, #T_e2fa2_row6_col2, #T_e2fa2_row7_col5, #T_e2fa2_row7_col7, #T_e2fa2_row8_col4, #T_e2fa2_row8_col6, #T_e2fa2_row8_col8 {\n",
              "  background-color: #fde725;\n",
              "  color: #000000;\n",
              "}\n",
              "#T_e2fa2_row0_col1, #T_e2fa2_row0_col2, #T_e2fa2_row0_col3, #T_e2fa2_row0_col4, #T_e2fa2_row0_col5, #T_e2fa2_row0_col6, #T_e2fa2_row0_col7, #T_e2fa2_row0_col8, #T_e2fa2_row1_col0, #T_e2fa2_row1_col2, #T_e2fa2_row1_col3, #T_e2fa2_row1_col4, #T_e2fa2_row1_col5, #T_e2fa2_row1_col6, #T_e2fa2_row1_col7, #T_e2fa2_row1_col8, #T_e2fa2_row2_col0, #T_e2fa2_row2_col1, #T_e2fa2_row2_col3, #T_e2fa2_row2_col4, #T_e2fa2_row2_col5, #T_e2fa2_row2_col6, #T_e2fa2_row2_col7, #T_e2fa2_row2_col8, #T_e2fa2_row3_col1, #T_e2fa2_row3_col2, #T_e2fa2_row3_col4, #T_e2fa2_row3_col5, #T_e2fa2_row3_col6, #T_e2fa2_row3_col7, #T_e2fa2_row3_col8, #T_e2fa2_row4_col0, #T_e2fa2_row4_col5, #T_e2fa2_row4_col6, #T_e2fa2_row4_col7, #T_e2fa2_row4_col8, #T_e2fa2_row5_col1, #T_e2fa2_row5_col2, #T_e2fa2_row5_col4, #T_e2fa2_row5_col6, #T_e2fa2_row5_col7, #T_e2fa2_row5_col8, #T_e2fa2_row6_col0, #T_e2fa2_row6_col1, #T_e2fa2_row6_col4, #T_e2fa2_row6_col5, #T_e2fa2_row6_col6, #T_e2fa2_row6_col7, #T_e2fa2_row6_col8, #T_e2fa2_row7_col2, #T_e2fa2_row7_col8, #T_e2fa2_row8_col0, #T_e2fa2_row8_col2, #T_e2fa2_row8_col7 {\n",
              "  background-color: #440154;\n",
              "  color: #f1f1f1;\n",
              "}\n",
              "#T_e2fa2_row3_col3 {\n",
              "  background-color: #70cf57;\n",
              "  color: #000000;\n",
              "}\n",
              "#T_e2fa2_row4_col1, #T_e2fa2_row8_col5 {\n",
              "  background-color: #440256;\n",
              "  color: #f1f1f1;\n",
              "}\n",
              "#T_e2fa2_row4_col2 {\n",
              "  background-color: #fbe723;\n",
              "  color: #000000;\n",
              "}\n",
              "#T_e2fa2_row4_col4 {\n",
              "  background-color: #46075a;\n",
              "  color: #f1f1f1;\n",
              "}\n",
              "#T_e2fa2_row5_col3 {\n",
              "  background-color: #453581;\n",
              "  color: #f1f1f1;\n",
              "}\n",
              "#T_e2fa2_row5_col5 {\n",
              "  background-color: #404588;\n",
              "  color: #f1f1f1;\n",
              "}\n",
              "#T_e2fa2_row6_col3 {\n",
              "  background-color: #460a5d;\n",
              "  color: #f1f1f1;\n",
              "}\n",
              "#T_e2fa2_row7_col0 {\n",
              "  background-color: #2c738e;\n",
              "  color: #f1f1f1;\n",
              "}\n",
              "#T_e2fa2_row7_col1 {\n",
              "  background-color: #450559;\n",
              "  color: #f1f1f1;\n",
              "}\n",
              "#T_e2fa2_row7_col3 {\n",
              "  background-color: #2a778e;\n",
              "  color: #f1f1f1;\n",
              "}\n",
              "#T_e2fa2_row7_col4 {\n",
              "  background-color: #277f8e;\n",
              "  color: #f1f1f1;\n",
              "}\n",
              "#T_e2fa2_row7_col6 {\n",
              "  background-color: #472c7a;\n",
              "  color: #f1f1f1;\n",
              "}\n",
              "#T_e2fa2_row8_col1 {\n",
              "  background-color: #5ac864;\n",
              "  color: #000000;\n",
              "}\n",
              "#T_e2fa2_row8_col3 {\n",
              "  background-color: #481a6c;\n",
              "  color: #f1f1f1;\n",
              "}\n",
              "</style>\n",
              "<table id=\"T_e2fa2\" class=\"dataframe\">\n",
              "  <thead>\n",
              "    <tr>\n",
              "      <th class=\"blank level0\" >&nbsp;</th>\n",
              "      <th id=\"T_e2fa2_level0_col0\" class=\"col_heading level0 col0\" >0_b</th>\n",
              "      <th id=\"T_e2fa2_level0_col1\" class=\"col_heading level0 col1\" >1_c</th>\n",
              "      <th id=\"T_e2fa2_level0_col2\" class=\"col_heading level0 col2\" >2_a</th>\n",
              "      <th id=\"T_e2fa2_level0_col3\" class=\"col_heading level0 col3\" >3_b</th>\n",
              "      <th id=\"T_e2fa2_level0_col4\" class=\"col_heading level0 col4\" >4_c</th>\n",
              "      <th id=\"T_e2fa2_level0_col5\" class=\"col_heading level0 col5\" >5_b</th>\n",
              "      <th id=\"T_e2fa2_level0_col6\" class=\"col_heading level0 col6\" >6_c</th>\n",
              "      <th id=\"T_e2fa2_level0_col7\" class=\"col_heading level0 col7\" >7_b</th>\n",
              "      <th id=\"T_e2fa2_level0_col8\" class=\"col_heading level0 col8\" >8_c</th>\n",
              "    </tr>\n",
              "    <tr>\n",
              "      <th class=\"index_name level0\" >input</th>\n",
              "      <th class=\"blank col0\" >&nbsp;</th>\n",
              "      <th class=\"blank col1\" >&nbsp;</th>\n",
              "      <th class=\"blank col2\" >&nbsp;</th>\n",
              "      <th class=\"blank col3\" >&nbsp;</th>\n",
              "      <th class=\"blank col4\" >&nbsp;</th>\n",
              "      <th class=\"blank col5\" >&nbsp;</th>\n",
              "      <th class=\"blank col6\" >&nbsp;</th>\n",
              "      <th class=\"blank col7\" >&nbsp;</th>\n",
              "      <th class=\"blank col8\" >&nbsp;</th>\n",
              "    </tr>\n",
              "  </thead>\n",
              "  <tbody>\n",
              "    <tr>\n",
              "      <th id=\"T_e2fa2_level0_row0\" class=\"row_heading level0 row0\" >0_b</th>\n",
              "      <td id=\"T_e2fa2_row0_col0\" class=\"data row0 col0\" >1.000000</td>\n",
              "      <td id=\"T_e2fa2_row0_col1\" class=\"data row0 col1\" >0.000000</td>\n",
              "      <td id=\"T_e2fa2_row0_col2\" class=\"data row0 col2\" >0.000000</td>\n",
              "      <td id=\"T_e2fa2_row0_col3\" class=\"data row0 col3\" >0.000000</td>\n",
              "      <td id=\"T_e2fa2_row0_col4\" class=\"data row0 col4\" >0.000000</td>\n",
              "      <td id=\"T_e2fa2_row0_col5\" class=\"data row0 col5\" >0.000000</td>\n",
              "      <td id=\"T_e2fa2_row0_col6\" class=\"data row0 col6\" >0.000000</td>\n",
              "      <td id=\"T_e2fa2_row0_col7\" class=\"data row0 col7\" >0.000000</td>\n",
              "      <td id=\"T_e2fa2_row0_col8\" class=\"data row0 col8\" >0.000000</td>\n",
              "    </tr>\n",
              "    <tr>\n",
              "      <th id=\"T_e2fa2_level0_row1\" class=\"row_heading level0 row1\" >1_c</th>\n",
              "      <td id=\"T_e2fa2_row1_col0\" class=\"data row1 col0\" >0.000000</td>\n",
              "      <td id=\"T_e2fa2_row1_col1\" class=\"data row1 col1\" >1.000000</td>\n",
              "      <td id=\"T_e2fa2_row1_col2\" class=\"data row1 col2\" >0.000000</td>\n",
              "      <td id=\"T_e2fa2_row1_col3\" class=\"data row1 col3\" >0.000000</td>\n",
              "      <td id=\"T_e2fa2_row1_col4\" class=\"data row1 col4\" >0.000000</td>\n",
              "      <td id=\"T_e2fa2_row1_col5\" class=\"data row1 col5\" >0.000000</td>\n",
              "      <td id=\"T_e2fa2_row1_col6\" class=\"data row1 col6\" >0.000000</td>\n",
              "      <td id=\"T_e2fa2_row1_col7\" class=\"data row1 col7\" >0.000000</td>\n",
              "      <td id=\"T_e2fa2_row1_col8\" class=\"data row1 col8\" >0.000000</td>\n",
              "    </tr>\n",
              "    <tr>\n",
              "      <th id=\"T_e2fa2_level0_row2\" class=\"row_heading level0 row2\" >2_a</th>\n",
              "      <td id=\"T_e2fa2_row2_col0\" class=\"data row2 col0\" >0.000001</td>\n",
              "      <td id=\"T_e2fa2_row2_col1\" class=\"data row2 col1\" >0.000000</td>\n",
              "      <td id=\"T_e2fa2_row2_col2\" class=\"data row2 col2\" >0.999999</td>\n",
              "      <td id=\"T_e2fa2_row2_col3\" class=\"data row2 col3\" >0.000000</td>\n",
              "      <td id=\"T_e2fa2_row2_col4\" class=\"data row2 col4\" >0.000000</td>\n",
              "      <td id=\"T_e2fa2_row2_col5\" class=\"data row2 col5\" >0.000000</td>\n",
              "      <td id=\"T_e2fa2_row2_col6\" class=\"data row2 col6\" >0.000000</td>\n",
              "      <td id=\"T_e2fa2_row2_col7\" class=\"data row2 col7\" >0.000000</td>\n",
              "      <td id=\"T_e2fa2_row2_col8\" class=\"data row2 col8\" >0.000000</td>\n",
              "    </tr>\n",
              "    <tr>\n",
              "      <th id=\"T_e2fa2_level0_row3\" class=\"row_heading level0 row3\" >3_b</th>\n",
              "      <td id=\"T_e2fa2_row3_col0\" class=\"data row3 col0\" >0.999771</td>\n",
              "      <td id=\"T_e2fa2_row3_col1\" class=\"data row3 col1\" >0.000000</td>\n",
              "      <td id=\"T_e2fa2_row3_col2\" class=\"data row3 col2\" >0.000000</td>\n",
              "      <td id=\"T_e2fa2_row3_col3\" class=\"data row3 col3\" >0.000228</td>\n",
              "      <td id=\"T_e2fa2_row3_col4\" class=\"data row3 col4\" >0.000000</td>\n",
              "      <td id=\"T_e2fa2_row3_col5\" class=\"data row3 col5\" >0.000000</td>\n",
              "      <td id=\"T_e2fa2_row3_col6\" class=\"data row3 col6\" >0.000000</td>\n",
              "      <td id=\"T_e2fa2_row3_col7\" class=\"data row3 col7\" >0.000000</td>\n",
              "      <td id=\"T_e2fa2_row3_col8\" class=\"data row3 col8\" >0.000000</td>\n",
              "    </tr>\n",
              "    <tr>\n",
              "      <th id=\"T_e2fa2_level0_row4\" class=\"row_heading level0 row4\" >4_c</th>\n",
              "      <td id=\"T_e2fa2_row4_col0\" class=\"data row4 col0\" >0.000000</td>\n",
              "      <td id=\"T_e2fa2_row4_col1\" class=\"data row4 col1\" >0.006434</td>\n",
              "      <td id=\"T_e2fa2_row4_col2\" class=\"data row4 col2\" >0.992655</td>\n",
              "      <td id=\"T_e2fa2_row4_col3\" class=\"data row4 col3\" >0.000291</td>\n",
              "      <td id=\"T_e2fa2_row4_col4\" class=\"data row4 col4\" >0.000620</td>\n",
              "      <td id=\"T_e2fa2_row4_col5\" class=\"data row4 col5\" >0.000000</td>\n",
              "      <td id=\"T_e2fa2_row4_col6\" class=\"data row4 col6\" >0.000000</td>\n",
              "      <td id=\"T_e2fa2_row4_col7\" class=\"data row4 col7\" >0.000000</td>\n",
              "      <td id=\"T_e2fa2_row4_col8\" class=\"data row4 col8\" >0.000000</td>\n",
              "    </tr>\n",
              "    <tr>\n",
              "      <th id=\"T_e2fa2_level0_row5\" class=\"row_heading level0 row5\" >5_b</th>\n",
              "      <td id=\"T_e2fa2_row5_col0\" class=\"data row5 col0\" >0.996653</td>\n",
              "      <td id=\"T_e2fa2_row5_col1\" class=\"data row5 col1\" >0.000026</td>\n",
              "      <td id=\"T_e2fa2_row5_col2\" class=\"data row5 col2\" >0.000000</td>\n",
              "      <td id=\"T_e2fa2_row5_col3\" class=\"data row5 col3\" >0.000045</td>\n",
              "      <td id=\"T_e2fa2_row5_col4\" class=\"data row5 col4\" >0.000143</td>\n",
              "      <td id=\"T_e2fa2_row5_col5\" class=\"data row5 col5\" >0.003133</td>\n",
              "      <td id=\"T_e2fa2_row5_col6\" class=\"data row5 col6\" >0.000000</td>\n",
              "      <td id=\"T_e2fa2_row5_col7\" class=\"data row5 col7\" >0.000000</td>\n",
              "      <td id=\"T_e2fa2_row5_col8\" class=\"data row5 col8\" >0.000000</td>\n",
              "    </tr>\n",
              "    <tr>\n",
              "      <th id=\"T_e2fa2_level0_row6\" class=\"row_heading level0 row6\" >6_c</th>\n",
              "      <td id=\"T_e2fa2_row6_col0\" class=\"data row6 col0\" >0.000000</td>\n",
              "      <td id=\"T_e2fa2_row6_col1\" class=\"data row6 col1\" >0.000503</td>\n",
              "      <td id=\"T_e2fa2_row6_col2\" class=\"data row6 col2\" >0.999412</td>\n",
              "      <td id=\"T_e2fa2_row6_col3\" class=\"data row6 col3\" >0.000007</td>\n",
              "      <td id=\"T_e2fa2_row6_col4\" class=\"data row6 col4\" >0.000018</td>\n",
              "      <td id=\"T_e2fa2_row6_col5\" class=\"data row6 col5\" >0.000000</td>\n",
              "      <td id=\"T_e2fa2_row6_col6\" class=\"data row6 col6\" >0.000060</td>\n",
              "      <td id=\"T_e2fa2_row6_col7\" class=\"data row6 col7\" >0.000000</td>\n",
              "      <td id=\"T_e2fa2_row6_col8\" class=\"data row6 col8\" >0.000000</td>\n",
              "    </tr>\n",
              "    <tr>\n",
              "      <th id=\"T_e2fa2_level0_row7\" class=\"row_heading level0 row7\" >7_b</th>\n",
              "      <td id=\"T_e2fa2_row7_col0\" class=\"data row7 col0\" >0.380413</td>\n",
              "      <td id=\"T_e2fa2_row7_col1\" class=\"data row7 col1\" >0.013113</td>\n",
              "      <td id=\"T_e2fa2_row7_col2\" class=\"data row7 col2\" >0.000000</td>\n",
              "      <td id=\"T_e2fa2_row7_col3\" class=\"data row7 col3\" >0.000116</td>\n",
              "      <td id=\"T_e2fa2_row7_col4\" class=\"data row7 col4\" >0.015945</td>\n",
              "      <td id=\"T_e2fa2_row7_col5\" class=\"data row7 col5\" >0.015243</td>\n",
              "      <td id=\"T_e2fa2_row7_col6\" class=\"data row7 col6\" >0.020024</td>\n",
              "      <td id=\"T_e2fa2_row7_col7\" class=\"data row7 col7\" >0.555145</td>\n",
              "      <td id=\"T_e2fa2_row7_col8\" class=\"data row7 col8\" >0.000000</td>\n",
              "    </tr>\n",
              "    <tr>\n",
              "      <th id=\"T_e2fa2_level0_row8\" class=\"row_heading level0 row8\" >8_c</th>\n",
              "      <td id=\"T_e2fa2_row8_col0\" class=\"data row8 col0\" >0.000001</td>\n",
              "      <td id=\"T_e2fa2_row8_col1\" class=\"data row8 col1\" >0.743515</td>\n",
              "      <td id=\"T_e2fa2_row8_col2\" class=\"data row8 col2\" >0.000116</td>\n",
              "      <td id=\"T_e2fa2_row8_col3\" class=\"data row8 col3\" >0.000020</td>\n",
              "      <td id=\"T_e2fa2_row8_col4\" class=\"data row8 col4\" >0.037162</td>\n",
              "      <td id=\"T_e2fa2_row8_col5\" class=\"data row8 col5\" >0.000078</td>\n",
              "      <td id=\"T_e2fa2_row8_col6\" class=\"data row8 col6\" >0.163638</td>\n",
              "      <td id=\"T_e2fa2_row8_col7\" class=\"data row8 col7\" >0.000560</td>\n",
              "      <td id=\"T_e2fa2_row8_col8\" class=\"data row8 col8\" >0.054910</td>\n",
              "    </tr>\n",
              "  </tbody>\n",
              "</table>\n"
            ]
          },
          "metadata": {},
          "execution_count": 236
        }
      ]
    },
    {
      "cell_type": "code",
      "source": [
        "# predict \"c\" in last position?\n",
        "x = chars2vec('bcbcbcbcbc', char2int)\n",
        "outputs = ssa2.forward(x[:-1])\n",
        "vocabulary[outputs.argmax(axis=1)]"
      ],
      "metadata": {
        "colab": {
          "base_uri": "https://localhost:8080/"
        },
        "id": "XQUgh1wp0lxe",
        "outputId": "0caa3d3b-bdb2-450d-9d15-6601ee2e37a5"
      },
      "execution_count": 237,
      "outputs": [
        {
          "output_type": "execute_result",
          "data": {
            "text/plain": [
              "array(['c', 'b', 'c', 'b', 'c', 'b', 'c', 'b', 'c'], dtype='<U1')"
            ]
          },
          "metadata": {},
          "execution_count": 237
        }
      ]
    },
    {
      "cell_type": "code",
      "source": [
        "# examine the softmax attention weights (sm)\n",
        "inputs = list('bcbcbcbcbc')\n",
        "index = pd.Index(['%d_%s' % (i, char) for i, char in enumerate(inputs[:-1])], name='input')\n",
        "att = pd.DataFrame(ssa2.sm.detach().numpy(), index=index)\n",
        "att.columns = ['%d_%s' % (i, char) for i, char in enumerate(inputs[:-1])]\n",
        "# Convert tensor to Pandas DataFrame\n",
        "att.style.background_gradient(cmap='viridis')\n"
      ],
      "metadata": {
        "colab": {
          "base_uri": "https://localhost:8080/",
          "height": 363
        },
        "id": "TPjgXFpO7lez",
        "outputId": "bbcb5ce5-9495-432e-dd33-8eec613fb099"
      },
      "execution_count": 238,
      "outputs": [
        {
          "output_type": "execute_result",
          "data": {
            "text/plain": [
              "<pandas.io.formats.style.Styler at 0x7bc558c930a0>"
            ],
            "text/html": [
              "<style type=\"text/css\">\n",
              "#T_7640e_row0_col0, #T_7640e_row1_col1, #T_7640e_row2_col0, #T_7640e_row2_col2, #T_7640e_row3_col3, #T_7640e_row5_col3, #T_7640e_row6_col4, #T_7640e_row6_col6, #T_7640e_row7_col5, #T_7640e_row7_col7, #T_7640e_row8_col8 {\n",
              "  background-color: #fde725;\n",
              "  color: #000000;\n",
              "}\n",
              "#T_7640e_row0_col1, #T_7640e_row0_col2, #T_7640e_row0_col3, #T_7640e_row0_col4, #T_7640e_row0_col5, #T_7640e_row0_col6, #T_7640e_row0_col7, #T_7640e_row0_col8, #T_7640e_row1_col0, #T_7640e_row1_col2, #T_7640e_row1_col3, #T_7640e_row1_col4, #T_7640e_row1_col5, #T_7640e_row1_col6, #T_7640e_row1_col7, #T_7640e_row1_col8, #T_7640e_row2_col1, #T_7640e_row2_col3, #T_7640e_row2_col4, #T_7640e_row2_col5, #T_7640e_row2_col6, #T_7640e_row2_col7, #T_7640e_row2_col8, #T_7640e_row3_col0, #T_7640e_row3_col1, #T_7640e_row3_col4, #T_7640e_row3_col5, #T_7640e_row3_col6, #T_7640e_row3_col7, #T_7640e_row3_col8, #T_7640e_row4_col1, #T_7640e_row4_col3, #T_7640e_row4_col5, #T_7640e_row4_col6, #T_7640e_row4_col7, #T_7640e_row4_col8, #T_7640e_row5_col0, #T_7640e_row5_col1, #T_7640e_row5_col4, #T_7640e_row5_col6, #T_7640e_row5_col7, #T_7640e_row5_col8, #T_7640e_row6_col1, #T_7640e_row6_col3, #T_7640e_row6_col7, #T_7640e_row6_col8, #T_7640e_row7_col0, #T_7640e_row7_col1, #T_7640e_row7_col4, #T_7640e_row7_col6, #T_7640e_row7_col8, #T_7640e_row8_col0, #T_7640e_row8_col1, #T_7640e_row8_col2, #T_7640e_row8_col3, #T_7640e_row8_col4, #T_7640e_row8_col5, #T_7640e_row8_col6, #T_7640e_row8_col7 {\n",
              "  background-color: #440154;\n",
              "  color: #f1f1f1;\n",
              "}\n",
              "#T_7640e_row3_col2 {\n",
              "  background-color: #21a585;\n",
              "  color: #f1f1f1;\n",
              "}\n",
              "#T_7640e_row4_col0 {\n",
              "  background-color: #cde11d;\n",
              "  color: #000000;\n",
              "}\n",
              "#T_7640e_row4_col2 {\n",
              "  background-color: #46075a;\n",
              "  color: #f1f1f1;\n",
              "}\n",
              "#T_7640e_row4_col4 {\n",
              "  background-color: #2f6b8e;\n",
              "  color: #f1f1f1;\n",
              "}\n",
              "#T_7640e_row5_col2 {\n",
              "  background-color: #3d4d8a;\n",
              "  color: #f1f1f1;\n",
              "}\n",
              "#T_7640e_row5_col5 {\n",
              "  background-color: #1f998a;\n",
              "  color: #f1f1f1;\n",
              "}\n",
              "#T_7640e_row6_col0 {\n",
              "  background-color: #1f988b;\n",
              "  color: #f1f1f1;\n",
              "}\n",
              "#T_7640e_row6_col2 {\n",
              "  background-color: #40bd72;\n",
              "  color: #f1f1f1;\n",
              "}\n",
              "#T_7640e_row6_col5 {\n",
              "  background-color: #481467;\n",
              "  color: #f1f1f1;\n",
              "}\n",
              "#T_7640e_row7_col2 {\n",
              "  background-color: #450457;\n",
              "  color: #f1f1f1;\n",
              "}\n",
              "#T_7640e_row7_col3 {\n",
              "  background-color: #fbe723;\n",
              "  color: #000000;\n",
              "}\n",
              "</style>\n",
              "<table id=\"T_7640e\" class=\"dataframe\">\n",
              "  <thead>\n",
              "    <tr>\n",
              "      <th class=\"blank level0\" >&nbsp;</th>\n",
              "      <th id=\"T_7640e_level0_col0\" class=\"col_heading level0 col0\" >0_b</th>\n",
              "      <th id=\"T_7640e_level0_col1\" class=\"col_heading level0 col1\" >1_c</th>\n",
              "      <th id=\"T_7640e_level0_col2\" class=\"col_heading level0 col2\" >2_b</th>\n",
              "      <th id=\"T_7640e_level0_col3\" class=\"col_heading level0 col3\" >3_c</th>\n",
              "      <th id=\"T_7640e_level0_col4\" class=\"col_heading level0 col4\" >4_b</th>\n",
              "      <th id=\"T_7640e_level0_col5\" class=\"col_heading level0 col5\" >5_c</th>\n",
              "      <th id=\"T_7640e_level0_col6\" class=\"col_heading level0 col6\" >6_b</th>\n",
              "      <th id=\"T_7640e_level0_col7\" class=\"col_heading level0 col7\" >7_c</th>\n",
              "      <th id=\"T_7640e_level0_col8\" class=\"col_heading level0 col8\" >8_b</th>\n",
              "    </tr>\n",
              "    <tr>\n",
              "      <th class=\"index_name level0\" >input</th>\n",
              "      <th class=\"blank col0\" >&nbsp;</th>\n",
              "      <th class=\"blank col1\" >&nbsp;</th>\n",
              "      <th class=\"blank col2\" >&nbsp;</th>\n",
              "      <th class=\"blank col3\" >&nbsp;</th>\n",
              "      <th class=\"blank col4\" >&nbsp;</th>\n",
              "      <th class=\"blank col5\" >&nbsp;</th>\n",
              "      <th class=\"blank col6\" >&nbsp;</th>\n",
              "      <th class=\"blank col7\" >&nbsp;</th>\n",
              "      <th class=\"blank col8\" >&nbsp;</th>\n",
              "    </tr>\n",
              "  </thead>\n",
              "  <tbody>\n",
              "    <tr>\n",
              "      <th id=\"T_7640e_level0_row0\" class=\"row_heading level0 row0\" >0_b</th>\n",
              "      <td id=\"T_7640e_row0_col0\" class=\"data row0 col0\" >1.000000</td>\n",
              "      <td id=\"T_7640e_row0_col1\" class=\"data row0 col1\" >0.000000</td>\n",
              "      <td id=\"T_7640e_row0_col2\" class=\"data row0 col2\" >0.000000</td>\n",
              "      <td id=\"T_7640e_row0_col3\" class=\"data row0 col3\" >0.000000</td>\n",
              "      <td id=\"T_7640e_row0_col4\" class=\"data row0 col4\" >0.000000</td>\n",
              "      <td id=\"T_7640e_row0_col5\" class=\"data row0 col5\" >0.000000</td>\n",
              "      <td id=\"T_7640e_row0_col6\" class=\"data row0 col6\" >0.000000</td>\n",
              "      <td id=\"T_7640e_row0_col7\" class=\"data row0 col7\" >0.000000</td>\n",
              "      <td id=\"T_7640e_row0_col8\" class=\"data row0 col8\" >0.000000</td>\n",
              "    </tr>\n",
              "    <tr>\n",
              "      <th id=\"T_7640e_level0_row1\" class=\"row_heading level0 row1\" >1_c</th>\n",
              "      <td id=\"T_7640e_row1_col0\" class=\"data row1 col0\" >0.000000</td>\n",
              "      <td id=\"T_7640e_row1_col1\" class=\"data row1 col1\" >1.000000</td>\n",
              "      <td id=\"T_7640e_row1_col2\" class=\"data row1 col2\" >0.000000</td>\n",
              "      <td id=\"T_7640e_row1_col3\" class=\"data row1 col3\" >0.000000</td>\n",
              "      <td id=\"T_7640e_row1_col4\" class=\"data row1 col4\" >0.000000</td>\n",
              "      <td id=\"T_7640e_row1_col5\" class=\"data row1 col5\" >0.000000</td>\n",
              "      <td id=\"T_7640e_row1_col6\" class=\"data row1 col6\" >0.000000</td>\n",
              "      <td id=\"T_7640e_row1_col7\" class=\"data row1 col7\" >0.000000</td>\n",
              "      <td id=\"T_7640e_row1_col8\" class=\"data row1 col8\" >0.000000</td>\n",
              "    </tr>\n",
              "    <tr>\n",
              "      <th id=\"T_7640e_level0_row2\" class=\"row_heading level0 row2\" >2_b</th>\n",
              "      <td id=\"T_7640e_row2_col0\" class=\"data row2 col0\" >0.999723</td>\n",
              "      <td id=\"T_7640e_row2_col1\" class=\"data row2 col1\" >0.000001</td>\n",
              "      <td id=\"T_7640e_row2_col2\" class=\"data row2 col2\" >0.000277</td>\n",
              "      <td id=\"T_7640e_row2_col3\" class=\"data row2 col3\" >0.000000</td>\n",
              "      <td id=\"T_7640e_row2_col4\" class=\"data row2 col4\" >0.000000</td>\n",
              "      <td id=\"T_7640e_row2_col5\" class=\"data row2 col5\" >0.000000</td>\n",
              "      <td id=\"T_7640e_row2_col6\" class=\"data row2 col6\" >0.000000</td>\n",
              "      <td id=\"T_7640e_row2_col7\" class=\"data row2 col7\" >0.000000</td>\n",
              "      <td id=\"T_7640e_row2_col8\" class=\"data row2 col8\" >0.000000</td>\n",
              "    </tr>\n",
              "    <tr>\n",
              "      <th id=\"T_7640e_level0_row3\" class=\"row_heading level0 row3\" >3_c</th>\n",
              "      <td id=\"T_7640e_row3_col0\" class=\"data row3 col0\" >0.000000</td>\n",
              "      <td id=\"T_7640e_row3_col1\" class=\"data row3 col1\" >0.000002</td>\n",
              "      <td id=\"T_7640e_row3_col2\" class=\"data row3 col2\" >0.000162</td>\n",
              "      <td id=\"T_7640e_row3_col3\" class=\"data row3 col3\" >0.999836</td>\n",
              "      <td id=\"T_7640e_row3_col4\" class=\"data row3 col4\" >0.000000</td>\n",
              "      <td id=\"T_7640e_row3_col5\" class=\"data row3 col5\" >0.000000</td>\n",
              "      <td id=\"T_7640e_row3_col6\" class=\"data row3 col6\" >0.000000</td>\n",
              "      <td id=\"T_7640e_row3_col7\" class=\"data row3 col7\" >0.000000</td>\n",
              "      <td id=\"T_7640e_row3_col8\" class=\"data row3 col8\" >0.000000</td>\n",
              "    </tr>\n",
              "    <tr>\n",
              "      <th id=\"T_7640e_level0_row4\" class=\"row_heading level0 row4\" >4_b</th>\n",
              "      <td id=\"T_7640e_row4_col0\" class=\"data row4 col0\" >0.922738</td>\n",
              "      <td id=\"T_7640e_row4_col1\" class=\"data row4 col1\" >0.000015</td>\n",
              "      <td id=\"T_7640e_row4_col2\" class=\"data row4 col2\" >0.000005</td>\n",
              "      <td id=\"T_7640e_row4_col3\" class=\"data row4 col3\" >0.000000</td>\n",
              "      <td id=\"T_7640e_row4_col4\" class=\"data row4 col4\" >0.077242</td>\n",
              "      <td id=\"T_7640e_row4_col5\" class=\"data row4 col5\" >0.000000</td>\n",
              "      <td id=\"T_7640e_row4_col6\" class=\"data row4 col6\" >0.000000</td>\n",
              "      <td id=\"T_7640e_row4_col7\" class=\"data row4 col7\" >0.000000</td>\n",
              "      <td id=\"T_7640e_row4_col8\" class=\"data row4 col8\" >0.000000</td>\n",
              "    </tr>\n",
              "    <tr>\n",
              "      <th id=\"T_7640e_level0_row5\" class=\"row_heading level0 row5\" >5_c</th>\n",
              "      <td id=\"T_7640e_row5_col0\" class=\"data row5 col0\" >0.000000</td>\n",
              "      <td id=\"T_7640e_row5_col1\" class=\"data row5 col1\" >0.000234</td>\n",
              "      <td id=\"T_7640e_row5_col2\" class=\"data row5 col2\" >0.000064</td>\n",
              "      <td id=\"T_7640e_row5_col3\" class=\"data row5 col3\" >0.997756</td>\n",
              "      <td id=\"T_7640e_row5_col4\" class=\"data row5 col4\" >0.000000</td>\n",
              "      <td id=\"T_7640e_row5_col5\" class=\"data row5 col5\" >0.001946</td>\n",
              "      <td id=\"T_7640e_row5_col6\" class=\"data row5 col6\" >0.000000</td>\n",
              "      <td id=\"T_7640e_row5_col7\" class=\"data row5 col7\" >0.000000</td>\n",
              "      <td id=\"T_7640e_row5_col8\" class=\"data row5 col8\" >0.000000</td>\n",
              "    </tr>\n",
              "    <tr>\n",
              "      <th id=\"T_7640e_level0_row6\" class=\"row_heading level0 row6\" >6_b</th>\n",
              "      <td id=\"T_7640e_row6_col0\" class=\"data row6 col0\" >0.534869</td>\n",
              "      <td id=\"T_7640e_row6_col1\" class=\"data row6 col1\" >0.002683</td>\n",
              "      <td id=\"T_7640e_row6_col2\" class=\"data row6 col2\" >0.000191</td>\n",
              "      <td id=\"T_7640e_row6_col3\" class=\"data row6 col3\" >0.000001</td>\n",
              "      <td id=\"T_7640e_row6_col4\" class=\"data row6 col4\" >0.222202</td>\n",
              "      <td id=\"T_7640e_row6_col5\" class=\"data row6 col5\" >0.000193</td>\n",
              "      <td id=\"T_7640e_row6_col6\" class=\"data row6 col6\" >0.239860</td>\n",
              "      <td id=\"T_7640e_row6_col7\" class=\"data row6 col7\" >0.000000</td>\n",
              "      <td id=\"T_7640e_row6_col8\" class=\"data row6 col8\" >0.000000</td>\n",
              "    </tr>\n",
              "    <tr>\n",
              "      <th id=\"T_7640e_level0_row7\" class=\"row_heading level0 row7\" >7_c</th>\n",
              "      <td id=\"T_7640e_row7_col0\" class=\"data row7 col0\" >0.000000</td>\n",
              "      <td id=\"T_7640e_row7_col1\" class=\"data row7 col1\" >0.001894</td>\n",
              "      <td id=\"T_7640e_row7_col2\" class=\"data row7 col2\" >0.000003</td>\n",
              "      <td id=\"T_7640e_row7_col3\" class=\"data row7 col3\" >0.994302</td>\n",
              "      <td id=\"T_7640e_row7_col4\" class=\"data row7 col4\" >0.000000</td>\n",
              "      <td id=\"T_7640e_row7_col5\" class=\"data row7 col5\" >0.003631</td>\n",
              "      <td id=\"T_7640e_row7_col6\" class=\"data row7 col6\" >0.000000</td>\n",
              "      <td id=\"T_7640e_row7_col7\" class=\"data row7 col7\" >0.000170</td>\n",
              "      <td id=\"T_7640e_row7_col8\" class=\"data row7 col8\" >0.000000</td>\n",
              "    </tr>\n",
              "    <tr>\n",
              "      <th id=\"T_7640e_level0_row8\" class=\"row_heading level0 row8\" >8_b</th>\n",
              "      <td id=\"T_7640e_row8_col0\" class=\"data row8 col0\" >0.000001</td>\n",
              "      <td id=\"T_7640e_row8_col1\" class=\"data row8 col1\" >0.000000</td>\n",
              "      <td id=\"T_7640e_row8_col2\" class=\"data row8 col2\" >0.000000</td>\n",
              "      <td id=\"T_7640e_row8_col3\" class=\"data row8 col3\" >0.000000</td>\n",
              "      <td id=\"T_7640e_row8_col4\" class=\"data row8 col4\" >0.000000</td>\n",
              "      <td id=\"T_7640e_row8_col5\" class=\"data row8 col5\" >0.000000</td>\n",
              "      <td id=\"T_7640e_row8_col6\" class=\"data row8 col6\" >0.000000</td>\n",
              "      <td id=\"T_7640e_row8_col7\" class=\"data row8 col7\" >0.000000</td>\n",
              "      <td id=\"T_7640e_row8_col8\" class=\"data row8 col8\" >0.999999</td>\n",
              "    </tr>\n",
              "  </tbody>\n",
              "</table>\n"
            ]
          },
          "metadata": {},
          "execution_count": 238
        }
      ]
    },
    {
      "cell_type": "markdown",
      "metadata": {
        "id": "XtUIgldHyhIh"
      },
      "source": [
        "<hr size=10 color=#285C4D>\n",
        "\n",
        "\n",
        "## Transformers\n"
      ]
    },
    {
      "cell_type": "markdown",
      "metadata": {
        "id": "b40_cBX2yfCy"
      },
      "source": [
        "\n",
        "A **transformer** block is a collection of ideas. But, at its core, it contains a *self-attention layer* and *positional embeddings*.\n",
        "\n",
        "Other components include:\n",
        "\n",
        "\n"
      ]
    },
    {
      "cell_type": "markdown",
      "source": [
        "### Feedforward Layer\n",
        "\n"
      ],
      "metadata": {
        "id": "Nd8wUN7e-9t7"
      }
    },
    {
      "cell_type": "markdown",
      "source": [
        "An additional 2-layer network (one hidden layer). This allows an additional transformation of the $A$ representation. Typically, the dimensionality is increased in this layer from $A$ to $O$. E.g.,\n",
        "\n",
        "$$O = FFN(A) = ReLU((AW_{o1})W_{o2})$$\n",
        "\n",
        "where $W_{o1}$ has dimension $d \\times 2d$, $W_{o2}$ has dimension $2d \\times d$ and $ReLU$ is activation function $=\\max(0, x)$. (2 is a bit arbitrary here.)"
      ],
      "metadata": {
        "id": "TLF4nvs0-lJ6"
      }
    },
    {
      "cell_type": "code",
      "source": [
        "# FFN example:\n",
        "W_o1 = torch.tensor([[.1,.2, .3,.4],[-.1,-.2, -.3, -.4]]) # 2x4\n",
        "W_o2 = torch.tensor([[.31,.22], [.23,.41],[-.11,-.22], [-.35, -.4]]) # 4x2\n",
        "O = nn.ReLU()((A @ W_o1) @ W_o2)\n",
        "O"
      ],
      "metadata": {
        "colab": {
          "base_uri": "https://localhost:8080/"
        },
        "id": "5ySNxGI-AeFO",
        "outputId": "1f2fa963-1be7-43ac-cd2f-21c079a2936b"
      },
      "execution_count": 255,
      "outputs": [
        {
          "output_type": "execute_result",
          "data": {
            "text/plain": [
              "tensor([[0.0761, 0.0967],\n",
              "        [0.0761, 0.0967],\n",
              "        [0.1426, 0.1813],\n",
              "        [0.0000, 0.0000]])"
            ]
          },
          "metadata": {},
          "execution_count": 255
        }
      ]
    },
    {
      "cell_type": "markdown",
      "source": [
        "### Multi-head attention\n",
        "\n"
      ],
      "metadata": {
        "id": "YrbVwfb9-zWA"
      }
    },
    {
      "cell_type": "markdown",
      "source": [
        "Multiple attention layers are run for each input sentence. This allows different layers to pay attention to different parts of the input. E.g., one can pay attention to syntax, another semantics, etc.\n",
        "\n",
        "E.g., for a 4-head attention block, run the entire attention network 4 times for each word, then **concatenate** all the $A$ outputs together. Pass to the FFN.\n",
        "\n",
        "![figs/m10multi.png](https://github.com/tulane-cmps6730/main/blob/main/lec/sequence/figs/m10multi.png?raw=1)\n",
        "\n"
      ],
      "metadata": {
        "id": "AcSkxy-7-6kk"
      }
    },
    {
      "cell_type": "markdown",
      "source": [
        "### Residual Connections"
      ],
      "metadata": {
        "id": "WG3A7mLJDL0S"
      }
    },
    {
      "cell_type": "markdown",
      "source": [
        "A simple trick that adds the input to the final output of a network.\n",
        "\n",
        "- For both forward and gradient computations, helps information get transferred more efficiently between layers.\n",
        "- Particularly helpful in deep networks (many layers) to that information is not forgotten.\n",
        "- Somewhat analogous to vanishing gradient problem\n",
        "\n",
        " $$X_i = X_{i-1} + \\mathrm{Layer}(X_i)$$\n",
        "\n",
        " E.g., for the simple attention network.\n",
        "\n",
        " output = A + sentence_embedding\n"
      ],
      "metadata": {
        "id": "_j2Fac9XDKIY"
      }
    },
    {
      "cell_type": "markdown",
      "source": [
        "### Layer norm"
      ],
      "metadata": {
        "id": "PjB-FlzCDLZW"
      }
    },
    {
      "cell_type": "markdown",
      "source": [
        "Compute *z*-scores for values in each layer (subtract mean and divide by standard deviation)\n",
        "  - can improve training convergence by placing weights in same \"scale\" across layers\n",
        "  - Normalization is done separately for each word in the input:\n",
        "\n",
        "$$\\mu_i = \\frac{1}{d}\\sum_{j=1}^d \\mathbf{a}_{ij}$$\n",
        "\n",
        "$$\\sigma_i = \\sqrt{\\frac{1}{d}\\sum_{j=1}^d (\\mu_i - \\mathbf{a}_{ij})}$$\n",
        "\n",
        "$$\n",
        "\\mathbf{a}_i = \\frac{\\mathbf{a}_i - \\mu_i}{\\sigma}\n",
        "$$\n"
      ],
      "metadata": {
        "id": "v7uBVzfCEiPe"
      }
    },
    {
      "cell_type": "markdown",
      "source": [
        "### Full transformer"
      ],
      "metadata": {
        "id": "E8ngAmDeFwK7"
      }
    },
    {
      "cell_type": "markdown",
      "source": [
        "For input X representing $N$ input words each with embedding size $d$:\n",
        "\n",
        "$$\n",
        "\\begin{align}\n",
        "T^1 = & \\hbox{SelfAttention}(X)\\\\\n",
        "T^2 = & X + T^1~~~~~~~~~\\hbox{residual connection}\\\\\n",
        "T^3 = & \\hbox{LayerNorm}(T^2)\\\\\n",
        "T^4 = & \\hbox{FFN}(T^3)\\\\\n",
        "T^5 = & T^4 + T^3~~~~~~~~\\hbox{residual connection}\\\\\n",
        "H = & \\hbox{LayerNorm}(T^5)\n",
        "\\end{align}\n",
        "$$\n",
        "\n",
        "![figs/m10transformer.png](https://github.com/tulane-cmps6730/main/blob/main/lec/sequence/figs/m10transformer.png?raw=1)\n"
      ],
      "metadata": {
        "id": "8D90B7hgFrVE"
      }
    },
    {
      "cell_type": "markdown",
      "source": [
        "<hr size=10 color=#285C4D>\n",
        "\n",
        "## Transformer Variants"
      ],
      "metadata": {
        "id": "618Wxb97HKrU"
      }
    },
    {
      "cell_type": "markdown",
      "source": [
        "### Original Transformer"
      ],
      "metadata": {
        "id": "DRQW6HcKHhBm"
      }
    },
    {
      "cell_type": "markdown",
      "source": [
        "\n",
        "The transformer was originally introduced for a machine translation task. Below is the figure from original paper \"Attention Is All You Need\" (2017)\n",
        "\n",
        "![figs/attention.png](https://github.com/tulane-cmps6730/main/blob/main/lec/sequence/figs/attention.png?raw=1)"
      ],
      "metadata": {
        "id": "WebrEynpHfnz"
      }
    },
    {
      "cell_type": "markdown",
      "source": [
        "### BERT"
      ],
      "metadata": {
        "id": "NROGQ-JRHkGs"
      }
    },
    {
      "cell_type": "markdown",
      "source": [
        "BERT is a \"multi-layer bidirectional Transformer encoder\"\n",
        "- to train, mask words at random so that information about word $i$ is not used when predicting word $i$\n",
        "\n",
        "<img src=\"https://github.com/tulane-cmps6730/main/blob/main/lec/language_models/figs/bert.png?raw=1\" width=60%/>\n",
        "\n",
        "**Just the Encoder portion of the original Transformer architecture**\n"
      ],
      "metadata": {
        "id": "47xxiFUq-jIn"
      }
    },
    {
      "cell_type": "markdown",
      "source": [
        "### GPT: Generative Pre-trained Transformer\n",
        "\n"
      ],
      "metadata": {
        "id": "DrChkcjqH1cv"
      }
    },
    {
      "cell_type": "markdown",
      "source": [
        "**Just the Decoder portion of the original Transformer architecture**\n",
        "\n",
        "<img src=\"https://github.com/tulane-cmps6730/main/blob/main/lec/sequence/figs/gpt.png?raw=1\" width=60%/>\n"
      ],
      "metadata": {
        "id": "tbpRYpvyH4gj"
      }
    },
    {
      "cell_type": "markdown",
      "source": [
        "### ELMO\n"
      ],
      "metadata": {
        "id": "Vqchwi7xH6dR"
      }
    },
    {
      "cell_type": "markdown",
      "source": [
        "\n",
        "**Not a transformer!**\n",
        "\n",
        "ELMO \"word vectors are learned functions of the internal states of a deep bidirectional language model (biLM), which is pretrained on a large text corpus.\"\n",
        "\n",
        "<img src=\"https://github.com/tulane-cmps6730/main/blob/main/lec/language_models/figs/elmo.png?raw=1\" width=60%/>\n",
        "\n"
      ],
      "metadata": {
        "id": "7P1pY0EmH7-K"
      }
    },
    {
      "cell_type": "markdown",
      "source": [
        "<hr size=10 color=#285C4D>\n",
        "\n",
        "## Group Task"
      ],
      "metadata": {
        "id": "LHbatGTV-fVw"
      }
    },
    {
      "cell_type": "markdown",
      "source": [
        "Re-run the `SimpleSelfAttention` example above for the long-distance example (\"bcabcbcbca\"), but this time do not use the positional embeddings. Is it able to capture the dependencies as well. Why or why not? Inspect the attention weights and other components of the model to see if you can identify what is different."
      ],
      "metadata": {
        "id": "DA7nShN2JLnt"
      }
    },
    {
      "cell_type": "markdown",
      "source": [
        "<hr size=10 color=#285C4D>\n",
        "\n",
        "## Sources"
      ],
      "metadata": {
        "id": "MQ31VULeI8s9"
      }
    },
    {
      "cell_type": "markdown",
      "metadata": {
        "id": "V1YwQFKzvHdB"
      },
      "source": [
        "\n",
        "\n",
        "- https://web.stanford.edu/class/cs224n/\n",
        "\n",
        "- Andrej Karpathy's excellent, simplified implementation of transformer: https://github.com/karpathy/minGPT\n",
        "  - Along with code walkthrough video: https://www.youtube.com/watch?v=kCc8FmEb1nY"
      ]
    }
  ],
  "metadata": {
    "colab": {
      "provenance": [],
      "collapsed_sections": [
        "f8OiXeEVwfGw",
        "ioD31_UvxUbm",
        "f5fR8nbqFtoZ",
        "gw4vuJPBFyib",
        "q0SFcge4F0pa",
        "zrxdpPuCIT_f",
        "EcA6NlwQCqol",
        "kjEk0qGS175l",
        "XtUIgldHyhIh",
        "YrbVwfb9-zWA",
        "WG3A7mLJDL0S",
        "PjB-FlzCDLZW",
        "E8ngAmDeFwK7",
        "618Wxb97HKrU",
        "DRQW6HcKHhBm",
        "NROGQ-JRHkGs",
        "DrChkcjqH1cv",
        "LHbatGTV-fVw",
        "MQ31VULeI8s9"
      ],
      "toc_visible": true
    },
    "kernelspec": {
      "display_name": "Python 3 (ipykernel)",
      "language": "python",
      "name": "python3"
    },
    "language_info": {
      "codemirror_mode": {
        "name": "ipython",
        "version": 3
      },
      "file_extension": ".py",
      "mimetype": "text/x-python",
      "name": "python",
      "nbconvert_exporter": "python",
      "pygments_lexer": "ipython3",
      "version": "3.10.10"
    }
  },
  "nbformat": 4,
  "nbformat_minor": 0
}