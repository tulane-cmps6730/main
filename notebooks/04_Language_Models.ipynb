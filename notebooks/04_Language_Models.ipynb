{
  "cells": [
    {
      "cell_type": "markdown",
      "source": [
        "![Tulane](https://github.com/tulane-cmps6730/main/blob/main/img/banner.png?raw=true)\n",
        "\n",
        "<center>\n",
        "\n",
        "<font size=\"+3\">Language Models</font>\n",
        "\n",
        "[Aron Culotta](https://cs.tulane.edu/~aculotta/)  \n",
        "[Tulane University](https://cs.tulane.edu/)\n",
        "\n",
        "<a href=\"http://colab.research.google.com/github/tulane-cmps6730/main/blob/main/notebooks/04_Language_Modles.ipynb\">\n",
        "        <img src=\"https://upload.wikimedia.org/wikipedia/commons/thumb/d/d0/Google_Colaboratory_SVG_Logo.svg/320px-Google_Colaboratory_SVG_Logo.svg.png\"  width=10%/></a>\n",
        "<a href=\"https://github.com/tulane-cmps6730/main/tree/main\">\n",
        "        <img src=\"https://upload.wikimedia.org/wikipedia/commons/thumb/c/c2/GitHub_Invertocat_Logo.svg/240px-GitHub_Invertocat_Logo.svg.png\" width=6%/></a>\n",
        "\n",
        "In this module, we'll learn about ways to model language as a sequence of tokens.\n",
        "\n",
        "</center>"
      ],
      "metadata": {
        "id": "nMb6dEMiCzsn"
      }
    },
    {
      "cell_type": "markdown",
      "source": [
        "<hr size=10 color=#285C4D>\n",
        "\n",
        "## Motivation"
      ],
      "metadata": {
        "id": "UVHR1CIAEAXH"
      }
    },
    {
      "cell_type": "markdown",
      "source": [
        "**Previously**\n",
        "\n",
        "- Overview of text classification and machine learning\n",
        "\n",
        "**This week**\n",
        "- How do we score one sentence as more likely than another?\n",
        "- Will use some probability:\n",
        "  - $P($\"I'm sorry Dave\"$) > P($ \"Sorry Dave I'm\" $)$\n",
        "- How can we model the probability of a sentence?\n",
        "\n",
        "<br><br><br>"
      ],
      "metadata": {
        "id": "bKSAYyETJ1xH"
      }
    },
    {
      "cell_type": "markdown",
      "metadata": {
        "id": "Z25MU8qOCzsr"
      },
      "source": [
        "\n",
        "- Why is it important to be able to score the probability of sentences?\n",
        "\n",
        "<br><br><br><br>\n",
        "\n",
        "Example: **Predictive text**\n",
        "\n",
        "![figs/predict.png](https://github.com/tulane-cmps6730/main/blob/main/lec/language_models/figs/predict.png?raw=1)\n",
        "\n",
        "![figs/unicorn.jpg](https://github.com/tulane-cmps6730/main/blob/main/lec/language_models/figs/unicorn.jpg?raw=1)\n",
        "\n",
        "![figs/now.jpg](https://github.com/tulane-cmps6730/main/blob/main/lec/language_models/figs/now.jpg?raw=1)\n",
        "\n",
        "\n",
        "<br><br><br>\n",
        "\n",
        "**Many other applications:**\n",
        "\n",
        "\n",
        "- Machine translation\n",
        "\n",
        "![tranl](https://github.com/tulane-cmps6730/main/blob/main/lec/language_models/figs/tranl.png?raw=1)\n",
        "\n",
        "> $P($ \"he briefed reporters on the main contents of the statement\" $) $ $ > $  \n",
        "> $P($ \"he briefed to reporters the main contents of the statement\" $)$\n",
        "\n",
        "<br><br><br>\n",
        "\n",
        "- Speech recognition\n",
        "\n",
        "> $P($ \"I am hungry\" $) $ $ > P($ \"Eye am hungry\" $)$\n",
        "\n",
        "<br><br><br>\n",
        "\n",
        "- Language generation\n",
        "\n",
        "![kingcake](https://github.com/tulane-cmps6730/main/blob/main/lec/language_models/figs/kingcake.png?raw=1)\n",
        "\n",
        "<br><br><br>\n",
        "\n",
        "**More generally:**\n",
        "\n",
        "- Due to the prevalence of ambiguity, we need a way to rank probable interpretations of a sentence\n",
        "- In the future, we'll look at probability of parses\n",
        "- Today, we'll start with a simpler task\n",
        "  - The probability of a sentence (word sequence).\n",
        "\n",
        "<br><br><br>"
      ]
    },
    {
      "cell_type": "markdown",
      "source": [
        "<hr size=10 color=#285C4D>\n",
        "\n",
        "## Probability of a sentence"
      ],
      "metadata": {
        "id": "eZ1Lj8DLEK0Z"
      }
    },
    {
      "cell_type": "markdown",
      "metadata": {
        "id": "8U3J0txaCzss"
      },
      "source": [
        "$p(w_1 \\ldots w_m)=$?\n",
        "\n",
        "E.g., $p($\"Sam I am.$\")=?$\n",
        "\n",
        "\n",
        "Given a large sample of sentences $D$, how can we estimate the probability of one particular sentence?\n",
        "\n",
        "<br><br>\n",
        "**Analogy**: Given a sample of $n$ people, how do we estimate $p($ brown eyes $)$?\n",
        "\n",
        "<br><br>\n",
        "$p($ brown eyes $)= \\#($brown eyes$) $ $ / $ $n$  \n",
        "= \"the fraction of all people that have brown eyes\"\n",
        "\n",
        "\n",
        "<br>\n",
        "So, returning to the above,\n",
        "\n",
        "$p($Sam I am.$)=$ the fraction of all sentences that equal \"Sam I am.\"\n",
        "\n",
        "**Why is this a bad idea?**\n",
        "\n",
        "<br><br><br><br>\n",
        "Most sentences occur only once.  \n",
        "$p(w_1 \\ldots w_m) \\approx \\frac{1}{n}$\n",
        "\n",
        "Any sentence not in $D$ will have probability 0.\n",
        "\n",
        "Instead, to make estimating these probabilities possible, we need to make assumptions. E.g.,\n",
        "\n"
      ]
    },
    {
      "cell_type": "markdown",
      "source": [
        "### Independence Assumption"
      ],
      "metadata": {
        "id": "TIYyIHPQEVgG"
      }
    },
    {
      "cell_type": "markdown",
      "source": [
        "Recall from probability: if $A$ and $B$ are independent events, then $P(A,B) = P(A) * P(B)$\n",
        "- E.g., P(\"It will rain tomorrow in Chicago\" AND \" My knee hurts today\") =  \n",
        "P(\"It will rain tomorrow in Chicago\") * P(\"My knee hurts today\")\n",
        "\n",
        "If we assume that each word in a sentence is an independent event then:\n",
        "\n",
        "$p(w_1 \\ldots w_m) \\approx p(w_1) * p(w_2) * \\ldots p(w_m)$\n",
        "\n",
        "(Decompose the joint probability of the words in a sentence into the product of individual word probabilities.)\n",
        "\n",
        "\n",
        "\n",
        "This is a bad assumption: **why?**\n",
        "<br><br><br><br>\n",
        "- \"San Francisco\", \"love you\", ...\n",
        "\n",
        "- we will return to this problem later today\n",
        "\n",
        "But first: how do we estimate the probability of a single word $p(w_i)$ given a dataset $D$?\n",
        "<br><br><br><br>"
      ],
      "metadata": {
        "id": "perOJFB6EUMr"
      }
    },
    {
      "cell_type": "markdown",
      "source": [
        "<hr size=10 color=#285C4D>\n",
        "\n",
        "\n",
        "## Estimating unigram probabilities\n"
      ],
      "metadata": {
        "id": "i__QoJJkEegf"
      }
    },
    {
      "cell_type": "markdown",
      "metadata": {
        "id": "KJ9Tnrp9Czss"
      },
      "source": [
        "\n",
        "**unigram:** a single word; or, a phrase of length 1.\n",
        "\n",
        "To estimate unigram probability from some dataset of text, just count the word frequency:\n",
        "\n",
        "$$ p(w_i) = \\frac{C(w_i)}{T} $$\n",
        "\n",
        "- $C(w_i)=$ number of times word $w_i$ appears in data\n",
        "- $T=$ number of tokens in data\n",
        "\n",
        "Recall definition of probability:\n",
        "- $0 \\le p(w_i) \\le 1$ $ \\forall i$\n",
        "- $\\sum_i p(w_i) = 1$\n",
        "\n",
        "This is an example of a **<font color=\"blue\">multinomial distribution</font>**:\n",
        "- A distribution over $n$ discrete events\n",
        "- In each trial, only one event can occur.\n",
        "- E.g., roll of an $n$-sided die.\n",
        "- Imagine a giant die with a word on each face. Each word is weighted by its probability. We can sample words by rolling the die.\n",
        "\n",
        "<br>\n",
        "\n",
        "```\n",
        "<s> I am Sam </s>  \n",
        "<s> Sam I am </s>  \n",
        "<s> I do not like green eggs and ham </s>\n",
        "```\n",
        "\n",
        "- $p($I$)$ $ = \\frac{3}{20} = 0.15$\n",
        "- $p($Sam$)$ $ = \\frac{2}{20} = 0.1$\n",
        "- ..."
      ]
    },
    {
      "cell_type": "markdown",
      "source": [
        "### Unigram implementation"
      ],
      "metadata": {
        "id": "oWo1rmtgEoaI"
      }
    },
    {
      "cell_type": "code",
      "execution_count": null,
      "metadata": {
        "id": "uspwmnRTCzst",
        "outputId": "2eacdee9-e7fa-49a1-9d02-fac25360b565",
        "colab": {
          "base_uri": "https://localhost:8080/"
        }
      },
      "outputs": [
        {
          "output_type": "execute_result",
          "data": {
            "text/plain": [
              "Counter({'a': 3, 'b': 2, 'c': 1})"
            ]
          },
          "metadata": {},
          "execution_count": 35
        }
      ],
      "source": [
        "# common imports\n",
        "import matplotlib.pyplot as plt\n",
        "import numpy as np\n",
        "from numpy import array as npa\n",
        "import pandas as pd\n",
        "# Counter: an enhanced dict for counting\n",
        "# https://docs.python.org/3/library/collections.html\n",
        "from collections import Counter\n",
        "\n",
        "d = Counter()\n",
        "d.update(['a', 'b', 'c'])\n",
        "d.update(['a', 'a', 'b'])\n",
        "d"
      ]
    },
    {
      "cell_type": "code",
      "execution_count": null,
      "metadata": {
        "id": "67JDqSnbCzst",
        "outputId": "ad45aca9-49c0-4438-ce78-f3eb33116528",
        "colab": {
          "base_uri": "https://localhost:8080/"
        }
      },
      "outputs": [
        {
          "output_type": "stream",
          "name": "stdout",
          "text": [
            "counts= Counter({'<s>': 3, 'I': 3, '</s>': 3, 'am': 2, 'Sam': 2, 'do': 1, 'not': 1, 'like': 1, 'green': 1, 'eggs': 1, 'and': 1, 'ham': 1})\n"
          ]
        },
        {
          "output_type": "execute_result",
          "data": {
            "text/plain": [
              "[('<s>', 0.15),\n",
              " ('I', 0.15),\n",
              " ('</s>', 0.15),\n",
              " ('am', 0.1),\n",
              " ('Sam', 0.1),\n",
              " ('do', 0.05),\n",
              " ('not', 0.05),\n",
              " ('like', 0.05),\n",
              " ('green', 0.05),\n",
              " ('eggs', 0.05),\n",
              " ('and', 0.05),\n",
              " ('ham', 0.05)]"
            ]
          },
          "metadata": {},
          "execution_count": 36
        }
      ],
      "source": [
        "# Example of estimating unigram probabilities from a set of documents.\n",
        "\n",
        "docs = ['<s> I am Sam </s>',\n",
        "        '<s> Sam I am </s>',\n",
        "        '<s> I do not like green eggs and ham </s>']\n",
        "\n",
        "def estimate_unigram_probs(docs):\n",
        "    \"\"\"\n",
        "    Compute p(w), the probability of each unigram in this data.\n",
        "    p(w) = count(w) / total_num_tokens\n",
        "    \"\"\"\n",
        "    counts = Counter()\n",
        "    for doc in docs:\n",
        "        tokens = doc.split()   # split sentence into words using spaces\n",
        "        counts.update(tokens)  # increments counts for all items in tokens\n",
        "    print('counts=', counts)   # for debugging\n",
        "    # Normalize so probabilities sum to 1.\n",
        "    total_tokens = sum(counts.values())\n",
        "    return {token: value / total_tokens for\n",
        "                                        token, value in counts.items()}\n",
        "\n",
        "unigram_probs = estimate_unigram_probs(docs)\n",
        "# print in descending order.\n",
        "sorted(unigram_probs.items(), key=lambda x: x[1], reverse=True)"
      ]
    },
    {
      "cell_type": "markdown",
      "source": [
        "<hr size=10 color=#285C4D>\n",
        "\n",
        "## Probability of a sentence using unigram probabilities\n"
      ],
      "metadata": {
        "id": "H2TcK45lE4rS"
      }
    },
    {
      "cell_type": "markdown",
      "metadata": {
        "id": "x10MeOzZCzsu"
      },
      "source": [
        "\n",
        "Once we've estimated unigram probabilities, we can now compute the probability of a new sentence with $m$ words by the product of its unigram probabilities.\n",
        "\n",
        "$p(w_1 \\ldots w_m) \\approx p(w_1) * p(w_2) * \\ldots p(w_m)$\n",
        "\n",
        "(True because of our earlier independence assumption.)"
      ]
    },
    {
      "cell_type": "code",
      "execution_count": null,
      "metadata": {
        "id": "KJE6TRgWCzsu",
        "outputId": "4c24c91a-51af-4d49-e217-25defc4b8ea3",
        "colab": {
          "base_uri": "https://localhost:8080/"
        }
      },
      "outputs": [
        {
          "output_type": "execute_result",
          "data": {
            "text/plain": [
              "0.0015"
            ]
          },
          "metadata": {},
          "execution_count": 37
        }
      ],
      "source": [
        "def sentence_probability(unigrams, sentence):\n",
        "    proba = 1\n",
        "    for word in sentence:\n",
        "        proba *= unigrams[word]\n",
        "    return proba\n",
        "\n",
        "sentence_probability(unigram_probs, ['I', 'Sam', 'am'])"
      ]
    },
    {
      "cell_type": "code",
      "execution_count": null,
      "metadata": {
        "id": "hUUCpQxCCzsv",
        "outputId": "5fb31551-9a5a-4df2-f69e-98c894a9acad",
        "colab": {
          "base_uri": "https://localhost:8080/"
        }
      },
      "outputs": [
        {
          "output_type": "execute_result",
          "data": {
            "text/plain": [
              "0.00225"
            ]
          },
          "metadata": {},
          "execution_count": 38
        }
      ],
      "source": [
        "sentence_probability(unigram_probs, ['Sam', 'I', 'I'])"
      ]
    },
    {
      "cell_type": "markdown",
      "metadata": {
        "id": "vDxHufGmCzsw"
      },
      "source": [
        "### What happens for very long sentences?"
      ]
    },
    {
      "cell_type": "code",
      "execution_count": null,
      "metadata": {
        "id": "8u_CtNbOCzsw",
        "outputId": "8a5fa54f-e84c-4c99-f4eb-fb2c2f560e64",
        "colab": {
          "base_uri": "https://localhost:8080/"
        }
      },
      "outputs": [
        {
          "output_type": "execute_result",
          "data": {
            "text/plain": [
              "0.0"
            ]
          },
          "metadata": {},
          "execution_count": 39
        }
      ],
      "source": [
        "# A sentence with 1000 Sams\n",
        "sentence_probability(unigram_probs, ['Sam'] * 1000)"
      ]
    },
    {
      "cell_type": "markdown",
      "source": [
        "### To avoid underflow, use log probabilities\n"
      ],
      "metadata": {
        "id": "44k57eYXFHpq"
      }
    },
    {
      "cell_type": "markdown",
      "metadata": {
        "id": "lxVf-PODCzsw"
      },
      "source": [
        "\n",
        "\n",
        "$$p(w_1 \\ldots w_m) = p(w_1) * p(w_2) * \\ldots p(w_m) = \\prod_{i=1}^m p(w_i)$$\n",
        "\n",
        "$$\\log p(w_1 \\ldots w_m) = \\log \\left(p(w_1) * p(w_2) * \\ldots p(w_m)\\right) = \\sum_{i=1}^m \\log p(w_i)$$\n",
        "\n",
        "Product of probabilities become sum of log probabilities.\n",
        "\n"
      ]
    },
    {
      "cell_type": "code",
      "execution_count": null,
      "metadata": {
        "id": "LQgONaPfCzsx",
        "outputId": "99f9d8ab-83b9-4fcb-e971-04c447dc0a9a",
        "colab": {
          "base_uri": "https://localhost:8080/"
        }
      },
      "outputs": [
        {
          "output_type": "execute_result",
          "data": {
            "text/plain": [
              "-2.8239087409443187"
            ]
          },
          "metadata": {},
          "execution_count": 40
        }
      ],
      "source": [
        "import math\n",
        "def sentence_log_probability(unigrams, sentence):\n",
        "    proba = 0\n",
        "    for word in sentence:\n",
        "        proba += math.log10(unigrams[word])\n",
        "    return proba\n",
        "\n",
        "sentence_log_probability(unigram_probs, ['Sam', 'am', 'I'])"
      ]
    },
    {
      "cell_type": "code",
      "execution_count": null,
      "metadata": {
        "id": "ZNLP7ORZCzsx",
        "outputId": "5ef70552-2e2a-48e4-ce9d-8a03e9932bff",
        "colab": {
          "base_uri": "https://localhost:8080/"
        }
      },
      "outputs": [
        {
          "output_type": "display_data",
          "data": {
            "text/plain": [
              "<Figure size 640x480 with 1 Axes>"
            ],
            "image/png": "[encoded data removed]"
          },
          "metadata": {}
        }
      ],
      "source": [
        "probas = (np.arange(100)+1)/100\n",
        "plt.figure()\n",
        "plt.plot(probas, np.log10(probas), 'b.')\n",
        "plt.xlabel('probability')\n",
        "plt.ylabel('log probability')\n",
        "plt.show()"
      ]
    },
    {
      "cell_type": "markdown",
      "source": [
        "**So, small probabilities result in large negative numbers**"
      ],
      "metadata": {
        "id": "e1DBRC8ECzsx"
      }
    },
    {
      "cell_type": "markdown",
      "source": [
        "<hr size=10 color=#285C4D>\n",
        "\n",
        "## N-gram Language Models\n"
      ],
      "metadata": {
        "id": "tVyFe8ocFcXE"
      }
    },
    {
      "cell_type": "markdown",
      "metadata": {
        "id": "9qSg77o6Czsy"
      },
      "source": [
        "\n",
        "$p(w_1 \\ldots w_m) \\approx p(w_1) * p(w_2) * \\ldots p(w_m)$\n",
        "\n",
        "\n",
        "Why is this a bad assumption?\n",
        "\n",
        "<br><br><br>\n",
        "Ignores all structure of language\n"
      ]
    },
    {
      "cell_type": "code",
      "execution_count": null,
      "metadata": {
        "id": "Lhl16LU7Czsy",
        "outputId": "8df5d3e4-2ecf-429e-8101-66bc2e069b9d",
        "colab": {
          "base_uri": "https://localhost:8080/"
        }
      },
      "outputs": [
        {
          "output_type": "execute_result",
          "data": {
            "text/plain": [
              "True"
            ]
          },
          "metadata": {},
          "execution_count": 42
        }
      ],
      "source": [
        "## e.g., cannot tell that the first sentence is more likely than the second.\n",
        "sentence_log_probability(unigram_probs, ['Sam', 'I', 'am']) == \\\n",
        "sentence_log_probability(unigram_probs, ['Sam', 'Sam', 'I'])"
      ]
    },
    {
      "cell_type": "markdown",
      "metadata": {
        "id": "gEkxRKp2Czsy"
      },
      "source": [
        "Really, we'd like a rich syntactic/semantic representation with probabilities assigned.  \n",
        "\n",
        "\n",
        "We'll get to more complex representations in the future, but for now, we can do better by at least modeling **n-grams**, instead of just unigrams."
      ]
    },
    {
      "cell_type": "markdown",
      "source": [
        "### Markov assumption"
      ],
      "metadata": {
        "id": "6vquS4VOFrPv"
      }
    },
    {
      "cell_type": "markdown",
      "metadata": {
        "id": "Mfl5nxrKCzsz"
      },
      "source": [
        "What is the probability of the $i$th word in a sentence, given all the previous words?\n",
        "$$ p(w_i  | w_1 w_2 \\ldots w_{i-1})?$$\n",
        "\n",
        "We will make an assumption that the $i$th word depends only on the previous $n$ words (**Markov** assumption):\n",
        "\n",
        "$$ p(w_i | w_1 w_2 \\ldots w_{i-1}) \\approx p(w_i | w_{i-1} w_{i-2} \\ldots w_{i-n}) $$\n",
        "\n",
        "e.g., 4-grams:\n",
        "\n",
        "$p($ \"flu\" $ | $ \"He is sick with the\" $ ) $ $\\approx p($\"flu\"$ | $ \"sick with the\" $)$\n",
        "\n",
        "$$ p(w_i | w_{i-1} w_{i-2} \\ldots w_{i-n}) = \\frac{C(w_{i-n}, \\ldots, w_{i-2} w_{i-1} w_i)}{C(w_{i-n} \\ldots w_{i-2} w_{i-1})} $$\n",
        "\n",
        "<br>\n",
        "Can estimate from data. E.g., search engines:\n",
        "\n",
        "= Num hits for [\"sick with the flu\"](https://www.google.com/search?q=%22i+am+sick+with+the+flu%22) / Num hits for [\"sick with the\"](https://www.google.com/search?q=%22i+am+sick+with+the%22)  \n",
        "$ \\approx 18,600 / 82,500 \\approx 0.23$\n",
        "\n",
        "<br><br>\n",
        "See also [Google's NGram corpus](https://books.google.com/ngrams/graph?content=sick+with+the+flu+%2F+sick+with+the&year_start=1800&year_end=2000&corpus=15&smoothing=3&share=&direct_url=t1%3B%2C%28sick%20with%20the%20flu%20/%20sick%20with%20the%29%3B%2Cc0)\n",
        "- Ngram statistics extracted from millions of books.\n",
        "\n",
        "\n"
      ]
    },
    {
      "cell_type": "markdown",
      "source": [
        "### N-gram model implementation"
      ],
      "metadata": {
        "id": "IeJKMCGKF5WU"
      }
    },
    {
      "cell_type": "markdown",
      "source": [
        "\n",
        "Let's start with a simpler example:\n",
        "\n",
        "\n",
        "```\n",
        "<s> I am Sam </s>  \n",
        "<s> Sam I am </s>  \n",
        "<s> I do not like green eggs and ham <s>\n",
        "```"
      ],
      "metadata": {
        "id": "Kep0uQEPF3FA"
      }
    },
    {
      "cell_type": "code",
      "execution_count": null,
      "metadata": {
        "id": "OtfnfhcICzsz",
        "outputId": "c0d73b98-437c-4732-f49b-436d1d92c44d",
        "colab": {
          "base_uri": "https://localhost:8080/"
        }
      },
      "outputs": [
        {
          "output_type": "execute_result",
          "data": {
            "text/plain": [
              "[['<s>', 'hi', 'there'],\n",
              " ['hi', 'there', 'how'],\n",
              " ['there', 'how', 'are'],\n",
              " ['how', 'are', 'you'],\n",
              " ['are', 'you', '</s>']]"
            ]
          },
          "metadata": {},
          "execution_count": 43
        }
      ],
      "source": [
        "def iter_ngrams(doc, n):\n",
        "    \"\"\"Return a generator over ngrams of a document.\n",
        "    Params:\n",
        "      doc...list of tokens\n",
        "      n.....size of ngrams\"\"\"\n",
        "    return (doc[i : i+n] for i in range(len(doc)-n+1))\n",
        "\n",
        "[ngram for ngram in\n",
        "           iter_ngrams(['<s>', 'hi', 'there', 'how', 'are', 'you', '</s>'], 3)]"
      ]
    },
    {
      "cell_type": "markdown",
      "metadata": {
        "id": "-RegH3vnCzs0"
      },
      "source": [
        "<br><br><br><br>\n",
        "\n",
        "**Implementation idea**: store ngram counts as a dict where\n",
        "- key is an ngram (a tuple of strings)\n",
        "- value is a Counter object of word counts\n",
        "\n",
        "```python\n",
        "{('I', 'am'): {'Sam': 2, 'Adam': 1},\n",
        " ('Sam', 'I'): {'am': 4, 'will': 1}\n",
        "}\n",
        "```\n",
        "e.g.,\n",
        "- \"I am Sam\" occurs twice; \"I am Adam\" occurs once\n",
        "- \"Sam I am\" occurs 4 times; \"Sam I will\" occurs once\n",
        "\n",
        "We will then normalize each of the Counters:\n",
        "\n",
        "\n",
        "```python\n",
        "{('I', 'am'): {'Sam': 2/3, 'Adam': 1/3},\n",
        " ('Sam', 'I'): {'am': 4/5, 'will': 1/5}\n",
        "}\n",
        "```\n",
        "Thus, we have $k$ multinomial distributions, where $k$ is the number of unique keys (ngrams)  \n",
        "$ p(w_i | w_{i-1} w_{i-2} \\ldots w_{i-n}) $ for $i=1 $ to $ k$\n",
        "\n",
        "\n",
        "**Implementation notes: defaultdict**\n"
      ]
    },
    {
      "cell_type": "code",
      "execution_count": null,
      "metadata": {
        "id": "5WNom7VJCzs0",
        "outputId": "c50e8431-bfac-4236-d635-9834b3e4fd17",
        "colab": {
          "base_uri": "https://localhost:8080/"
        }
      },
      "outputs": [
        {
          "output_type": "execute_result",
          "data": {
            "text/plain": [
              "10"
            ]
          },
          "metadata": {},
          "execution_count": 44
        }
      ],
      "source": [
        "mydict = {('a','b','c'): 10}\n",
        "mydict[('a', 'b', 'c')]\n",
        "# n.b. tuples but not lists can be key of a dict. Why??"
      ]
    },
    {
      "cell_type": "code",
      "execution_count": null,
      "metadata": {
        "id": "mAtG7H5YCzs1",
        "outputId": "6b545c8b-eaea-455f-8dd5-cbbd239572ea",
        "colab": {
          "base_uri": "https://localhost:8080/"
        }
      },
      "outputs": [
        {
          "output_type": "stream",
          "name": "stdout",
          "text": [
            "10\n",
            "100\n"
          ]
        }
      ],
      "source": [
        "from collections import defaultdict\n",
        "# dict with default values:\n",
        "mydict = defaultdict(lambda: 100)\n",
        "mydict['a'] = 10\n",
        "print(mydict['a'])\n",
        "print(mydict['b'])"
      ]
    },
    {
      "cell_type": "code",
      "execution_count": null,
      "metadata": {
        "id": "V_H4ypKLCzs1",
        "outputId": "8bbef279-3903-4e39-cbda-51aa98619b56",
        "colab": {
          "base_uri": "https://localhost:8080/"
        }
      },
      "outputs": [
        {
          "output_type": "execute_result",
          "data": {
            "text/plain": [
              "[('b', 2), ('a', 1)]"
            ]
          },
          "metadata": {},
          "execution_count": 46
        }
      ],
      "source": [
        "# sorting tuples\n",
        "sorted([('a', 1), ('b', 2)], key=lambda x: -x[1])"
      ]
    },
    {
      "cell_type": "code",
      "execution_count": null,
      "metadata": {
        "id": "r6EEvmSNCzs1",
        "outputId": "75a32dd0-f9e8-4e46-eaab-bb3e34f55daa",
        "colab": {
          "base_uri": "https://localhost:8080/"
        }
      },
      "outputs": [
        {
          "output_type": "stream",
          "name": "stdout",
          "text": [
            "counts=\n",
            " (('<s>', 'I'), Counter({'am': 1, 'do': 1}))\n",
            "(('I', 'am'), Counter({'Sam': 1, '</s>': 1}))\n",
            "(('am', 'Sam'), Counter({'</s>': 1}))\n",
            "(('<s>', 'Sam'), Counter({'I': 1}))\n",
            "(('Sam', 'I'), Counter({'am': 1}))\n",
            "(('I', 'do'), Counter({'not': 1}))\n",
            "(('do', 'not'), Counter({'like': 1}))\n",
            "(('not', 'like'), Counter({'green': 1}))\n",
            "(('like', 'green'), Counter({'eggs': 1}))\n",
            "(('green', 'eggs'), Counter({'and': 1}))\n",
            "(('eggs', 'and'), Counter({'ham': 1}))\n",
            "(('and', 'ham'), Counter({'</s>': 1}))\n"
          ]
        },
        {
          "output_type": "execute_result",
          "data": {
            "text/plain": [
              "defaultdict(<function __main__.estimate_ngram_probs.<locals>.<lambda>()>,\n",
              "            {('<s>', 'I'): {'am': 0.5, 'do': 0.5},\n",
              "             ('I', 'am'): {'Sam': 0.5, '</s>': 0.5},\n",
              "             ('am', 'Sam'): {'</s>': 1.0},\n",
              "             ('<s>', 'Sam'): {'I': 1.0},\n",
              "             ('Sam', 'I'): {'am': 1.0},\n",
              "             ('I', 'do'): {'not': 1.0},\n",
              "             ('do', 'not'): {'like': 1.0},\n",
              "             ('not', 'like'): {'green': 1.0},\n",
              "             ('like', 'green'): {'eggs': 1.0},\n",
              "             ('green', 'eggs'): {'and': 1.0},\n",
              "             ('eggs', 'and'): {'ham': 1.0},\n",
              "             ('and', 'ham'): {'</s>': 1.0}})"
            ]
          },
          "metadata": {},
          "execution_count": 47
        }
      ],
      "source": [
        "def estimate_ngram_probs(docs, n, verbose=True):\n",
        "    \"\"\"Compute p(w_i|w_i-1, w_i-2, ..., w_i-n), the probability of each ngram in this data.\n",
        "    = count(w_i-1, w_i-2, ..., w_i-n, w_i) / count(w_i-1, w_i-2, ..., w_i-n)\n",
        "\n",
        "    Params:\n",
        "      docs...list of strings\n",
        "      n......ngram size\"\"\"\n",
        "    # Count\n",
        "    counts = defaultdict(lambda: Counter())\n",
        "    for doc in docs:\n",
        "        for ngram in iter_ngrams(doc.split(), n):\n",
        "            counts[tuple(ngram[:-1])].update([ngram[-1]])\n",
        "\n",
        "    if verbose:\n",
        "        print('counts=\\n', '\\n'.join(str(i) for i in counts.items()))   # for debugging\n",
        "\n",
        "    # Normalize probabilities to sum to 1.0\n",
        "    for ngram, word_counts in counts.items():\n",
        "        total = sum(word_counts.values())\n",
        "        counts[ngram] = {word: count / total\n",
        "                         for word, count in word_counts.items()}\n",
        "    return counts\n",
        "\n",
        "sam_ngrams = estimate_ngram_probs(docs, 3)\n",
        "sam_ngrams"
      ]
    },
    {
      "cell_type": "code",
      "execution_count": null,
      "metadata": {
        "id": "jNGubyuuCzs2",
        "outputId": "319f3f71-2036-49b3-bf91-4a11a3ffe130",
        "colab": {
          "base_uri": "https://localhost:8080/"
        }
      },
      "outputs": [
        {
          "output_type": "stream",
          "name": "stdout",
          "text": [
            "counts=\n",
            " (('<s>',), Counter({'I': 2, 'Sam': 1}))\n",
            "(('I',), Counter({'am': 2, 'do': 1}))\n",
            "(('am',), Counter({'Sam': 1, '</s>': 1}))\n",
            "(('Sam',), Counter({'</s>': 1, 'I': 1}))\n",
            "(('do',), Counter({'not': 1}))\n",
            "(('not',), Counter({'like': 1}))\n",
            "(('like',), Counter({'green': 1}))\n",
            "(('green',), Counter({'eggs': 1}))\n",
            "(('eggs',), Counter({'and': 1}))\n",
            "(('and',), Counter({'ham': 1}))\n",
            "(('ham',), Counter({'</s>': 1}))\n"
          ]
        },
        {
          "output_type": "execute_result",
          "data": {
            "text/plain": [
              "defaultdict(<function __main__.estimate_ngram_probs.<locals>.<lambda>()>,\n",
              "            {('<s>',): {'I': 0.6666666666666666, 'Sam': 0.3333333333333333},\n",
              "             ('I',): {'am': 0.6666666666666666, 'do': 0.3333333333333333},\n",
              "             ('am',): {'Sam': 0.5, '</s>': 0.5},\n",
              "             ('Sam',): {'</s>': 0.5, 'I': 0.5},\n",
              "             ('do',): {'not': 1.0},\n",
              "             ('not',): {'like': 1.0},\n",
              "             ('like',): {'green': 1.0},\n",
              "             ('green',): {'eggs': 1.0},\n",
              "             ('eggs',): {'and': 1.0},\n",
              "             ('and',): {'ham': 1.0},\n",
              "             ('ham',): {'</s>': 1.0}})"
            ]
          },
          "metadata": {},
          "execution_count": 48
        }
      ],
      "source": [
        "estimate_ngram_probs(docs, 2)"
      ]
    },
    {
      "cell_type": "code",
      "execution_count": null,
      "metadata": {
        "id": "kmjBEx6wCzs2",
        "outputId": "3b9ed840-99cb-493b-b8cc-3e74500ea6a9",
        "colab": {
          "base_uri": "https://localhost:8080/"
        }
      },
      "outputs": [
        {
          "output_type": "execute_result",
          "data": {
            "text/plain": [
              "0.5"
            ]
          },
          "metadata": {},
          "execution_count": 49
        }
      ],
      "source": [
        "# Pr(Sam | \"I am\")\n",
        "sam_ngrams[('I', 'am')]['Sam']"
      ]
    },
    {
      "cell_type": "markdown",
      "source": [
        "### Probability of a sentence with n-grams"
      ],
      "metadata": {
        "id": "3LM5KSSAGl6N"
      }
    },
    {
      "cell_type": "markdown",
      "metadata": {
        "id": "fCUCiRWdCzs3"
      },
      "source": [
        "As before, we can compute the probability of a sentence by multiplying probabilities of all ngrams in the sentence.\n",
        "\n",
        "$$p(w_1 \\ldots w_m) = p(w_n|w_{n-1} \\ldots w_1) * p(w_{n+1}|w_{n} \\ldots w_2) * \\ldots * p(w_m|w_{m-1}\\ldots w_{m-n})$$\n",
        "\n",
        "e.g. for $n=2$\n",
        "\n",
        "$p($ &langle;s&rangle; Sam I am &langle;/s&rangle;$) = p($ Sam $\\mid $ &langle;s&rangle; $) * p($I $ \\mid $ Sam $) * p($ am $ \\mid $ I $) *  p($ &langle;/s&rangle; $ \\mid $ am $ ) $\n",
        "\n",
        "And equivalently in log space:\n",
        "\n",
        "$$\\log p(w_1 \\ldots w_m) = \\log p(w_n|w_{n-1} \\ldots w_1) + \\log p(w_{n+1}|w_{n} \\ldots w_2) + \\ldots + \\log p(w_m|w_{m-1} \\ldots w_{m-n})$$\n",
        "\n"
      ]
    },
    {
      "cell_type": "code",
      "execution_count": null,
      "metadata": {
        "id": "8eoet0ZtCzs3",
        "outputId": "b3bcafe7-78fa-4b18-bd53-85136b312f12",
        "colab": {
          "base_uri": "https://localhost:8080/"
        }
      },
      "outputs": [
        {
          "output_type": "execute_result",
          "data": {
            "text/plain": [
              "[['<s>', 'Sam', 'I'], ['Sam', 'I', 'am'], ['I', 'am', '<s>']]"
            ]
          },
          "metadata": {},
          "execution_count": 50
        }
      ],
      "source": [
        "[x for x in iter_ngrams(['<s>', 'Sam', 'I', 'am', '<s>'], 3)]"
      ]
    },
    {
      "cell_type": "code",
      "execution_count": null,
      "metadata": {
        "id": "oe18jxG0Czs4",
        "outputId": "07d6467a-fafd-4993-9338-1981379f2546",
        "colab": {
          "base_uri": "https://localhost:8080/"
        }
      },
      "outputs": [
        {
          "output_type": "stream",
          "name": "stdout",
          "text": [
            "Pr(I|['<s>', 'Sam'])=0\n",
            "Pr(am|['Sam', 'I'])=0\n",
            "Pr(</s>|['I', 'am'])=-0.30103\n"
          ]
        },
        {
          "output_type": "execute_result",
          "data": {
            "text/plain": [
              "-0.3010299956639812"
            ]
          },
          "metadata": {},
          "execution_count": 51
        }
      ],
      "source": [
        "def sentence_log_probability_ngrams(ngrams, sentence, n):\n",
        "    proba = 0\n",
        "    # loop through all ngrams\n",
        "    for ngram in iter_ngrams(sentence, n):\n",
        "        # e.g., ngram = ['Sam', 'I', 'am']\n",
        "        #      prefix = ['Sam', 'I']\n",
        "        #        word = 'am'f\n",
        "        prefix = ngram[:-1]\n",
        "        word = ngram[-1]\n",
        "        # P(wi | ngram)\n",
        "        this_prob = math.log10(ngrams[tuple(prefix)][word])\n",
        "        print('Pr(%s|%s)=%g' % (word, prefix, this_prob))\n",
        "        proba += this_prob\n",
        "    return proba\n",
        "\n",
        "sentence_log_probability_ngrams(sam_ngrams, ['<s>', 'Sam', 'I', 'am', '</s>'], 3)"
      ]
    },
    {
      "cell_type": "markdown",
      "source": [
        "<hr size=10 color=#285C4D>\n",
        "\n",
        "## Example: Modeling Donald Trump's Tweets"
      ],
      "metadata": {
        "id": "r8eb9WTyGvl1"
      }
    },
    {
      "cell_type": "markdown",
      "metadata": {
        "id": "zkJqIvIRCzs4"
      },
      "source": [
        "Let's download a sample of Donald Trump's tweets and fit an n-gram language model!"
      ]
    },
    {
      "cell_type": "code",
      "source": [
        "# download pre-processed data here.\n",
        "!wget \"https://github.com/tulane-cmps6730/main/raw/refs/heads/main/lec/language_models/tweets.txt\""
      ],
      "metadata": {
        "colab": {
          "base_uri": "https://localhost:8080/"
        },
        "id": "UaT_1gW2HEXh",
        "outputId": "e85c8b6a-3752-4dea-a1f5-8db6b4440434"
      },
      "execution_count": null,
      "outputs": [
        {
          "output_type": "stream",
          "name": "stdout",
          "text": [
            "--2025-04-24 15:19:04--  https://github.com/tulane-cmps6730/main/raw/refs/heads/main/lec/language_models/tweets.txt\n",
            "Resolving github.com (github.com)... 140.82.113.4\n",
            "Connecting to github.com (github.com)|140.82.113.4|:443... connected.\n",
            "HTTP request sent, awaiting response... 302 Found\n",
            "Location: https://raw.githubusercontent.com/tulane-cmps6730/main/refs/heads/main/lec/language_models/tweets.txt [following]\n",
            "--2025-04-24 15:19:05--  https://raw.githubusercontent.com/tulane-cmps6730/main/refs/heads/main/lec/language_models/tweets.txt\n",
            "Resolving raw.githubusercontent.com (raw.githubusercontent.com)... 185.199.108.133, 185.199.109.133, 185.199.110.133, ...\n",
            "Connecting to raw.githubusercontent.com (raw.githubusercontent.com)|185.199.108.133|:443... connected.\n",
            "HTTP request sent, awaiting response... 200 OK\n",
            "Length: 348408 (340K) [text/plain]\n",
            "Saving to: ‘tweets.txt.1’\n",
            "\n",
            "tweets.txt.1        100%[===================>] 340.24K  --.-KB/s    in 0.03s   \n",
            "\n",
            "2025-04-24 15:19:05 (12.6 MB/s) - ‘tweets.txt.1’ saved [348408/348408]\n",
            "\n"
          ]
        }
      ]
    },
    {
      "cell_type": "code",
      "execution_count": null,
      "metadata": {
        "id": "M1QOGAWwCzs4",
        "outputId": "dd9171c2-bf61-4cea-bdd0-b7220cce302e",
        "colab": {
          "base_uri": "https://localhost:8080/"
        }
      },
      "outputs": [
        {
          "output_type": "stream",
          "name": "stdout",
          "text": [
            "<s> busy week planned with a heavy focus on jobs and national security top executives coming in at 9 00 a m to talk manufacturing in america </s>\n",
            "<s> peaceful protests are a hallmark of our democracy even if i don t always agree i recognize the rights of people to express their views </s>\n",
            "<s> wow television ratings just out 31 million people watched the inauguration 11 million more than the very good ratings from 4 years ago </s>\n",
            "<s> watched protests yesterday but was under the impression that we just had an election why didn t these people vote celebs hurt cause badly </s>\n",
            "<s> had a great meeting at cia headquarters yesterday packed house paid great respect to wall long standing ovations amazing people win </s>\n",
            "<s> rt whitehouse do not allow anyone to tell you that it cannot be done no challenge can match the heart and fight and spirit of america </s>\n",
            "<s> a fantastic day and evening in washington d c thank you to foxnews and so many other news outlets for the great reviews of the speech </s>\n",
            "<s> thank you for another wonderful evening in washington d c together we will make america great again </s>\n",
            "<s> to all americans n </s>\n",
            "<s> so to all americans in every city near and far small and large from mountain to mountain </s>\n"
          ]
        }
      ],
      "source": [
        "!head tweets.txt"
      ]
    },
    {
      "cell_type": "code",
      "execution_count": null,
      "metadata": {
        "id": "uNshkdF8Czs4",
        "outputId": "d13bdce7-f883-4ac4-c4cf-d7e5ba4f0a4e",
        "colab": {
          "base_uri": "https://localhost:8080/"
        }
      },
      "outputs": [
        {
          "output_type": "stream",
          "name": "stdout",
          "text": [
            "read 3200 tweets from Donald J. Trump (@realDonaldTrump)\n",
            "<s> busy week planned with a heavy focus on jobs and national security top executives coming in at 9 00 a m to talk manufacturing in america </s>\n",
            "\n"
          ]
        }
      ],
      "source": [
        "trump_tweets = open('tweets.txt').readlines()\n",
        "print('read %d tweets from Donald J. Trump (@realDonaldTrump)' % len(trump_tweets))\n",
        "print(trump_tweets[0])"
      ]
    },
    {
      "cell_type": "code",
      "execution_count": null,
      "metadata": {
        "id": "goGUCAtiCzs5"
      },
      "outputs": [],
      "source": [
        "trump_ngrams = estimate_ngram_probs(trump_tweets, 3, verbose=False)"
      ]
    },
    {
      "cell_type": "code",
      "execution_count": null,
      "metadata": {
        "id": "BVCR3FmYCzs5",
        "outputId": "3e0abbf5-8415-44be-bbb3-95545e5a231a",
        "colab": {
          "base_uri": "https://localhost:8080/"
        }
      },
      "outputs": [
        {
          "output_type": "execute_result",
          "data": {
            "text/plain": [
              "[('so', 0.11764705882352941),\n",
              " ('fake', 0.058823529411764705),\n",
              " ('covering', 0.058823529411764705),\n",
              " ('protecting', 0.058823529411764705),\n",
              " ('going', 0.058823529411764705),\n",
              " ('against', 0.058823529411764705),\n",
              " ('fawning', 0.058823529411764705),\n",
              " ('spending', 0.058823529411764705),\n",
              " ('trying', 0.058823529411764705),\n",
              " ('unrelenting', 0.058823529411764705),\n",
              " ('very', 0.058823529411764705),\n",
              " ('talking', 0.058823529411764705),\n",
              " ('on', 0.058823529411764705),\n",
              " ('really', 0.058823529411764705),\n",
              " ('totally', 0.058823529411764705),\n",
              " ('corrupt', 0.058823529411764705)]"
            ]
          },
          "metadata": {},
          "execution_count": 56
        }
      ],
      "source": [
        "# What does Trump think about the media?\n",
        "sorted(trump_ngrams[('media', 'is')].items(), key=lambda x: -x[1])"
      ]
    },
    {
      "cell_type": "code",
      "execution_count": null,
      "metadata": {
        "id": "tWR5CKasCzs5",
        "outputId": "a84bea66-abb4-4fe5-83ae-e2257fdb0162",
        "colab": {
          "base_uri": "https://localhost:8080/"
        }
      },
      "outputs": [
        {
          "output_type": "execute_result",
          "data": {
            "text/plain": [
              "[('a', 0.10714285714285714),\n",
              " ('not', 0.10714285714285714),\n",
              " ('being', 0.07142857142857142),\n",
              " ('unfit', 0.07142857142857142),\n",
              " ('down', 0.03571428571428571),\n",
              " ('right', 0.03571428571428571),\n",
              " ('weak', 0.03571428571428571),\n",
              " ('out', 0.03571428571428571),\n",
              " ('the', 0.03571428571428571),\n",
              " ('taking', 0.03571428571428571),\n",
              " ('using', 0.03571428571428571),\n",
              " ('100', 0.03571428571428571),\n",
              " ('soft', 0.03571428571428571),\n",
              " ('bought', 0.03571428571428571),\n",
              " ('like', 0.03571428571428571),\n",
              " ('answering', 0.03571428571428571),\n",
              " ('guilty', 0.03571428571428571),\n",
              " ('trying', 0.03571428571428571),\n",
              " ('consulting', 0.03571428571428571),\n",
              " ('totally', 0.03571428571428571),\n",
              " ('spending', 0.03571428571428571),\n",
              " ('unqualified', 0.03571428571428571)]"
            ]
          },
          "metadata": {},
          "execution_count": 57
        }
      ],
      "source": [
        "# What does Trump think about the Hillary Clinton?\n",
        "sorted(trump_ngrams[('clinton', 'is')].items(), key=lambda x: -x[1])"
      ]
    },
    {
      "cell_type": "markdown",
      "source": [
        "<hr size=10 color=#285C4D>\n",
        "\n",
        "## Sampling from ngram language models\n"
      ],
      "metadata": {
        "id": "ppDb9kEJHW17"
      }
    },
    {
      "cell_type": "markdown",
      "metadata": {
        "id": "uQnAbS35Czs-"
      },
      "source": [
        "\n",
        "Given probabilities $p(w_i | w_{i-1} w_{i-2} \\ldots w_{i-n})$ $\\forall i$, how can we sample sentences?\n",
        "\n",
        "\n",
        "<br><br><br><br>\n",
        "1. Sample an ngram $(w_1\\ldots w_n)$ where $w_1 = $ &langle;s&rangle;\n",
        "2. Sample an additional word from $p(w_i | w_{i-1} w_{i-2} \\ldots w_{i-n})$\n",
        "3. Loop until sample &langle;/s&rangle;"
      ]
    },
    {
      "cell_type": "code",
      "execution_count": null,
      "metadata": {
        "id": "dQOoW3OwCzs-",
        "outputId": "186b699f-bbd1-460c-aaf9-d2d467d295e1",
        "colab": {
          "base_uri": "https://localhost:8080/"
        }
      },
      "outputs": [
        {
          "output_type": "execute_result",
          "data": {
            "text/plain": [
              "['a']"
            ]
          },
          "metadata": {},
          "execution_count": 58
        }
      ],
      "source": [
        "import random\n",
        "# Sampling uniformly from a list.\n",
        "random.sample(['a', 'b', 'c'], k=1)"
      ]
    },
    {
      "cell_type": "code",
      "execution_count": null,
      "metadata": {
        "id": "tLfcCFBLCzs-",
        "outputId": "257de130-2daa-4457-cfbb-4450989d0e13",
        "colab": {
          "base_uri": "https://localhost:8080/"
        }
      },
      "outputs": [
        {
          "output_type": "execute_result",
          "data": {
            "text/plain": [
              "array(['a', 'a', 'a', 'a', 'a', 'a', 'a', 'b', 'a', 'a'], dtype='<U1')"
            ]
          },
          "metadata": {},
          "execution_count": 59
        }
      ],
      "source": [
        "# Sampling from a multinomial distribution\n",
        "np.random.choice(['a', 'b', 'c'], size=10, p=[.7, .2, .1])"
      ]
    },
    {
      "cell_type": "markdown",
      "source": [
        "### Sample from our Trump language model"
      ],
      "metadata": {
        "id": "Ruo9psJOHgbK"
      }
    },
    {
      "cell_type": "code",
      "execution_count": null,
      "metadata": {
        "id": "cMbaVrChCzs_",
        "outputId": "1543dfc6-bf59-4d48-edf1-bbed33270c79",
        "colab": {
          "base_uri": "https://localhost:8080/"
        }
      },
      "outputs": [
        {
          "output_type": "stream",
          "name": "stdout",
          "text": [
            "<s> get out and vote i would love to call lyin hillary is getting more and more government spending debate bigleaguetruth </s>\n",
            "<s> top clinton foundation donor and partner via dailycaller blacksfortrump </s>\n",
            "<s> zhu_amy3 realdonaldtrump it s our last chance to draintheswamp bigleaguetruth debate </s>\n",
            "<s> valenti317 realdonaldtrump she s a choice between americanism and her corrupt globalism imwithyou </s>\n",
            "<s> thoughts and prayers </s>\n",
            "<s> from day one i said no way dumb </s>\n",
            "<s> houston tx n vegas nv 11a co 4p nm 7p </s>\n",
            "<s> intelligence agencies should never </s>\n",
            "<s> mike_pence congratulations to president obama for first 100 days in cleveland so proud of you this group knocked on 50k doors amp counting here\n",
            "<s> dem operative who oversaw trump rally in arizona on wednesday daytona amp jacksonville n ndaytona 3pm n 7pm n </s>\n",
            "<s> take a good relationship with russia no deals no loans no nothing </s>\n",
            "<s> katie couric the third rate reporter who has made along with that </s>\n",
            "<s> sad case usatoday did article saying i don t register the pulse of the amazing root family join me at 4pm trump2016 americafirst </s>\n",
            "<s> club for people to keep this horrible terrorism outside the united states </s>\n",
            "<s> pennyhicks13 carolde kisster1 foxnews your tax and economic plans are second to none media shld report </s>\n",
            "<s> lets go america time to draintheswamp </s>\n",
            "<s> rexnord of indiana is moving to mexico and the total mess our country we love you n americafirst rncincle n </s>\n",
            "<s> mika brzezinski dem criticism of comey reinforcing idea there s something there n </s>\n",
            "<s> mr khan who does not report that s a criminal and you re the only one with judgement so bad that such a thing\n",
            "<s> foxnews julian assange wrong i didn t have a corrupt political mess makeamericagreatagain </s>\n",
            "<s> based on total popular vote than the republicans picked cleveland instead of golfing too little too late </s>\n",
            "<s> melania and i will defeat them laughable here s trump aipac2016 in case anyone missed it </s>\n",
            "<s> anncoulter s new book by ericbolling is absolutely being rigged by the horrors we are going to tear it up to cnn for having\n",
            "<s> of course and media made it even better in the republican nomination at 9 00 p m </s>\n",
            "<s> annettejeanne i cried when they said you made winning majors look easy </s>\n",
            "<s> traceadkins great job under budget </s>\n",
            "<s> tweak626 i m elected president of the united states stay safe </s>\n",
            "<s> presidency two of our country both in times of peace amp war together we will beat the dems was so the highly overrated amp\n",
            "<s> lallyray poll donald trump is more than any in the first ballot so keep praying trumptrain trump2016 makeamericagreatagain </s>\n",
            "<s> cnbc time magazine drudge etc all 11 of them we are already live in waukesha wisconsin nfull transcript of economic plan will end illegal\n",
            "<s> coming up in the u s as a very good man help him and then they say what they are watching a leader that\n",
            "<s> brainykid2010 shl realdonaldtrump the only thing that can stop this corrupt machine is you the only person that hillary or bernie want to thank\n",
            "<s> throwbackthursday trump2016 n </s>\n",
            "<s> houston tx n vegas nv 11a co 4p nm 7p </s>\n",
            "<s> edgoeas thank you for joining me this afternoon wonderful crowds thank you arizona trump2016 </s>\n",
            "<s> anytime you see how badly the nytimes is doing a quick reminder that today is the new par 3 9th hole trump turnberry in\n",
            "<s> takingit_back nytimes keep shining the ppl will not forget </s>\n",
            "<s> things they did for jesse jackson in 1999 so i raised gave it was ok to devalue their currency making it so special </s>\n",
            "<s> rupert murdoch is a fact that i visited i would have won against me i had a great rally tonight we will make america\n",
            "<s> utahcaucus message from ivankatrump utcaucus n makeamericagreatagain </s>\n"
          ]
        }
      ],
      "source": [
        "# A simple TrumpBot\n",
        "import random\n",
        "\n",
        "def generate_sentences(ngrams, k):\n",
        "    \"\"\"Sample k sentences from given ngram model.\n",
        "    Params:\n",
        "      ngrams....ngram language model; a dict from ngram tuple to a dict\n",
        "      k.........number of sentences to sample\n",
        "    \"\"\"\n",
        "    # List of all ngrams that start with <s>\n",
        "    start_ngrams = [ngram for ngram in ngrams if ngram[0] == '<s>']\n",
        "    for i in range(k):  # sample k sentences.\n",
        "        # sample uniformly from all start ngrams.\n",
        "        ngram = random.sample(start_ngrams, 1)[0]\n",
        "        sentence = []\n",
        "        sentence.extend(ngram)\n",
        "        while sentence[-1] != '</s>' and len(sentence) < 25:  # while not at end of sentence.\n",
        "            # sample the next word\n",
        "            sampled_word = np.random.choice(list(ngrams[ngram].keys()),      # words\n",
        "                                            p=list(ngrams[ngram].values()),  # probabilities\n",
        "                                            size=1)[0]\n",
        "            sentence.append(sampled_word)\n",
        "            # update most recent ngram\n",
        "            ngram = tuple(list(ngram[1:]) + [sampled_word])\n",
        "        print(' '.join(sentence))\n",
        "\n",
        "generate_sentences(trump_ngrams, 40)"
      ]
    },
    {
      "cell_type": "markdown",
      "metadata": {
        "id": "6MCFKZtrCzs_"
      },
      "source": [
        "Bot or Human? (Trump Turing Test)  \n",
        "> mexico has lost so badly i will make america great again  \n",
        "> rupert murdoch is a failed spy afraid of being sued  \n",
        "> rupert murdoch is a small one pathetic  \n",
        "> karlrove is a borderless world where working people have no doubt  \n",
        "> democrats are in my life fakenews  \n",
        "> bill clinton and the build up of russian nukes not good  \n",
        "> of course there is nothing more than the very average scream\n"
      ]
    },
    {
      "cell_type": "markdown",
      "source": [
        "<hr size=10 color=#285C4D>\n",
        "\n",
        "## Smoothing"
      ],
      "metadata": {
        "id": "dS3r307HHoHZ"
      }
    },
    {
      "cell_type": "markdown",
      "metadata": {
        "id": "-BY-E9E8Czs_"
      },
      "source": [
        "**A problem with our approach so far...**\n",
        "\n",
        "```python\n",
        "sorted(trump_ngrams[('media', 'is')].items(), key=lambda x: -x[1])\n",
        "\n",
        "[('so', 0.11764705882352941),\n",
        " ('fake', 0.058823529411764705),\n",
        " ('covering', 0.058823529411764705),\n",
        " ('protecting', 0.058823529411764705),\n",
        " ('going', 0.058823529411764705),\n",
        " ('against', 0.058823529411764705),\n",
        " ('fawning', 0.058823529411764705),\n",
        " ('spending', 0.058823529411764705),\n",
        " ('trying', 0.058823529411764705),\n",
        " ('unrelenting', 0.058823529411764705),\n",
        " ('very', 0.058823529411764705),\n",
        " ('talking', 0.058823529411764705),\n",
        " ('on', 0.058823529411764705),\n",
        " ('really', 0.058823529411764705),\n",
        " ('totally', 0.058823529411764705),\n",
        " ('corrupt', 0.058823529411764705)]\n",
        "```\n",
        "\n",
        "What is\n",
        "$P($ \"terrible\" $ | $ \"media is\" $)$?\n",
        "\n",
        "<br><br><br>"
      ]
    },
    {
      "cell_type": "code",
      "execution_count": null,
      "metadata": {
        "id": "-FCMobxiCzs_",
        "outputId": "9f931670-956c-43a3-9209-03a3a9a38dc8",
        "colab": {
          "base_uri": "https://localhost:8080/"
        }
      },
      "outputs": [
        {
          "output_type": "stream",
          "name": "stdout",
          "text": [
            "Traceback (most recent call last):\n",
            "  File \"<ipython-input-61-1605c8e5d5cf>\", line 2, in <cell line: 0>\n",
            "    trump_ngrams[('media', 'is')]['terrible']\n",
            "    ~~~~~~~~~~~~~~~~~~~~~~~~~~~~~^^^^^^^^^^^^\n",
            "KeyError: 'terrible'\n",
            "\n"
          ]
        }
      ],
      "source": [
        "try:\n",
        "  trump_ngrams[('media', 'is')]['terrible']\n",
        "except Exception as e:\n",
        "  import traceback\n",
        "  print(traceback.format_exc())"
      ]
    },
    {
      "cell_type": "markdown",
      "source": [
        "### The problem with zero"
      ],
      "metadata": {
        "id": "NkcFeA-vI0Ei"
      }
    },
    {
      "cell_type": "markdown",
      "metadata": {
        "id": "KfXBgkwFCzs_"
      },
      "source": [
        "- Events that do not occur in the input data are assigned probability 0\n",
        "- We are underestimating events that we have not seen\n",
        "  - $P($\" terrible\" $ | $ \"media is\" $) > 0$\n",
        "- We assign zero probability to sentences that contain any 0 probability event\n",
        "  - $P($\"the media is terrible\"$) = 0$"
      ]
    },
    {
      "cell_type": "code",
      "execution_count": null,
      "metadata": {
        "id": "1JWFqqARCztA",
        "outputId": "efedd22d-4ef2-42f5-8099-4ff99610a76d",
        "colab": {
          "base_uri": "https://localhost:8080/"
        }
      },
      "outputs": [
        {
          "output_type": "stream",
          "name": "stdout",
          "text": [
            "Pr(media|['<s>', 'the'])=-1.18392\n",
            "Pr(is|['the', 'media'])=-0.544068\n",
            "Traceback (most recent call last):\n",
            "  File \"<ipython-input-62-659a28da32df>\", line 2, in <cell line: 0>\n",
            "    sentence_log_probability_ngrams(trump_ngrams, ['<s>', 'the', 'media', 'is', 'terrible', '</s>'], 3)\n",
            "  File \"<ipython-input-51-e449e8d0542f>\", line 11, in sentence_log_probability_ngrams\n",
            "    this_prob = math.log10(ngrams[tuple(prefix)][word])\n",
            "                           ~~~~~~~~~~~~~~~~~~~~~^^^^^^\n",
            "KeyError: 'terrible'\n",
            "\n"
          ]
        }
      ],
      "source": [
        "try:\n",
        "  sentence_log_probability_ngrams(trump_ngrams, ['<s>', 'the', 'media', 'is', 'terrible', '</s>'], 3)\n",
        "except Exception as e:\n",
        "  import traceback\n",
        "  print(traceback.format_exc())"
      ]
    },
    {
      "cell_type": "markdown",
      "source": [
        "### Smoothing n-grams"
      ],
      "metadata": {
        "id": "is4sid6XI9_E"
      }
    },
    {
      "cell_type": "markdown",
      "metadata": {
        "id": "D12jqNcACztA"
      },
      "source": [
        "- Reserve some probability mass for event we have not seen.\n",
        "\n",
        "- Let $V$ be the number of unique words in our vocabulary.\n",
        "\n",
        "- Recall unigram estimates:\n",
        "\n",
        "$$ p(w_i) = \\frac{C(w_i)}{T} $$\n",
        "  - $C(w_i)=$ number of times word $w_i$ appears in data\n",
        "  - $T=$ number of tokens in data\n",
        "  \n",
        "**Laplacian smoothing**\n",
        "\n",
        "- Add one to the numerator\n",
        "- Add $V$ to denominator to ensure probabilities sum to 1.\n",
        "- Equivalently: pretend we saw every word in the vocabulary one additional time each\n",
        "\n",
        "$$ p(w_i) = \\frac{C(w_i) + 1}{T + V} $$\n",
        "\n",
        "\n",
        "**Add-k smoothing**\n",
        "\n",
        "- More generally we can add a fraction to the numerator to control how much smoothing we want\n",
        "- typically $0 < k \\le 1$\n",
        "- Equivalently: pretend we saw every word in the vocabulary $k$ additional times.\n",
        "\n",
        "$$ p(w_i) = \\frac{C(w_i) + k}{T + kV} $$\n",
        "\n",
        "\n",
        "Similarly, we can smooth ngram estimates. E.g., bigrams:\n",
        "\n",
        "$$ p(w_i | w_{i-1}) = \\frac{C(w_{i-1}w_i) + k}{C(w_{i-1}) + kV}$$\n",
        "\n",
        "\n",
        "\n",
        "\n"
      ]
    },
    {
      "cell_type": "code",
      "execution_count": null,
      "metadata": {
        "id": "3DjM4dWjCztA",
        "outputId": "a7447a51-5ea2-4284-dd44-90f7ee17ba12",
        "colab": {
          "base_uri": "https://localhost:8080/"
        }
      },
      "outputs": [
        {
          "output_type": "execute_result",
          "data": {
            "text/plain": [
              "[('<s>', 0.125),\n",
              " ('I', 0.125),\n",
              " ('</s>', 0.125),\n",
              " ('am', 0.09375),\n",
              " ('Sam', 0.09375),\n",
              " ('do', 0.0625),\n",
              " ('not', 0.0625),\n",
              " ('like', 0.0625),\n",
              " ('green', 0.0625),\n",
              " ('eggs', 0.0625),\n",
              " ('and', 0.0625),\n",
              " ('ham', 0.0625)]"
            ]
          },
          "metadata": {},
          "execution_count": 63
        }
      ],
      "source": [
        "def estimate_unigram_probs_add_k(docs, k):\n",
        "    \"\"\"\n",
        "    Compute p(w), the add-k smoothed probability of each unigram in this data.\n",
        "    p(w) = (count(w) + k) / (total_num_tokens + total_num_types * k)\n",
        "    \"\"\"\n",
        "    counts = Counter()\n",
        "    for doc in docs:\n",
        "        tokens = doc.split()   # split sentence into words using spaces\n",
        "        counts.update(tokens)  # increments counts for all items in tokens\n",
        "    # Normalize so probabilities sum to 1.\n",
        "    total_tokens = sum(counts.values())\n",
        "    total_types = len(counts)\n",
        "    denom = total_tokens + k * total_types\n",
        "    return {token: (value + k) / denom for token, value in counts.items()}\n",
        "\n",
        "addk_unigram_probs = estimate_unigram_probs_add_k(docs, 1)\n",
        "# print in descending order.\n",
        "sorted(addk_unigram_probs.items(), key=lambda x: x[1], reverse=True)"
      ]
    },
    {
      "cell_type": "code",
      "execution_count": null,
      "metadata": {
        "id": "veTWxJiRCztB",
        "outputId": "8dd9c3d5-72fd-40c5-9fce-c11c6159b35f",
        "colab": {
          "base_uri": "https://localhost:8080/"
        }
      },
      "outputs": [
        {
          "output_type": "execute_result",
          "data": {
            "text/plain": [
              "[('<s>', 0.15),\n",
              " ('I', 0.15),\n",
              " ('</s>', 0.15),\n",
              " ('am', 0.1),\n",
              " ('Sam', 0.1),\n",
              " ('do', 0.05),\n",
              " ('not', 0.05),\n",
              " ('like', 0.05),\n",
              " ('green', 0.05),\n",
              " ('eggs', 0.05),\n",
              " ('and', 0.05),\n",
              " ('ham', 0.05)]"
            ]
          },
          "metadata": {},
          "execution_count": 64
        }
      ],
      "source": [
        "# compare to unsmoothed estimates\n",
        "sorted(unigram_probs.items(), key=lambda x: x[1], reverse=True)"
      ]
    },
    {
      "cell_type": "code",
      "execution_count": null,
      "metadata": {
        "id": "lXVdvBKjCztB",
        "outputId": "cfb28775-a659-4c23-886e-5719d3d7b34b",
        "colab": {
          "base_uri": "https://localhost:8080/",
          "height": 463
        }
      },
      "outputs": [
        {
          "output_type": "display_data",
          "data": {
            "text/plain": [
              "<Figure size 640x480 with 1 Axes>"
            ],
            "image/png": "[encoded data removed]"
          },
          "metadata": {}
        }
      ],
      "source": [
        "# How do probability estimates change as k increases?\n",
        "plt.figure()\n",
        "ks = [0, .01, .1, .5, .9, 1, 2, 5]\n",
        "i_probs = []\n",
        "ham_probs = []\n",
        "for k in ks:\n",
        "    probs = estimate_unigram_probs_add_k(docs, k)\n",
        "    i_probs.append(probs['I'])\n",
        "    ham_probs.append(probs['ham'])\n",
        "plt.plot(ks, i_probs, 'bo-', label='p(I)')\n",
        "plt.plot(ks, ham_probs, 'go-', label='p(ham)')\n",
        "plt.xlabel('k', size=20)\n",
        "plt.ylabel('probability', size=20)\n",
        "plt.legend(loc='best', fontsize=20)\n",
        "plt.show()"
      ]
    },
    {
      "cell_type": "markdown",
      "metadata": {
        "id": "BDeWOdgNCztB"
      },
      "source": [
        "- We can see that the probabilities get more \"smooth\"; i.e., closer together.\n",
        "- Smoothing \"steals\" probability mass from high probability events, and gives it to the low probability events\n",
        "\n",
        "![figs/robin.jpg](https://github.com/tulane-cmps6730/main/blob/main/lec/language_models/figs/robin.jpg?raw=1)\n"
      ]
    },
    {
      "cell_type": "markdown",
      "source": [
        "<hr size=10 color=#285C4D>\n",
        "\n",
        "## Interpolation"
      ],
      "metadata": {
        "id": "_GYiHTsBJMMe"
      }
    },
    {
      "cell_type": "markdown",
      "metadata": {
        "id": "YKLB_624CztB"
      },
      "source": [
        "**Problems with add-k smoothing**\n",
        "\n",
        "Adjustments are often too large\n",
        "  - rare events made too probable\n",
        "  - common events made too improbable\n",
        "  - For ngrams, wastes a lot of probability mass on nonsense ngrams\n",
        "    - E.g., for trigrams:\n",
        "    $$ p(w_i | w_{i-2} w_{i-1}) = \\frac{C(w_{i-2}w_{i-3}w_i) + k}{C(w_{i-2}w_{i-1}) + kV}$$\n",
        "\n",
        "    - Smoothing adds \"simulated\" counts for trigrams like \"walk the the\" and \"I am do\"\n",
        "    \n",
        "<br><br><br>"
      ]
    },
    {
      "cell_type": "markdown",
      "metadata": {
        "id": "M2LgIHucCztB"
      },
      "source": [
        "**Interpolation idea**\n",
        "\n",
        "- As ngram size increases, we observe fewer examples to estimate the probabilities\n",
        "- **Idea**: use a combination of smaller ngrams to estimate probabilities of larger ngrams\n",
        "\n",
        "$$\\hat{P}(w_i|w_{i-2}w_{i-1}) = \\lambda_1 P(w_i|w_{i-2}w_{i-1}) + \\lambda_2 P(w_i|w_{i-1}) + \\lambda_3 P(w_i)$$\n",
        "\n",
        "- $\\sum_i \\lambda_i = 1$\n",
        "- If trigram probability is 0, will still have nonzero probability for bigrams or unigrams\n",
        "- Assumes we have a **closed vocabulary** (i.e., we know of all possible unigrams)\n",
        "\n",
        "<br>\n",
        "\n",
        "- $\\lambda$'s determine relative weight of trigrams/bigrams/unigrams\n",
        "- Typically set with some held-out validation dataset.\n",
        "\n",
        "\n"
      ]
    },
    {
      "cell_type": "markdown",
      "metadata": {
        "id": "mfGPi5CMCztC"
      },
      "source": [
        "- Many other smoothing approaches exist.\n",
        "- In practice, smoothing most important for small datasets.\n",
        "- If you have access to web-scale data, rare events can often be estimated well without much smoothing."
      ]
    },
    {
      "cell_type": "markdown",
      "source": [
        "<hr size=10 color=#285C4D>\n",
        "\n",
        "## Summary"
      ],
      "metadata": {
        "id": "XcXe7l4cJYGw"
      }
    },
    {
      "cell_type": "markdown",
      "metadata": {
        "id": "TTTn4cs9CztC"
      },
      "source": [
        "- Given a sample of documents $D$, we can estimate probabilities of ngrams.\n",
        "- The probability of a sentence is then the product of the probabilities of the ngrams it contains.\n",
        "- Smoothing and interpolation are two ways of dealing with difficulties of estimating rare events from a finite sample."
      ]
    },
    {
      "cell_type": "markdown",
      "source": [
        "<hr size=10 color=#285C4D>\n",
        "\n",
        "## Group Task"
      ],
      "metadata": {
        "id": "cv7JcGdPQjfu"
      }
    },
    {
      "cell_type": "markdown",
      "source": [
        "We fit an n-gram model to Trump's tweets with this line above:\n",
        "\n",
        "```python\n",
        "trump_ngrams = estimate_ngram_probs(trump_tweets, 3, verbose=False)\n",
        "```\n",
        "\n",
        "Vary `n` from 1 to 5 and generate samples from each model.\n",
        "Which setting do you like the most? Why?\n",
        "\n",
        "Enter your text response in the corresponding exercise in Canvas."
      ],
      "metadata": {
        "id": "0Xde9nR0Qpmr"
      }
    },
    {
      "cell_type": "markdown",
      "metadata": {
        "id": "Z1jQhKweCztC"
      },
      "source": [
        "<hr size=10 color=#285C4D>\n",
        "\n",
        "\n",
        "## Image sources\n"
      ]
    },
    {
      "cell_type": "markdown",
      "source": [
        "\n",
        "- https://www.cs.colorado.edu/~martin/SLP/"
      ],
      "metadata": {
        "id": "eoyptW8kJebp"
      }
    }
  ],
  "metadata": {
    "kernelspec": {
      "display_name": "Python 3 (ipykernel)",
      "language": "python",
      "name": "python3"
    },
    "language_info": {
      "codemirror_mode": {
        "name": "ipython",
        "version": 3
      },
      "file_extension": ".py",
      "mimetype": "text/x-python",
      "name": "python",
      "nbconvert_exporter": "python",
      "pygments_lexer": "ipython3",
      "version": "3.11.5"
    },
    "colab": {
      "provenance": [],
      "collapsed_sections": [
        "UVHR1CIAEAXH",
        "eZ1Lj8DLEK0Z",
        "TIYyIHPQEVgG",
        "i__QoJJkEegf",
        "oWo1rmtgEoaI",
        "H2TcK45lE4rS",
        "vDxHufGmCzsw",
        "tVyFe8ocFcXE",
        "6vquS4VOFrPv",
        "dS3r307HHoHZ",
        "NkcFeA-vI0Ei",
        "_GYiHTsBJMMe",
        "XcXe7l4cJYGw",
        "cv7JcGdPQjfu",
        "Z1jQhKweCztC"
      ],
      "toc_visible": true
    }
  },
  "nbformat": 4,
  "nbformat_minor": 0
}