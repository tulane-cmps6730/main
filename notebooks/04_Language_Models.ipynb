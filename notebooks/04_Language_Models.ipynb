{
  "cells": [
    {
      "cell_type": "markdown",
      "source": [
        "![Tulane](https://github.com/tulane-cmps6730/main/blob/main/img/banner.png?raw=true)\n",
        "\n",
        "<center>\n",
        "\n",
        "<font size=\"+3\">Language Models</font>\n",
        "\n",
        "[Aron Culotta](https://cs.tulane.edu/~aculotta/)  \n",
        "[Tulane University](https://cs.tulane.edu/)\n",
        "\n",
        "<a href=\"http://colab.research.google.com/github/tulane-cmps6730/main/blob/main/notebooks/04_Language_Modles.ipynb\">\n",
        "        <img src=\"https://upload.wikimedia.org/wikipedia/commons/thumb/d/d0/Google_Colaboratory_SVG_Logo.svg/320px-Google_Colaboratory_SVG_Logo.svg.png\"  width=10%/></a>\n",
        "<a href=\"https://github.com/tulane-cmps6730/main/tree/main\">\n",
        "        <img src=\"https://upload.wikimedia.org/wikipedia/commons/thumb/c/c2/GitHub_Invertocat_Logo.svg/240px-GitHub_Invertocat_Logo.svg.png\" width=6%/></a>\n",
        "\n",
        "In this module, we'll learn about ways to model language as a sequence of tokens.\n",
        "\n",
        "</center>"
      ],
      "metadata": {
        "id": "nMb6dEMiCzsn"
      }
    },
    {
      "cell_type": "markdown",
      "source": [
        "<hr size=10 color=#285C4D>\n",
        "\n",
        "## Motivation"
      ],
      "metadata": {
        "id": "UVHR1CIAEAXH"
      }
    },
    {
      "cell_type": "markdown",
      "source": [
        "**Previously**\n",
        "\n",
        "- Overview of text classification and machine learning\n",
        "\n",
        "**This week**\n",
        "- How do we score one sentence as more likely than another?\n",
        "- Will use some probability:\n",
        "  - $P($\"I'm sorry Dave\"$) > P($ \"Sorry Dave I'm\" $)$\n",
        "- How can we model the probability of a sentence?\n",
        "\n",
        "<br><br><br>"
      ],
      "metadata": {
        "id": "bKSAYyETJ1xH"
      }
    },
    {
      "cell_type": "markdown",
      "metadata": {
        "id": "Z25MU8qOCzsr"
      },
      "source": [
        "\n",
        "- Why is it important to be able to score the probability of sentences?\n",
        "\n",
        "<br><br><br><br>\n",
        "\n",
        "Example: **Predictive text**\n",
        "\n",
        "![figs/predict.png](https://github.com/tulane-cmps6730/main/blob/main/lec/language_models/figs/predict.png?raw=1)\n",
        "\n",
        "![figs/unicorn.jpg](https://github.com/tulane-cmps6730/main/blob/main/lec/language_models/figs/unicorn.jpg?raw=1)\n",
        "\n",
        "![figs/now.jpg](https://github.com/tulane-cmps6730/main/blob/main/lec/language_models/figs/now.jpg?raw=1)\n",
        "\n",
        "\n",
        "<br><br><br>\n",
        "\n",
        "**Many other applications:**\n",
        "\n",
        "\n",
        "- Machine translation\n",
        "\n",
        "![tranl](https://github.com/tulane-cmps6730/main/blob/main/lec/language_models/figs/tranl.png?raw=1)\n",
        "\n",
        "> $P($ \"he briefed reporters on the main contents of the statement\" $) $ $ > $  \n",
        "> $P($ \"he briefed to reporters the main contents of the statement\" $)$\n",
        "\n",
        "<br><br><br>\n",
        "\n",
        "- Speech recognition\n",
        "\n",
        "> $P($ \"I am hungry\" $) $ $ > P($ \"Eye am hungry\" $)$\n",
        "\n",
        "<br><br><br>\n",
        "\n",
        "- Language generation\n",
        "\n",
        "![kingcake](https://github.com/tulane-cmps6730/main/blob/main/lec/language_models/figs/kingcake.png?raw=1)\n",
        "\n",
        "<br><br><br>\n",
        "\n",
        "**More generally:**\n",
        "\n",
        "- Due to the prevalence of ambiguity, we need a way to rank probable interpretations of a sentence\n",
        "- In the future, we'll look at probability of parses\n",
        "- Today, we'll start with a simpler task\n",
        "  - The probability of a sentence (word sequence).\n",
        "\n",
        "<br><br><br>"
      ]
    },
    {
      "cell_type": "markdown",
      "source": [
        "<hr size=10 color=#285C4D>\n",
        "\n",
        "## Probability of a sentence"
      ],
      "metadata": {
        "id": "eZ1Lj8DLEK0Z"
      }
    },
    {
      "cell_type": "markdown",
      "metadata": {
        "id": "8U3J0txaCzss"
      },
      "source": [
        "$p(w_1 \\ldots w_m)=$?\n",
        "\n",
        "E.g., $p($\"Sam I am.$\")=?$\n",
        "\n",
        "\n",
        "Given a large sample of sentences $D$, how can we estimate the probability of one particular sentence?\n",
        "\n",
        "<br><br>\n",
        "**Analogy**: Given a sample of $n$ people, how do we estimate $p($ brown eyes $)$?\n",
        "\n",
        "<br><br>\n",
        "$p($ brown eyes $)= \\#($brown eyes$) $ $ / $ $n$  \n",
        "= \"the fraction of all people that have brown eyes\"\n",
        "\n",
        "\n",
        "<br>\n",
        "So, returning to the above,\n",
        "\n",
        "$p($Sam I am.$)=$ the fraction of all sentences that equal \"Sam I am.\"\n",
        "\n",
        "**Why is this a bad idea?**\n",
        "\n",
        "<br><br><br><br>\n",
        "Most sentences occur only once.  \n",
        "$p(w_1 \\ldots w_m) \\approx \\frac{1}{n}$\n",
        "\n",
        "Any sentence not in $D$ will have probability 0.\n",
        "\n",
        "Instead, to make estimating these probabilities possible, we need to make assumptions. E.g.,\n",
        "\n"
      ]
    },
    {
      "cell_type": "markdown",
      "source": [
        "### Independence Assumption"
      ],
      "metadata": {
        "id": "TIYyIHPQEVgG"
      }
    },
    {
      "cell_type": "markdown",
      "source": [
        "Recall from probability: if $A$ and $B$ are independent events, then $P(A,B) = P(A) * P(B)$\n",
        "- E.g., P(\"It will rain tomorrow in Chicago\" AND \" My knee hurts today\") =  \n",
        "P(\"It will rain tomorrow in Chicago\") * P(\"My knee hurts today\")\n",
        "\n",
        "If we assume that each word in a sentence is an independent event then:\n",
        "\n",
        "$p(w_1 \\ldots w_m) \\approx p(w_1) * p(w_2) * \\ldots p(w_m)$\n",
        "\n",
        "(Decompose the joint probability of the words in a sentence into the product of individual word probabilities.)\n",
        "\n",
        "\n",
        "\n",
        "This is a bad assumption: **why?**\n",
        "<br><br><br><br>\n",
        "- \"San Francisco\", \"love you\", ...\n",
        "\n",
        "- we will return to this problem later today\n",
        "\n",
        "But first: how do we estimate the probability of a single word $p(w_i)$ given a dataset $D$?\n",
        "<br><br><br><br>"
      ],
      "metadata": {
        "id": "perOJFB6EUMr"
      }
    },
    {
      "cell_type": "markdown",
      "source": [
        "<hr size=10 color=#285C4D>\n",
        "\n",
        "\n",
        "## Estimating unigram probabilities\n"
      ],
      "metadata": {
        "id": "i__QoJJkEegf"
      }
    },
    {
      "cell_type": "markdown",
      "metadata": {
        "id": "KJ9Tnrp9Czss"
      },
      "source": [
        "\n",
        "**unigram:** a single word; or, a phrase of length 1.\n",
        "\n",
        "To estimate unigram probability from some dataset of text, just count the word frequency:\n",
        "\n",
        "$$ p(w_i) = \\frac{C(w_i)}{T} $$\n",
        "\n",
        "- $C(w_i)=$ number of times word $w_i$ appears in data\n",
        "- $T=$ number of tokens in data\n",
        "\n",
        "Recall definition of probability:\n",
        "- $0 \\le p(w_i) \\le 1$ $ \\forall i$\n",
        "- $\\sum_i p(w_i) = 1$\n",
        "\n",
        "This is an example of a **<font color=\"blue\">multinomial distribution</font>**:\n",
        "- A distribution over $n$ discrete events\n",
        "- In each trial, only one event can occur.\n",
        "- E.g., roll of an $n$-sided die.\n",
        "- Imagine a giant die with a word on each face. Each word is weighted by its probability. We can sample words by rolling the die.\n",
        "\n",
        "<br>\n",
        "\n",
        "```\n",
        "<s> I am Sam </s>  \n",
        "<s> Sam I am </s>  \n",
        "<s> I do not like green eggs and ham </s>\n",
        "```\n",
        "\n",
        "- $p($I$)$ $ = \\frac{3}{20} = 0.15$\n",
        "- $p($Sam$)$ $ = \\frac{2}{20} = 0.1$\n",
        "- ..."
      ]
    },
    {
      "cell_type": "markdown",
      "source": [
        "### Unigram implementation"
      ],
      "metadata": {
        "id": "oWo1rmtgEoaI"
      }
    },
    {
      "cell_type": "code",
      "execution_count": 14,
      "metadata": {
        "id": "uspwmnRTCzst",
        "outputId": "3d8401d4-d392-4393-aa2b-804e02e11bb0",
        "colab": {
          "base_uri": "https://localhost:8080/"
        }
      },
      "outputs": [
        {
          "output_type": "execute_result",
          "data": {
            "text/plain": [
              "Counter({'a': 3, 'b': 2, 'c': 1})"
            ]
          },
          "metadata": {},
          "execution_count": 14
        }
      ],
      "source": [
        "# common imports\n",
        "import matplotlib.pyplot as plt\n",
        "import numpy as np\n",
        "from numpy import array as npa\n",
        "import pandas as pd\n",
        "# Counter: an enhanced dict for counting\n",
        "# https://docs.python.org/3/library/collections.html\n",
        "from collections import Counter\n",
        "\n",
        "d = Counter()\n",
        "d.update(['a', 'b', 'c'])\n",
        "d.update(['a', 'a', 'b'])\n",
        "d"
      ]
    },
    {
      "cell_type": "code",
      "execution_count": 15,
      "metadata": {
        "id": "67JDqSnbCzst",
        "outputId": "a219fe2f-fc5b-4875-cf66-ceea3f9d8bcd",
        "colab": {
          "base_uri": "https://localhost:8080/"
        }
      },
      "outputs": [
        {
          "output_type": "stream",
          "name": "stdout",
          "text": [
            "counts= Counter({'<s>': 3, 'I': 3, '</s>': 3, 'am': 2, 'Sam': 2, 'do': 1, 'not': 1, 'like': 1, 'green': 1, 'eggs': 1, 'and': 1, 'ham': 1})\n"
          ]
        },
        {
          "output_type": "execute_result",
          "data": {
            "text/plain": [
              "[('<s>', 0.15),\n",
              " ('I', 0.15),\n",
              " ('</s>', 0.15),\n",
              " ('am', 0.1),\n",
              " ('Sam', 0.1),\n",
              " ('do', 0.05),\n",
              " ('not', 0.05),\n",
              " ('like', 0.05),\n",
              " ('green', 0.05),\n",
              " ('eggs', 0.05),\n",
              " ('and', 0.05),\n",
              " ('ham', 0.05)]"
            ]
          },
          "metadata": {},
          "execution_count": 15
        }
      ],
      "source": [
        "# Example of estimating unigram probabilities from a set of documents.\n",
        "\n",
        "docs = ['<s> I am Sam </s>',\n",
        "        '<s> Sam I am </s>',\n",
        "        '<s> I do not like green eggs and ham </s>']\n",
        "\n",
        "def estimate_unigram_probs(docs):\n",
        "    \"\"\"\n",
        "    Compute p(w), the probability of each unigram in this data.\n",
        "    p(w) = count(w) / total_num_tokens\n",
        "    \"\"\"\n",
        "    counts = Counter()\n",
        "    for doc in docs:\n",
        "        tokens = doc.split()   # split sentence into words using spaces\n",
        "        counts.update(tokens)  # increments counts for all items in tokens\n",
        "    print('counts=', counts)   # for debugging\n",
        "    # Normalize so probabilities sum to 1.\n",
        "    total_tokens = sum(counts.values())\n",
        "    return {token: value / total_tokens for\n",
        "                                        token, value in counts.items()}\n",
        "\n",
        "unigram_probs = estimate_unigram_probs(docs)\n",
        "# print in descending order.\n",
        "sorted(unigram_probs.items(), key=lambda x: x[1], reverse=True)"
      ]
    },
    {
      "cell_type": "markdown",
      "source": [
        "<hr size=10 color=#285C4D>\n",
        "\n",
        "## Probability of a sentence using unigram probabilities\n"
      ],
      "metadata": {
        "id": "H2TcK45lE4rS"
      }
    },
    {
      "cell_type": "markdown",
      "metadata": {
        "id": "x10MeOzZCzsu"
      },
      "source": [
        "\n",
        "Once we've estimated unigram probabilities, we can now compute the probability of a new sentence with $m$ words by the product of its unigram probabilities.\n",
        "\n",
        "$p(w_1 \\ldots w_m) \\approx p(w_1) * p(w_2) * \\ldots p(w_m)$\n",
        "\n",
        "(True because of our earlier independence assumption.)"
      ]
    },
    {
      "cell_type": "code",
      "execution_count": 16,
      "metadata": {
        "id": "KJE6TRgWCzsu",
        "outputId": "269fd361-5768-4531-9e6f-59f21da463b1",
        "colab": {
          "base_uri": "https://localhost:8080/"
        }
      },
      "outputs": [
        {
          "output_type": "execute_result",
          "data": {
            "text/plain": [
              "0.0015"
            ]
          },
          "metadata": {},
          "execution_count": 16
        }
      ],
      "source": [
        "def sentence_probability(unigrams, sentence):\n",
        "    proba = 1\n",
        "    for word in sentence:\n",
        "        proba *= unigrams[word]\n",
        "    return proba\n",
        "\n",
        "sentence_probability(unigram_probs, ['I', 'Sam', 'am'])"
      ]
    },
    {
      "cell_type": "code",
      "execution_count": 17,
      "metadata": {
        "id": "hUUCpQxCCzsv",
        "outputId": "972df15d-81c9-48fb-ea75-7601bdd81578",
        "colab": {
          "base_uri": "https://localhost:8080/"
        }
      },
      "outputs": [
        {
          "output_type": "execute_result",
          "data": {
            "text/plain": [
              "0.00225"
            ]
          },
          "metadata": {},
          "execution_count": 17
        }
      ],
      "source": [
        "sentence_probability(unigram_probs, ['Sam', 'I', 'I'])"
      ]
    },
    {
      "cell_type": "markdown",
      "metadata": {
        "id": "vDxHufGmCzsw"
      },
      "source": [
        "### What happens for very long sentences?"
      ]
    },
    {
      "cell_type": "code",
      "execution_count": 18,
      "metadata": {
        "id": "8u_CtNbOCzsw",
        "outputId": "37b1b89b-0944-40df-cbb9-701f7395709f",
        "colab": {
          "base_uri": "https://localhost:8080/"
        }
      },
      "outputs": [
        {
          "output_type": "execute_result",
          "data": {
            "text/plain": [
              "0.0"
            ]
          },
          "metadata": {},
          "execution_count": 18
        }
      ],
      "source": [
        "# A sentence with 1000 Sams\n",
        "sentence_probability(unigram_probs, ['Sam'] * 1000)"
      ]
    },
    {
      "cell_type": "markdown",
      "source": [
        "### To avoid underflow, use log probabilities\n"
      ],
      "metadata": {
        "id": "44k57eYXFHpq"
      }
    },
    {
      "cell_type": "markdown",
      "metadata": {
        "id": "lxVf-PODCzsw"
      },
      "source": [
        "\n",
        "\n",
        "$$p(w_1 \\ldots w_m) = p(w_1) * p(w_2) * \\ldots p(w_m) = \\prod_{i=1}^m p(w_i)$$\n",
        "\n",
        "$$\\log p(w_1 \\ldots w_m) = \\log \\left(p(w_1) * p(w_2) * \\ldots p(w_m)\\right) = \\sum_{i=1}^m \\log p(w_i)$$\n",
        "\n",
        "Product of probabilities become sum of log probabilities.\n",
        "\n"
      ]
    },
    {
      "cell_type": "code",
      "execution_count": 19,
      "metadata": {
        "id": "LQgONaPfCzsx",
        "outputId": "380408fe-7e31-4a81-a192-6deba1c2d00e",
        "colab": {
          "base_uri": "https://localhost:8080/"
        }
      },
      "outputs": [
        {
          "output_type": "execute_result",
          "data": {
            "text/plain": [
              "-2.8239087409443187"
            ]
          },
          "metadata": {},
          "execution_count": 19
        }
      ],
      "source": [
        "import math\n",
        "def sentence_log_probability(unigrams, sentence):\n",
        "    proba = 0\n",
        "    for word in sentence:\n",
        "        proba += math.log10(unigrams[word])\n",
        "    return proba\n",
        "\n",
        "sentence_log_probability(unigram_probs, ['Sam', 'am', 'I'])"
      ]
    },
    {
      "cell_type": "code",
      "execution_count": 20,
      "metadata": {
        "id": "ZNLP7ORZCzsx",
        "outputId": "70e7aead-c926-40e0-e0fd-93bd4fcba162",
        "colab": {
          "base_uri": "https://localhost:8080/",
          "height": 449
        }
      },
      "outputs": [
        {
          "output_type": "display_data",
          "data": {
            "text/plain": [
              "<Figure size 640x480 with 1 Axes>"
            ],
            "image/png": "[encoded data removed]"
          },
          "metadata": {}
        }
      ],
      "source": [
        "probas = (np.arange(100)+1)/100\n",
        "plt.figure()\n",
        "plt.plot(probas, np.log10(probas), 'b.')\n",
        "plt.xlabel('probability')\n",
        "plt.ylabel('log probability')\n",
        "plt.show()"
      ]
    },
    {
      "cell_type": "markdown",
      "source": [
        "**So, small probabilities result in large negative numbers**"
      ],
      "metadata": {
        "id": "e1DBRC8ECzsx"
      }
    },
    {
      "cell_type": "markdown",
      "source": [
        "<hr size=10 color=#285C4D>\n",
        "\n",
        "## N-gram Language Models\n"
      ],
      "metadata": {
        "id": "tVyFe8ocFcXE"
      }
    },
    {
      "cell_type": "markdown",
      "metadata": {
        "id": "9qSg77o6Czsy"
      },
      "source": [
        "\n",
        "$p(w_1 \\ldots w_m) \\approx p(w_1) * p(w_2) * \\ldots p(w_m)$\n",
        "\n",
        "\n",
        "Why is this a bad assumption?\n",
        "\n",
        "<br><br><br>\n",
        "Ignores all structure of language\n"
      ]
    },
    {
      "cell_type": "code",
      "execution_count": 21,
      "metadata": {
        "id": "Lhl16LU7Czsy",
        "outputId": "a8053034-6477-4bc6-db7e-741ae6b6520c",
        "colab": {
          "base_uri": "https://localhost:8080/"
        }
      },
      "outputs": [
        {
          "output_type": "execute_result",
          "data": {
            "text/plain": [
              "True"
            ]
          },
          "metadata": {},
          "execution_count": 21
        }
      ],
      "source": [
        "## e.g., cannot tell that the first sentence is more likely than the second.\n",
        "sentence_log_probability(unigram_probs, ['Sam', 'I', 'am']) == \\\n",
        "sentence_log_probability(unigram_probs, ['Sam', 'Sam', 'I'])"
      ]
    },
    {
      "cell_type": "markdown",
      "metadata": {
        "id": "gEkxRKp2Czsy"
      },
      "source": [
        "Really, we'd like a rich syntactic/semantic representation with probabilities assigned.  \n",
        "\n",
        "\n",
        "We'll get to more complex representations in the future, but for now, we can do better by at least modeling **n-grams**, instead of just unigrams."
      ]
    },
    {
      "cell_type": "markdown",
      "source": [
        "### Markov assumption"
      ],
      "metadata": {
        "id": "6vquS4VOFrPv"
      }
    },
    {
      "cell_type": "markdown",
      "metadata": {
        "id": "Mfl5nxrKCzsz"
      },
      "source": [
        "What is the probability of the $i$th word in a sentence, given all the previous words?\n",
        "$$ p(w_i  | w_1 w_2 \\ldots w_{i-1})?$$\n",
        "\n",
        "We will make an assumption that the $i$th word depends only on the previous $n$ words (**Markov** assumption):\n",
        "\n",
        "$$ p(w_i | w_1 w_2 \\ldots w_{i-1}) \\approx p(w_i | w_{i-1} w_{i-2} \\ldots w_{i-n}) $$\n",
        "\n",
        "e.g., 4-grams:\n",
        "\n",
        "$p($ \"flu\" $ | $ \"He is sick with the\" $ ) $ $\\approx p($\"flu\"$ | $ \"sick with the\" $)$\n",
        "\n",
        "$$ p(w_i | w_{i-1} w_{i-2} \\ldots w_{i-n}) = \\frac{C(w_{i-n}, \\ldots, w_{i-2} w_{i-1} w_i)}{C(w_{i-n} \\ldots w_{i-2} w_{i-1})} $$\n",
        "\n",
        "<br>\n",
        "Can estimate from data. E.g., search engines:\n",
        "\n",
        "= Num hits for [\"sick with the flu\"](https://www.google.com/search?q=%22i+am+sick+with+the+flu%22) / Num hits for [\"sick with the\"](https://www.google.com/search?q=%22i+am+sick+with+the%22)  \n",
        "$ \\approx 18,600 / 82,500 \\approx 0.23$\n",
        "\n",
        "<br><br>\n",
        "See also [Google's NGram corpus](https://books.google.com/ngrams/graph?content=sick+with+the+flu+%2F+sick+with+the&year_start=1800&year_end=2000&corpus=15&smoothing=3&share=&direct_url=t1%3B%2C%28sick%20with%20the%20flu%20/%20sick%20with%20the%29%3B%2Cc0)\n",
        "- Ngram statistics extracted from millions of books.\n",
        "\n",
        "\n"
      ]
    },
    {
      "cell_type": "markdown",
      "source": [
        "### N-gram model implementation"
      ],
      "metadata": {
        "id": "IeJKMCGKF5WU"
      }
    },
    {
      "cell_type": "markdown",
      "source": [
        "\n",
        "Let's start with a simpler example:\n",
        "\n",
        "\n",
        "```\n",
        "<s> I am Sam </s>  \n",
        "<s> Sam I am </s>  \n",
        "<s> I do not like green eggs and ham <s>\n",
        "```"
      ],
      "metadata": {
        "id": "Kep0uQEPF3FA"
      }
    },
    {
      "cell_type": "code",
      "execution_count": 22,
      "metadata": {
        "id": "OtfnfhcICzsz",
        "outputId": "35a40f76-030d-4448-e161-e7cb56b66987",
        "colab": {
          "base_uri": "https://localhost:8080/"
        }
      },
      "outputs": [
        {
          "output_type": "execute_result",
          "data": {
            "text/plain": [
              "[['<s>', 'hi', 'there'],\n",
              " ['hi', 'there', 'how'],\n",
              " ['there', 'how', 'are'],\n",
              " ['how', 'are', 'you'],\n",
              " ['are', 'you', '</s>']]"
            ]
          },
          "metadata": {},
          "execution_count": 22
        }
      ],
      "source": [
        "def iter_ngrams(doc, n):\n",
        "    \"\"\"Return a generator over ngrams of a document.\n",
        "    Params:\n",
        "      doc...list of tokens\n",
        "      n.....size of ngrams\"\"\"\n",
        "    return (doc[i : i+n] for i in range(len(doc)-n+1))\n",
        "\n",
        "[ngram for ngram in\n",
        "           iter_ngrams(['<s>', 'hi', 'there', 'how', 'are', 'you', '</s>'], 3)]"
      ]
    },
    {
      "cell_type": "markdown",
      "metadata": {
        "id": "-RegH3vnCzs0"
      },
      "source": [
        "<br><br><br><br>\n",
        "\n",
        "**Implementation idea**: store ngram counts as a dict where\n",
        "- key is an ngram (a tuple of strings)\n",
        "- value is a Counter object of word counts\n",
        "\n",
        "```python\n",
        "{('I', 'am'): {'Sam': 2, 'Adam': 1},\n",
        " ('Sam', 'I'): {'am': 4, 'will': 1}\n",
        "}\n",
        "```\n",
        "e.g.,\n",
        "- \"I am Sam\" occurs twice; \"I am Adam\" occurs once\n",
        "- \"Sam I am\" occurs 4 times; \"Sam I will\" occurs once\n",
        "\n",
        "We will then normalize each of the Counters:\n",
        "\n",
        "\n",
        "```python\n",
        "{('I', 'am'): {'Sam': 2/3, 'Adam': 1/3},\n",
        " ('Sam', 'I'): {'am': 4/5, 'will': 1/5}\n",
        "}\n",
        "```\n",
        "Thus, we have $k$ multinomial distributions, where $k$ is the number of unique keys (ngrams)  \n",
        "$ p(w_i | w_{i-1} w_{i-2} \\ldots w_{i-n}) $ for $i=1 $ to $ k$\n",
        "\n",
        "\n",
        "**Implementation notes: defaultdict**\n"
      ]
    },
    {
      "cell_type": "code",
      "execution_count": 23,
      "metadata": {
        "id": "5WNom7VJCzs0",
        "outputId": "80cd9d9e-523d-4b79-b185-bc25544cec1e",
        "colab": {
          "base_uri": "https://localhost:8080/"
        }
      },
      "outputs": [
        {
          "output_type": "execute_result",
          "data": {
            "text/plain": [
              "10"
            ]
          },
          "metadata": {},
          "execution_count": 23
        }
      ],
      "source": [
        "mydict = {('a','b','c'): 10}\n",
        "mydict[('a', 'b', 'c')]\n",
        "# n.b. tuples but not lists can be key of a dict. Why??"
      ]
    },
    {
      "cell_type": "code",
      "execution_count": 24,
      "metadata": {
        "id": "mAtG7H5YCzs1",
        "outputId": "92ed44a6-45f1-4845-a3a3-fa916a7242a7",
        "colab": {
          "base_uri": "https://localhost:8080/"
        }
      },
      "outputs": [
        {
          "output_type": "stream",
          "name": "stdout",
          "text": [
            "10\n",
            "100\n"
          ]
        }
      ],
      "source": [
        "from collections import defaultdict\n",
        "# dict with default values:\n",
        "mydict = defaultdict(lambda: 100)\n",
        "mydict['a'] = 10\n",
        "print(mydict['a'])\n",
        "print(mydict['b'])"
      ]
    },
    {
      "cell_type": "code",
      "execution_count": 25,
      "metadata": {
        "id": "V_H4ypKLCzs1",
        "outputId": "1fbf13dc-c078-4525-cb2a-913828e5e4f6",
        "colab": {
          "base_uri": "https://localhost:8080/"
        }
      },
      "outputs": [
        {
          "output_type": "execute_result",
          "data": {
            "text/plain": [
              "[('b', 2), ('a', 1)]"
            ]
          },
          "metadata": {},
          "execution_count": 25
        }
      ],
      "source": [
        "# sorting tuples\n",
        "sorted([('a', 1), ('b', 2)], key=lambda x: -x[1])"
      ]
    },
    {
      "cell_type": "code",
      "execution_count": 26,
      "metadata": {
        "id": "r6EEvmSNCzs1",
        "outputId": "56abc70c-ee3b-4485-cc58-246bd91cc869",
        "colab": {
          "base_uri": "https://localhost:8080/"
        }
      },
      "outputs": [
        {
          "output_type": "stream",
          "name": "stdout",
          "text": [
            "counts=\n",
            " (('<s>', 'I'), Counter({'am': 1, 'do': 1}))\n",
            "(('I', 'am'), Counter({'Sam': 1, '</s>': 1}))\n",
            "(('am', 'Sam'), Counter({'</s>': 1}))\n",
            "(('<s>', 'Sam'), Counter({'I': 1}))\n",
            "(('Sam', 'I'), Counter({'am': 1}))\n",
            "(('I', 'do'), Counter({'not': 1}))\n",
            "(('do', 'not'), Counter({'like': 1}))\n",
            "(('not', 'like'), Counter({'green': 1}))\n",
            "(('like', 'green'), Counter({'eggs': 1}))\n",
            "(('green', 'eggs'), Counter({'and': 1}))\n",
            "(('eggs', 'and'), Counter({'ham': 1}))\n",
            "(('and', 'ham'), Counter({'</s>': 1}))\n"
          ]
        },
        {
          "output_type": "execute_result",
          "data": {
            "text/plain": [
              "defaultdict(<function __main__.estimate_ngram_probs.<locals>.<lambda>()>,\n",
              "            {('<s>', 'I'): {'am': 0.5, 'do': 0.5},\n",
              "             ('I', 'am'): {'Sam': 0.5, '</s>': 0.5},\n",
              "             ('am', 'Sam'): {'</s>': 1.0},\n",
              "             ('<s>', 'Sam'): {'I': 1.0},\n",
              "             ('Sam', 'I'): {'am': 1.0},\n",
              "             ('I', 'do'): {'not': 1.0},\n",
              "             ('do', 'not'): {'like': 1.0},\n",
              "             ('not', 'like'): {'green': 1.0},\n",
              "             ('like', 'green'): {'eggs': 1.0},\n",
              "             ('green', 'eggs'): {'and': 1.0},\n",
              "             ('eggs', 'and'): {'ham': 1.0},\n",
              "             ('and', 'ham'): {'</s>': 1.0}})"
            ]
          },
          "metadata": {},
          "execution_count": 26
        }
      ],
      "source": [
        "def estimate_ngram_probs(docs, n, verbose=True):\n",
        "    \"\"\"Compute p(w_i|w_i-1, w_i-2, ..., w_i-n), the probability of each ngram in this data.\n",
        "    = count(w_i-1, w_i-2, ..., w_i-n, w_i) / count(w_i-1, w_i-2, ..., w_i-n)\n",
        "\n",
        "    Params:\n",
        "      docs...list of strings\n",
        "      n......ngram size\"\"\"\n",
        "    # Count\n",
        "    counts = defaultdict(lambda: Counter())\n",
        "    for doc in docs:\n",
        "        for ngram in iter_ngrams(doc.split(), n):\n",
        "            counts[tuple(ngram[:-1])].update([ngram[-1]])\n",
        "\n",
        "    if verbose:\n",
        "        print('counts=\\n', '\\n'.join(str(i) for i in counts.items()))   # for debugging\n",
        "\n",
        "    # Normalize probabilities to sum to 1.0\n",
        "    for ngram, word_counts in counts.items():\n",
        "        total = sum(word_counts.values())\n",
        "        counts[ngram] = {word: count / total\n",
        "                         for word, count in word_counts.items()}\n",
        "    return counts\n",
        "\n",
        "sam_ngrams = estimate_ngram_probs(docs, 3)\n",
        "sam_ngrams"
      ]
    },
    {
      "cell_type": "code",
      "execution_count": 27,
      "metadata": {
        "id": "jNGubyuuCzs2",
        "outputId": "4082e88a-6424-4aeb-b377-67d6baa30444",
        "colab": {
          "base_uri": "https://localhost:8080/"
        }
      },
      "outputs": [
        {
          "output_type": "stream",
          "name": "stdout",
          "text": [
            "counts=\n",
            " (('<s>',), Counter({'I': 2, 'Sam': 1}))\n",
            "(('I',), Counter({'am': 2, 'do': 1}))\n",
            "(('am',), Counter({'Sam': 1, '</s>': 1}))\n",
            "(('Sam',), Counter({'</s>': 1, 'I': 1}))\n",
            "(('do',), Counter({'not': 1}))\n",
            "(('not',), Counter({'like': 1}))\n",
            "(('like',), Counter({'green': 1}))\n",
            "(('green',), Counter({'eggs': 1}))\n",
            "(('eggs',), Counter({'and': 1}))\n",
            "(('and',), Counter({'ham': 1}))\n",
            "(('ham',), Counter({'</s>': 1}))\n"
          ]
        },
        {
          "output_type": "execute_result",
          "data": {
            "text/plain": [
              "defaultdict(<function __main__.estimate_ngram_probs.<locals>.<lambda>()>,\n",
              "            {('<s>',): {'I': 0.6666666666666666, 'Sam': 0.3333333333333333},\n",
              "             ('I',): {'am': 0.6666666666666666, 'do': 0.3333333333333333},\n",
              "             ('am',): {'Sam': 0.5, '</s>': 0.5},\n",
              "             ('Sam',): {'</s>': 0.5, 'I': 0.5},\n",
              "             ('do',): {'not': 1.0},\n",
              "             ('not',): {'like': 1.0},\n",
              "             ('like',): {'green': 1.0},\n",
              "             ('green',): {'eggs': 1.0},\n",
              "             ('eggs',): {'and': 1.0},\n",
              "             ('and',): {'ham': 1.0},\n",
              "             ('ham',): {'</s>': 1.0}})"
            ]
          },
          "metadata": {},
          "execution_count": 27
        }
      ],
      "source": [
        "estimate_ngram_probs(docs, 2)"
      ]
    },
    {
      "cell_type": "code",
      "execution_count": 28,
      "metadata": {
        "id": "kmjBEx6wCzs2",
        "outputId": "01ad6a39-9192-4d36-bbfd-9d1e36768237",
        "colab": {
          "base_uri": "https://localhost:8080/"
        }
      },
      "outputs": [
        {
          "output_type": "execute_result",
          "data": {
            "text/plain": [
              "0.5"
            ]
          },
          "metadata": {},
          "execution_count": 28
        }
      ],
      "source": [
        "# Pr(Sam | \"I am\")\n",
        "sam_ngrams[('I', 'am')]['Sam']"
      ]
    },
    {
      "cell_type": "markdown",
      "source": [
        "### Probability of a sentence with n-grams"
      ],
      "metadata": {
        "id": "3LM5KSSAGl6N"
      }
    },
    {
      "cell_type": "markdown",
      "metadata": {
        "id": "fCUCiRWdCzs3"
      },
      "source": [
        "As before, we can compute the probability of a sentence by multiplying probabilities of all ngrams in the sentence.\n",
        "\n",
        "$$p(w_1 \\ldots w_m) = p(w_n|w_{n-1} \\ldots w_1) * p(w_{n+1}|w_{n} \\ldots w_2) * \\ldots * p(w_m|w_{m-1}\\ldots w_{m-n})$$\n",
        "\n",
        "e.g. for $n=2$\n",
        "\n",
        "$p($ &langle;s&rangle; Sam I am &langle;/s&rangle;$) = p($ Sam $\\mid $ &langle;s&rangle; $) * p($I $ \\mid $ Sam $) * p($ am $ \\mid $ I $) *  p($ &langle;/s&rangle; $ \\mid $ am $ ) $\n",
        "\n",
        "And equivalently in log space:\n",
        "\n",
        "$$\\log p(w_1 \\ldots w_m) = \\log p(w_n|w_{n-1} \\ldots w_1) + \\log p(w_{n+1}|w_{n} \\ldots w_2) + \\ldots + \\log p(w_m|w_{m-1} \\ldots w_{m-n})$$\n",
        "\n"
      ]
    },
    {
      "cell_type": "code",
      "execution_count": 29,
      "metadata": {
        "id": "8eoet0ZtCzs3",
        "outputId": "86fdf52d-d21f-49df-9d59-e984f9043464",
        "colab": {
          "base_uri": "https://localhost:8080/"
        }
      },
      "outputs": [
        {
          "output_type": "execute_result",
          "data": {
            "text/plain": [
              "[['<s>', 'Sam', 'I'], ['Sam', 'I', 'am'], ['I', 'am', '<s>']]"
            ]
          },
          "metadata": {},
          "execution_count": 29
        }
      ],
      "source": [
        "[x for x in iter_ngrams(['<s>', 'Sam', 'I', 'am', '<s>'], 3)]"
      ]
    },
    {
      "cell_type": "code",
      "execution_count": 30,
      "metadata": {
        "id": "oe18jxG0Czs4",
        "outputId": "54ebb1f7-68fc-4720-922e-d9dbfa50f88a",
        "colab": {
          "base_uri": "https://localhost:8080/"
        }
      },
      "outputs": [
        {
          "output_type": "stream",
          "name": "stdout",
          "text": [
            "Pr(I|['<s>', 'Sam'])=0\n",
            "Pr(am|['Sam', 'I'])=0\n",
            "Pr(</s>|['I', 'am'])=-0.30103\n"
          ]
        },
        {
          "output_type": "execute_result",
          "data": {
            "text/plain": [
              "-0.3010299956639812"
            ]
          },
          "metadata": {},
          "execution_count": 30
        }
      ],
      "source": [
        "def sentence_log_probability_ngrams(ngrams, sentence, n):\n",
        "    proba = 0\n",
        "    # loop through all ngrams\n",
        "    for ngram in iter_ngrams(sentence, n):\n",
        "        # e.g., ngram = ['Sam', 'I', 'am']\n",
        "        #      prefix = ['Sam', 'I']\n",
        "        #        word = 'am'f\n",
        "        prefix = ngram[:-1]\n",
        "        word = ngram[-1]\n",
        "        # P(wi | ngram)\n",
        "        this_prob = math.log10(ngrams[tuple(prefix)][word])\n",
        "        print('Pr(%s|%s)=%g' % (word, prefix, this_prob))\n",
        "        proba += this_prob\n",
        "    return proba\n",
        "\n",
        "sentence_log_probability_ngrams(sam_ngrams, ['<s>', 'Sam', 'I', 'am', '</s>'], 3)"
      ]
    },
    {
      "cell_type": "markdown",
      "source": [
        "<hr size=10 color=#285C4D>\n",
        "\n",
        "## Example: Modeling Donald Trump's Tweets"
      ],
      "metadata": {
        "id": "r8eb9WTyGvl1"
      }
    },
    {
      "cell_type": "markdown",
      "metadata": {
        "id": "zkJqIvIRCzs4"
      },
      "source": [
        "Let's download a sample of Donald Trump's tweets and fit an n-gram language model!"
      ]
    },
    {
      "cell_type": "code",
      "source": [
        "# download pre-processed data here.\n",
        "!wget \"https://github.com/tulane-cmps6730/main/raw/refs/heads/main/lec/language_models/tweets.txt\""
      ],
      "metadata": {
        "colab": {
          "base_uri": "https://localhost:8080/"
        },
        "id": "UaT_1gW2HEXh",
        "outputId": "da0582c4-caeb-4c3f-9784-a734b84f0948"
      },
      "execution_count": 31,
      "outputs": [
        {
          "output_type": "stream",
          "name": "stdout",
          "text": [
            "--2024-10-14 13:03:51--  https://github.com/tulane-cmps6730/main/raw/refs/heads/main/lec/language_models/tweets.txt\n",
            "Resolving github.com (github.com)... 140.82.113.4\n",
            "Connecting to github.com (github.com)|140.82.113.4|:443... connected.\n",
            "HTTP request sent, awaiting response... 302 Found\n",
            "Location: https://raw.githubusercontent.com/tulane-cmps6730/main/refs/heads/main/lec/language_models/tweets.txt [following]\n",
            "--2024-10-14 13:03:51--  https://raw.githubusercontent.com/tulane-cmps6730/main/refs/heads/main/lec/language_models/tweets.txt\n",
            "Resolving raw.githubusercontent.com (raw.githubusercontent.com)... 185.199.111.133, 185.199.108.133, 185.199.109.133, ...\n",
            "Connecting to raw.githubusercontent.com (raw.githubusercontent.com)|185.199.111.133|:443... connected.\n",
            "HTTP request sent, awaiting response... 200 OK\n",
            "Length: 348408 (340K) [text/plain]\n",
            "Saving to: ‘tweets.txt.1’\n",
            "\n",
            "tweets.txt.1        100%[===================>] 340.24K  --.-KB/s    in 0.04s   \n",
            "\n",
            "2024-10-14 13:03:51 (9.14 MB/s) - ‘tweets.txt.1’ saved [348408/348408]\n",
            "\n"
          ]
        }
      ]
    },
    {
      "cell_type": "code",
      "execution_count": 32,
      "metadata": {
        "id": "M1QOGAWwCzs4",
        "outputId": "88a9069e-3077-4644-9331-05537407c1ed",
        "colab": {
          "base_uri": "https://localhost:8080/"
        }
      },
      "outputs": [
        {
          "output_type": "stream",
          "name": "stdout",
          "text": [
            "<s> busy week planned with a heavy focus on jobs and national security top executives coming in at 9 00 a m to talk manufacturing in america </s>\n",
            "<s> peaceful protests are a hallmark of our democracy even if i don t always agree i recognize the rights of people to express their views </s>\n",
            "<s> wow television ratings just out 31 million people watched the inauguration 11 million more than the very good ratings from 4 years ago </s>\n",
            "<s> watched protests yesterday but was under the impression that we just had an election why didn t these people vote celebs hurt cause badly </s>\n",
            "<s> had a great meeting at cia headquarters yesterday packed house paid great respect to wall long standing ovations amazing people win </s>\n",
            "<s> rt whitehouse do not allow anyone to tell you that it cannot be done no challenge can match the heart and fight and spirit of america </s>\n",
            "<s> a fantastic day and evening in washington d c thank you to foxnews and so many other news outlets for the great reviews of the speech </s>\n",
            "<s> thank you for another wonderful evening in washington d c together we will make america great again </s>\n",
            "<s> to all americans n </s>\n",
            "<s> so to all americans in every city near and far small and large from mountain to mountain </s>\n"
          ]
        }
      ],
      "source": [
        "!head tweets.txt"
      ]
    },
    {
      "cell_type": "code",
      "execution_count": 33,
      "metadata": {
        "id": "uNshkdF8Czs4",
        "outputId": "a63c44a0-c0c8-4e09-9a3e-283d9c308b68",
        "colab": {
          "base_uri": "https://localhost:8080/"
        }
      },
      "outputs": [
        {
          "output_type": "stream",
          "name": "stdout",
          "text": [
            "read 3200 tweets from Donald J. Trump (@realDonaldTrump)\n",
            "<s> busy week planned with a heavy focus on jobs and national security top executives coming in at 9 00 a m to talk manufacturing in america </s>\n",
            "\n"
          ]
        }
      ],
      "source": [
        "trump_tweets = open('tweets.txt').readlines()\n",
        "print('read %d tweets from Donald J. Trump (@realDonaldTrump)' % len(trump_tweets))\n",
        "print(trump_tweets[0])"
      ]
    },
    {
      "cell_type": "code",
      "execution_count": 34,
      "metadata": {
        "id": "goGUCAtiCzs5"
      },
      "outputs": [],
      "source": [
        "trump_ngrams = estimate_ngram_probs(trump_tweets, 3, verbose=False)"
      ]
    },
    {
      "cell_type": "code",
      "execution_count": 35,
      "metadata": {
        "id": "BVCR3FmYCzs5",
        "outputId": "39782559-603c-444b-edca-793d9d0ba636",
        "colab": {
          "base_uri": "https://localhost:8080/"
        }
      },
      "outputs": [
        {
          "output_type": "execute_result",
          "data": {
            "text/plain": [
              "[('so', 0.11764705882352941),\n",
              " ('fake', 0.058823529411764705),\n",
              " ('covering', 0.058823529411764705),\n",
              " ('protecting', 0.058823529411764705),\n",
              " ('going', 0.058823529411764705),\n",
              " ('against', 0.058823529411764705),\n",
              " ('fawning', 0.058823529411764705),\n",
              " ('spending', 0.058823529411764705),\n",
              " ('trying', 0.058823529411764705),\n",
              " ('unrelenting', 0.058823529411764705),\n",
              " ('very', 0.058823529411764705),\n",
              " ('talking', 0.058823529411764705),\n",
              " ('on', 0.058823529411764705),\n",
              " ('really', 0.058823529411764705),\n",
              " ('totally', 0.058823529411764705),\n",
              " ('corrupt', 0.058823529411764705)]"
            ]
          },
          "metadata": {},
          "execution_count": 35
        }
      ],
      "source": [
        "# What does Trump think about the media?\n",
        "sorted(trump_ngrams[('media', 'is')].items(), key=lambda x: -x[1])"
      ]
    },
    {
      "cell_type": "code",
      "execution_count": 36,
      "metadata": {
        "id": "tWR5CKasCzs5",
        "outputId": "11fe0a9e-b038-44fb-941c-9c3776503d37",
        "colab": {
          "base_uri": "https://localhost:8080/"
        }
      },
      "outputs": [
        {
          "output_type": "execute_result",
          "data": {
            "text/plain": [
              "[('a', 0.10714285714285714),\n",
              " ('not', 0.10714285714285714),\n",
              " ('being', 0.07142857142857142),\n",
              " ('unfit', 0.07142857142857142),\n",
              " ('down', 0.03571428571428571),\n",
              " ('right', 0.03571428571428571),\n",
              " ('weak', 0.03571428571428571),\n",
              " ('out', 0.03571428571428571),\n",
              " ('the', 0.03571428571428571),\n",
              " ('taking', 0.03571428571428571),\n",
              " ('using', 0.03571428571428571),\n",
              " ('100', 0.03571428571428571),\n",
              " ('soft', 0.03571428571428571),\n",
              " ('bought', 0.03571428571428571),\n",
              " ('like', 0.03571428571428571),\n",
              " ('answering', 0.03571428571428571),\n",
              " ('guilty', 0.03571428571428571),\n",
              " ('trying', 0.03571428571428571),\n",
              " ('consulting', 0.03571428571428571),\n",
              " ('totally', 0.03571428571428571),\n",
              " ('spending', 0.03571428571428571),\n",
              " ('unqualified', 0.03571428571428571)]"
            ]
          },
          "metadata": {},
          "execution_count": 36
        }
      ],
      "source": [
        "# What does Trump think about the Hillary Clinton?\n",
        "sorted(trump_ngrams[('clinton', 'is')].items(), key=lambda x: -x[1])"
      ]
    },
    {
      "cell_type": "markdown",
      "source": [
        "<hr size=10 color=#285C4D>\n",
        "\n",
        "## Sampling from ngram language models\n"
      ],
      "metadata": {
        "id": "ppDb9kEJHW17"
      }
    },
    {
      "cell_type": "markdown",
      "metadata": {
        "id": "uQnAbS35Czs-"
      },
      "source": [
        "\n",
        "Given probabilities $p(w_i | w_{i-1} w_{i-2} \\ldots w_{i-n})$ $\\forall i$, how can we sample sentences?\n",
        "\n",
        "\n",
        "<br><br><br><br>\n",
        "1. Sample an ngram $(w_1\\ldots w_n)$ where $w_1 = $ &langle;s&rangle;\n",
        "2. Sample an additional word from $p(w_i | w_{i-1} w_{i-2} \\ldots w_{i-n})$\n",
        "3. Loop until sample &langle;/s&rangle;"
      ]
    },
    {
      "cell_type": "code",
      "execution_count": 37,
      "metadata": {
        "id": "dQOoW3OwCzs-",
        "outputId": "51844438-0501-4749-a6c1-0cc7556bbcca",
        "colab": {
          "base_uri": "https://localhost:8080/"
        }
      },
      "outputs": [
        {
          "output_type": "execute_result",
          "data": {
            "text/plain": [
              "['a']"
            ]
          },
          "metadata": {},
          "execution_count": 37
        }
      ],
      "source": [
        "import random\n",
        "# Sampling uniformly from a list.\n",
        "random.sample(['a', 'b', 'c'], k=1)"
      ]
    },
    {
      "cell_type": "code",
      "execution_count": 38,
      "metadata": {
        "id": "tLfcCFBLCzs-",
        "outputId": "75fda9ea-e141-481b-f800-f00e39497049",
        "colab": {
          "base_uri": "https://localhost:8080/"
        }
      },
      "outputs": [
        {
          "output_type": "execute_result",
          "data": {
            "text/plain": [
              "array(['b', 'a', 'c', 'a', 'a', 'c', 'a', 'a', 'b', 'a'], dtype='<U1')"
            ]
          },
          "metadata": {},
          "execution_count": 38
        }
      ],
      "source": [
        "# Sampling from a multinomial distribution\n",
        "np.random.choice(['a', 'b', 'c'], size=10, p=[.7, .2, .1])"
      ]
    },
    {
      "cell_type": "markdown",
      "source": [
        "### Sample from our Trump language model"
      ],
      "metadata": {
        "id": "Ruo9psJOHgbK"
      }
    },
    {
      "cell_type": "code",
      "execution_count": 39,
      "metadata": {
        "id": "cMbaVrChCzs_",
        "outputId": "cda58e5a-e960-4f04-edef-b40b7fde68c1",
        "colab": {
          "base_uri": "https://localhost:8080/"
        }
      },
      "outputs": [
        {
          "output_type": "stream",
          "name": "stdout",
          "text": [
            "<s> makeamericaworkagain n trumppence16 maga ntickets </s>\n",
            "<s> andrebauer great job </s>\n",
            "<s> rudygiuliani one of my meeting with israeli prime minister theresa may in washington state by a very good man mike pence won big </s>\n",
            "<s> wpayton344 paulmanafort great interview with my various businesses </s>\n",
            "<s> shows how weak and open and let the bosses take your staff of bernie s exhausted he just wants to rip the guns out\n",
            "<s> amazingly with all that money spent on building the great state of kentucky for their hard work </s>\n",
            "<s> ler message for peotus realdonaldtrump s taxplan says smallbiz would benefit from lower tax rate </s>\n",
            "<s> nation s immigration speech is pandering to the people of indiana is moving to mexico and the beat down of a massive blow to\n",
            "<s> adhd_fa kudos to megynkelly and realdonaldtrump for potus amp also vote for hillary clinton wants to talk about hillary and dems in my opinion\n",
            "<s> little michael bloomberg ran again for everyone watch </s>\n",
            "<s> unbelievable </s>\n",
            "<s> scottwrasmussen donald trump the disrupter will air on foxnews at 7 30pm trump2016 ntickets </s>\n",
            "<s> inside bill clinton accuser juanita broaddrick relives brutal rapes n </s>\n",
            "<s> china has been owned by her bosses on wall street </s>\n",
            "<s> neilturner_ realdonaldtrump cruz amp rubio are scared of the tremendous cost and cost overruns of the house and senate committees to investigate top secret\n",
            "<s> nation s immigration and national security advisor cia director garners praise n </s>\n",
            "<s> about that those intelligence chiefs made a fortune for the fbi to unclassify clinton emails fbi documents n </s>\n",
            "<s> spartanmaker let me help you trumpophobes with math trump 10 3b 1 2m 74 equity 1 2m 858 233 s amp p 1314 5\n",
            "<s> meet the trumpocrats lifelong democrats breaking w party over hillary to support our people will have much less money amp wealth from the republican\n",
            "<s> shooting deaths of police officers are the 33 000 missing e mails very dangerous </s>\n",
            "<s> pocahontas bombed last night the big debate nice </s>\n",
            "<s> markgruber1960 megynkelly realdonaldtrump made me feel good to hear you both in a string wsj </s>\n",
            "<s> jmoschetti1363 johnatsrs1949 fbi must be tough </s>\n",
            "<s> looks like the bernie people will not be stopped and i will not take the oil build the wall </s>\n",
            "<s> state department bigleaguetruth </s>\n",
            "<s> herb_stamper jackoffjosh711 senfrankniceley foxnews wsj we are going to the usarmy thank you </s>\n",
            "<s> every on line polls i have spoken to many foreign leaders </s>\n",
            "<s> thank you reploubarletta n </s>\n",
            "<s> biggest story in the failing nytimes is just talking bull </s>\n",
            "<s> russians are playing cnn and msm is one of the ny times show an empty room hours before my speech on protecting america i\n",
            "<s> bluedogdemky cwaunion iowa_trump richardtrumka aflcio this is our national debt njanuary 2009 10 6 trillion naugust 2016 19 4 trillion </s>\n",
            "<s> tried watching saturday night live last night after returning from ohio and pennsylvania n makeamericagreatagain trump2016 n </s>\n",
            "<s> every on line polls i have thousands of great reviews amp will win n </s>\n",
            "<s> jojo2foxy trump is the nominee of one of the people because you know racism amp it will change false i am bringing back into\n",
            "<s> wesleyfelixpsi realdonaldtrump speaks from the dishonest and disgusting media </s>\n",
            "<s> djohnsonpga we are going to make america safe again for all americans i see you soon </s>\n",
            "<s> ron fournier clinton used secret server to protect her it s hard to make america great again </s>\n",
            "<s> based on her decision making ability zilch </s>\n",
            "<s> anna wintour came to my rally in albuquerque new mexico amazing crowd </s>\n",
            "<s> unless you catch hackers in the republican party can unify </s>\n"
          ]
        }
      ],
      "source": [
        "# A simple TrumpBot\n",
        "import random\n",
        "\n",
        "def generate_sentences(ngrams, k):\n",
        "    \"\"\"Sample k sentences from given ngram model.\n",
        "    Params:\n",
        "      ngrams....ngram language model; a dict from ngram tuple to a dict\n",
        "      k.........number of sentences to sample\n",
        "    \"\"\"\n",
        "    # List of all ngrams that start with <s>\n",
        "    start_ngrams = [ngram for ngram in ngrams if ngram[0] == '<s>']\n",
        "    for i in range(k):  # sample k sentences.\n",
        "        # sample uniformly from all start ngrams.\n",
        "        ngram = random.sample(start_ngrams, 1)[0]\n",
        "        sentence = []\n",
        "        sentence.extend(ngram)\n",
        "        while sentence[-1] != '</s>' and len(sentence) < 25:  # while not at end of sentence.\n",
        "            # sample the next word\n",
        "            sampled_word = np.random.choice(list(ngrams[ngram].keys()),      # words\n",
        "                                            p=list(ngrams[ngram].values()),  # probabilities\n",
        "                                            size=1)[0]\n",
        "            sentence.append(sampled_word)\n",
        "            # update most recent ngram\n",
        "            ngram = tuple(list(ngram[-1:]) + [sampled_word])\n",
        "        print(' '.join(sentence))\n",
        "\n",
        "generate_sentences(trump_ngrams, 40)"
      ]
    },
    {
      "cell_type": "markdown",
      "metadata": {
        "id": "6MCFKZtrCzs_"
      },
      "source": [
        "Bot or Human? (Trump Turing Test)  \n",
        "> mexico has lost so badly i will make america great again  \n",
        "> rupert murdoch is a failed spy afraid of being sued  \n",
        "> rupert murdoch is a small one pathetic  \n",
        "> karlrove is a borderless world where working people have no doubt  \n",
        "> democrats are in my life fakenews  \n",
        "> bill clinton and the build up of russian nukes not good  \n",
        "> of course there is nothing more than the very average scream\n"
      ]
    },
    {
      "cell_type": "markdown",
      "source": [
        "<hr size=10 color=#285C4D>\n",
        "\n",
        "## Smoothing"
      ],
      "metadata": {
        "id": "dS3r307HHoHZ"
      }
    },
    {
      "cell_type": "markdown",
      "metadata": {
        "id": "-BY-E9E8Czs_"
      },
      "source": [
        "**A problem with our approach so far...**\n",
        "\n",
        "```python\n",
        "sorted(trump_ngrams[('media', 'is')].items(), key=lambda x: -x[1])\n",
        "\n",
        "[('so', 0.11764705882352941),\n",
        " ('fake', 0.058823529411764705),\n",
        " ('covering', 0.058823529411764705),\n",
        " ('protecting', 0.058823529411764705),\n",
        " ('going', 0.058823529411764705),\n",
        " ('against', 0.058823529411764705),\n",
        " ('fawning', 0.058823529411764705),\n",
        " ('spending', 0.058823529411764705),\n",
        " ('trying', 0.058823529411764705),\n",
        " ('unrelenting', 0.058823529411764705),\n",
        " ('very', 0.058823529411764705),\n",
        " ('talking', 0.058823529411764705),\n",
        " ('on', 0.058823529411764705),\n",
        " ('really', 0.058823529411764705),\n",
        " ('totally', 0.058823529411764705),\n",
        " ('corrupt', 0.058823529411764705)]\n",
        "```\n",
        "\n",
        "What is\n",
        "$P($ \"terrible\" $ | $ \"media is\" $)$?\n",
        "\n",
        "<br><br><br>"
      ]
    },
    {
      "cell_type": "code",
      "execution_count": 44,
      "metadata": {
        "id": "-FCMobxiCzs_",
        "outputId": "a5912eb0-1c4f-4c6e-d591-5dddb708194f",
        "colab": {
          "base_uri": "https://localhost:8080/"
        }
      },
      "outputs": [
        {
          "output_type": "stream",
          "name": "stdout",
          "text": [
            "Traceback (most recent call last):\n",
            "  File \"<ipython-input-44-1605c8e5d5cf>\", line 2, in <cell line: 1>\n",
            "    trump_ngrams[('media', 'is')]['terrible']\n",
            "KeyError: 'terrible'\n",
            "\n"
          ]
        }
      ],
      "source": [
        "try:\n",
        "  trump_ngrams[('media', 'is')]['terrible']\n",
        "except Exception as e:\n",
        "  import traceback\n",
        "  print(traceback.format_exc())"
      ]
    },
    {
      "cell_type": "markdown",
      "source": [
        "### The problem with zero"
      ],
      "metadata": {
        "id": "NkcFeA-vI0Ei"
      }
    },
    {
      "cell_type": "markdown",
      "metadata": {
        "id": "KfXBgkwFCzs_"
      },
      "source": [
        "- Events that do not occur in the input data are assigned probability 0\n",
        "- We are underestimating events that we have not seen\n",
        "  - $P($\" terrible\" $ | $ \"media is\" $) > 0$\n",
        "- We assign zero probability to sentences that contain any 0 probability event\n",
        "  - $P($\"the media is terrible\"$) = 0$"
      ]
    },
    {
      "cell_type": "code",
      "execution_count": 45,
      "metadata": {
        "id": "1JWFqqARCztA",
        "outputId": "a1b1a264-fbe1-4283-fcc2-54a7fe2409a1",
        "colab": {
          "base_uri": "https://localhost:8080/"
        }
      },
      "outputs": [
        {
          "output_type": "stream",
          "name": "stdout",
          "text": [
            "Pr(media|['<s>', 'the'])=-1.18392\n",
            "Pr(is|['the', 'media'])=-0.544068\n",
            "Traceback (most recent call last):\n",
            "  File \"<ipython-input-45-659a28da32df>\", line 2, in <cell line: 1>\n",
            "    sentence_log_probability_ngrams(trump_ngrams, ['<s>', 'the', 'media', 'is', 'terrible', '</s>'], 3)\n",
            "  File \"<ipython-input-30-e449e8d0542f>\", line 11, in sentence_log_probability_ngrams\n",
            "    this_prob = math.log10(ngrams[tuple(prefix)][word])\n",
            "KeyError: 'terrible'\n",
            "\n"
          ]
        }
      ],
      "source": [
        "try:\n",
        "  sentence_log_probability_ngrams(trump_ngrams, ['<s>', 'the', 'media', 'is', 'terrible', '</s>'], 3)\n",
        "except Exception as e:\n",
        "  import traceback\n",
        "  print(traceback.format_exc())"
      ]
    },
    {
      "cell_type": "markdown",
      "source": [
        "### Smoothing n-grams"
      ],
      "metadata": {
        "id": "is4sid6XI9_E"
      }
    },
    {
      "cell_type": "markdown",
      "metadata": {
        "id": "D12jqNcACztA"
      },
      "source": [
        "- Reserve some probability mass for event we have not seen.\n",
        "\n",
        "- Let $V$ be the number of unique words in our vocabulary.\n",
        "\n",
        "- Recall unigram estimates:\n",
        "\n",
        "$$ p(w_i) = \\frac{C(w_i)}{T} $$\n",
        "  - $C(w_i)=$ number of times word $w_i$ appears in data\n",
        "  - $T=$ number of tokens in data\n",
        "  \n",
        "**Laplacian smoothing**\n",
        "\n",
        "- Add one to the numerator\n",
        "- Add $V$ to denominator to ensure probabilities sum to 1.\n",
        "- Equivalently: pretend we saw every word in the vocabulary one additional time each\n",
        "\n",
        "$$ p(w_i) = \\frac{C(w_i) + 1}{T + V} $$\n",
        "\n",
        "\n",
        "**Add-k smoothing**\n",
        "\n",
        "- More generally we can add a fraction to the numerator to control how much smoothing we want\n",
        "- typically $0 < k \\le 1$\n",
        "- Equivalently: pretend we saw every word in the vocabulary $k$ additional times.\n",
        "\n",
        "$$ p(w_i) = \\frac{C(w_i) + k}{T + kV} $$\n",
        "\n",
        "\n",
        "Similarly, we can smooth ngram estimates. E.g., bigrams:\n",
        "\n",
        "$$ p(w_i | w_{i-1}) = \\frac{C(w_{i-1}w_i) + k}{C(w_{i-1}) + kV}$$\n",
        "\n",
        "\n",
        "\n",
        "\n"
      ]
    },
    {
      "cell_type": "code",
      "execution_count": null,
      "metadata": {
        "id": "3DjM4dWjCztA",
        "outputId": "9380b7ed-6f36-485d-a7f2-4588d32b43fe"
      },
      "outputs": [
        {
          "data": {
            "text/plain": [
              "[('<s>', 0.125),\n",
              " ('I', 0.125),\n",
              " ('</s>', 0.125),\n",
              " ('am', 0.09375),\n",
              " ('Sam', 0.09375),\n",
              " ('do', 0.0625),\n",
              " ('not', 0.0625),\n",
              " ('like', 0.0625),\n",
              " ('green', 0.0625),\n",
              " ('eggs', 0.0625),\n",
              " ('and', 0.0625),\n",
              " ('ham', 0.0625)]"
            ]
          },
          "execution_count": 49,
          "metadata": {},
          "output_type": "execute_result"
        }
      ],
      "source": [
        "def estimate_unigram_probs_add_k(docs, k):\n",
        "    \"\"\"\n",
        "    Compute p(w), the add-k smoothed probability of each unigram in this data.\n",
        "    p(w) = (count(w) + k) / (total_num_tokens + total_num_types * k)\n",
        "    \"\"\"\n",
        "    counts = Counter()\n",
        "    for doc in docs:\n",
        "        tokens = doc.split()   # split sentence into words using spaces\n",
        "        counts.update(tokens)  # increments counts for all items in tokens\n",
        "    # Normalize so probabilities sum to 1.\n",
        "    total_tokens = sum(counts.values())\n",
        "    total_types = len(counts)\n",
        "    denom = total_tokens + k * total_types\n",
        "    return {token: (value + k) / denom for token, value in counts.items()}\n",
        "\n",
        "addk_unigram_probs = estimate_unigram_probs_add_k(docs, 1)\n",
        "# print in descending order.\n",
        "sorted(addk_unigram_probs.items(), key=lambda x: x[1], reverse=True)"
      ]
    },
    {
      "cell_type": "code",
      "execution_count": null,
      "metadata": {
        "id": "veTWxJiRCztB",
        "outputId": "fe0a3735-edaa-44fe-ad87-31714cb50748"
      },
      "outputs": [
        {
          "data": {
            "text/plain": [
              "[('<s>', 0.15),\n",
              " ('I', 0.15),\n",
              " ('</s>', 0.15),\n",
              " ('am', 0.1),\n",
              " ('Sam', 0.1),\n",
              " ('do', 0.05),\n",
              " ('not', 0.05),\n",
              " ('like', 0.05),\n",
              " ('green', 0.05),\n",
              " ('eggs', 0.05),\n",
              " ('and', 0.05),\n",
              " ('ham', 0.05)]"
            ]
          },
          "execution_count": 52,
          "metadata": {},
          "output_type": "execute_result"
        }
      ],
      "source": [
        "# compare to unsmoothed estimates\n",
        "sorted(unigram_probs.items(), key=lambda x: x[1], reverse=True)"
      ]
    },
    {
      "cell_type": "code",
      "execution_count": null,
      "metadata": {
        "id": "lXVdvBKjCztB",
        "outputId": "10b78e20-c87e-4a56-e33e-12c6a2abcc64"
      },
      "outputs": [
        {
          "data": {
            "image/png": "[encoded data removed]",
            "text/plain": [
              "<Figure size 1200x600 with 1 Axes>"
            ]
          },
          "metadata": {},
          "output_type": "display_data"
        }
      ],
      "source": [
        "# How do probability estimates change as k increases?\n",
        "plt.figure()\n",
        "ks = [0, .01, .1, .5, .9, 1, 2, 5]\n",
        "i_probs = []\n",
        "ham_probs = []\n",
        "for k in ks:\n",
        "    probs = estimate_unigram_probs_add_k(docs, k)\n",
        "    i_probs.append(probs['I'])\n",
        "    ham_probs.append(probs['ham'])\n",
        "plt.plot(ks, i_probs, 'bo-', label='p(I)')\n",
        "plt.plot(ks, ham_probs, 'go-', label='p(ham)')\n",
        "plt.xlabel('k', size=20)\n",
        "plt.ylabel('probability', size=20)\n",
        "plt.legend(loc='best', fontsize=20)\n",
        "plt.show()"
      ]
    },
    {
      "cell_type": "markdown",
      "metadata": {
        "id": "BDeWOdgNCztB"
      },
      "source": [
        "- We can see that the probabilities get more \"smooth\"; i.e., closer together.\n",
        "- Smoothing \"steals\" probability mass from high probability events, and gives it to the low probability events\n",
        "\n",
        "![figs/robin.jpg](https://github.com/tulane-cmps6730/main/blob/main/lec/language_models/figs/robin.jpg?raw=1)\n"
      ]
    },
    {
      "cell_type": "markdown",
      "source": [
        "<hr size=10 color=#285C4D>\n",
        "\n",
        "## Interpolation"
      ],
      "metadata": {
        "id": "_GYiHTsBJMMe"
      }
    },
    {
      "cell_type": "markdown",
      "metadata": {
        "id": "YKLB_624CztB"
      },
      "source": [
        "**Problems with add-k smoothing**\n",
        "\n",
        "Adjustments are often too large\n",
        "  - rare events made too probable\n",
        "  - common events made too improbable\n",
        "  - For ngrams, wastes a lot of probability mass on nonsense ngrams\n",
        "    - E.g., for trigrams:\n",
        "    $$ p(w_i | w_{i-2} w_{i-1}) = \\frac{C(w_{i-2}w_{i-3}w_i) + k}{C(w_{i-2}w_{i-1}) + kV}$$\n",
        "\n",
        "    - Smoothing adds \"simulated\" counts for trigrams like \"walk the the\" and \"I am do\"\n",
        "    \n",
        "<br><br><br>"
      ]
    },
    {
      "cell_type": "markdown",
      "metadata": {
        "id": "M2LgIHucCztB"
      },
      "source": [
        "**Interpolation idea**\n",
        "\n",
        "- As ngram size increases, we observe fewer examples to estimate the probabilities\n",
        "- **Idea**: use a combination of smaller ngrams to estimate probabilities of larger ngrams\n",
        "\n",
        "$$\\hat{P}(w_i|w_{i-2}w_{i-1}) = \\lambda_1 P(w_i|w_{i-2}w_{i-1}) + \\lambda_2 P(w_i|w_{i-1}) + \\lambda_3 P(w_i)$$\n",
        "\n",
        "- $\\sum_i \\lambda_i = 1$\n",
        "- If trigram probability is 0, will still have nonzero probability for bigrams or unigrams\n",
        "- Assumes we have a **closed vocabulary** (i.e., we know of all possible unigrams)\n",
        "\n",
        "<br>\n",
        "\n",
        "- $\\lambda$'s determine relative weight of trigrams/bigrams/unigrams\n",
        "- Typically set with some held-out validation dataset.\n",
        "\n",
        "\n"
      ]
    },
    {
      "cell_type": "markdown",
      "metadata": {
        "id": "mfGPi5CMCztC"
      },
      "source": [
        "- Many other smoothing approaches exist.\n",
        "- In practice, smoothing most important for small datasets.\n",
        "- If you have access to web-scale data, rare events can often be estimated well without much smoothing."
      ]
    },
    {
      "cell_type": "markdown",
      "source": [
        "<hr size=10 color=#285C4D>\n",
        "\n",
        "## Summary"
      ],
      "metadata": {
        "id": "XcXe7l4cJYGw"
      }
    },
    {
      "cell_type": "markdown",
      "metadata": {
        "id": "TTTn4cs9CztC"
      },
      "source": [
        "- Given a sample of documents $D$, we can estimate probabilities of ngrams.\n",
        "- The probability of a sentence is then the product of the probabilities of the ngrams it contains.\n",
        "- Smoothing and interpolation are two ways of dealing with difficulties of estimating rare events from a finite sample."
      ]
    },
    {
      "cell_type": "markdown",
      "source": [
        "<hr size=10 color=#285C4D>\n",
        "\n",
        "## Group Task"
      ],
      "metadata": {
        "id": "cv7JcGdPQjfu"
      }
    },
    {
      "cell_type": "markdown",
      "source": [
        "We fit an n-gram model to Trump's tweets with this line above:\n",
        "\n",
        "```python\n",
        "trump_ngrams = estimate_ngram_probs(trump_tweets, 3, verbose=False)\n",
        "```\n",
        "\n",
        "Vary `n` from 1 to 5 and generate samples from each model.\n",
        "Which setting do you like the most? Why?\n",
        "\n",
        "Enter your text response in the corresponding exercise in Canvas."
      ],
      "metadata": {
        "id": "0Xde9nR0Qpmr"
      }
    },
    {
      "cell_type": "markdown",
      "metadata": {
        "id": "Z1jQhKweCztC"
      },
      "source": [
        "<hr size=10 color=#285C4D>\n",
        "\n",
        "\n",
        "## Image sources\n"
      ]
    },
    {
      "cell_type": "markdown",
      "source": [
        "\n",
        "- https://www.cs.colorado.edu/~martin/SLP/"
      ],
      "metadata": {
        "id": "eoyptW8kJebp"
      }
    }
  ],
  "metadata": {
    "kernelspec": {
      "display_name": "Python 3 (ipykernel)",
      "language": "python",
      "name": "python3"
    },
    "language_info": {
      "codemirror_mode": {
        "name": "ipython",
        "version": 3
      },
      "file_extension": ".py",
      "mimetype": "text/x-python",
      "name": "python",
      "nbconvert_exporter": "python",
      "pygments_lexer": "ipython3",
      "version": "3.11.5"
    },
    "colab": {
      "provenance": [],
      "collapsed_sections": [
        "UVHR1CIAEAXH",
        "eZ1Lj8DLEK0Z",
        "TIYyIHPQEVgG",
        "i__QoJJkEegf",
        "oWo1rmtgEoaI",
        "H2TcK45lE4rS",
        "vDxHufGmCzsw",
        "tVyFe8ocFcXE",
        "6vquS4VOFrPv",
        "r8eb9WTyGvl1",
        "ppDb9kEJHW17",
        "dS3r307HHoHZ",
        "NkcFeA-vI0Ei",
        "_GYiHTsBJMMe",
        "XcXe7l4cJYGw",
        "cv7JcGdPQjfu",
        "Z1jQhKweCztC"
      ],
      "toc_visible": true
    }
  },
  "nbformat": 4,
  "nbformat_minor": 0
}