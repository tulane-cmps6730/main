{
  "cells": [
    {
      "cell_type": "markdown",
      "source": [
        "![Tulane](https://upload.wikimedia.org/wikipedia/en/7/7e/Tulane_logo.svg)\n",
        "\n",
        "# CMPS 6730: Natural Language Processing\n",
        "\n",
        "**Overview**  \n",
        "\n",
        "[Aron Culotta](https://cs.tulane.edu/~aculotta/)  \n",
        "[Tulane University](https://cs.tulane.edu/)\n",
        "\n",
        "<a href=\"http://colab.research.google.com/github/tulane-cmps6730/main/blob/main/notebooks/01_Overview.ipynb\">\n",
        "        <img src=\"https://upload.wikimedia.org/wikipedia/commons/thumb/d/d0/Google_Colaboratory_SVG_Logo.svg/320px-Google_Colaboratory_SVG_Logo.svg.png\"  width=10%/></a>\n",
        "<a href=\"https://github.com/tulane-cmps6730/main/tree/main\">\n",
        "        <img src=\"https://upload.wikimedia.org/wikipedia/commons/thumb/c/c2/GitHub_Invertocat_Logo.svg/240px-GitHub_Invertocat_Logo.svg.png\" width=6%/></a>"
      ],
      "metadata": {
        "id": "yr7uhlQ0Zsjq"
      }
    },
    {
      "cell_type": "markdown",
      "metadata": {
        "id": "R9Ks7ZHaZsjv"
      },
      "source": [
        "<br><br><br>\n",
        "\n",
        "## What is Natural Language?\n",
        "\n",
        "<br><br><br><br><br><br>"
      ]
    },
    {
      "cell_type": "markdown",
      "metadata": {
        "id": "qj73OwPCZsjw"
      },
      "source": [
        "<br><br><br>\n",
        "### Natural vs. Unnatural (Formal) Languages\n",
        "\n",
        "**Natural**\n",
        "- Emerges from intelligent beings\n",
        "- We **discover** the grammar.\n",
        "- Full of ambiguity\n",
        "- English, Spanish, Dolphin Language?\n",
        "\n",
        "**Formal**\n",
        "- Defined by humans\n",
        "- We **prescribe** the grammar.\n",
        "- Designed to **remove** ambiguity\n",
        "- Python, math, ...\n",
        "<br><br><br><br><br><br>"
      ]
    },
    {
      "cell_type": "markdown",
      "source": [
        "## NLP Examples\n",
        "\n",
        "What are some examples of NLP?"
      ],
      "metadata": {
        "id": "WMfTzug3dMIg"
      }
    },
    {
      "cell_type": "markdown",
      "metadata": {
        "id": "MEwDXgmQZsjw"
      },
      "source": [
        "\n",
        "![figs/watson.jpg](https://github.com/tulane-cmps6730/main/blob/main/lec/overview/figs/watson.jpg?raw=1)\n",
        "<br><br><br><br><br><br>\n",
        "\n",
        "![figs/siri.png](https://github.com/tulane-cmps6730/main/blob/main/lec/overview/figs/siri.png?raw=1)\n",
        "<br><br><br><br><br><br>\n",
        "\n",
        "![figs/translate.jpg](https://github.com/tulane-cmps6730/main/blob/main/lec/overview/figs/translate.jpg?raw=1)\n",
        "<br><br><br><br><br><br>\n",
        "\n",
        "![figs/echo.jpg](https://github.com/tulane-cmps6730/main/blob/main/lec/overview/figs/echo.jpg?raw=1)\n",
        "<br><br><br><br><br><br>\n",
        "\n",
        "![figs/her.jpg](https://github.com/tulane-cmps6730/main/blob/main/lec/overview/figs/her.jpg?raw=1)"
      ]
    },
    {
      "cell_type": "code",
      "execution_count": 1,
      "metadata": {
        "code_folding": [
          0
        ],
        "id": "JACbt9WrZsjw",
        "outputId": "25bcbebc-77ad-4ff5-b24d-047132593679",
        "colab": {
          "resources": {
            "http://localhost:8080/figs/dave.mp4": {
              "data": "",
              "ok": false,
              "headers": [
                [
                  "content-length",
                  "0"
                ]
              ],
              "status": 404,
              "status_text": ""
            }
          },
          "base_uri": "https://localhost:8080/",
          "height": 832
        }
      },
      "outputs": [
        {
          "output_type": "display_data",
          "data": {
            "text/plain": [
              "<IPython.core.display.HTML object>"
            ],
            "text/html": [
              "<video width=\"800\" height=\"600\" controls>\n",
              "  <source src=\"figs/dave.mp4\" type=\"video/mp4\">\n",
              "</video>\n",
              "<br><br><br><br><br><br><br><br><br><br><br><br>\n"
            ]
          },
          "metadata": {}
        }
      ],
      "source": [
        "%%HTML\n",
        "<video width=\"800\" height=\"600\" controls>\n",
        "  <source src=\"figs/dave.mp4\" type=\"video/mp4\">\n",
        "</video>\n",
        "<br><br><br><br><br><br><br><br><br><br><br><br>"
      ]
    },
    {
      "cell_type": "markdown",
      "metadata": {
        "id": "FT4AajtAZsjx"
      },
      "source": [
        "\n",
        "![figs/chatgpt.png](https://github.com/tulane-cmps6730/main/blob/main/lec/overview/figs/chatgpt.png?raw=1)\n",
        "<br><br><br><br><br><br>"
      ]
    },
    {
      "cell_type": "markdown",
      "metadata": {
        "id": "cjK4d3bIZsjy"
      },
      "source": [
        "\n",
        "<br><br><br><br><br><br>\n",
        "\n",
        "**Natural Language Processing = Linguistics + Logic + Machine Learning**\n",
        "\n",
        "Each has a long history...\n",
        "\n",
        "<br><br><br><br><br><br>"
      ]
    },
    {
      "cell_type": "markdown",
      "metadata": {
        "id": "5nYPS1GTZsjy"
      },
      "source": [
        "\n",
        "\n",
        "## NLP History\n",
        "\n",
        "- Dates back to first days of computing (Turing)\n",
        "- Combines linguistics, formal logic, and statistics\n",
        "<br><br><br><br><br><br>"
      ]
    },
    {
      "cell_type": "markdown",
      "metadata": {
        "id": "wmSa35RAZsjy"
      },
      "source": [
        "### 1940s-1950s\n",
        "\n",
        "**Logic**\n",
        "- automaton (Turing)\n",
        "- Context-free grammars (Chomsky)\n",
        "\n",
        "**Statistics**\n",
        "- McCulloch Pits neuron (perceptron)\n",
        "- Noisy channel model (Shannon)\n",
        "\n",
        "### Turing test (Alan Turing, 1950)\n",
        "\n",
        "\n",
        "Q: Please write me a sonnet on the topic of the Forth Bridge.  \n",
        "A: Count me out on this one. I never could write poetry  \n",
        "\n",
        "\n",
        "Q: Add 34957 to 70764  \n",
        "A: (Pause about 30 seconds and then give answer as) 105721.\n",
        "\n",
        "<br><br><br><br>"
      ]
    },
    {
      "cell_type": "markdown",
      "metadata": {
        "id": "4Tx2Ux07Zsjz"
      },
      "source": [
        "### 1957-1970\n",
        "\n",
        "**Logic**\n",
        "- Theorem proving (Newell & Simon)\n",
        "- Logical inference\n",
        "\n",
        "**Statistics**\n",
        "- Neural nets\n",
        "- Bayesian statistics (e.g., identify author of text)\n",
        "\n",
        "\n",
        "#### ELIZA (1964, Weizenbaum)\n",
        "\n",
        "User: You are like my father in some ways.  \n",
        "ELIZA: WHAT RESEMBLANCE DO YOU SEE  \n",
        "User: You are not very aggressive but I think you don’t want me to notice that.  \n",
        "ELIZA: WHAT MAKES YOU THINK I AM NOT AGGRESSIVE  \n",
        "User: You don’t argue with me.  \n",
        "ELIZA: WHY DO YOU THINK I DON’T ARGUE WITH YOU?  \n",
        "User: You are afraid of me.  \n",
        "ELIZA: DOES IT PLEASE YOU TO BELIEVE I AM AFRAID OF YOU\n",
        "\n",
        "<br><br>\n",
        "\n",
        "Online example: <http://www.masswerk.at/elizabot/>\n",
        "<br><br><br><br>"
      ]
    },
    {
      "cell_type": "markdown",
      "metadata": {
        "id": "oLBeLRG7Zsj0"
      },
      "source": [
        "### 1970-1983\n",
        "\n",
        "**Logic**\n",
        "  - Winograd's SHRDLU\n",
        "\n",
        "**Statistics**\n",
        "  - speech recognition (AT&T Bell Labs, IBM)\n",
        "  - Hidden Markov Models\n",
        "\n",
        "![figs/shrdlu.png](https://github.com/tulane-cmps6730/main/blob/main/lec/overview/figs/shrdlu.png?raw=1)\n"
      ]
    },
    {
      "cell_type": "markdown",
      "metadata": {
        "id": "c3HImmeXZsj1"
      },
      "source": [
        "### 1983-1993\n",
        "- Return to finite state models\n",
        "- Empirical approach: (data driven) IBM speech recognition\n",
        "\n",
        "### 1994-1999\n",
        "- Empirical approach widespread\n",
        "- Bayesian statistics\n",
        "- graphical models\n",
        "\n",
        "### 2000s\n",
        "- Combinations of logical and empirical approaches\n",
        "  - Markov logic networks, etc.\n",
        "- Deep learning\n",
        "  - revival of neural nets from 1960s\n",
        "<br><br><br><br><br><br>\n",
        "\n",
        "![figs/gpt_growth.png](https://github.com/tulane-cmps6730/main/blob/main/lec/overview/figs/gpt_growth.png?raw=1)\n",
        "\n",
        "(Parmida Beigi, Amazon)"
      ]
    },
    {
      "cell_type": "markdown",
      "source": [
        "## Linguistics\n",
        "\n",
        "What are the major branches of Linguistics?"
      ],
      "metadata": {
        "id": "MC2_h7L0dVVw"
      }
    },
    {
      "cell_type": "markdown",
      "metadata": {
        "id": "-wxE_hdiZsj1"
      },
      "source": [
        "\n",
        "\n",
        "- **Phonetics and Phonology:** The study of linguistic sounds.\n",
        "  - /fəˈnediks/\n",
        "\n",
        "<br><br><br><br>\n",
        "\n",
        "- **Morphology:** The study of the meaningful components of words.\n",
        "\n",
        "![figs/morph.png](https://github.com/tulane-cmps6730/main/blob/main/lec/overview/figs/morph.png?raw=1)\n",
        "\n",
        "<br><br><br><br>\n",
        "\n",
        "- **Syntax:** The study of the structural relationships between words.\n",
        "  -  \"*I’m I do, sorry that afraid Dave I’m can’t.*\"\n",
        "  \n",
        "![figs/dog.png](https://github.com/tulane-cmps6730/main/blob/main/lec/overview/figs/dog.png?raw=1)\n",
        "\n",
        "<br><br><br><br>\n",
        "\n",
        "- **Semantics:** The study of meaning.\n",
        "\n",
        "![figs/green.png](https://github.com/tulane-cmps6730/main/blob/main/lec/overview/figs/green.png?raw=1)\n",
        "\n",
        "\n",
        "<br><br><br><br>\n",
        "- **Pragmatics:** The study of how language is used to accomplish goals.\n",
        "  - \"*Honey, do you think it's cold in here?*\"\n",
        "\n",
        "<br><br><br><br>\n",
        "\n",
        "- **Discourse:** The study of linguistic units larger than a single utterance.\n",
        "  - **Dave**: Open the pod bay doors, HAL.\n",
        "  - **HAL**: I'm sorry Dave, I can't do **<font color=blue>that</font>.**\n",
        "\n"
      ]
    },
    {
      "cell_type": "markdown",
      "metadata": {
        "id": "cXcLcECyZsj1"
      },
      "source": [
        "<br><br><br><br>\n",
        "\n",
        "### Ambiguity: The Good and the Bad\n",
        "\n",
        "- Makes language fun and interesting for humans, but makes language difficult for computers.\n",
        "- The central problem to NLP is **resolving ambiguity**.\n",
        "\n",
        "\n",
        "- E.g., \"*I made her duck*.\"\n",
        "\n",
        "<br><br><br><br><br><br><br><br>\n",
        "\n",
        "\n",
        "\n",
        "1. I cooked waterfowl for her.\n",
        "2. I cooked waterfowl belonging to her.\n",
        "3. I created the (plaster?) duck she owns.\n",
        "4. I caused her to quickly lower her head or body.\n",
        "5. I waved my magic wand and turned her into undifferentiated waterfowl.\n",
        "\n",
        "\n",
        "- Syntactic ambiguity (1 vs 4): \"duck\" $\\rightarrow$ verb or noun?  &nbsp;&nbsp;&nbsp;&nbsp;&nbsp;&nbsp; **part-of-speech tagging, syntactic parsing**\n",
        "- Semantic ambiguity (1 vs 3): \"make\" $\\rightarrow$ *create* or *cook*? &nbsp;&nbsp; **word sense disambiguation**\n",
        "- Phonetic ambiguity: \"I\" or \"eye\"; \"made\" or \"maid\"?  &nbsp;&nbsp;&nbsp;&nbsp;&nbsp;&nbsp;&nbsp;&nbsp;&nbsp; **speech recognition**"
      ]
    },
    {
      "cell_type": "markdown",
      "source": [
        "## Models & Algorithms\n",
        "\n",
        "Many formalisms for processing natural language."
      ],
      "metadata": {
        "id": "worE8Rhwddg4"
      }
    },
    {
      "cell_type": "markdown",
      "metadata": {
        "id": "8BwJseyrZsj1"
      },
      "source": [
        "\n",
        "\n",
        "- State machines\n",
        "- Rule systems\n",
        "- Logic\n",
        "- Probability\n",
        "- Dynamic programming\n",
        "- Machine Learning\n",
        "<br><br><br>\n",
        "\n",
        "> While initial NLP approaches focused on writing complex rules to parse language, modern approaches instead rely on machine learning\n",
        "- learn patterns from data to assign real-valued scores to different language constructs\n",
        "- induce a probability over possible meanings\n",
        "\n",
        "<br>\n",
        "\n",
        "E.g., consider two ways of detecting whether an email is spam:\n",
        "\n",
        "1. Write a bunch of `if...else` statements\n",
        "  - `if \"free\" in email: return \"spam\"`\n",
        "  \n",
        "2. Collect a bunch of emails, annotate them as spam or not, and compute statistics over word occurrences\n",
        "  - $p(\\hbox{spam}| free) = 0.6$"
      ]
    },
    {
      "cell_type": "markdown",
      "source": [
        "## What is machine learning?\n"
      ],
      "metadata": {
        "id": "MEkYe5tXavHz"
      }
    },
    {
      "cell_type": "markdown",
      "source": [
        "\n",
        "<br><br><br>\n",
        "\n",
        "> \"Study of methods for programming computers to learn.  -- [Dietterich](http://web.engr.oregonstate.edu/~tgd/publications/nature-ecs-machine-learning.pdf)\n",
        "\n",
        "<br><br><br>\n",
        "\n",
        "> Study of systems that \"automatically learn programs from data\"  -- [Domingos](http://homes.cs.washington.edu/~pedrod/papers/cacm12.pdf)\n",
        "\n",
        "<br><br><br>\n",
        "\n",
        "> A problem-solving technique that solves future problem instances based on\n",
        "patterns found in past problem instances\n",
        "\n",
        "<br><br>"
      ],
      "metadata": {
        "id": "fsf-Ea6Oa2KA"
      }
    },
    {
      "cell_type": "markdown",
      "source": [
        "###  Many applications of ML\n",
        "\n",
        "| | |\n",
        "|--|--|\n",
        "|<img src='https://github.com/tulane-cmps6730/main/blob/main/lec/classify/figs/spam.png?raw=1'/>    | <img src='https://github.com/tulane-cmps6730/main/blob/main/lec/classify/figs/search.png?raw=1'/>|\n",
        "|<img src=\"https://github.com/tulane-cmps6730/main/blob/main/lec/classify/figs/netflix.png?raw=1\"/> | <img src='https://github.com/tulane-cmps6730/main/blob/main/lec/classify/figs/bw.png?raw=1'/> |\n",
        "|<img src='https://github.com/tulane-cmps6730/main/blob/main/lec/classify/figs/car.jpg?raw=1'/>     | <img src='https://github.com/tulane-cmps6730/main/blob/main/lec/classify/figs/money.png?raw=1'/> |\n",
        "|<img src='https://github.com/tulane-cmps6730/main/blob/main/lec/classify/figs/doc.png?raw=1'/>     | <img src='https://github.com/tulane-cmps6730/main/blob/main/lec/classify/figs/siri.png?raw=1'/> |\n",
        "\n",
        "\n",
        "<br><br><br>"
      ],
      "metadata": {
        "id": "gukyKdzza6id"
      }
    },
    {
      "cell_type": "markdown",
      "source": [
        "### Notation\n",
        "\n",
        "- $\\vec{x} \\in \\mathcal{X}$ &nbsp;&nbsp;&nbsp;&nbsp; *instance*, *example*, *input*\n",
        "  - e.g., an email\n",
        "  \n",
        "  \n",
        "- $y \\in \\mathcal{Y}$ &nbsp;&nbsp;&nbsp;&nbsp; *target*, *class*, *label*, *output*\n",
        "  - e.g., $y=1$: spam ; $y=0$: not spam\n",
        "  \n",
        "  \n",
        "- $f: \\mathcal{X} \\mapsto \\mathcal{Y}$ &nbsp;&nbsp;&nbsp;&nbsp; *hypothesis*, *learner*, *model*, *classifier*\n",
        "  - e.g., if $x$ contain the word *free*, $y$ is $1$.\n",
        "  \n",
        "  <br><br><br><br><br>"
      ],
      "metadata": {
        "id": "CfIvUPZxa9i-"
      }
    },
    {
      "cell_type": "markdown",
      "source": [
        "### Problem types\n",
        "\n",
        "- **Classification**\n",
        "  - $\\vec{x}$: email ;  $y$: spam or not\n",
        "- **Regression**\n",
        "  - $\\vec{x}$: twitter feed of a person ; $y$: age\n",
        "- **Clustering**\n",
        "  - $\\vec{x}$: news articles ; $y$: topics\n",
        "- **Structured classification**\n",
        "  - $\\vec{x}$: sentence ; $\\vec{y}$: part-of-speech tags\n",
        "  - $\\vec{x}$: sentence ; $\\vec{y}$: parse tree\n",
        "  \n",
        "  <br><br><br><br><br>"
      ],
      "metadata": {
        "id": "8fNGBThDbAo7"
      }
    },
    {
      "cell_type": "markdown",
      "source": [
        "### Workflow\n",
        "\n",
        "1. **Collect** raw data: emails\n",
        "2. Manually **categorize** them:  spam or not\n",
        "3. **Vectorize**: email -> word counts [**features**]\n",
        "4. **Train** / **Fit**: create $f(x)$\n",
        "5. **Collect** new raw data\n",
        "6. **Predict**: compute $f(x)$ for new $x$\n",
        "\n",
        "<br><br><br><br><br>"
      ],
      "metadata": {
        "id": "FHBdHMLBbDbl"
      }
    },
    {
      "cell_type": "markdown",
      "source": [
        "### Example: Spam Classification"
      ],
      "metadata": {
        "id": "2XlhobzzbHNf"
      }
    },
    {
      "cell_type": "markdown",
      "source": [
        "**Steps 1 & 2: Collect and categorize**\n",
        "\n",
        "**Spam:**\n",
        "\n",
        "> Free credit report!\n",
        "\n",
        "\n",
        "> Free money!\n",
        "\n",
        "\n",
        "**Not spam:**\n",
        "\n",
        "> Are you free tonight?\n",
        "\n",
        "> How are you?\n"
      ],
      "metadata": {
        "id": "newwcJUAbJwx"
      }
    },
    {
      "cell_type": "markdown",
      "source": [
        "**Step 3: Vectorize**\n",
        "\n",
        "> 'Free money!'\n",
        "\n",
        "becomes\n",
        "\n",
        "```\n",
        "free: 1\n",
        "money: 1\n",
        "!: 1\n",
        "?: 0\n",
        "credit: 0\n",
        "...\n",
        "```\n",
        "\n",
        "**Representation**: \"Feature engineering is the key\" -- Domingos\n",
        "\n",
        "Why is this (seemingly) a terrible representation of a document?\n",
        "\n",
        "<br><br><br>"
      ],
      "metadata": {
        "id": "IB_n-qSvbMh8"
      }
    },
    {
      "cell_type": "markdown",
      "source": [
        "**Bag of Words**\n",
        "\n",
        "![bow](https://github.com/tulane-cmps6730/main/blob/main/lec/classify/figs/bow.png?raw=1)\n"
      ],
      "metadata": {
        "id": "IwoqM_CMbPRH"
      }
    },
    {
      "cell_type": "markdown",
      "source": [
        "**Step 4: Train/Fit**\n",
        "\n",
        "Which model to use?\n",
        "\n",
        "- Naive Bayes\n",
        "- Logistic Regression\n",
        "- Decision Tree\n",
        "- K-Nearest Neighbors\n",
        "- Support Vector Machines\n",
        "- (Deep) Neural Networks\n",
        "- ... many many more"
      ],
      "metadata": {
        "id": "0Gnj9maGbbD_"
      }
    },
    {
      "cell_type": "markdown",
      "source": [
        "**Steps 5-6: Predict on new data**\n",
        "\n",
        "> Free vacation!\n",
        "\n",
        "**Spam**"
      ],
      "metadata": {
        "id": "vZpXYka5bhVe"
      }
    },
    {
      "cell_type": "markdown",
      "source": [
        "How do you know if it works?"
      ],
      "metadata": {
        "id": "O9MxXYT8bkOm"
      }
    },
    {
      "cell_type": "markdown",
      "source": [
        "### Simple, Unrealistic Classifiers\n",
        "\n",
        "Let's start with very simple implementations of classifiers to get a sense of how they work and why classification is hard."
      ],
      "metadata": {
        "id": "-eUfZ2MzbpG6"
      }
    },
    {
      "cell_type": "code",
      "source": [
        "# common imports\n",
        "import numpy as np\n",
        "import matplotlib.pyplot as plt\n",
        "import pandas as pd\n",
        "!pip install hvplot\n",
        "import hvplot.pandas\n",
        "import holoviews as hv\n",
        "import seaborn as sns\n",
        "\n",
        "sns.set(style=\"whitegrid\", font_scale=1.5, rc={'figure.figsize':(12, 6)})"
      ],
      "metadata": {
        "id": "-tBmqnW9bsEy"
      },
      "execution_count": null,
      "outputs": []
    },
    {
      "cell_type": "code",
      "source": [
        "# X: each row is a feature vector for one document.\n",
        "data = pd.DataFrame([\n",
        "    (0,0,0),\n",
        "    (1,0,0),\n",
        "    (0,3,1),\n",
        "    (1,3,1),\n",
        "  ],columns=['word 1', 'word 2', 'y'])\n",
        "data"
      ],
      "metadata": {
        "id": "_EBgDO-DbuA5"
      },
      "execution_count": null,
      "outputs": []
    },
    {
      "cell_type": "code",
      "source": [
        "from matplotlib.colors import ListedColormap\n",
        "cmap = ListedColormap(['red', 'blue'])\n",
        "hv.extension('bokeh')\n",
        "data.hvplot(x='word 1', y='word 2', kind='scatter', c='y', cmap=cmap, s=200)"
      ],
      "metadata": {
        "id": "bZJEBoikbwA-"
      },
      "execution_count": null,
      "outputs": []
    },
    {
      "cell_type": "code",
      "source": [
        "# We often separate the data into feature matrix X and the target vector y\n",
        "X = data[['word 1', 'word 2']].values\n",
        "y = data['y'].values\n",
        "display(X)\n",
        "display(y)"
      ],
      "metadata": {
        "id": "37KjETc3bxbs"
      },
      "execution_count": null,
      "outputs": []
    },
    {
      "cell_type": "code",
      "source": [
        "# Simplest machine learning algorithm:\n",
        "\n",
        "class SimplestMachine:\n",
        "\n",
        "    def __init__(self):\n",
        "        self.f = dict()\n",
        "\n",
        "    def train(self, X, y):\n",
        "        for xi, yi in zip(X, y):\n",
        "            self.f[tuple(xi)] = yi\n",
        "\n",
        "    def predict(self, x):\n",
        "        return self.f[tuple(x)]\n",
        "\n",
        "# What does this do?"
      ],
      "metadata": {
        "id": "axwXzpJTbyxE"
      },
      "execution_count": null,
      "outputs": []
    },
    {
      "cell_type": "code",
      "source": [
        "# What does zip do?\n",
        "[x for x in zip([1, 2, 3], ['a', 'b', 'c', 'd'])]"
      ],
      "metadata": {
        "id": "HuMpkk6Zb0GQ"
      },
      "execution_count": null,
      "outputs": []
    },
    {
      "cell_type": "code",
      "source": [
        "# create the classifier\n",
        "simplest_machine = SimplestMachine()\n",
        "# train the classifier\n",
        "simplest_machine.train(X, y)\n",
        "# predict\n",
        "data['prediction'] = [simplest_machine.predict(xi) for xi in X]\n",
        "data"
      ],
      "metadata": {
        "id": "DXIUFgdIb1Vv"
      },
      "execution_count": null,
      "outputs": []
    },
    {
      "cell_type": "code",
      "source": [
        "# What does it do for unseen example?\n",
        "simplest_machine.predict((0, 4))\n",
        "\n",
        "\n"
      ],
      "metadata": {
        "id": "CWf6UyBdb3Jn"
      },
      "execution_count": null,
      "outputs": []
    },
    {
      "cell_type": "code",
      "source": [
        "# Second simplest machine learning algorithm:\n",
        "class SimpleMachine:\n",
        "\n",
        "    def __init__(self):\n",
        "        self.f = dict()\n",
        "\n",
        "    def train(self, X, y):\n",
        "        for xi, yi in zip(X, y):\n",
        "            self.f[tuple(xi)] = yi\n",
        "\n",
        "    def predict(self, x):\n",
        "        x_closest = self.find_most_similar(x)\n",
        "        return self.f[x_closest]\n",
        "\n",
        "    def find_most_similar(self, x):\n",
        "        distances = [self.distance(x, xi) for xi in self.f.keys()]\n",
        "        best_idx = np.argmin(distances)\n",
        "        return list(self.f.keys())[best_idx]\n",
        "\n",
        "    def distance(self, x, xi):\n",
        "        return np.sqrt(np.sum((np.array(x)-np.array(xi))**2))\n",
        "\n",
        "# What does this do?"
      ],
      "metadata": {
        "id": "e5m15ImXb5vw"
      },
      "execution_count": null,
      "outputs": []
    },
    {
      "cell_type": "code",
      "source": [
        "\n",
        "**Euclidean distance:**\n",
        "\n",
        "```\n",
        "(0, 3)\n",
        "(1, 5)\n",
        "```\n",
        "\n",
        "$$\\sqrt{(0-1)^2 + (3-5)^2} = \\sqrt{5}$$\n"
      ],
      "metadata": {
        "id": "Ra510AAUb7wt"
      },
      "execution_count": null,
      "outputs": []
    },
    {
      "cell_type": "code",
      "source": [
        "simple_machine = SimpleMachine()\n",
        "simple_machine.train(X, y)\n",
        "data['prediction'] = [simple_machine.predict(xi) for xi in X]\n",
        "data"
      ],
      "metadata": {
        "id": "OLBEyDoHb9cg"
      },
      "execution_count": null,
      "outputs": []
    },
    {
      "cell_type": "code",
      "source": [
        "# What does it do for unseen example?\n",
        "simple_machine.predict((0, 4))\n",
        "\n"
      ],
      "metadata": {
        "id": "XrSmKYelb_GD"
      },
      "execution_count": null,
      "outputs": []
    },
    {
      "cell_type": "code",
      "source": [
        "<img src='https://github.com/tulane-cmps6730/main/blob/main/lec/classify/figs/knn.png?raw=1' width='80%'/>\n",
        "\n",
        "<http://www.scholarpedia.org/article/K-nearest_neighbor>"
      ],
      "metadata": {
        "id": "HdHdVJCicBCo"
      },
      "execution_count": null,
      "outputs": []
    },
    {
      "cell_type": "markdown",
      "source": [
        "\n",
        "### Generalization\n",
        "\n",
        "How accurate will I be on a new, unobserved example?"
      ],
      "metadata": {
        "id": "ZaYy5KNycEW2"
      }
    },
    {
      "cell_type": "markdown",
      "source": [
        "How do you know if it works?\n",
        "\n",
        "1. Train on data ${\\mathcal D_1}$\n",
        "2. Predict on data ${\\mathcal D_2}$\n",
        "3. Compute accuracy on ${\\mathcal D_2}$.\n",
        "   - Why not ${\\mathcal D_1}$?"
      ],
      "metadata": {
        "id": "kKxaAjrEcNKt"
      }
    },
    {
      "cell_type": "markdown",
      "source": [
        "How do you know if it works?\n",
        "\n",
        "1. Train on data ${\\mathcal D_1}$\n",
        "2. Predict on data ${\\mathcal D_2}$\n",
        "3. Compute accuracy on ${\\mathcal D_2}$.\n",
        "4. Tweak algorithm / representation\n",
        "5. Repeat"
      ],
      "metadata": {
        "id": "PpCqhHfDcTXJ"
      }
    },
    {
      "cell_type": "markdown",
      "source": [
        "How do you know if it works?\n",
        "\n",
        "1. Train on data ${\\mathcal D_1}$\n",
        "2. Predict on data ${\\mathcal D_2}$\n",
        "3. Compute accuracy on ${\\mathcal D_2}$.\n",
        "4. Tweak algorithm / representation\n",
        "5. Repeat\n",
        "\n",
        "How many times can I do this?\n"
      ],
      "metadata": {
        "id": "VN-dWMUrcToA"
      }
    },
    {
      "cell_type": "markdown",
      "source": [
        "#### Measuring Generalization\n",
        "\n",
        "- Cross-validation\n",
        "  - train on 90%, test on 10%, repeat 10 x's\n",
        "       - each example appears only once in test set\n",
        "       \n",
        "       \n",
        "<p><a href=\"https://commons.wikimedia.org/wiki/File:K-fold_cross_validation_EN.svg#/media/File:K-fold_cross_validation_EN.svg\"><img src=\"https://upload.wikimedia.org/wikipedia/commons/thumb/b/b5/K-fold_cross_validation_EN.svg/1200px-K-fold_cross_validation_EN.svg.png\" alt=\"K-fold cross validation EN.svg\"></a><br><font size=-2>By <a href=\"//commons.wikimedia.org/w/index.php?title=User:Gufosowa&amp;action=edit&amp;redlink=1\" class=\"new\" title=\"User:Gufosowa (page does not exist)\">Gufosowa</a> - <span class=\"int-own-work\" lang=\"en\">Own work</span>, <a href=\"https://creativecommons.org/licenses/by-sa/4.0\" title=\"Creative Commons Attribution-Share Alike 4.0\">CC BY-SA 4.0</a>, <a href=\"https://commons.wikimedia.org/w/index.php?curid=82298768\">Link</a></font></p>\n"
      ],
      "metadata": {
        "id": "cv0MWXcrcT12"
      }
    },
    {
      "cell_type": "markdown",
      "source": [
        "\n",
        "#### Experimental Design\n",
        "\n",
        "1. Collect data\n",
        "2. Build model\n",
        "3. Compute cross-validation accuracy\n",
        "4. Tune model\n",
        "5. Repeat\n",
        "6. **Report accuracy on new data**"
      ],
      "metadata": {
        "id": "nV_5sm1ece1d"
      }
    },
    {
      "cell_type": "markdown",
      "source": [
        "\n",
        "- What is overfitting? How do you know it is happening? How do you fix?\n",
        "\n",
        "\n",
        "<img src=\"https://hackernoon.com/hn-images/1*SBUK2QEfCP-zvJmKm14wGQ.png\"/>\n",
        "\n",
        "\n",
        "<img src=\"https://hackernoon.com/hn-images/1*xWfbNW3arf39wxk4ZkI2Mw.png\"/>\n",
        "\n",
        "[source](https://hackernoon.com/memorizing-is-not-learning-6-tricks-to-prevent-overfitting-in-machine-learning-820b091dc42)\n",
        "\n",
        "\n",
        "If overfitting:\n",
        "- get more labeled data\n",
        "- reduce complexity of model (fewer parameters)\n",
        "- stop the training function early\n",
        "\n",
        "If underfitting:\n",
        "- increase complexity of model (more parameters)\n",
        "- let the training function run longer\n",
        "\n",
        "\n",
        "\n",
        "<br><br>\n",
        "\n",
        "Next time we'll look at two different classifiers.\n",
        "\n",
        "<br><br><br>"
      ],
      "metadata": {
        "id": "GUVF1TXJchc-"
      }
    },
    {
      "cell_type": "markdown",
      "metadata": {
        "id": "VkOBGDskZsj1"
      },
      "source": [
        "<br><br>\n",
        "\n",
        "**To the syllabus!**\n",
        "<https://github.com/tulane-cmps6730/main>\n",
        "\n",
        "<br>\n",
        "\n",
        "but first\n",
        "\n",
        "<br><br><br><br>\n",
        "\n",
        "\n",
        "\n",
        "I like telling Dad jokes.\n",
        "\n",
        "<br><br><br><br><br><br><br><br><br><br><br><br>\n",
        "\n",
        "\n",
        "Sometimes he laughs!!"
      ]
    },
    {
      "cell_type": "markdown",
      "metadata": {
        "id": "z5NxExy0Zsj2"
      },
      "source": [
        "<br><br><br>\n",
        "why did the natural language processor break up with the sentiment analyzer?\n",
        "\n",
        "<br><br><br><br><br><br><br><br><br><br><br><br>\n",
        "\n",
        "because it couldn't handle its emotional baggage.\n",
        "\n",
        "<br><br><br><br><br><br><br><br><br><br><br><br>\n",
        "\n",
        "Interviewer: What's your biggest strength?\n",
        "\n",
        "Interviewee: I'm good at Machine Learning\n",
        "\n",
        "Interviewer: Okay, what's 21+17\n",
        "\n",
        "Interviewee: It's 5\n",
        "\n",
        "Interviewer: Not even close. It's 38\n",
        "\n",
        "Interviewee: It's 20\n",
        "\n",
        "Interviewer: I said it's 38\n",
        "\n",
        "Interviewee: It's 35\n",
        "\n",
        "Interviewer: It's still 38\n",
        "\n",
        "Interviewee: It's 38\n",
        "\n",
        "Interviewer: Hired! Hired!"
      ]
    },
    {
      "cell_type": "markdown",
      "metadata": {
        "id": "MJqUVv0GZsj2"
      },
      "source": [
        "## Image Sources\n",
        "\n",
        "- https://www.cs.colorado.edu/~martin/SLP/\n",
        "\n",
        "- https://www.washingtonpost.com/business/on-it/how-ibm-is-trying-to-commercialize-watson/2014/05/09/4f552506-d23c-11e3-937f-d3026234b51c_story.html\n",
        "\n",
        "- http://www.howtogeek.com/229308/26-actually-useful-things-you-can-do-with-siri/\n",
        "\n",
        "- http://mashable.com/2015/01/14/google-translate-word-lens/\n",
        "\n",
        "- https://www.youtube.com/watch?v=ng7Sti29S5k\n",
        "\n",
        "- http://www.kurzweilai.net/a-review-of-her-by-ray-kurzweil\n",
        "\n",
        "- https://www.youtube.com/watch?v=9W5Am-a_xWw\n",
        "\n",
        "- http://mosermichael.github.io/cstuff/all/blog/2015/02/05/nlp-revisited.html\n",
        "\n",
        "- http://all-about-linguistics.group.shef.ac.uk/branches-of-linguistics/morphology/what-is-morphology/\n",
        "\n",
        "- http://english.stackexchange.com/questions/294993/ambiguous-syntax-tree-and-phrase-structure-rules\n",
        "\n",
        "- https://en.wikipedia.org/wiki/Talk%3AColorless_green_ideas_sleep_furiously\n",
        "\n",
        "- http://www.salem-news.com/articles/september102009/oxycontin_wolf_9-10-09.php"
      ]
    }
  ],
  "metadata": {
    "kernelspec": {
      "display_name": "Python 3 (ipykernel)",
      "language": "python",
      "name": "python3"
    },
    "language_info": {
      "codemirror_mode": {
        "name": "ipython",
        "version": 3
      },
      "file_extension": ".py",
      "mimetype": "text/x-python",
      "name": "python",
      "nbconvert_exporter": "python",
      "pygments_lexer": "ipython3",
      "version": "3.11.5"
    },
    "colab": {
      "provenance": [],
      "collapsed_sections": [
        "R9Ks7ZHaZsjv",
        "WMfTzug3dMIg",
        "MEwDXgmQZsjw",
        "5nYPS1GTZsjy",
        "MC2_h7L0dVVw",
        "-wxE_hdiZsj1",
        "worE8Rhwddg4",
        "MEkYe5tXavHz"
      ],
      "toc_visible": true
    }
  },
  "nbformat": 4,
  "nbformat_minor": 0
}